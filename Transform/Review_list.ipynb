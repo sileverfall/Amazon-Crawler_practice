{
 "cells": [
  {
   "cell_type": "markdown",
   "metadata": {},
   "source": [
    "## 準備區"
   ]
  },
  {
   "cell_type": "code",
   "execution_count": 2,
   "metadata": {
    "collapsed": true
   },
   "outputs": [],
   "source": [
    "from bs4 import BeautifulSoup as bs\n",
    "import time\n",
    "import requests\n",
    "import os\n",
    "import json\n",
    "import time\n",
    "from selenium import webdriver"
   ]
  },
  {
   "cell_type": "code",
   "execution_count": 3,
   "metadata": {
    "collapsed": true
   },
   "outputs": [],
   "source": [
    "cookiestr = 'aws-account-alias=bb102; x-wl-uid=1qO1zbLT/VurrTD8olrRaxt4ZvTE+vTeFIHu58TFdpWz5wSlgeDL/v+q5P3gFNGfccOVMboQEwus=; AMCV_4A8581745834114C0A495E2B%40AdobeOrg=-1891778711%7CMCIDTS%7C17459%7CMCMID%7C52253475372251991424690344856724644964%7CMCOPTOUT-1508403795s%7CNONE%7CMCAID%7C2CF30EF7852A888A-40000300E0001C2D%7CvVersion%7C2.4.0; s_nr=1508396596374-New; s_lv=1508396596375; skin=noskin; session-token=0lQkzegQRtwPu7GiPFEAEDYLCK3p6WW8vF/g2Kr93EnMHKmH2uTgd30RM43tJCAw2uo2xeco+fz9qCC4dzTpW86EX5YF5lVFvMOXhSncgNmhfgnG7DaXuUwvxrXhAtluWYQgfWI8I22bxDO6KWvBDwfM6IFCfsYouZ6kt3oXTHzy6wSehl3qokrzeEBzLpfPu6mlixQc/Yuommb6ztr0yiL/6dzBf5UjFImpI3OXvIkvwGuyBITnHJH9epKv+Lec; amznacsleftnav-74393fbe-66a6-3a52-840b-37b54d8c76ce=1,21,3; ubid-main=132-7315371-9843811; session-id-time=2082787201l; session-id=135-5046157-5863552; csm-hit=85CP8ATFWH4EXAFXQX3Q+s-M5199TSF54AFVK1M6RJW|1509623128403'\n",
    "cookies = cookiestr.split(\";\")\n",
    "cookiedata ={}\n",
    "for cookie in cookies:\n",
    "    cookiedata[cookie.split(\"=\")[0]]=cookie.split(\"=\")[1]\n",
    "\n",
    "ssession = requests.Session()\n",
    "headers = {\"User-Agent\":\"Mozilla/5.0 (Macintosh; Intel Mac OS X 10_9_5) AppleWebKit 537.36 (KHTML, like Gecko) Chrome\",\"Accept\":\"text/html,application/xhtml+xml,application/xml;q=0.9,image/webp,*/*;q=0.8\"}"
   ]
  },
  {
   "cell_type": "markdown",
   "metadata": {},
   "source": [
    "## .html轉review_list"
   ]
  },
  {
   "cell_type": "code",
   "execution_count": 24,
   "metadata": {
    "scrolled": true
   },
   "outputs": [
    {
     "name": "stdout",
     "output_type": "stream",
     "text": [
      "https://www.amazon.com/Hot-Wheels-Spin-Storm-Track/product-reviews/B00V03641U/ref=cm_cr_dp_d_show_all_top?ie=UTF8&reviewerType=all_reviews\n",
      "https://www.amazon.com/Just-Masks-Deluxe-Figure-Ninjalinos/product-reviews/B06XNJ6RFT/ref=cm_cr_dp_d_show_all_top?ie=UTF8&reviewerType=all_reviews\n",
      "https://www.amazon.com/Playskool-Heroes-Galactic-Millennium-Figures/product-reviews/B00U5MVOX0/ref=cm_cr_dp_d_show_all_top?ie=UTF8&reviewerType=all_reviews\n",
      "https://www.amazon.com/Playskool-Heroes-Galactic-Millennium-Figures/product-reviews/B00U5MVOX0/ref=cm_cr_dp_d_show_all_top?ie=UTF8&reviewerType=all_reviews\n",
      "https://www.amazon.com/Playskool-Potato-Head-Silly-Suitcase/product-reviews/B0050QJTBA/ref=cm_cr_dp_d_show_all_top?ie=UTF8&reviewerType=all_reviews\n",
      "https://www.amazon.com/Playskool-Potato-Head-Silly-Suitcase/product-reviews/B0050QJTBA/ref=cm_cr_dp_d_show_all_top?ie=UTF8&reviewerType=all_reviews\n",
      "https://www.amazon.com/Star-Wars-Stormtrooper-Amazon-Exclusive/product-reviews/B06XWFJQ24/ref=cm_cr_dp_d_show_all_top?ie=UTF8&reviewerType=all_reviews\n",
      "https://www.amazon.com/Funko-POP-Movies-Guardians-Toddler/product-reviews/B01M7YNDXI/ref=cm_cr_dp_d_show_all_top?ie=UTF8&reviewerType=all_reviews\n",
      "https://www.amazon.com/Calico-Critters-Hopscotch-Rabbit-Twins/product-reviews/B0012BSNJG/ref=cm_cr_dp_d_show_all_top?ie=UTF8&reviewerType=all_reviews\n",
      "https://www.amazon.com/Calico-Critters-Hopscotch-Rabbit-Twins/product-reviews/B0012BSNJG/ref=cm_cr_dp_d_show_all_top?ie=UTF8&reviewerType=all_reviews\n",
      "https://www.amazon.com/Transformers-Anniversary-Optimus-Amazon-Exclusive/product-reviews/B01N29I8GD/ref=cm_cr_dp_d_show_all_top?ie=UTF8&reviewerType=all_reviews\n",
      "https://www.amazon.com/Transformers-Anniversary-Optimus-Amazon-Exclusive/product-reviews/B01N29I8GD/ref=cm_cr_dp_d_show_all_top?ie=UTF8&reviewerType=all_reviews\n",
      "https://www.amazon.com/Marvel-Spider-Man-Blast-Racer-Cycle/product-reviews/B01IHFDA5G/ref=cm_cr_dp_d_show_all_top?ie=UTF8&reviewerType=all_reviews\n",
      "https://www.amazon.com/BIGOCT-Nights-Freddys-Action-Figures/product-reviews/B01JTY77TO/ref=cm_cr_dp_d_show_all_top?ie=UTF8&reviewerType=all_reviews\n",
      "https://www.amazon.com/Paw-Patrol-Mission-Marshalls-Vehicle/product-reviews/B01J9PNUT4/ref=cm_cr_dp_d_show_all_top?ie=UTF8&reviewerType=all_reviews\n",
      "https://www.amazon.com/Funko-Television-Ross-Collectible-Figure/product-reviews/B071X7HZBN/ref=cm_cr_dp_d_show_all_top?ie=UTF8&reviewerType=all_reviews\n",
      "https://www.amazon.com/Fisher-Price-Imaginext-Rangers-Ranger-Figures/product-reviews/B00SYIHWRE/ref=cm_cr_dp_d_show_all_top?ie=UTF8&reviewerType=all_reviews\n",
      "https://www.amazon.com/Fisher-Price-Imaginext-Rangers-Ranger-Figures/product-reviews/B00SYIHWRE/ref=cm_cr_dp_d_show_all_top?ie=UTF8&reviewerType=all_reviews\n",
      "https://www.amazon.com/ROBLOX-10740-Collectors-Tool-Box/product-reviews/B071W34WZ3/ref=cm_cr_dp_d_show_all_top?ie=UTF8&reviewerType=all_reviews\n",
      "https://www.amazon.com/Transformers-Rescue-Playskool-Heroes-Tow-Bot/product-reviews/B006IMX3V2/ref=cm_cr_dp_d_show_all_top?ie=UTF8&reviewerType=all_reviews\n",
      "https://www.amazon.com/Ben-10-Matter-Basic-Figure/product-reviews/B07235JD4M/ref=cm_cr_dp_d_show_all_top?ie=UTF8&reviewerType=all_reviews\n",
      "https://www.amazon.com/Baomabao-Minifigures-Ninjago-Motorcycle-Chariot/product-reviews/B075D63CQX/ref=cm_cr_dp_d_show_all_top?ie=UTF8&reviewerType=all_reviews\n",
      "https://www.amazon.com/Playskool-Heroes-Transformers-Energize-Police-Bot/product-reviews/B00P2SNIO0/ref=cm_cr_dp_d_show_all_top?ie=UTF8&reviewerType=all_reviews\n",
      "https://www.amazon.com/Fisher-Price-Little-People-Animal-Friends/product-reviews/B00NHPGW0M/ref=cm_cr_dp_d_show_all_top?ie=UTF8&reviewerType=all_reviews\n",
      "https://www.amazon.com/Funko-Movies-Wonder-Action-Figure/product-reviews/B01MUAEH5O/ref=cm_cr_dp_d_show_all_top?ie=UTF8&reviewerType=all_reviews\n",
      "https://www.amazon.com/Fisher-Price-Imaginext-Justice-League-Command/product-reviews/B01MZ8F4UB/ref=cm_cr_dp_d_show_all_top?ie=UTF8&reviewerType=all_reviews\n",
      "https://www.amazon.com/Disney-Pixar-Story-Talking-Figure/product-reviews/B01B7OXVSA/ref=cm_cr_dp_d_show_all_top?ie=UTF8&reviewerType=all_reviews\n",
      "https://www.amazon.com/Fisher-Price-Imaginext-Friends-Batbot-Xtreme/product-reviews/B01NCUVU5V/ref=cm_cr_dp_d_show_all_top?ie=UTF8&reviewerType=all_reviews\n",
      "https://www.amazon.com/Tsum-Countdown-Christmas-Calendar-Playset/product-reviews/B01M8QYH9V/ref=cm_cr_dp_d_show_all_top?ie=UTF8&reviewerType=all_reviews\n",
      "https://www.amazon.com/Animals-ValeforToy-Realistic-Learning-Toddlers/product-reviews/B01KYYKECA/ref=cm_cr_dp_d_show_all_top?ie=UTF8&reviewerType=all_reviews\n",
      "https://www.amazon.com/Fisher-Price-Imaginext-Rangers-Warrior-Tigerzord/product-reviews/B01N5O1CK9/ref=cm_cr_dp_d_show_all_top?ie=UTF8&reviewerType=all_reviews\n",
      "https://www.amazon.com/Nativity-Playset-Children-BibleToys-Christmas/product-reviews/B000U66YBI/ref=cm_cr_dp_d_show_all_top?ie=UTF8&reviewerType=all_reviews\n",
      "https://www.amazon.com/Justice-League-Bendable-Boxed-Set/product-reviews/B00BWXUBB2/ref=cm_cr_dp_d_show_all_top?ie=UTF8&reviewerType=all_reviews\n",
      "https://www.amazon.com/Justice-League-Bendable-Boxed-Set/product-reviews/B00BWXUBB2/ref=cm_cr_dp_d_show_all_top?ie=UTF8&reviewerType=all_reviews\n",
      "https://www.amazon.com/ROBLOX-Champions-Roblox-6-Pack/product-reviews/B01N6RK9UE/ref=cm_cr_dp_d_show_all_top?ie=UTF8&reviewerType=all_reviews\n",
      "https://www.amazon.com/Playskool-Heroes-Transformers-Rescue-Copter-Bot/product-reviews/B00A8UT558/ref=cm_cr_dp_d_show_all_top?ie=UTF8&reviewerType=all_reviews\n",
      "https://www.amazon.com/Paw-Patrol-Mission-Marshalls-Truck/product-reviews/B01LY433HO/ref=cm_cr_dp_d_show_all_top?ie=UTF8&reviewerType=all_reviews\n",
      "https://www.amazon.com/VTech-Drop-Truck-Frustration-Packaging/product-reviews/B071CS56CC/ref=cm_cr_dp_d_show_all_top?ie=UTF8&reviewerType=all_reviews\n",
      "https://www.amazon.com/Paw-Patrol-Skyes-Transforming-Vehicle/product-reviews/B01LZH6CKO/ref=cm_cr_dp_d_show_all_top?ie=UTF8&reviewerType=all_reviews\n",
      "https://www.amazon.com/Hatchimals-Colleggtibles-Pack-Carton-Bonus/product-reviews/B076CPJCGV/ref=cm_cr_dp_d_show_all_top?ie=UTF8&reviewerType=all_reviews\n",
      "https://www.amazon.com/Littlest-Pet-Shop-Collector-Party/product-reviews/B00Y8YOEU6/ref=cm_cr_dp_d_show_all_top?ie=UTF8&reviewerType=all_reviews\n",
      "https://www.amazon.com/Playskool-Heroes-Transformers-Energize-Optimus/product-reviews/B00A8UT58K/ref=cm_cr_dp_d_show_all_top?ie=UTF8&reviewerType=all_reviews\n",
      "https://www.amazon.com/Mr-Bigz-Mini-Family-Friends/product-reviews/B0711M1CSY/ref=cm_cr_dp_d_show_all_top?ie=UTF8&reviewerType=all_reviews\n",
      "https://www.amazon.com/Spider-Man-Homecoming-Eye-Electronic-12-inch/product-reviews/B01IK52L80/ref=cm_cr_dp_d_show_all_top?ie=UTF8&reviewerType=all_reviews\n",
      "https://www.amazon.com/Playskool-Heroes-Transformers-Heatwave-Fire-Bot/product-reviews/B00P2SNC4Q/ref=cm_cr_dp_d_show_all_top?ie=UTF8&reviewerType=all_reviews\n",
      "https://www.amazon.com/Peppa-Pig-92620-Deluxe-House/product-reviews/B00OT7NC5K/ref=cm_cr_dp_d_show_all_top?ie=UTF8&reviewerType=all_reviews\n",
      "https://www.amazon.com/Funko-POP-Television-Stranger-Demogorgon/product-reviews/B01MD0RWD6/ref=cm_cr_dp_d_show_all_top?ie=UTF8&reviewerType=all_reviews\n",
      "https://www.amazon.com/Fisher-Price-Imaginext-Titans-Tower-Playset/product-reviews/B01NCUIHPA/ref=cm_cr_dp_d_show_all_top?ie=UTF8&reviewerType=all_reviews\n",
      "https://www.amazon.com/Just-Masks-Collectible-Figure-Styles/product-reviews/B01HVA4DPE/ref=cm_cr_dp_d_show_all_top?ie=UTF8&reviewerType=all_reviews\n",
      "https://www.amazon.com/Minecraft-Collectible-Figure-Mystery-Styles/product-reviews/B00K8A7K1Y/ref=cm_cr_dp_d_show_all_top?ie=UTF8&reviewerType=all_reviews\n",
      "https://www.amazon.com/Minecraft-Collectible-Figure-Mystery-Styles/product-reviews/B00K8A7K1Y/ref=cm_cr_dp_d_show_all_top?ie=UTF8&reviewerType=all_reviews\n",
      "https://www.amazon.com/BOLEY-Pack-Educational-Dinosaur-Toys/product-reviews/B01LC751Z8/ref=cm_cr_dp_d_show_all_top?ie=UTF8&reviewerType=all_reviews\n",
      "https://www.amazon.com/Cutie-Shopkins-Drive-Diner-Playset/product-reviews/B071H6TH1Z/ref=cm_cr_dp_d_show_all_top?ie=UTF8&reviewerType=all_reviews\n",
      "https://www.amazon.com/Liberty-Imports-Racing-Pieces-Lights/product-reviews/B014JUWR7K/ref=cm_cr_dp_d_show_all_top?ie=UTF8&reviewerType=all_reviews\n",
      "https://www.amazon.com/Grossery-Gang-Putrid-Power-Garbage/product-reviews/B06XJH8F1J/ref=cm_cr_dp_d_show_all_top?ie=UTF8&reviewerType=all_reviews\n",
      "https://www.amazon.com/Grossery-Gang-Putrid-Power-Garbage/product-reviews/B06XJH8F1J/ref=cm_cr_dp_d_show_all_top?ie=UTF8&reviewerType=all_reviews\n",
      "https://www.amazon.com/Star-Wars-Galactic-Heroes-Rivals/product-reviews/B01BMW5QCQ/ref=cm_cr_dp_d_show_all_top?ie=UTF8&reviewerType=all_reviews\n",
      "https://www.amazon.com/Fisher-Price-Little-People-Christmas-Story/product-reviews/B000067R86/ref=cm_cr_dp_d_show_all_top?ie=UTF8&reviewerType=all_reviews\n",
      "https://www.amazon.com/Chubby-Puppies-Friends-Vacation-Playset/product-reviews/B01JA24N0Q/ref=cm_cr_dp_d_show_all_top?ie=UTF8&reviewerType=all_reviews\n",
      "https://www.amazon.com/Disney-Pixar-Story-Talking-Woody/product-reviews/B01B7OY2M4/ref=cm_cr_dp_d_show_all_top?ie=UTF8&reviewerType=all_reviews\n",
      "https://www.amazon.com/Funko-Pop-Movies-Pennywise-Collectible/product-reviews/B073X9SD59/ref=cm_cr_dp_d_show_all_top?ie=UTF8&reviewerType=all_reviews\n",
      "https://www.amazon.com/STRETCH-ARMSTRONG-10000-Stretch-Armstrong/product-reviews/B01EARLEX0/ref=cm_cr_dp_d_show_all_top?ie=UTF8&reviewerType=all_reviews\n",
      "https://www.amazon.com/Zing-Stikbot-Studio-Pro-Figure/product-reviews/B017KV4UT8/ref=cm_cr_dp_d_show_all_top?ie=UTF8&reviewerType=all_reviews\n",
      "https://www.amazon.com/Peppa-Pig-92611-Family-Pack/product-reviews/B00OT6KXJE/ref=cm_cr_dp_d_show_all_top?ie=UTF8&reviewerType=all_reviews\n",
      "https://www.amazon.com/Transformers-Knight-Armor-Changer-Optimus/product-reviews/B01IHFE5RI/ref=cm_cr_dp_d_show_all_top?ie=UTF8&reviewerType=all_reviews\n",
      "https://www.amazon.com/Star-Wars-Chewbacca-Figure-Inches/product-reviews/B01N182VEW/ref=cm_cr_dp_d_show_all_top?ie=UTF8&reviewerType=all_reviews\n",
      "https://www.amazon.com/Calico-Critters-Hazelnut-Chipmunk-Family/product-reviews/B00HEYGRB6/ref=cm_cr_dp_d_show_all_top?ie=UTF8&reviewerType=all_reviews\n",
      "https://www.amazon.com/Calico-Critters-Hazelnut-Chipmunk-Family/product-reviews/B00HEYGRB6/ref=cm_cr_dp_d_show_all_top?ie=UTF8&reviewerType=all_reviews\n",
      "https://www.amazon.com/Marvel-Guardians-Galaxy-Dancing-Groot/product-reviews/B01ISKTCCK/ref=cm_cr_dp_d_show_all_top?ie=UTF8&reviewerType=all_reviews\n",
      "https://www.amazon.com/Fisher-Price-Imaginext-Super-Friends-Joker/product-reviews/B005XUI63K/ref=cm_cr_dp_d_show_all_top?ie=UTF8&reviewerType=all_reviews\n",
      "https://www.amazon.com/Fisher-Price-Disney-Mickey-Roadster-Playset/product-reviews/B01N7R22Y8/ref=cm_cr_dp_d_show_all_top?ie=UTF8&reviewerType=all_reviews\n",
      "https://www.amazon.com/Tonka-Classic-Steel-Mighty-Vehicle/product-reviews/B000PEHDFG/ref=cm_cr_dp_d_show_all_top?ie=UTF8&reviewerType=all_reviews\n",
      "https://www.amazon.com/Marvel-Guardians-Star-Lord-Elemental-Blaster/product-reviews/B01ISKTCGQ/ref=cm_cr_dp_d_show_all_top?ie=UTF8&reviewerType=all_reviews\n",
      "https://www.amazon.com/Paw-Patrol-Zumas-Transforming-Vehicle/product-reviews/B01LY6DDS6/ref=cm_cr_dp_d_show_all_top?ie=UTF8&reviewerType=all_reviews\n",
      "https://www.amazon.com/Fisher-Price-Imaginext-Super-Friends-Batcopter/product-reviews/B008YTQUS0/ref=cm_cr_dp_d_show_all_top?ie=UTF8&reviewerType=all_reviews\n",
      "https://www.amazon.com/WWE-John-Basic-Action-Figure/product-reviews/B071H4ZXCZ/ref=cm_cr_dp_d_show_all_top?ie=UTF8&reviewerType=all_reviews\n",
      "https://www.amazon.com/Transformers-Knight-Armor-Changer-Grimlock/product-reviews/B01IHFE5N2/ref=cm_cr_dp_d_show_all_top?ie=UTF8&reviewerType=all_reviews\n",
      "https://www.amazon.com/Funko-Vinyl-Figure-Cuphead-Collectible/product-reviews/B075QVH7T1/ref=cm_cr_dp_d_show_all_top?ie=UTF8&reviewerType=all_reviews\n",
      "https://www.amazon.com/Marvel-Avengers-Titan-Hero-Hulk/product-reviews/B011MIYBHQ/ref=cm_cr_dp_d_show_all_top?ie=UTF8&reviewerType=all_reviews\n",
      "https://www.amazon.com/Marvel-Avengers-Titan-Hero-Hulk/product-reviews/B011MIYBHQ/ref=cm_cr_dp_d_show_all_top?ie=UTF8&reviewerType=all_reviews\n",
      "https://www.amazon.com/Disney-Frozen-Adventure-Advent-Calendar/product-reviews/B06XPCY3ZK/ref=cm_cr_dp_d_show_all_top?ie=UTF8&reviewerType=all_reviews\n",
      "https://www.amazon.com/Daniel-Tigers-Neighborhood-Friends-Family/product-reviews/B01ATIMXCK/ref=cm_cr_dp_d_show_all_top?ie=UTF8&reviewerType=all_reviews\n",
      "https://www.amazon.com/Playskool-Heroes-Transformers-Rescue-Griffin/product-reviews/B01BMW5Q7G/ref=cm_cr_dp_d_show_all_top?ie=UTF8&reviewerType=all_reviews\n",
      "https://www.amazon.com/Peppa-Pig-92625-Family-Campervan/product-reviews/B00P3XWIS6/ref=cm_cr_dp_d_show_all_top?ie=UTF8&reviewerType=all_reviews\n",
      "https://www.amazon.com/Transformers-Deluxe-Optimus-Autobot-Exclusive/product-reviews/B06XWTTFTT/ref=cm_cr_dp_d_show_all_top?ie=UTF8&reviewerType=all_reviews\n",
      "https://www.amazon.com/Paw-Patrol-Mission-Wheeler-Vehicle/product-reviews/B01J9PNUVC/ref=cm_cr_dp_d_show_all_top?ie=UTF8&reviewerType=all_reviews\n",
      "https://www.amazon.com/Paw-Patrol-Mission-Wheeler-Vehicle/product-reviews/B01J9PNUVC/ref=cm_cr_dp_d_show_all_top?ie=UTF8&reviewerType=all_reviews\n",
      "https://www.amazon.com/Playskool-Heroes-Transformers-Rescue-Doc-Bot/product-reviews/B00P2SNIUE/ref=cm_cr_dp_d_show_all_top?ie=UTF8&reviewerType=all_reviews\n",
      "https://www.amazon.com/Marvel-Spider-Man-Titan-Hero-Figure/product-reviews/B01IK7O1EK/ref=cm_cr_dp_d_show_all_top?ie=UTF8&reviewerType=all_reviews\n",
      "https://www.amazon.com/Marvel-Spider-Man-Titan-Hero-Figure/product-reviews/B01IK7O1EK/ref=cm_cr_dp_d_show_all_top?ie=UTF8&reviewerType=all_reviews\n",
      "https://www.amazon.com/Win8Fong-Little-Pony-Figurines-Playset/product-reviews/B015SJBUUG/ref=cm_cr_dp_d_show_all_top?ie=UTF8&reviewerType=all_reviews\n",
      "https://www.amazon.com/Win8Fong-Little-Pony-Figurines-Playset/product-reviews/B015SJBUUG/ref=cm_cr_dp_d_show_all_top?ie=UTF8&reviewerType=all_reviews\n",
      "https://www.amazon.com/Just-Play-Masks-2-Pack-Figures/product-reviews/B06XHMSS62/ref=cm_cr_dp_d_show_all_top?ie=UTF8&reviewerType=all_reviews\n",
      "https://www.amazon.com/Marvel-Legends-Spider-Man-Sinister-3-75-inch/product-reviews/B01N3YPW5G/ref=cm_cr_dp_d_show_all_top?ie=UTF8&reviewerType=all_reviews\n",
      "https://www.amazon.com/Marvel-Legends-Spider-Man-Sinister-3-75-inch/product-reviews/B01N3YPW5G/ref=cm_cr_dp_d_show_all_top?ie=UTF8&reviewerType=all_reviews\n",
      "https://www.amazon.com/Playskool-Transformers-Energize-Heatwave-Fire-Bot/product-reviews/B00A8UT562/ref=cm_cr_dp_d_show_all_top?ie=UTF8&reviewerType=all_reviews\n",
      "https://www.amazon.com/Pieces-Different-Style-Figures-Plastic/product-reviews/B06W9MWN22/ref=cm_cr_dp_d_show_all_top?ie=UTF8&reviewerType=all_reviews\n",
      "https://www.amazon.com/Grossery-Gang-Putrid-Power-Season/product-reviews/B06XJLV8LT/ref=cm_cr_dp_d_show_all_top?ie=UTF8&reviewerType=all_reviews\n",
      "https://www.amazon.com/Best-Choice-Products-Dinosaur-Movement/product-reviews/B015GGXJLY/ref=cm_cr_dp_d_show_all_top?ie=UTF8&reviewerType=all_reviews\n"
     ]
    }
   ],
   "source": [
    "review_a = []\n",
    "for filename in os.listdir('../../20171130/US/Action & Toy Figures/'):\n",
    "    with open('../../20171130/US/Action & Toy Figures/' + filename, encoding='utf-8') as data:\n",
    "        try:           \n",
    "            x = data.read()\n",
    "            soup = bs(x, 'lxml')\n",
    "            url = ['https://www.amazon.com' + soup.select('#dp-summary-see-all-reviews')[0]['href']]\n",
    "            time.sleep(0.1)\n",
    "#             review_a += url\n",
    "        except:\n",
    "                pass\n",
    "    review_a += url\n",
    "review_a =\"\\n\".join(review_a) \n",
    "print(review_a)"
   ]
  },
  {
   "cell_type": "code",
   "execution_count": 22,
   "metadata": {
    "collapsed": true
   },
   "outputs": [],
   "source": [
    "if not os.path.exists('../../Review_list/20171130/US/'):\n",
    "    os.makedirs('../../Review_list/20171130/US/')"
   ]
  },
  {
   "cell_type": "code",
   "execution_count": 25,
   "metadata": {
    "collapsed": true
   },
   "outputs": [],
   "source": [
    "with open('../../Review_list/20171130/US/Action & Toy Figures.txt','w',encoding='utf-8') as f :\n",
    "        f.write(review_a)"
   ]
  },
  {
   "cell_type": "markdown",
   "metadata": {},
   "source": [
    "## .txt 轉url_list"
   ]
  },
  {
   "cell_type": "code",
   "execution_count": 20,
   "metadata": {
    "scrolled": true
   },
   "outputs": [
    {
     "name": "stdout",
     "output_type": "stream",
     "text": [
      "100\n"
     ]
    }
   ],
   "source": [
    "start = time.time()\n",
    "b = []\n",
    "with open('../../Extract/20171130/US/Building & Construction Toys.txt',encoding='utf-8') as f :\n",
    "    r = f.readlines()\n",
    "    hrefs=[i.split(\"\\n\")[0] for i in r]\n",
    "    print(len(hrefs))\n",
    "    \n",
    "#     for href in hrefs:\n",
    "#         try:\n",
    "#             res = requests.get(href)\n",
    "#             soup =bs(res.text, 'lxml')\n",
    "#             url = ['https://www.amazon.com' + soup.select('#dp-summary-see-all-reviews')[0]['href']]\n",
    "#             b += url\n",
    "#             print(url)\n",
    "#             time.sleep(0.5)\n",
    "#         except Exception as e:\n",
    "#             print(e)\n",
    "#             pass\n",
    "# end = time.time() \n",
    "# print(\"-----------------\")\n",
    "# print(end-start)\n",
    "# print(\"-----------------\")\n",
    "# b =\"\\n\".join(b) \n",
    "# print(b)   \n"
   ]
  },
  {
   "cell_type": "code",
   "execution_count": 35,
   "metadata": {},
   "outputs": [
    {
     "name": "stdout",
     "output_type": "stream",
     "text": [
      "1\n",
      "2\n",
      "3\n",
      "4\n",
      "5\n",
      "6\n",
      "7\n",
      "8\n",
      "9\n",
      "10\n",
      "11\n",
      "12\n",
      "13\n",
      "14\n",
      "-----------------\n",
      "77.5529112815857\n",
      "-----------------\n",
      "https://www.amazon.com/Playskool-Heroes-Transformers-Heatwave-Fire-Bot/product-reviews/B00P2SNC4Q/ref=cm_cr_dp_d_show_all_top?ie=UTF8&reviewerType=all_reviews\n",
      "https://www.amazon.com/Funko-Stranger-Things-Eleven-Figure/product-reviews/B01M5IK8M9/ref=cm_cr_dp_d_show_all_top?ie=UTF8&reviewerType=all_reviews\n",
      "https://www.amazon.com/Transformers-Knight-Armor-Changer-Optimus/product-reviews/B01IHFE5RI/ref=cm_cr_dp_d_show_all_top?ie=UTF8&reviewerType=all_reviews\n",
      "https://www.amazon.com/LIMITED-GLITTER-Ball-LOL-L/product-reviews/B076PKY1ZW/ref=cm_cr_dp_d_show_all_top?ie=UTF8&reviewerType=all_reviews\n",
      "https://www.amazon.com/Littlest-Pet-Shop-Collector-Party/product-reviews/B00Y8YOEU6/ref=cm_cr_dp_d_show_all_top?ie=UTF8&reviewerType=all_reviews\n",
      "https://www.amazon.com/Transformers-Knight-Armor-Changer-Bumblebee/product-reviews/B01IHFE5S2/ref=cm_cr_dp_d_show_all_top?ie=UTF8&reviewerType=all_reviews\n",
      "https://www.amazon.com/Playskool-Potato-Head-Silly-Suitcase/product-reviews/B0050QJT6U/ref=cm_cr_dp_d_show_all_top?ie=UTF8&reviewerType=all_reviews\n",
      "https://www.amazon.com/Peppa-Pig-92611-Family-Pack/product-reviews/B00OT6KXJE/ref=cm_cr_dp_d_show_all_top?ie=UTF8&reviewerType=all_reviews\n",
      "https://www.amazon.com/Playskool-Potato-Head-Silly-Suitcase/product-reviews/B0050QJTBA/ref=cm_cr_dp_d_show_all_top?ie=UTF8&reviewerType=all_reviews\n",
      "https://www.amazon.com/Funko-Television-Ross-Collectible-Figure/product-reviews/B071X7HZBN/ref=cm_cr_dp_d_show_all_top?ie=UTF8&reviewerType=all_reviews\n",
      "https://www.amazon.com/Marvel-Spider-Man-Titan-Hero-Figure/product-reviews/B01IK7O1EK/ref=cm_cr_dp_d_show_all_top?ie=UTF8&reviewerType=all_reviews\n",
      "https://www.amazon.com/Paw-Patrol-Mission-Marshalls-Truck/product-reviews/B01LY433HO/ref=cm_cr_dp_d_show_all_top?ie=UTF8&reviewerType=all_reviews\n",
      "https://www.amazon.com/Fisher-Price-Imaginext-Captain-Nemo-Stingray/product-reviews/B01DWBK774/ref=cm_cr_dp_d_show_all_top?ie=UTF8&reviewerType=all_reviews\n",
      "https://www.amazon.com/Spider-Man-Homecoming-Eye-Electronic-12-inch/product-reviews/B01IK52L80/ref=cm_cr_dp_d_show_all_top?ie=UTF8&reviewerType=all_reviews\n"
     ]
    }
   ],
   "source": [
    "start = time.time()\n",
    "count = 0\n",
    "b = []\n",
    "for href in hrefs:\n",
    "    try:\n",
    "        res = requests.get(href)\n",
    "        if res.status_code == 200:\n",
    "            count += 1\n",
    "            print(count)\n",
    "            soup =bs(res.text, 'lxml')\n",
    "            url = ['https://www.amazon.com' + soup.select('#dp-summary-see-all-reviews')[0]['href']]\n",
    "            b += url\n",
    "            if count % 2 == 0:\n",
    "                time.sleep(2)\n",
    "                if count % 3 == 0:\n",
    "                    time.sleep(3)\n",
    "#             print(url)\n",
    "#         time.sleep(1)\n",
    "    except Exception as e:\n",
    "        print(e)\n",
    "        time.sleep(2)\n",
    "        pass\n",
    "end = time.time() \n",
    "print(\"-----------------\")\n",
    "print(end-start)\n",
    "print(\"-----------------\")\n",
    "b =\"\\n\".join(b) \n",
    "print(b)   "
   ]
  },
  {
   "cell_type": "code",
   "execution_count": null,
   "metadata": {
    "collapsed": true
   },
   "outputs": [],
   "source": [
    "if not os.path.exists('../../Review_list/20171130/US/'):\n",
    "    os.makedirs('../../Review_list/20171130/US/')"
   ]
  },
  {
   "cell_type": "code",
   "execution_count": null,
   "metadata": {
    "collapsed": true
   },
   "outputs": [],
   "source": [
    "with open('../../Review_list/20171130/US/Action & Toy Figures_Review.txt','w',encoding='utf-8') as f :\n",
    "        f.write(b)"
   ]
  },
  {
   "cell_type": "markdown",
   "metadata": {},
   "source": [
    "## 測試區"
   ]
  },
  {
   "cell_type": "code",
   "execution_count": null,
   "metadata": {
    "collapsed": true
   },
   "outputs": [],
   "source": [
    "with open('../../Extract/20171207/US/Action & Toy Figures.txt',encoding='utf-8') as f :\n",
    "    r = f.readlines()\n",
    "    hrefs=[i.split(\"\\n\")[0] for i in r]\n",
    "    for url in hrefs:\n",
    "        res = requests.get(url)\n",
    "        print(res)\n",
    "#         soup =bs(res.text, 'lxml')\n",
    "#         url1 = 'https://www.amazon.com' + soup.select('#dp-summary-see-all-reviews')[0]['href']\n",
    "#         print(url1)\n"
   ]
  },
  {
   "cell_type": "code",
   "execution_count": null,
   "metadata": {
    "collapsed": true
   },
   "outputs": [],
   "source": [
    "soup = bs(x, 'lxml')\n",
    "kk = 'https://www.amazon.com' + soup.select('#dp-summary-see-all-reviews')[0]['href']\n",
    "print(kk)"
   ]
  },
  {
   "cell_type": "code",
   "execution_count": null,
   "metadata": {
    "collapsed": true
   },
   "outputs": [],
   "source": [
    "#customer_review-R2LEU8HQHI3WBP > div > span > div > div.a-expander-content.a-expander-partial-collapse-content"
   ]
  },
  {
   "cell_type": "code",
   "execution_count": null,
   "metadata": {
    "collapsed": true
   },
   "outputs": [],
   "source": [
    "soup."
   ]
  },
  {
   "cell_type": "code",
   "execution_count": null,
   "metadata": {
    "collapsed": true
   },
   "outputs": [],
   "source": [
    "for filename in os.listdir('../../20171207/US/Action & Toy Figures/'):\n",
    "    if not os.path.exists('../../20171207/US/Actionjson/' + filename.split(\".\")[0] + '.json'):\n",
    "        with open('../../20171207/US/Action & Toy Figures/' + filename, encoding='utf-8') as data:\n",
    "            try:           \n",
    "                a = {}\n",
    "                x = data.read()\n",
    "                time.sleep(0.1)\n",
    "            except:\n",
    "                pass\n",
    "            try:\n",
    "                a['Title'] = soup.select(\"#productTitle\")[0].text.strip()\n",
    "                a['ASIN'] = x.split('\"productAsin\":')[1].split(',')[0].replace('\"','').strip()\n",
    "                a['Url'] = soup.select(\"#ask_lazy_load_div > div > div.cdQuestionLazySeeAll > a\")[0]['href'].strip()\n",
    "                a['Available'] = soup.select(\"#availability > span.a-size-medium.a-color-success\")[0].text.strip()\n",
    "                a['Features'] = [soup.select('#feature-bullets > ul.a-unordered-list > li > span.a-list-item')[i].text\\\n",
    "                                 .replace(' \\n\\t\\t\\t\\t\\t\\t\\t','').replace('\\n\\t\\t\\t\\t\\t\\t\\t\\n\\t\\t\\t\\t\\t\\t','') for i in range(1,6)]\n",
    "               \n",
    "                a['Price'] = soup.select('#priceblock_ourprice')[0].text\n",
    "                a['Brand'] = soup.select('#bylineInfo')[0].text\n",
    "                a['Category'] = 'Action & Toy Figures'\n",
    "                a['AvgStars'] = soup.select('#acrPopover > span.a-declarative > a > i.a-icon > span')[0].text\n",
    "                a['Numbers'] = soup.select('#acrCustomerReviewText')[0].text.split(' ')[0]\n",
    "#                 a['Comment'] = peenlist\n",
    "#                 a['Customer']\n",
    "#                 a['Date']\n",
    "#                 a['Contents']\n",
    "                \n",
    "                print(dien)\n",
    "                biglist.append(dien)        \n",
    "            except:\n",
    "                    pass\n",
    "        if not os.path.exists('Actionjson'):\n",
    "                os.makedirs('Actionjson')\n",
    "            with open('./Actionjson/' + filename.split(\".\")[0] + '.json', 'w') as f:\n",
    "                json.dump(biglist, f)"
   ]
  }
 ],
 "metadata": {
  "kernelspec": {
   "display_name": "Python 3",
   "language": "python",
   "name": "python3"
  },
  "language_info": {
   "codemirror_mode": {
    "name": "ipython",
    "version": 3
   },
   "file_extension": ".py",
   "mimetype": "text/x-python",
   "name": "python",
   "nbconvert_exporter": "python",
   "pygments_lexer": "ipython3",
   "version": "3.6.1"
  }
 },
 "nbformat": 4,
 "nbformat_minor": 2
}
