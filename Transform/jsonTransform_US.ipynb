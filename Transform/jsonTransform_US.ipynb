{
 "cells": [
  {
   "cell_type": "markdown",
   "metadata": {},
   "source": [
    "## Prepared Work"
   ]
  },
  {
   "cell_type": "code",
   "execution_count": 1,
   "metadata": {
    "collapsed": true
   },
   "outputs": [],
   "source": [
    "from bs4 import BeautifulSoup as bs\n",
    "import time\n",
    "import requests\n",
    "import os\n",
    "import json\n",
    "import time"
   ]
  },
  {
   "cell_type": "code",
   "execution_count": 2,
   "metadata": {
    "collapsed": true
   },
   "outputs": [],
   "source": [
    "cookiestr = 'aws-account-alias=bb102; x-wl-uid=1qO1zbLT/VurrTD8olrRaxt4ZvTE+vTeFIHu58TFdpWz5wSlgeDL/v+q5P3gFNGfccOVMboQEwus=; AMCV_4A8581745834114C0A495E2B%40AdobeOrg=-1891778711%7CMCIDTS%7C17459%7CMCMID%7C52253475372251991424690344856724644964%7CMCOPTOUT-1508403795s%7CNONE%7CMCAID%7C2CF30EF7852A888A-40000300E0001C2D%7CvVersion%7C2.4.0; s_nr=1508396596374-New; s_lv=1508396596375; skin=noskin; session-token=0lQkzegQRtwPu7GiPFEAEDYLCK3p6WW8vF/g2Kr93EnMHKmH2uTgd30RM43tJCAw2uo2xeco+fz9qCC4dzTpW86EX5YF5lVFvMOXhSncgNmhfgnG7DaXuUwvxrXhAtluWYQgfWI8I22bxDO6KWvBDwfM6IFCfsYouZ6kt3oXTHzy6wSehl3qokrzeEBzLpfPu6mlixQc/Yuommb6ztr0yiL/6dzBf5UjFImpI3OXvIkvwGuyBITnHJH9epKv+Lec; amznacsleftnav-74393fbe-66a6-3a52-840b-37b54d8c76ce=1,21,3; ubid-main=132-7315371-9843811; session-id-time=2082787201l; session-id=135-5046157-5863552; csm-hit=85CP8ATFWH4EXAFXQX3Q+s-M5199TSF54AFVK1M6RJW|1509623128403'\n",
    "cookies = cookiestr.split(\";\")\n",
    "cookiedata ={}\n",
    "for cookie in cookies:\n",
    "    cookiedata[cookie.split(\"=\")[0]]=cookie.split(\"=\")[1]\n",
    "\n",
    "ssession = requests.Session()\n",
    "headers = {\"User-Agent\":\"Mozilla/5.0 (Macintosh; Intel Mac OS X 10_9_5) AppleWebKit 537.36 (KHTML, like Gecko) Chrome\",\"Accept\":\"text/html,application/xhtml+xml,application/xml;q=0.9,image/webp,*/*;q=0.8\"}"
   ]
  },
  {
   "cell_type": "markdown",
   "metadata": {},
   "source": [
    "## Transform to .json"
   ]
  },
  {
   "cell_type": "code",
   "execution_count": 3,
   "metadata": {
    "scrolled": false
   },
   "outputs": [
    {
     "name": "stdout",
     "output_type": "stream",
     "text": [
      "5\n"
     ]
    }
   ],
   "source": [
    "error = 0\n",
    "reviewlist=[]\n",
    "for filename in os.listdir('../../Review/20180104/US/Puzzles_review/'):\n",
    "    with open('../../Review/20180104/US/Puzzles_review/' + filename,encoding='utf-8') as data:\n",
    "        try:\n",
    "            r = {}\n",
    "            x = data.read()\n",
    "            time.sleep(0.1)\n",
    "            soup = bs(x, 'lxml')\n",
    "            title = soup.select('#cm_cr-product_info > div > div.a-fixed-left-grid-col.a-col-right > div > div > div.a-fixed-left-grid-col.product-info.a-col-right > div.a-row.product-title > h1 > a')[0].text\n",
    "            ASIN = str(filename).split('.')[0]\n",
    "            category = 'category'\n",
    "            country ='country'\n",
    "            brand = soup.select('#cm_cr-product_info > div > div.a-fixed-left-grid-col.a-col-right > div > div > div.a-fixed-left-grid-col.product-info.a-col-right > div.a-row.product-by-line > a')[0].text\n",
    "            \n",
    "            #Price\n",
    "#             if soup.select('#cm_cr-product_info > div > div.a-fixed-left-grid-col.a-col-right > div > div > div.a-fixed-left-grid-col.product-info.a-col-right > div.a-row.product-price-line > span > span.a-color-price.arp-price')[0].text in x:\n",
    "#                 price = soup.select('#cm_cr-product_info > div > div.a-fixed-left-grid-col.a-col-right > div > div > div.a-fixed-left-grid-col.product-info.a-col-right > div.a-row.product-price-line > span > span.a-color-price.arp-price')[0].text \n",
    "#             else:\n",
    "#                 price ='Not Found'\n",
    "            if \"a-color-price arp-price\" in x:\n",
    "                    price = soup.select('#cm_cr-product_info > div > div.a-fixed-left-grid-col.a-col-right > div > div > div.a-fixed-left-grid-col.product-info.a-col-right > div.a-row.product-price-line > span > span.a-color-price.arp-price')[0].text \n",
    "            else:\n",
    "                price ='Not Found'\n",
    "            # For Review\n",
    "            review = []\n",
    "            if soup.select(\"#cm_cr-review_list > div\") != []:\n",
    "                for message in soup.select(\"#cm_cr-review_list > div.a-section.review\"):\n",
    "                    re = message.select('div.a-row.review-data > span.a-size-base.review-text')[0].text\n",
    "                    star = message.select('span.a-icon-alt')[0].text\n",
    "                    review.append(re)\n",
    "                    review.append(star)\n",
    "            else:\n",
    "                review = \"null\"\n",
    "            \n",
    "            if review !=[]:\n",
    "                review_size = soup.select('#cm_cr-product_info > div > div.a-text-left.a-fixed-left-grid-col.reviewNumericalSummary.celwidget.a-col-left > div.a-row.averageStarRatingIconAndCount > div > div > div.a-fixed-left-grid-col.a-col-right > div > span')[0].text\n",
    "            else:\n",
    "                review_size = '0'\n",
    "            \n",
    "            if review !=[]:\n",
    "                average_stars = soup.select('#cm_cr-product_info > div > div.a-text-left.a-fixed-left-grid-col.reviewNumericalSummary.celwidget.a-col-left > div.a-row.averageStarRatingNumerical > span')[0].text \n",
    "            else:\n",
    "                average_stars = 'None'\n",
    "            \n",
    "            \n",
    "            \n",
    "            r['title'] = title\n",
    "            r['ASIN'] = ASIN\n",
    "            r['category'] = '8'\n",
    "            r['country'] ='US'\n",
    "            r['brand'] = brand\n",
    "            r['price'] = price\n",
    "            r['review_size'] = review_size\n",
    "            r['average_stars'] = average_stars\n",
    "            r['review'] = review\n",
    "    \n",
    "            reviewlist.append(r)\n",
    "        except Exception as e:\n",
    "#             print(e)\n",
    "#             print(ASIN)\n",
    "            error +=1\n",
    "            pass\n",
    "print(error)"
   ]
  },
  {
   "cell_type": "markdown",
   "metadata": {
    "collapsed": true
   },
   "source": [
    "## 存成json"
   ]
  },
  {
   "cell_type": "code",
   "execution_count": 4,
   "metadata": {},
   "outputs": [],
   "source": [
    "with open('../../jsonStar/20180104/US/Puzzles.json', 'w',encoding='utf-8') as f:\n",
    "    json.dump(reviewlist, f)"
   ]
  },
  {
   "cell_type": "code",
   "execution_count": 5,
   "metadata": {},
   "outputs": [],
   "source": [
    "with open('../../jsonStar/20180104/US/Puzzles.json',encoding='utf-8') as f:\n",
    "    a=json.load(f)"
   ]
  },
  {
   "cell_type": "code",
   "execution_count": 6,
   "metadata": {},
   "outputs": [
    {
     "data": {
      "text/plain": [
       "{'ASIN': 'B0054KBV4U',\n",
       " 'average_stars': '4.4 out of 5 stars',\n",
       " 'brand': 'Enesco',\n",
       " 'category': '8',\n",
       " 'country': 'US',\n",
       " 'price': '$12.99',\n",
       " 'review': ['I ordered this for my daughter after all the reviews said it was an actual Gund product with soft eyes.  I was, unfortunately, shipped a non-Gund Elmo with hard eyes. After contacting Amazon about the problem, they overnighted me a Gund Elmo. This actually gives a nice perspective on the differences between them.Comparing the two:The non-Gund has hard eyes, a very soft and fluffy coat, and an open mouth (one you could open and close by pinching his \"lips\" together). The Gund has soft eyes, more of a shag coat, and a flat piece of black felt for the mouth (giving the illusion of depth in the stock photo but there actually is no \"inside\" to his mouth - its just a half circle black felt cutout sewn to his face). For me, it was more important to have soft eyes than the mouth situation, so it doesn\\'t bother me. I just want my daughter to be able to snuggle with it at night. The Gund Elmo is also shorter, by about two inches. However, the quality seems great on both. Neither Elmo seems disproportionate to me, as some others have mentioned. The non-Gund probably looks a bit more like the \"real\" Elmo, but there is no mistaking who either of them are.',\n",
       "  '4.0 out of 5 stars',\n",
       "  'My 9 month old loves Sesame Street, and we purchased this little guy as something to bring on a recent plane ride across the country. This Elmo is great! He is super soft, and shed a little at first, but we washed him once and I haven\\'t seen any more red fuzzies. This is a perfect size for a little one, probably too small for 4+. We now keep him in the car, sometimes behind her little mirror to \"keep an eye on her\".',\n",
       "  '5.0 out of 5 stars',\n",
       "  \"I am so happy with the quality of this Elmo Plush! Gund makes the best plush. This one is soft, perfectly cuddly for a toddler's little arms. I love that the eyes are soft and I don't have to worry about my child getting hurt while sleeping with this little Elmo. I love it so much, eventually we will probably purchase more of the other Sesame Street characters. Perfect purchase and highly recommend.\",\n",
       "  '5.0 out of 5 stars',\n",
       "  'This was purchased as a gift for my two year old niece who just recently discovered the magic of Elmo. Between discovering the world through sticking things in her mouth and dealing with those newly growing teeth, I wanted an Elmo doll with non-plastic eyes. This ended being the perfect size for her, easy to carry along but still large enough to cuddle. The material is super soft and will certainly do the job in soaking up two year old drool. Highly recommended for any Elmo fan!',\n",
       "  '5.0 out of 5 stars',\n",
       "  'We purchased some Elmo items for a 1 year old Angel Tree child who likes Elmo and Sesame Street items.  We hope the child will enjoy these items for years to come.  I didn\\'t pay attention to the 12\" tall disclaimer.  I wish I had purchased a taller one.',\n",
       "  '5.0 out of 5 stars',\n",
       "  'It’s a little buddy for my Neighbors  1 year old she loves it sooo much She was feeling a little sick so she was cuddling it while she slept.  The toy is soft and good for a small child she puts everything in her mouth so she does bite down on the toy but no worries the whole thing is soft even the eyes. It also looks well made because she tugs on it a lot and there are no thread coming out so that’s a plus. Good toy for a baby.',\n",
       "  '5.0 out of 5 stars',\n",
       "  'My  two year old  toddler boy and a  four-year-old toddler my youngest son is obsessed with Sesame Street and in particular Elmo.  We have boughten him many Elmo and Sesame Street products but this is by far his favorite it never leaves his side.  This Elmo is about  A 12 inch Plush Elmo very soft.  We have actually had to wash the Elmo a couple times and he has held up just fine we have used it in cold water and laying flat to dry .  We really like this Elmo because nothing on this plush toy is a choking hazard it is all fabric.  If you have a little one or yourself loves Elmo or Sesame Street this is a great collection to any stuffed animal Family.',\n",
       "  '5.0 out of 5 stars',\n",
       "  'My youngest asked Santa for Elmo. This is the perfect size and is very soft. I liked that they eyes were not plastic and that it didn’t talk. Arrived on time and in good condition.',\n",
       "  '5.0 out of 5 stars',\n",
       "  'Great \"travel\" elmo i bought for my daughter. I have yet to find an exact replica of the Elmo i had myself 20 years ago that my daughter now uses. Most of the Elmo\\'s on the market have are made of a weird synthetic material that pulls apart easily, not this one. I love the fabric and so does my little one.',\n",
       "  '5.0 out of 5 stars',\n",
       "  \"I bought this for my 3 month old granddaughter because I knew the bold color contrast of the face would be attractive to her. She responded to it so well I was surprised as she was inspired to reach for it and hug it to her trying to manipulate it so she could gnaw on the eyes.It held her attention for quite a while (measured in baby time) and every time I reintroduce it she responds with delight.Now at 5 months she can hold on to it much better and still always goes for those eyes! She recognizes the name when I ask if she wants her Elmo.It's light weight and very soft and not too large for an infant. It's been easy to maintain so far and stays soft after cleaning which is usually just a wipe or rinse off and let air dry.\",\n",
       "  '5.0 out of 5 stars'],\n",
       " 'review_size': '1,090',\n",
       " 'title': 'Gund Sesame Street Take Along Elmo 12\" Plush'}"
      ]
     },
     "execution_count": 6,
     "metadata": {},
     "output_type": "execute_result"
    }
   ],
   "source": [
    "a[0]"
   ]
  },
  {
   "cell_type": "code",
   "execution_count": null,
   "metadata": {
    "collapsed": true
   },
   "outputs": [],
   "source": []
  },
  {
   "cell_type": "code",
   "execution_count": null,
   "metadata": {
    "collapsed": true
   },
   "outputs": [],
   "source": []
  },
  {
   "cell_type": "code",
   "execution_count": null,
   "metadata": {
    "collapsed": true
   },
   "outputs": [],
   "source": []
  }
 ],
 "metadata": {
  "kernelspec": {
   "display_name": "Python 3",
   "language": "python",
   "name": "python3"
  },
  "language_info": {
   "codemirror_mode": {
    "name": "ipython",
    "version": 3
   },
   "file_extension": ".py",
   "mimetype": "text/x-python",
   "name": "python",
   "nbconvert_exporter": "python",
   "pygments_lexer": "ipython3",
   "version": "3.6.1"
  }
 },
 "nbformat": 4,
 "nbformat_minor": 2
}
