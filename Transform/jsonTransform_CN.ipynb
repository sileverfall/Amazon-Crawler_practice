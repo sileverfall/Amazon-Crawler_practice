{
 "cells": [
  {
   "cell_type": "code",
   "execution_count": 5,
   "metadata": {
    "collapsed": true
   },
   "outputs": [],
   "source": [
    "from bs4 import BeautifulSoup as bs\n",
    "import time\n",
    "import requests\n",
    "import os\n",
    "import json\n",
    "import time"
   ]
  },
  {
   "cell_type": "code",
   "execution_count": 6,
   "metadata": {
    "collapsed": true
   },
   "outputs": [],
   "source": [
    "cookiestr = 'aws-account-alias=bb102; x-wl-uid=1qO1zbLT/VurrTD8olrRaxt4ZvTE+vTeFIHu58TFdpWz5wSlgeDL/v+q5P3gFNGfccOVMboQEwus=; AMCV_4A8581745834114C0A495E2B%40AdobeOrg=-1891778711%7CMCIDTS%7C17459%7CMCMID%7C52253475372251991424690344856724644964%7CMCOPTOUT-1508403795s%7CNONE%7CMCAID%7C2CF30EF7852A888A-40000300E0001C2D%7CvVersion%7C2.4.0; s_nr=1508396596374-New; s_lv=1508396596375; skin=noskin; session-token=0lQkzegQRtwPu7GiPFEAEDYLCK3p6WW8vF/g2Kr93EnMHKmH2uTgd30RM43tJCAw2uo2xeco+fz9qCC4dzTpW86EX5YF5lVFvMOXhSncgNmhfgnG7DaXuUwvxrXhAtluWYQgfWI8I22bxDO6KWvBDwfM6IFCfsYouZ6kt3oXTHzy6wSehl3qokrzeEBzLpfPu6mlixQc/Yuommb6ztr0yiL/6dzBf5UjFImpI3OXvIkvwGuyBITnHJH9epKv+Lec; amznacsleftnav-74393fbe-66a6-3a52-840b-37b54d8c76ce=1,21,3; ubid-main=132-7315371-9843811; session-id-time=2082787201l; session-id=135-5046157-5863552; csm-hit=85CP8ATFWH4EXAFXQX3Q+s-M5199TSF54AFVK1M6RJW|1509623128403'\n",
    "cookies = cookiestr.split(\";\")\n",
    "cookiedata ={}\n",
    "for cookie in cookies:\n",
    "    cookiedata[cookie.split(\"=\")[0]]=cookie.split(\"=\")[1]\n",
    "\n",
    "ssession = requests.Session()\n",
    "headers = {\"User-Agent\":\"Mozilla/5.0 (Macintosh; Intel Mac OS X 10_9_5) AppleWebKit 537.36 (KHTML, like Gecko) Chrome\",\"Accept\":\"text/html,application/xhtml+xml,application/xml;q=0.9,image/webp,*/*;q=0.8\"}"
   ]
  },
  {
   "cell_type": "code",
   "execution_count": 8,
   "metadata": {
    "scrolled": true
   },
   "outputs": [
    {
     "name": "stdout",
     "output_type": "stream",
     "text": [
      "B01JZ5ECHM\n",
      "1\n"
     ]
    }
   ],
   "source": [
    "error = 0\n",
    "reviewlist=[]\n",
    "for filename in os.listdir('../../Review/20171130/CN/婴幼玩具_review/'):\n",
    "    with open('../../Review/20171130/CN/婴幼玩具_review/' + filename,encoding='utf-8') as data:\n",
    "        try:\n",
    "            r = {}\n",
    "            x = data.read()\n",
    "            time.sleep(0.1)\n",
    "            soup = bs(x, 'lxml')\n",
    "            title = soup.select('#cm_cr-product_info > div > div.a-fixed-left-grid-col.a-col-right > div > div > div.a-fixed-left-grid-col.product-info.a-col-right > div.a-row.product-title > h1 > a')[0].text\n",
    "            ASIN = str(filename).split('.')[0]\n",
    "            country = 'country'\n",
    "            category = 'category'\n",
    "            brand = soup.select('#cm_cr-product_info > div > div.a-fixed-left-grid-col.a-col-right > div > div > div.a-fixed-left-grid-col.product-info.a-col-right > div.a-row.product-by-line > a')[0].text\n",
    "            \n",
    "            #Price\n",
    "#             if soup.select('#cm_cr-product_info > div > div.a-fixed-left-grid-col.a-col-right > div > div > div.a-fixed-left-grid-col.product-info.a-col-right > div.a-row.product-price-line > span > span.a-color-price.arp-price')[0].text in x:\n",
    "#                 price = soup.select('#cm_cr-product_info > div > div.a-fixed-left-grid-col.a-col-right > div > div > div.a-fixed-left-grid-col.product-info.a-col-right > div.a-row.product-price-line > span > span.a-color-price.arp-price')[0].text \n",
    "#             else:\n",
    "#                 price ='Not Found'\n",
    "            if \"a-color-price arp-price\" in x:\n",
    "                    price = soup.select('#cm_cr-product_info > div > div.a-fixed-left-grid-col.a-col-right > div > div > div.a-fixed-left-grid-col.product-info.a-col-right > div.a-row.product-price-line > span > span.a-color-price.arp-price')[0].text \n",
    "            else:\n",
    "                price ='Not Found'\n",
    "\n",
    "            # For Review\n",
    "            review = []\n",
    "            if soup.select(\"#cm_cr-review_list > div\") != []:\n",
    "                for message in soup.select(\"#cm_cr-review_list > div.a-section.review\"):\n",
    "                    re = message.select('div.a-row.review-data > span.a-size-base.review-text')[0].text\n",
    "                    star = message.select('span.a-icon-alt')[0].text\n",
    "                    review.append(re)\n",
    "                    review.append(star)\n",
    "            else:\n",
    "                review = \"null\"\n",
    "            \n",
    "            if review !=[]:\n",
    "                review_size = soup.select('#cm_cr-product_info > div > div.a-text-left.a-fixed-left-grid-col.reviewNumericalSummary.celwidget.a-col-left > div.a-row.averageStarRatingIconAndCount > div > div > div.a-fixed-left-grid-col.a-col-right > div > span')[0].text\n",
    "            else:\n",
    "                review_size = '0'\n",
    "            \n",
    "            if review !=[]:\n",
    "                average_stars = soup.select('#cm_cr-product_info > div > div.a-text-left.a-fixed-left-grid-col.reviewNumericalSummary.celwidget.a-col-left > div.a-row.averageStarRatingNumerical > span')[0].text \n",
    "            else:\n",
    "                average_stars = 'None'\n",
    "            \n",
    "            \n",
    "            \n",
    "            r['title'] = title\n",
    "            r['ASIN'] = ASIN\n",
    "            r['category'] = '3'\n",
    "            r['country'] ='CN'\n",
    "            r['brand'] = brand\n",
    "            r['price'] = price\n",
    "            r['review_size'] = review_size\n",
    "            r['average_stars'] = average_stars\n",
    "            r['review'] = review\n",
    "    \n",
    "            reviewlist.append(r)\n",
    "        except Exception as e:\n",
    "#             print(e)\n",
    "            print(ASIN)\n",
    "            error +=1\n",
    "            pass\n",
    "print(error)"
   ]
  },
  {
   "cell_type": "markdown",
   "metadata": {
    "collapsed": true
   },
   "source": [
    "## 存成json"
   ]
  },
  {
   "cell_type": "code",
   "execution_count": 9,
   "metadata": {
    "collapsed": true
   },
   "outputs": [],
   "source": [
    "#娃娃角色扮家家\n",
    "with open('../../jsonStar/20171130/CN/婴幼玩具.json', 'w',encoding='utf-8') as f:\n",
    "    json.dump(reviewlist, f)"
   ]
  },
  {
   "cell_type": "code",
   "execution_count": 10,
   "metadata": {},
   "outputs": [],
   "source": [
    "with open('../../jsonStar/20171130/CN/婴幼玩具.json',encoding='utf-8') as f:\n",
    "    a=json.load(f)"
   ]
  },
  {
   "cell_type": "code",
   "execution_count": 11,
   "metadata": {},
   "outputs": [
    {
     "data": {
      "text/plain": [
       "{'ASIN': 'B074KN6TH8',\n",
       " 'average_stars': '0.0 颗星，最多 5 颗星',\n",
       " 'brand': 'DICKIE TOYS',\n",
       " 'category': '3',\n",
       " 'country': 'CN',\n",
       " 'price': 'Not Found',\n",
       " 'review': 'null',\n",
       " 'review_size': '0',\n",
       " 'title': 'DICKIE TOYS 203111015变形金刚 M5\\xa0assorting 车辆'}"
      ]
     },
     "execution_count": 11,
     "metadata": {},
     "output_type": "execute_result"
    }
   ],
   "source": [
    "a[0]"
   ]
  },
  {
   "cell_type": "code",
   "execution_count": null,
   "metadata": {
    "collapsed": true
   },
   "outputs": [],
   "source": []
  },
  {
   "cell_type": "code",
   "execution_count": null,
   "metadata": {
    "collapsed": true
   },
   "outputs": [],
   "source": []
  }
 ],
 "metadata": {
  "kernelspec": {
   "display_name": "Python 3",
   "language": "python",
   "name": "python3"
  },
  "language_info": {
   "codemirror_mode": {
    "name": "ipython",
    "version": 3
   },
   "file_extension": ".py",
   "mimetype": "text/x-python",
   "name": "python",
   "nbconvert_exporter": "python",
   "pygments_lexer": "ipython3",
   "version": "3.6.1"
  }
 },
 "nbformat": 4,
 "nbformat_minor": 2
}
