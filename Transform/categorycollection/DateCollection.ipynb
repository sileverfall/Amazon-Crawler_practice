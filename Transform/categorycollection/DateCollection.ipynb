{
 "cells": [
  {
   "cell_type": "code",
   "execution_count": 1,
   "metadata": {
    "collapsed": true
   },
   "outputs": [],
   "source": [
    "from bs4 import BeautifulSoup as bs\n",
    "import time\n",
    "import requests\n",
    "import os\n",
    "import json\n",
    "import time"
   ]
  },
  {
   "cell_type": "code",
   "execution_count": 2,
   "metadata": {
    "collapsed": true
   },
   "outputs": [],
   "source": [
    "#US\n",
    "with open('../../../jsonStar/20180118/20180118_US.json',encoding='utf-8') as f1:\n",
    "    US =json.load(f1)"
   ]
  },
  {
   "cell_type": "code",
   "execution_count": 3,
   "metadata": {
    "collapsed": true
   },
   "outputs": [],
   "source": [
    "#UK\n",
    "with open('../../../jsonStar/20180118/20180118_UK.json',encoding='utf-8') as f2:\n",
    "    UK =json.load(f2)"
   ]
  },
  {
   "cell_type": "code",
   "execution_count": 4,
   "metadata": {
    "collapsed": true
   },
   "outputs": [],
   "source": [
    "US.extend(UK)"
   ]
  },
  {
   "cell_type": "code",
   "execution_count": 5,
   "metadata": {
    "collapsed": true
   },
   "outputs": [],
   "source": [
    "#In\n",
    "with open('../../../jsonStar/20180118/20180111_In.json',encoding='utf-8') as f3:\n",
    "    In =json.load(f3)"
   ]
  },
  {
   "cell_type": "code",
   "execution_count": 6,
   "metadata": {
    "collapsed": true
   },
   "outputs": [],
   "source": [
    "US.extend(In)"
   ]
  },
  {
   "cell_type": "code",
   "execution_count": 7,
   "metadata": {
    "collapsed": true
   },
   "outputs": [],
   "source": [
    "#CN\n",
    "with open('../../../jsonStar/20180111/20180111_CN.json',encoding='utf-8') as f4:\n",
    "    CN =json.load(f4)"
   ]
  },
  {
   "cell_type": "code",
   "execution_count": 8,
   "metadata": {
    "collapsed": true
   },
   "outputs": [],
   "source": [
    "US.extend(CN)"
   ]
  },
  {
   "cell_type": "code",
   "execution_count": 9,
   "metadata": {},
   "outputs": [
    {
     "data": {
      "text/plain": [
       "{'ASIN': 'B01LEO698W',\n",
       " 'average_stars': '4.4 颗星，最多 5 颗星',\n",
       " 'brand': 'Manhattan Toy 曼哈顿玩具',\n",
       " 'category': '6',\n",
       " 'country': 'CN',\n",
       " 'price': 'Not Found',\n",
       " 'review': ['这是洗过以后从里面抖出来的像铁锈一样的东西，给婴儿咬的玩具里面有这样的东西是正常的吗？希望亚马逊给出一个合理的解释！',\n",
       "  '1.0 颗星，最多 5 颗星',\n",
       "  '宝宝很喜欢。买回来的时候三个多月。一开始还不会两个手一起拿。玩了几天就可以两个手一起了，锻炼协调性的好东西。之前宝宝老吃手，手指伸进嘴巴都快吐了，这个数吃饭嘴里不会太深，很好。不愧是获奖玩具。就是我买完就又便宜了些。😂',\n",
       "  '5.0 颗星，最多 5 颗星',\n",
       "  '孩子特别喜欢，设计非常贴合婴儿的需求，分量轻，方便抓握还不会砸到宝宝',\n",
       "  '5.0 颗星，最多 5 颗星',\n",
       "  '从宝宝一个月开始就放在她旁边给她玩。从刚开始不懂看不懂玩到现在3个月了，会抓起来放嘴里咬。特别好！一条条细细的管子很方便宝宝学抓物。而且色彩也丰富。现在宝宝很喜欢。',\n",
       "  '5.0 颗星，最多 5 颗星',\n",
       "  '我收到的商品颜色与图片不一样。',\n",
       "  '4.0 颗星，最多 5 颗星',\n",
       "  '容易抓握，没有异味，用热水烫了消毒，中间能发出轻声哗哗的响声，不错。',\n",
       "  '5.0 颗星，最多 5 颗星',\n",
       "  '适合小宝宝练习抓取，有一点重量。但是宝宝一啃就叫。',\n",
       "  '4.0 颗星，最多 5 颗星',\n",
       "  '是买给孙子玩的，孙子现在七个月大，他非常喜欢，拿着它又咬又摇的，很适合他这个年龄段。',\n",
       "  '5.0 颗星，最多 5 颗星',\n",
       "  '送人的孩子非常喜欢，虽然加运费比天猫都贵，可是正品稍贵一点也是很好的，毕竟给婴儿用',\n",
       "  '5.0 颗星，最多 5 颗星',\n",
       "  '有点讨厌。我买的时候不是Prime范围 就让我朋友从美亚带回来 有味道。后来在这边买了两个送朋友 我没味道。郁闷',\n",
       "  '5.0 颗星，最多 5 颗星'],\n",
       " 'review_size': '711',\n",
       " 'title': 'Manhattan Toy winkel 摇铃和磨牙玩具'}"
      ]
     },
     "execution_count": 9,
     "metadata": {},
     "output_type": "execute_result"
    }
   ],
   "source": [
    "US[3000]"
   ]
  },
  {
   "cell_type": "code",
   "execution_count": 10,
   "metadata": {
    "collapsed": true
   },
   "outputs": [],
   "source": [
    "with open('../../../jsonStar/Star20180111.json', 'w',encoding='utf-8') as f:\n",
    "    json.dump(US, f)"
   ]
  },
  {
   "cell_type": "code",
   "execution_count": 11,
   "metadata": {
    "collapsed": true
   },
   "outputs": [],
   "source": [
    "with open('../../../jsonStar/Star20180111.json',encoding='utf-8') as f:\n",
    "    toys =json.load(f)"
   ]
  },
  {
   "cell_type": "code",
   "execution_count": 12,
   "metadata": {},
   "outputs": [
    {
     "ename": "IndexError",
     "evalue": "list index out of range",
     "output_type": "error",
     "traceback": [
      "\u001b[0;31m---------------------------------------------------------------------------\u001b[0m",
      "\u001b[0;31mIndexError\u001b[0m                                Traceback (most recent call last)",
      "\u001b[0;32m<ipython-input-12-76b434810f24>\u001b[0m in \u001b[0;36m<module>\u001b[0;34m()\u001b[0m\n\u001b[0;32m----> 1\u001b[0;31m \u001b[0mtoys\u001b[0m\u001b[0;34m[\u001b[0m\u001b[0;36m3500\u001b[0m\u001b[0;34m]\u001b[0m\u001b[0;34m\u001b[0m\u001b[0m\n\u001b[0m",
      "\u001b[0;31mIndexError\u001b[0m: list index out of range"
     ]
    }
   ],
   "source": [
    "toys[3500]"
   ]
  },
  {
   "cell_type": "code",
   "execution_count": null,
   "metadata": {
    "collapsed": true
   },
   "outputs": [],
   "source": []
  }
 ],
 "metadata": {
  "kernelspec": {
   "display_name": "Python 3",
   "language": "python",
   "name": "python3"
  },
  "language_info": {
   "codemirror_mode": {
    "name": "ipython",
    "version": 3
   },
   "file_extension": ".py",
   "mimetype": "text/x-python",
   "name": "python",
   "nbconvert_exporter": "python",
   "pygments_lexer": "ipython3",
   "version": "3.6.1"
  }
 },
 "nbformat": 4,
 "nbformat_minor": 2
}
