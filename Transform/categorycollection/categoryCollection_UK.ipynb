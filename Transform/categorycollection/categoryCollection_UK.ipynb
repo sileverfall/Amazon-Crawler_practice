{
 "cells": [
  {
   "cell_type": "code",
   "execution_count": 1,
   "metadata": {
    "collapsed": true
   },
   "outputs": [],
   "source": [
    "from bs4 import BeautifulSoup as bs\n",
    "import time\n",
    "import requests\n",
    "import os\n",
    "import json\n",
    "import time"
   ]
  },
  {
   "cell_type": "code",
   "execution_count": 2,
   "metadata": {
    "collapsed": true
   },
   "outputs": [],
   "source": [
    "#1\n",
    "with open('../../../jsonStar/20180118/UK/Figures & Playsets.json',encoding='utf-8') as f1:\n",
    "    a=json.load(f1)"
   ]
  },
  {
   "cell_type": "code",
   "execution_count": 3,
   "metadata": {
    "collapsed": true
   },
   "outputs": [],
   "source": [
    "#2\n",
    "with open('../../../jsonStar/20180118/UK/Arts & Crafts.json',encoding='utf-8') as f2:\n",
    "    b =json.load(f2)"
   ]
  },
  {
   "cell_type": "code",
   "execution_count": 4,
   "metadata": {
    "collapsed": true
   },
   "outputs": [],
   "source": [
    "a.extend(b)"
   ]
  },
  {
   "cell_type": "code",
   "execution_count": 5,
   "metadata": {
    "collapsed": true
   },
   "outputs": [],
   "source": [
    "#3\n",
    "with open('../../../jsonStar/20180118/UK/Toddler Toys.json',encoding='utf-8') as f3:\n",
    "    c =json.load(f3)"
   ]
  },
  {
   "cell_type": "code",
   "execution_count": 6,
   "metadata": {
    "collapsed": true
   },
   "outputs": [],
   "source": [
    "a.extend(c)"
   ]
  },
  {
   "cell_type": "code",
   "execution_count": 7,
   "metadata": {
    "collapsed": true
   },
   "outputs": [],
   "source": [
    "#4\n",
    "with open('../../../jsonStar/20180118/UK/Bikes, Trikes & Ride-ons.json',encoding='utf-8') as f4:\n",
    "    d =json.load(f4)"
   ]
  },
  {
   "cell_type": "code",
   "execution_count": 8,
   "metadata": {
    "collapsed": true
   },
   "outputs": [],
   "source": [
    "a.extend(d)"
   ]
  },
  {
   "cell_type": "code",
   "execution_count": 9,
   "metadata": {},
   "outputs": [],
   "source": [
    "#5\n",
    "with open('../../../jsonStar/20180118/UK/Building & Construction Toys.json',encoding='utf-8') as f5:\n",
    "    e =json.load(f5)"
   ]
  },
  {
   "cell_type": "code",
   "execution_count": 10,
   "metadata": {
    "collapsed": true
   },
   "outputs": [],
   "source": [
    "a.extend(e)"
   ]
  },
  {
   "cell_type": "code",
   "execution_count": 11,
   "metadata": {
    "collapsed": true
   },
   "outputs": [],
   "source": [
    "#6\n",
    "with open('../../../jsonStar/20180118/UK/DDP.json',encoding='utf-8') as f6:\n",
    "    f =json.load(f6)"
   ]
  },
  {
   "cell_type": "code",
   "execution_count": 12,
   "metadata": {
    "collapsed": true
   },
   "outputs": [],
   "source": [
    "a.extend(f)"
   ]
  },
  {
   "cell_type": "code",
   "execution_count": 13,
   "metadata": {
    "collapsed": true
   },
   "outputs": [],
   "source": [
    "#7\n",
    "with open('../../../jsonStar/20180118/UK/Education & Science.json',encoding='utf-8') as f7:\n",
    "    g =json.load(f7)"
   ]
  },
  {
   "cell_type": "code",
   "execution_count": 14,
   "metadata": {
    "collapsed": true
   },
   "outputs": [],
   "source": [
    "a.extend(g)"
   ]
  },
  {
   "cell_type": "code",
   "execution_count": 15,
   "metadata": {
    "collapsed": true
   },
   "outputs": [],
   "source": [
    "#8\n",
    "with open('../../../jsonStar/20180118/UK/Jigsaws & Puzzles.json',encoding='utf-8') as f8:\n",
    "    h =json.load(f8)"
   ]
  },
  {
   "cell_type": "code",
   "execution_count": 16,
   "metadata": {
    "collapsed": true
   },
   "outputs": [],
   "source": [
    "a.extend(h)"
   ]
  },
  {
   "cell_type": "code",
   "execution_count": 17,
   "metadata": {
    "collapsed": true
   },
   "outputs": [],
   "source": [
    "#9\n",
    "with open('../../../jsonStar/20180118/UK/Sports Toys & Outdoor.json',encoding='utf-8') as f9:\n",
    "    i =json.load(f9)"
   ]
  },
  {
   "cell_type": "code",
   "execution_count": 18,
   "metadata": {
    "collapsed": true
   },
   "outputs": [],
   "source": [
    "a.extend(i)"
   ]
  },
  {
   "cell_type": "code",
   "execution_count": 19,
   "metadata": {
    "collapsed": true
   },
   "outputs": [],
   "source": [
    "#10\n",
    "with open('../../../jsonStar/20180118/UK/Soft Toys.json',encoding='utf-8') as f10:\n",
    "    j =json.load(f10)"
   ]
  },
  {
   "cell_type": "code",
   "execution_count": 20,
   "metadata": {
    "collapsed": true
   },
   "outputs": [],
   "source": [
    "a.extend(j)"
   ]
  },
  {
   "cell_type": "code",
   "execution_count": 21,
   "metadata": {
    "collapsed": true
   },
   "outputs": [],
   "source": [
    "with open('../../../jsonStar/20180118/20180118_UK.json', 'w',encoding='utf-8') as f:\n",
    "    json.dump(a, f)"
   ]
  },
  {
   "cell_type": "code",
   "execution_count": 22,
   "metadata": {
    "collapsed": true
   },
   "outputs": [],
   "source": [
    "with open('../../../jsonStar/20180118/20180118_UK.json',encoding='utf-8') as f:\n",
    "    UK =json.load(f)"
   ]
  },
  {
   "cell_type": "code",
   "execution_count": 23,
   "metadata": {},
   "outputs": [
    {
     "data": {
      "text/plain": [
       "{'ASIN': 'B000I2Q0F4',\n",
       " 'average_stars': '4.8 out of 5 stars',\n",
       " 'brand': 'Lamaze',\n",
       " 'category': '10',\n",
       " 'country': 'UK',\n",
       " 'price': '£10.99',\n",
       " 'review': ['This is the second time I have bought this item as a gift the first time I paid full price this time it was half price BARGIN! As with all Lamaze products this is a high quality baby toy I was extremely happy with it full price so when I saw it at half price I didn’t hesitate to snap it up for my niece!! As it is believed that young baby’s only see black and white the back side of this toy being black and white only is very fitting but as there sight develops the front is very bright and colourful. The toy is very tactile and makes lots of crinkly noises to engage your baby’s senses. The plastic hook on the top is very handy to attach the toy to a pram,car seat etc to stop the toy getting lost. I have personally found no faults with this toy and highly recommend it and other Lamaze toys.',\n",
       "  '5.0 out of 5 stars',\n",
       "  \"I actually brought one of these for my nephew years ago and he loved it so much that when  I had my son earlier this year, my sister brought one for him too. It was the first toy he ever really took notice of, I think it was the black and white images on the back. It's his favourite toy and the one we have to have on us whenever we go out. We did lose it on a day out which is why we brought this one, as a replacement. One thing we find really handy is that it has an open ring on the top and a couple of rings on the bottom, so we loop it around the handle on the carseat or pram and then interlock the rings so that he stays in place and keeps my son occupied.\",\n",
       "  '5.0 out of 5 stars',\n",
       "  \"I bought Freddie the firefly for a gift for a friend who had just had a baby. She really was pleased with the gift and her baby soon loved it too and wanting taken everywhere. Freddie the firefly has a good range of interactive features for babies, the baby particularly liked chewing on the rings and crinkling the wings. Lamaze toys are so colourful and are always a hit with babies and Freddie the firefly is no exception. My friend really liked how this toy clipped on to the car seat and pushchair so that the baby couldn't lose it!\",\n",
       "  '5.0 out of 5 stars',\n",
       "  \"I bought this a few years ago for a friend who has a new born and heard great reviews but just assumed they were being kind. I now have a baby and at first she wasn't too bothered by it but from7 weeks she absolutely loves it! It calms her, entertains her, keeps her happy for periods of time and is an essential toy for leaving the house! Can't recommend it highly enough. All the other toys she has don't even get a look in!\",\n",
       "  '5.0 out of 5 stars',\n",
       "  \"A fabulous toy that I have bought several times for friends' new babies. The toy is a good size, brightly coloured and well made.  I buy them for new-borns as the babies are initially attracted by it's bright colours ... but then as they grow, it makes a great toy for exploring textures. I have bought several for gifts now and every recipient has loved it.\",\n",
       "  '5.0 out of 5 stars',\n",
       "  \"I love the toys, excellent quality, colourful, fun and kids love them: it's a shame that I have spent the last 3 years calling them Lamaze toys!! When it's pronounced Lamaze, as in the labour breathing. I must have sounded like an idiot in all of those parent baby groups.\",\n",
       "  '5.0 out of 5 stars',\n",
       "  \"This was a first toy I have purchased for my baby boy and I'm glad I did. It is so colorfull and has got black and white patterns at the back which younger babies like. It could go with you anywhere as it hookes onto things such as car seat or a pram. My little one enjoys feeling the diferent textures and it keeps him busy for a while.\",\n",
       "  '5.0 out of 5 stars',\n",
       "  'Lovely big colourful toy & my 3 month old loves it! So does my toddler because it\\'s the \"baby\\'s toy!\"Anything that can keep a baby entertained for up to half an hour is a winner by me! Gives me a chance to sit down and eat or have a cuppa while baby happily plays with this. Great thing is it can be attached to anything like pushchair, playmat or bouncers.',\n",
       "  '5.0 out of 5 stars',\n",
       "  \"When I received Freddie, I was a little  surprised at how large he is, at 21.5cm in length and 29cm from wing tip to wing tip, he's much larger than other buggy toys I've bought and too large for Freddy (my little man) to lift at the moment. In fact, he's perhaps a little bit too big, as I had intended to hang him from Freddy's baby gym, but when I tried that he was almost touching my little man. Mind you if the Firefly wasn't so big no where nearly as many activities could be crammed in.Freddie the Firefly has a lovely soft, cuddly, plush body consisting of vivid brightly coloured rings, which encloses a nice loud rattle (that works with even a slight shake or movement). His friendly face is sewn on, with wide open eyes and a cheerful smile, so there's no buttons to come loose. His antennae are made of silky material ending in knots while his legs are velour and also knotted giving baby something to hold onto and chew. Freddie also has a springy tail with toy plastic rings that clack together and can be chewed on. But the best part of Freddie the Firefly are his wings.Freddie has four crinkly wings, the back of which feature high contrast black, white and blue patterns that are great for attracting the attention of newborns. The front of each of the four wings holds a separate activity designed to stimulate the growing baby. There's a wing full of textures, with three smaller wings each of which has a different feel, there's corduroy, velour and satin as well as a ladybird sewn onto the actual wing. These are all designed to help baby experience new textures with both his hands and mouth.The next wing features an easy to press squeaker covered with a satin feel material and a fluffy pompom. I was a little concerned that the pompom might shed fibres but I've pulled and pulled at it and nothing has come off. Again the pompom encourages baby to explore textures while the squeaker is a great introduction to cause and effect.Moving on to the third wing and there's a soft velour pocket which holds a ladybird shaped teether on a string. The teether is nicely textured and a good size for little hands to hold, and the addition of a pocket means there's the added bonus that as baby gets older he'll learn to put the ladybird into the pocket which will help develop hand/eye coordination.The final wing features a baby safe mirror that's partially hidden by a flap. All babies love looking at themselves in mirrors, but unfortunately this isn't the best of mirrors. It badly distorts any reflection and it's almost impossible to see any of my face when I look in it.As a whole Freddie is very well made and securely stitched together with no visible seams or sharp edges. He also features a sturdy plastic clip so that he can be attached to buggies, cots, play gyms etc. This clip can be a little difficult to operate but invaluable both to prevent Freddie from getting lost (being thrown from the buggy for instance) and for hanging Freddie just within reach to encourage baby stretch to reach him. The only real major down point that I can see is that Freddie is not machine washable. Seeing as this is a toy that will get grubby and be sucked and chewed on, I can see a time when sponge cleaning just won't be enough.When Freddy met FreddieAlthough Freddie is suitable from newborn, I didn't buy this for Freddy until he was three months old and already quite an active baby who enjoyed kicking and hitting toys. Freddie (the firefly's) bright colours instantly grabbed his attention and although I couldn't attach him to the play gym as planned I did attach him either the cot or bouncy chair. Freddy (my son) got the instant reward of the firefly rattling when he hit it and was soon grabbing at the rings on the tail. Now at 15 weeks Freddy will often be found chatting away to the firefly while holding onto one of the wings. He also enjoys kicking and hitting the firefly while sitting in his bouncy chair. At the moment he's unable to access many of the different activities without Mummy or Daddy's help, but loves being helped to feel all the different textures and thinks it's really funny when the squeaker is pressed. Freddy also thinks it's funny when Mummy helps Freddie talk to him, especially as they share a name and he likes looking at light reflected in the mirror. In fact, it's safe to say that Freddy loves his Freddie the Firefly and it goes almost everywhere with. At night it's attached to the side of his cot and during the day Freddie can be found either on the floor next to my little man or attached to his bouncy chair. And if we're out and about the Freddie comes too, securely attached to the buggy or car seat.I can already see Freddy changing the way he plays with this and the skills it's helping him perfect. As his hand/eye coordination improves Freddy is able to grab the wings and be instantly rewarded with new textures and the crinkly sounds. As he gets older then there are even more rewards to come as he learns to press the squeaker and then there's the teether.Final WordsFreddie the Firefly is great toy and firm favourite of 15 week old Freddy. The bright colours and contrasting patterns grab a baby's attention from a very young age and the different activities then hold that attention as baby grows older. Although it's true that babies learn from any toy, this really does seem to stimulate baby's senses and encourage baby to develop all manner of skills. From the high contrast patterns on the wings that help a very young baby focus to the teether in the pocket the help a toddler's fine motor skills this truly is a toy that grows with your baby. I personally can't recommend Freddie the Firefly enough, and will be buying other toys in the range come Christmas time. And so Freddie the Firefly gets a very healthy four stars out of five from me, losing one star only because he is not machine washable.\",\n",
       "  '4.0 out of 5 stars',\n",
       "  'I didn\\'t think you could get toys for newborns but having read the reviews I decided to purchase this and was presently surprised that my newborn (who is 4 weeks) seems to like it!! The back of the toy is black and white which covers the theory that babies fully interact with black & white toys. The front of the toy is as the photo and the wings have different textures on them. Good toy, would definitely recommend this item as \"first toy\" for baby.',\n",
       "  '5.0 out of 5 stars'],\n",
       " 'review_size': '1,712',\n",
       " 'title': 'Lamaze Freddie the Firefly Clip On Pram and Pushchair Baby Toy'}"
      ]
     },
     "execution_count": 23,
     "metadata": {},
     "output_type": "execute_result"
    }
   ],
   "source": [
    "UK[925]"
   ]
  },
  {
   "cell_type": "code",
   "execution_count": null,
   "metadata": {
    "collapsed": true
   },
   "outputs": [],
   "source": []
  }
 ],
 "metadata": {
  "kernelspec": {
   "display_name": "Python 3",
   "language": "python",
   "name": "python3"
  },
  "language_info": {
   "codemirror_mode": {
    "name": "ipython",
    "version": 3
   },
   "file_extension": ".py",
   "mimetype": "text/x-python",
   "name": "python",
   "nbconvert_exporter": "python",
   "pygments_lexer": "ipython3",
   "version": "3.6.1"
  }
 },
 "nbformat": 4,
 "nbformat_minor": 2
}
