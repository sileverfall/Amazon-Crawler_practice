{
 "cells": [
  {
   "cell_type": "code",
   "execution_count": 1,
   "metadata": {
    "collapsed": true
   },
   "outputs": [],
   "source": [
    "from bs4 import BeautifulSoup as bs\n",
    "import time\n",
    "import requests\n",
    "import os\n",
    "import json\n",
    "import time"
   ]
  },
  {
   "cell_type": "code",
   "execution_count": 2,
   "metadata": {
    "collapsed": true
   },
   "outputs": [],
   "source": [
    "#1\n",
    "with open('../../../jsonStar/20180118/CN/角色模型、动漫周边.json',encoding='utf-8') as f1:\n",
    "    a=json.load(f1)"
   ]
  },
  {
   "cell_type": "code",
   "execution_count": 3,
   "metadata": {
    "collapsed": true
   },
   "outputs": [],
   "source": [
    "#2\n",
    "with open('../../../jsonStar/20180118/CN/绘画、DIY制作.json',encoding='utf-8') as f2:\n",
    "    b =json.load(f2)"
   ]
  },
  {
   "cell_type": "code",
   "execution_count": 4,
   "metadata": {
    "collapsed": true
   },
   "outputs": [],
   "source": [
    "a.extend(b)"
   ]
  },
  {
   "cell_type": "code",
   "execution_count": 5,
   "metadata": {
    "collapsed": true
   },
   "outputs": [],
   "source": [
    "#3\n",
    "with open('../../../jsonStar/20180118/CN/婴幼玩具.json',encoding='utf-8') as f3:\n",
    "    c =json.load(f3)"
   ]
  },
  {
   "cell_type": "code",
   "execution_count": 6,
   "metadata": {
    "collapsed": true
   },
   "outputs": [],
   "source": [
    "a.extend(c)"
   ]
  },
  {
   "cell_type": "code",
   "execution_count": 7,
   "metadata": {
    "collapsed": true
   },
   "outputs": [],
   "source": [
    "#4\n",
    "with open('../../../jsonStar/20180118/CN/玩具车、惯性车.json',encoding='utf-8') as f4:\n",
    "    d =json.load(f4)"
   ]
  },
  {
   "cell_type": "code",
   "execution_count": 8,
   "metadata": {
    "collapsed": true
   },
   "outputs": [],
   "source": [
    "a.extend(d)"
   ]
  },
  {
   "cell_type": "code",
   "execution_count": 9,
   "metadata": {
    "collapsed": true
   },
   "outputs": [],
   "source": [
    "#5\n",
    "with open('../../../jsonStar/20180118/CN/模型组装.json',encoding='utf-8') as f5:\n",
    "    e =json.load(f5)"
   ]
  },
  {
   "cell_type": "code",
   "execution_count": 10,
   "metadata": {
    "collapsed": true
   },
   "outputs": [],
   "source": [
    "a.extend(e)"
   ]
  },
  {
   "cell_type": "code",
   "execution_count": 11,
   "metadata": {
    "collapsed": true
   },
   "outputs": [],
   "source": [
    "#6\n",
    "with open('../../../jsonStar/20180118/CN/娃娃角色扮家家.json',encoding='utf-8') as f6:\n",
    "    f =json.load(f6)"
   ]
  },
  {
   "cell_type": "code",
   "execution_count": 12,
   "metadata": {
    "collapsed": true
   },
   "outputs": [],
   "source": [
    "a.extend(f)"
   ]
  },
  {
   "cell_type": "code",
   "execution_count": 13,
   "metadata": {
    "collapsed": true
   },
   "outputs": [],
   "source": [
    "#7\n",
    "with open('../../../jsonStar/20180118/CN/学习与教育.json',encoding='utf-8') as f7:\n",
    "    g =json.load(f7)"
   ]
  },
  {
   "cell_type": "code",
   "execution_count": 14,
   "metadata": {
    "collapsed": true
   },
   "outputs": [],
   "source": [
    "a.extend(g)"
   ]
  },
  {
   "cell_type": "code",
   "execution_count": 15,
   "metadata": {
    "collapsed": true
   },
   "outputs": [],
   "source": [
    "#8\n",
    "with open('../../../jsonStar/20180118/CN/拼图.json',encoding='utf-8') as f8:\n",
    "    h =json.load(f8)"
   ]
  },
  {
   "cell_type": "code",
   "execution_count": 16,
   "metadata": {
    "collapsed": true
   },
   "outputs": [],
   "source": [
    "a.extend(h)"
   ]
  },
  {
   "cell_type": "code",
   "execution_count": 17,
   "metadata": {
    "collapsed": true
   },
   "outputs": [],
   "source": [
    "#9\n",
    "with open('../../../jsonStar/20180118/CN/运动户外.json',encoding='utf-8') as f9:\n",
    "    i =json.load(f9)"
   ]
  },
  {
   "cell_type": "code",
   "execution_count": 18,
   "metadata": {
    "collapsed": true
   },
   "outputs": [],
   "source": [
    "a.extend(i)"
   ]
  },
  {
   "cell_type": "code",
   "execution_count": 19,
   "metadata": {},
   "outputs": [],
   "source": [
    "#10\n",
    "with open('../../../jsonStar/20180118/CN/毛绒玩具.json',encoding='utf-8') as f10:\n",
    "    j =json.load(f10)"
   ]
  },
  {
   "cell_type": "code",
   "execution_count": 20,
   "metadata": {
    "collapsed": true
   },
   "outputs": [],
   "source": [
    "a.extend(j)"
   ]
  },
  {
   "cell_type": "code",
   "execution_count": 21,
   "metadata": {
    "collapsed": true
   },
   "outputs": [],
   "source": [
    "with open('../../../jsonStar/20180118/20180118_CN.json', 'w',encoding='utf-8') as f:\n",
    "    json.dump(a, f)"
   ]
  },
  {
   "cell_type": "code",
   "execution_count": 22,
   "metadata": {
    "collapsed": true
   },
   "outputs": [],
   "source": [
    "with open('../../../jsonStar/20180118/20180118_CN.json',encoding='utf-8') as f:\n",
    "    CN =json.load(f)"
   ]
  },
  {
   "cell_type": "code",
   "execution_count": 23,
   "metadata": {},
   "outputs": [
    {
     "data": {
      "text/plain": [
       "{'ASIN': 'B01I4H83TK',\n",
       " 'average_stars': '4.0 颗星，最多 5 颗星',\n",
       " 'brand': 'Jelly Cat',\n",
       " 'category': '10',\n",
       " 'country': 'CN',\n",
       " 'price': '￥\\xa0110.00 - ￥\\xa0899.00',\n",
       " 'review': ['收到货比相象中小些，我家一岁的宝宝刚好能抱着睡觉，参考了楼上的推荐买了个白色的材质柔软洗后不掉毛不错。买贵了少少几天后看到有199减60的活动，没赶上。',\n",
       "  '5.0 颗星，最多 5 颗星',\n",
       "  '很好，以前从不去评价，不知道浪费了多少积分，现在知道积分可以换钱，就要好好评价了，后来我就把这段话复制走了，既能赚积分，还省事，走到哪复制到哪，最重要的是，不用认真的评论了，不用想还差多少字，直接发出就可以了，推荐给大家！！',\n",
       "  '5.0 颗星，最多 5 颗星',\n",
       "  '最早在美亚上买了粉色的，小家伙非常喜欢，爱不释手，后来买的这个紫色的就没那么喜欢了😂😂',\n",
       "  '5.0 颗星，最多 5 颗星',\n",
       "  \"兔纸超级萌啊٩(๑òωó๑)۶软绵绵的手感好好～小尾巴是白色的，送给自己的儿童节礼物最棒啦(*'▽'*)♪\",\n",
       "  '5.0 颗星，最多 5 颗星',\n",
       "  '买了很多个。这个是最正的 没瑕疵的一个。就是送人的 我包装不太好',\n",
       "  '5.0 颗星，最多 5 颗星',\n",
       "  '宝宝的第一个玩偶朋友，半岁还不喜欢，到一岁半突然很喜欢，天天抱着玩。白色的不耐脏。',\n",
       "  '5.0 颗星，最多 5 颗星',\n",
       "  '虽然没有外面的蓝色袋子  但是也比某淘官旗强太多了  标签都要比某淘清晰  细节也很好  某淘的已经准备退货了 同样 长度这里的长些  推荐购买',\n",
       "  '5.0 颗星，最多 5 颗星',\n",
       "  '适合一岁多的宝宝，因为太小的孩子用着不安全，会窒息危险，而且也看不懂是什么，现在孩子一岁多了就看出来是兔兔了，还会摸摸蹭蹭脸',\n",
       "  '5.0 颗星，最多 5 颗星',\n",
       "  '小兔子很可爱，毛绒非常柔软，但愿她像介绍的那样毛绒不会被宝宝撕扯下来。很简单的包装，包装纸盒内还有分包时式人放入的广告宣传纸。',\n",
       "  '5.0 颗星，最多 5 颗星',\n",
       "  '做工，手感都不错，但是孩子不怎么喜欢玩。',\n",
       "  '5.0 颗星，最多 5 颗星'],\n",
       " 'review_size': '200',\n",
       " 'title': 'Jellycat\\xa0毛绒玩偶 BASHFUL害羞系列之邦尼兔 星星米白色中号31cm'}"
      ]
     },
     "execution_count": 23,
     "metadata": {},
     "output_type": "execute_result"
    }
   ],
   "source": [
    "CN[681]"
   ]
  },
  {
   "cell_type": "code",
   "execution_count": null,
   "metadata": {
    "collapsed": true
   },
   "outputs": [],
   "source": []
  }
 ],
 "metadata": {
  "kernelspec": {
   "display_name": "Python 3",
   "language": "python",
   "name": "python3"
  },
  "language_info": {
   "codemirror_mode": {
    "name": "ipython",
    "version": 3
   },
   "file_extension": ".py",
   "mimetype": "text/x-python",
   "name": "python",
   "nbconvert_exporter": "python",
   "pygments_lexer": "ipython3",
   "version": "3.6.1"
  }
 },
 "nbformat": 4,
 "nbformat_minor": 2
}
