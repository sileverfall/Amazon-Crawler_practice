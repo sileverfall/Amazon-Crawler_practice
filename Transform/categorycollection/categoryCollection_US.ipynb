{
 "cells": [
  {
   "cell_type": "code",
   "execution_count": 1,
   "metadata": {
    "collapsed": true
   },
   "outputs": [],
   "source": [
    "from bs4 import BeautifulSoup as bs\n",
    "import time\n",
    "import requests\n",
    "import os\n",
    "import json\n",
    "import time"
   ]
  },
  {
   "cell_type": "code",
   "execution_count": 2,
   "metadata": {
    "collapsed": true
   },
   "outputs": [],
   "source": [
    "#1\n",
    "with open('../../../jsonStar/20180118/US/Action & Toy Figures.json',encoding='utf-8') as f1:\n",
    "    a=json.load(f1)"
   ]
  },
  {
   "cell_type": "code",
   "execution_count": 3,
   "metadata": {
    "collapsed": true
   },
   "outputs": [],
   "source": [
    "#2\n",
    "with open('../../../jsonStar/20180118/US/Arts & Crafts.json',encoding='utf-8') as f2:\n",
    "    b =json.load(f2)"
   ]
  },
  {
   "cell_type": "code",
   "execution_count": 4,
   "metadata": {
    "collapsed": true
   },
   "outputs": [],
   "source": [
    "a.extend(b)"
   ]
  },
  {
   "cell_type": "code",
   "execution_count": 5,
   "metadata": {
    "collapsed": true
   },
   "outputs": [],
   "source": [
    "#3\n",
    "with open('../../../jsonStar/20180118/US/Baby & Toddler Toys.json',encoding='utf-8') as f3:\n",
    "    c =json.load(f3)"
   ]
  },
  {
   "cell_type": "code",
   "execution_count": 6,
   "metadata": {
    "collapsed": true
   },
   "outputs": [],
   "source": [
    "a.extend(c)"
   ]
  },
  {
   "cell_type": "code",
   "execution_count": 7,
   "metadata": {
    "collapsed": true
   },
   "outputs": [],
   "source": [
    "#4\n",
    "with open('../../../jsonStar/20180118/US/Bikes, Skates & Ride-Ons.json',encoding='utf-8') as f4:\n",
    "    d =json.load(f4)"
   ]
  },
  {
   "cell_type": "code",
   "execution_count": 8,
   "metadata": {
    "collapsed": true
   },
   "outputs": [],
   "source": [
    "a.extend(d)"
   ]
  },
  {
   "cell_type": "code",
   "execution_count": 9,
   "metadata": {
    "collapsed": true
   },
   "outputs": [],
   "source": [
    "#5\n",
    "with open('../../../jsonStar/20180118/US/Building & Construction Toys.json',encoding='utf-8') as f5:\n",
    "    e =json.load(f5)"
   ]
  },
  {
   "cell_type": "code",
   "execution_count": 10,
   "metadata": {
    "collapsed": true
   },
   "outputs": [],
   "source": [
    "a.extend(e)"
   ]
  },
  {
   "cell_type": "code",
   "execution_count": 11,
   "metadata": {
    "collapsed": true
   },
   "outputs": [],
   "source": [
    "#6\n",
    "with open('../../../jsonStar/20180118/US/DDP.json',encoding='utf-8') as f6:\n",
    "    f =json.load(f6)"
   ]
  },
  {
   "cell_type": "code",
   "execution_count": 12,
   "metadata": {
    "collapsed": true
   },
   "outputs": [],
   "source": [
    "a.extend(f)"
   ]
  },
  {
   "cell_type": "code",
   "execution_count": 13,
   "metadata": {
    "collapsed": true
   },
   "outputs": [],
   "source": [
    "#7\n",
    "with open('../../../jsonStar/20180118/US/Learning & Education.json',encoding='utf-8') as f7:\n",
    "    g =json.load(f7)"
   ]
  },
  {
   "cell_type": "code",
   "execution_count": 14,
   "metadata": {
    "collapsed": true
   },
   "outputs": [],
   "source": [
    "a.extend(g)"
   ]
  },
  {
   "cell_type": "code",
   "execution_count": 15,
   "metadata": {},
   "outputs": [],
   "source": [
    "#8\n",
    "with open('../../../jsonStar/20180118/US/Puzzles.json',encoding='utf-8') as f8:\n",
    "    h =json.load(f8)"
   ]
  },
  {
   "cell_type": "code",
   "execution_count": 16,
   "metadata": {
    "collapsed": true
   },
   "outputs": [],
   "source": [
    "a.extend(h)"
   ]
  },
  {
   "cell_type": "code",
   "execution_count": 17,
   "metadata": {
    "collapsed": true
   },
   "outputs": [],
   "source": [
    "#9\n",
    "with open('../../../jsonStar/20180118/US/Sports & Outdoor Play.json',encoding='utf-8') as f9:\n",
    "    i =json.load(f9)"
   ]
  },
  {
   "cell_type": "code",
   "execution_count": 18,
   "metadata": {
    "collapsed": true
   },
   "outputs": [],
   "source": [
    "a.extend(i)"
   ]
  },
  {
   "cell_type": "code",
   "execution_count": 19,
   "metadata": {
    "collapsed": true
   },
   "outputs": [],
   "source": [
    "#10\n",
    "with open('../../../jsonStar/20180118/US/Stuffed Animals & Toys.json',encoding='utf-8') as f10:\n",
    "    j =json.load(f10)"
   ]
  },
  {
   "cell_type": "code",
   "execution_count": 20,
   "metadata": {
    "collapsed": true
   },
   "outputs": [],
   "source": [
    "a.extend(j)"
   ]
  },
  {
   "cell_type": "code",
   "execution_count": 21,
   "metadata": {
    "collapsed": true
   },
   "outputs": [],
   "source": [
    "with open('../../../jsonStar/20180118/20180118_US.json', 'w',encoding='utf-8') as f:\n",
    "    json.dump(a, f)"
   ]
  },
  {
   "cell_type": "code",
   "execution_count": 22,
   "metadata": {
    "collapsed": true
   },
   "outputs": [],
   "source": [
    "with open('../../../jsonStar/20180118/20180118_US.json',encoding='utf-8') as f:\n",
    "    US =json.load(f)"
   ]
  },
  {
   "cell_type": "code",
   "execution_count": 23,
   "metadata": {},
   "outputs": [
    {
     "data": {
      "text/plain": [
       "{'ASIN': 'B00XOTJZCI',\n",
       " 'average_stars': '4.0 out of 5 stars',\n",
       " 'brand': 'A&R Sports',\n",
       " 'category': '9',\n",
       " 'country': 'US',\n",
       " 'price': '$4.99 - $17.56',\n",
       " 'review': ['Great for hockey skates, slip them on from the front of the blade to the back.Also great for Figure skates, adjust the back piece and slip the guard over the back portion of the blade first then over the toe pic.I was freaking out when I read these were for Hockey skates, but with the tip above they are actually universal and a wonderful product.',\n",
       "  '5.0 out of 5 stars',\n",
       "  \"These fit my son's hockey skates nicely. He wears tiny kids' size 10 skates, and these guards are adjustable to even smaller than needed for his. They are also adjustable to much larger. I didn't cut the guards, and I plan to keep them as his feet grow and he gets larger skates since you the length can repeatedly be adjusted.\",\n",
       "  '5.0 out of 5 stars',\n",
       "  \"These aren't bad. My issue with them is that the two guards don't seem to be uniform. One skate fits well with where the notches are, while the other skate would need to fit between where the two notches are (my skates are the same size). They are a bit tough to fit into the skate pouches in my bag since they're pretty long as well, but that's to be expected I guess with one-size-fits-all.\",\n",
       "  '4.0 out of 5 stars',\n",
       "  'Not a bad set of blade guards. Son likes them, but he has a little trouble keeping them on. Takes a little strength and effort to get them tight enough so you can walk with them and keep them on!',\n",
       "  '5.0 out of 5 stars',\n",
       "  'These were perfect for what we needed for my 4 year old. We cut the ends off to make them shorter.',\n",
       "  '5.0 out of 5 stars',\n",
       "  \"Bought these for my ice hockey skates. I ended up taking a gardening sciccor (didn't feel like a regular one would be strong enough? I didn't try with it though) and trimmed the edges off that would have ended at my skates. I wish I paid more attention though, I ended up cutting one of them too short (like by 1.5 inches, so it's not a big deal at all. And you don't notice it when you walk). If I had OCD, I would have bought this item again and paid more attention to where I was cutting the ends.\",\n",
       "  '5.0 out of 5 stars',\n",
       "  'They are easy to put on and manage. They look pretty strong and have had no problems using them as intended.',\n",
       "  '4.0 out of 5 stars',\n",
       "  'Not exactly what I was looking for, they seem a bit flimsy as far as staying on the skate but it gets the job done.',\n",
       "  '3.0 out of 5 stars',\n",
       "  'Great item for the price.  Sturdy after a few months of use.',\n",
       "  '5.0 out of 5 stars',\n",
       "  \"These are definitely not fancy but they do a great job protecting the blades in my bag. I don't walk on them much so I can't say how they hold up to that type of wear, but I needed something to keep my bag for getting cut as well as to protect the blades. These are perfect for me and were a great value, especially compared to other covers.\",\n",
       "  '4.0 out of 5 stars'],\n",
       " 'review_size': '127',\n",
       " 'title': 'A&R Sports Hockey BladeGards Skate Guard'}"
      ]
     },
     "execution_count": 23,
     "metadata": {},
     "output_type": "execute_result"
    }
   ],
   "source": [
    "US[670]"
   ]
  },
  {
   "cell_type": "code",
   "execution_count": null,
   "metadata": {
    "collapsed": true
   },
   "outputs": [],
   "source": []
  }
 ],
 "metadata": {
  "kernelspec": {
   "display_name": "Python 3",
   "language": "python",
   "name": "python3"
  },
  "language_info": {
   "codemirror_mode": {
    "name": "ipython",
    "version": 3
   },
   "file_extension": ".py",
   "mimetype": "text/x-python",
   "name": "python",
   "nbconvert_exporter": "python",
   "pygments_lexer": "ipython3",
   "version": "3.6.1"
  }
 },
 "nbformat": 4,
 "nbformat_minor": 2
}
