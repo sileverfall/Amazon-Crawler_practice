{
 "cells": [
  {
   "cell_type": "markdown",
   "metadata": {},
   "source": [
    "## Prepared Work"
   ]
  },
  {
   "cell_type": "code",
   "execution_count": 1,
   "metadata": {
    "collapsed": true
   },
   "outputs": [],
   "source": [
    "import requests\n",
    "from bs4 import BeautifulSoup as bs\n",
    "import os\n",
    "import json\n",
    "import time\n",
    "import re\n",
    "from selenium import webdriver\n",
    "\n",
    "cookiestr = 'aws-account-alias=bb102; x-wl-uid=1qO1zbLT/VurrTD8olrRaxt4ZvTE+vTeFIHu58TFdpWz5wSlgeDL/v+q5P3gFNGfccOVMboQEwus=; AMCV_4A8581745834114C0A495E2B%40AdobeOrg=-1891778711%7CMCIDTS%7C17459%7CMCMID%7C52253475372251991424690344856724644964%7CMCOPTOUT-1508403795s%7CNONE%7CMCAID%7C2CF30EF7852A888A-40000300E0001C2D%7CvVersion%7C2.4.0; s_nr=1508396596374-New; s_lv=1508396596375; skin=noskin; session-token=0lQkzegQRtwPu7GiPFEAEDYLCK3p6WW8vF/g2Kr93EnMHKmH2uTgd30RM43tJCAw2uo2xeco+fz9qCC4dzTpW86EX5YF5lVFvMOXhSncgNmhfgnG7DaXuUwvxrXhAtluWYQgfWI8I22bxDO6KWvBDwfM6IFCfsYouZ6kt3oXTHzy6wSehl3qokrzeEBzLpfPu6mlixQc/Yuommb6ztr0yiL/6dzBf5UjFImpI3OXvIkvwGuyBITnHJH9epKv+Lec; amznacsleftnav-74393fbe-66a6-3a52-840b-37b54d8c76ce=1,21,3; ubid-main=132-7315371-9843811; session-id-time=2082787201l; session-id=135-5046157-5863552; csm-hit=85CP8ATFWH4EXAFXQX3Q+s-M5199TSF54AFVK1M6RJW|1509623128403'\n",
    "cookies = cookiestr.split(\";\")\n",
    "cookiedata ={}\n",
    "for cookie in cookies:\n",
    "    cookiedata[cookie.split(\"=\")[0]]=cookie.split(\"=\")[1]\n",
    "\n",
    "ssession = requests.Session()\n",
    "headers = {\"User-Agent\":\"Mozilla/5.0 (Macintosh; Intel Mac OS X 10_9_5) AppleWebKit 537.36 (KHTML, like Gecko) Chrome\",\"Accept\":\"text/html,application/xhtml+xml,application/xml;q=0.9,image/webp,*/*;q=0.8\"}"
   ]
  },
  {
   "cell_type": "markdown",
   "metadata": {},
   "source": [
    "## Readlines()"
   ]
  },
  {
   "cell_type": "code",
   "execution_count": 2,
   "metadata": {
    "collapsed": true
   },
   "outputs": [],
   "source": [
    "with open('../../../Review_list/20180118/UK/DDP.txt',encoding='utf-8') as f :\n",
    "    a=f.readlines()"
   ]
  },
  {
   "cell_type": "code",
   "execution_count": 3,
   "metadata": {
    "collapsed": true
   },
   "outputs": [],
   "source": [
    "urls=[i.split(\"\\n\")[0] for i in a]"
   ]
  },
  {
   "cell_type": "code",
   "execution_count": 4,
   "metadata": {},
   "outputs": [
    {
     "data": {
      "text/plain": [
       "'https://www.amazon.co.uk/product-reviews/B06Y1225MR/ref=zg_bs_364098031_cr_1?ie=UTF8&refRID=5X0HCTEF5ERMM4MC8F8B'"
      ]
     },
     "execution_count": 4,
     "metadata": {},
     "output_type": "execute_result"
    }
   ],
   "source": [
    "urls[0]"
   ]
  },
  {
   "cell_type": "markdown",
   "metadata": {},
   "source": [
    "## 轉成html 檔"
   ]
  },
  {
   "cell_type": "code",
   "execution_count": 5,
   "metadata": {},
   "outputs": [
    {
     "data": {
      "text/plain": [
       "<Response [200]>"
      ]
     },
     "execution_count": 5,
     "metadata": {},
     "output_type": "execute_result"
    }
   ],
   "source": [
    "import requests\n",
    "from bs4 import BeautifulSoup\n",
    "# 測試網頁是否正常連接\n",
    "session = requests.Session()\n",
    "headers = {\"User-Agent\":\"Mozilla/5.0 (Macintosh; Intel Mac OS X 10_9_5) AppleWebKit 537.36 (KHTML, like Gecko) Chrome\",\"Accept\":\"text/html,application/xhtml+xml,application/xml;q=0.9,image/webp,*/*;q=0.8\"}\n",
    "res = requests.get(urls[0])\n",
    "res"
   ]
  },
  {
   "cell_type": "code",
   "execution_count": 6,
   "metadata": {},
   "outputs": [
    {
     "name": "stdout",
     "output_type": "stream",
     "text": [
      "=============================================\n",
      "14\n",
      "214.93139505386353\n"
     ]
    }
   ],
   "source": [
    "from bs4 import BeautifulSoup\n",
    "import multiprocessing as mp\n",
    "import concurrent.futures\n",
    "import requests\n",
    "import os\n",
    "\n",
    "\n",
    "session = requests.Session()\n",
    "headers = {\"User-Agent\":\"Mozilla/5.0 (Macintosh; Intel Mac OS X 10_9_5) AppleWebKit 537.36 (KHTML, like Gecko) Chrome\",\"Accept\":\"text/html,application/xhtml+xml,application/xml;q=0.9,image/webp,*/*;q=0.8\"}\n",
    "cookiestr = '__cfduid=df4417457002ed1d390cc65a2f7734b9d1494830719; _gat=1; _ga=GA1.2.1333249610.1494830798; _gid=GA1.2.970157078.1502190098'\n",
    "cookies = cookiestr.split(\";\")\n",
    "cookiedata ={}\n",
    "if not os.path.exists('../../../Review/20180118/UK/DDP_review/'):\n",
    "    os.makedirs('../../../Review/20180118/UK/DDP_review/')\n",
    "for cookie in cookies:\n",
    "    cookiedata[cookie.split(\"=\")[0]]=cookie.split(\"=\")[1]\n",
    "    \n",
    "import time\n",
    "error = 0\n",
    "errorlist=[]\n",
    "start=time.time()\n",
    "for url in urls:\n",
    "    res=requests.get(url,cookies = cookiedata)\n",
    "    res.content\n",
    "    try:\n",
    "        with open('../../../Review/20180118/UK/DDP_review/'+url.split('/')[-2]+'.html','w',encoding='utf-8') as f :\n",
    "#                 print(\"==========================file %s=====================\" % (url.split('/')[-1]))\n",
    "                f.write(res.text)\n",
    "                time.sleep(1)\n",
    "                if 'Customer reviews' not in res.text:\n",
    "                    error += 1\n",
    "                    errorlist.append(url)\n",
    "                    \n",
    "                    with open('../../../Review/20180118/UK/Error/DDP_error.txt','w',encoding='utf-8') as f1:\n",
    "                        for row in errorlist:\n",
    "                            f1.write(row + '\\n')\n",
    "    except Exception as e:\n",
    "        print(e)\n",
    "        time.sleep(0.1)\n",
    "        pass\n",
    "    \n",
    "    \n",
    "    \n",
    "\n",
    "end=time.time()\n",
    "print('=============================================')\n",
    "print(error)\n",
    "print(end-start)"
   ]
  },
  {
   "cell_type": "markdown",
   "metadata": {},
   "source": [
    "## Error2"
   ]
  },
  {
   "cell_type": "code",
   "execution_count": 7,
   "metadata": {
    "collapsed": true
   },
   "outputs": [],
   "source": [
    "with open('../../../Review/20180118/UK/Error/DDP_error.txt',encoding='utf-8') as f :\n",
    "    b=f.readlines()"
   ]
  },
  {
   "cell_type": "code",
   "execution_count": 8,
   "metadata": {
    "collapsed": true
   },
   "outputs": [],
   "source": [
    "urls2=[i.split(\"\\n\")[0] for i in b]"
   ]
  },
  {
   "cell_type": "code",
   "execution_count": 9,
   "metadata": {},
   "outputs": [
    {
     "data": {
      "text/plain": [
       "'https://www.amazon.co.uk/product-reviews/B01H0DVLK2/ref=zg_bs_364098031_cr_8?ie=UTF8&refRID=5X0HCTEF5ERMM4MC8F8B'"
      ]
     },
     "execution_count": 9,
     "metadata": {},
     "output_type": "execute_result"
    }
   ],
   "source": [
    "urls2[0]"
   ]
  },
  {
   "cell_type": "markdown",
   "metadata": {},
   "source": [
    "## Error test"
   ]
  },
  {
   "cell_type": "code",
   "execution_count": 10,
   "metadata": {},
   "outputs": [
    {
     "data": {
      "text/plain": [
       "<Response [200]>"
      ]
     },
     "execution_count": 10,
     "metadata": {},
     "output_type": "execute_result"
    }
   ],
   "source": [
    "import requests\n",
    "from bs4 import BeautifulSoup\n",
    "# 測試網頁是否正常連接\n",
    "session = requests.Session()\n",
    "headers = {\"User-Agent\":\"Mozilla/5.0 (Macintosh; Intel Mac OS X 10_9_5) AppleWebKit 537.36 (KHTML, like Gecko) Chrome\",\"Accept\":\"text/html,application/xhtml+xml,application/xml;q=0.9,image/webp,*/*;q=0.8\"}\n",
    "res2 = requests.get(urls2[0])\n",
    "res2"
   ]
  },
  {
   "cell_type": "code",
   "execution_count": 11,
   "metadata": {
    "scrolled": true
   },
   "outputs": [
    {
     "name": "stdout",
     "output_type": "stream",
     "text": [
      "==========================file B01H0DVLK2=====================\n",
      "==========================file B0085RPVZE=====================\n",
      "==========================file B014AHOTIM=====================\n",
      "==========================file B0721MYTM4=====================\n",
      "==========================file B00A7YMZR0=====================\n",
      "==========================file B00HRRCJUS=====================\n",
      "==========================file B00HWHNU06=====================\n",
      "==========================file B0046LY2C6=====================\n",
      "==========================file B01CZYJYJ6=====================\n",
      "==========================file B003YC2VPS=====================\n",
      "==========================file B000RPDPSC=====================\n",
      "==========================file B0080MSGFQ=====================\n",
      "==========================file B00O2JUVRM=====================\n",
      "==========================file B00210E0VM=====================\n",
      "=============================================\n",
      "0\n",
      "37.64367485046387\n"
     ]
    }
   ],
   "source": [
    "from bs4 import BeautifulSoup\n",
    "import multiprocessing as mp\n",
    "import concurrent.futures\n",
    "import requests\n",
    "import os\n",
    "\n",
    "\n",
    "session = requests.Session()\n",
    "headers = {\"User-Agent\":\"Mozilla/5.0 (Macintosh; Intel Mac OS X 10_9_5) AppleWebKit 537.36 (KHTML, like Gecko) Chrome\",\"Accept\":\"text/html,application/xhtml+xml,application/xml;q=0.9,image/webp,*/*;q=0.8\"}\n",
    "cookiestr = '__cfduid=df4417457002ed1d390cc65a2f7734b9d1494830719; _gat=1; _ga=GA1.2.1333249610.1494830798; _gid=GA1.2.970157078.1502190098'\n",
    "cookies = cookiestr.split(\";\")\n",
    "cookiedata ={}\n",
    "if not os.path.exists('../../../Review/20180118/UK/DDP_review2/'):\n",
    "    os.makedirs('../../../Review/20180118/UK/DDP_review2/')\n",
    "for cookie in cookies:\n",
    "    cookiedata[cookie.split(\"=\")[0]]=cookie.split(\"=\")[1]\n",
    "    \n",
    "import time\n",
    "error = 0\n",
    "errorlist = []\n",
    "start = time.time()\n",
    "for url2 in urls2:\n",
    "    res2=requests.get(url2,cookies = cookiedata)\n",
    "    res2.content\n",
    "    try:\n",
    "        with open('../../../Review/20180118/UK/DDP_review2/'+url2.split('/')[-2]+'.html','w',encoding='utf-8') as f2 :\n",
    "                print(\"==========================file %s=====================\" % (url2.split('/')[-2]))\n",
    "                f2.write(res2.text)\n",
    "                time.sleep(1)\n",
    "                if 'Customer reviews' not in res2.text:\n",
    "                    error += 1\n",
    "                    errorlist.append(url2)\n",
    "                    \n",
    "                    \n",
    "                    \n",
    "                    with open('../../../Review/20180118/UK/Error2/DDP_error2.txt','w',encoding='utf-8') as f3:\n",
    "                        for row in errorlist:\n",
    "                            f3.write(row + '\\n')\n",
    "    except Exception as e:\n",
    "        print(e)\n",
    "        time.sleep(0.1)\n",
    "        pass\n",
    "    \n",
    "    \n",
    "    \n",
    "\n",
    "end=time.time()\n",
    "print('=============================================')\n",
    "print(error)\n",
    "print(end-start)"
   ]
  },
  {
   "cell_type": "code",
   "execution_count": null,
   "metadata": {
    "collapsed": true
   },
   "outputs": [],
   "source": []
  }
 ],
 "metadata": {
  "kernelspec": {
   "display_name": "Python 3",
   "language": "python",
   "name": "python3"
  },
  "language_info": {
   "codemirror_mode": {
    "name": "ipython",
    "version": 3
   },
   "file_extension": ".py",
   "mimetype": "text/x-python",
   "name": "python",
   "nbconvert_exporter": "python",
   "pygments_lexer": "ipython3",
   "version": "3.6.1"
  }
 },
 "nbformat": 4,
 "nbformat_minor": 2
}
