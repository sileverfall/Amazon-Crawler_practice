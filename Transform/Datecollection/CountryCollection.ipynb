{
 "cells": [
  {
   "cell_type": "code",
   "execution_count": 1,
   "metadata": {
    "collapsed": true
   },
   "outputs": [],
   "source": [
    "from bs4 import BeautifulSoup as bs\n",
    "import time\n",
    "import requests\n",
    "import os\n",
    "import json\n",
    "import time"
   ]
  },
  {
   "cell_type": "code",
   "execution_count": 2,
   "metadata": {
    "collapsed": true
   },
   "outputs": [],
   "source": [
    "#US\n",
    "with open('../../../jsonCategory/US/Puzzles_US.json',encoding='utf-8') as f1:\n",
    "    US =json.load(f1)"
   ]
  },
  {
   "cell_type": "code",
   "execution_count": 3,
   "metadata": {
    "collapsed": true
   },
   "outputs": [],
   "source": [
    "#UK\n",
    "with open('../../../jsonCategory/UK/Jigsaws & Puzzles_UK.json',encoding='utf-8') as f2:\n",
    "    UK =json.load(f2)"
   ]
  },
  {
   "cell_type": "code",
   "execution_count": 4,
   "metadata": {
    "collapsed": true
   },
   "outputs": [],
   "source": [
    "US.extend(UK)"
   ]
  },
  {
   "cell_type": "code",
   "execution_count": 5,
   "metadata": {
    "collapsed": true
   },
   "outputs": [],
   "source": [
    "#In\n",
    "with open('../../../jsonCategory/In/Puzzles_In.json',encoding='utf-8') as f3:\n",
    "    In =json.load(f3)"
   ]
  },
  {
   "cell_type": "code",
   "execution_count": 6,
   "metadata": {
    "collapsed": true
   },
   "outputs": [],
   "source": [
    "US.extend(In)"
   ]
  },
  {
   "cell_type": "code",
   "execution_count": 7,
   "metadata": {
    "collapsed": true
   },
   "outputs": [],
   "source": [
    "#CN\n",
    "with open('../../../jsonCategory/CN/拼图_CN.json',encoding='utf-8') as f4:\n",
    "    CN =json.load(f4)"
   ]
  },
  {
   "cell_type": "code",
   "execution_count": 8,
   "metadata": {
    "collapsed": true
   },
   "outputs": [],
   "source": [
    "US.extend(CN)"
   ]
  },
  {
   "cell_type": "code",
   "execution_count": 9,
   "metadata": {
    "collapsed": true
   },
   "outputs": [],
   "source": [
    "with open('../../../jsonCategory/C8-1.json', 'w',encoding='utf-8') as f:\n",
    "    json.dump(US, f)"
   ]
  },
  {
   "cell_type": "code",
   "execution_count": 10,
   "metadata": {
    "collapsed": true
   },
   "outputs": [],
   "source": [
    "with open('../../../jsonCategory/C7-1.json',encoding='utf-8') as f:\n",
    "    toys =json.load(f)"
   ]
  },
  {
   "cell_type": "code",
   "execution_count": 11,
   "metadata": {},
   "outputs": [
    {
     "data": {
      "text/plain": [
       "{'ASIN': 'B0103AHP90',\n",
       " 'average_stars': '4.7 颗星，最多 5 颗星',\n",
       " 'brand': 'VTech 伟易达',\n",
       " 'category': '7',\n",
       " 'country': 'CN',\n",
       " 'price': 'Not Found',\n",
       " 'review': ['自从买了第一件V-tech产品，这辆学步车，就入V-tech的坑了！宝宝之后很多玩具都这个牌子，感觉比费雪类似款的设计工艺等等的都要好些。推车很好用 实用性也高，从宝宝尝试站立学走阶段的慢档（后轮不转）到越走越熟练的快档，推起来步率刚刚好，不会让小宝宝有挫败感，每天都要推推走走、按按音乐 跟着“跳跳舞”，动不动就给我们展示下她的成就感！现在走得很好了就不会主动去推了，但时不时引导娃按个音乐 把三个形状归位 打个电话也还是能继续玩些日子吧。电话因为是可摘卸的，宝宝就喜欢拿在手里或者在地上像小汽车样推 呃。。。全英文，音乐 歌曲 发音都不错。总之真心推荐，后来还特意买个送朋友，好像这里比旗舰店便宜些？',\n",
       "  '5.0 颗星，最多 5 颗星',\n",
       "  '很好，虽然都是英文发音，但是孩子还是很喜欢，价格比某宝还有实体店便宜很多，amazon prime还是很实惠的！',\n",
       "  '5.0 颗星，最多 5 颗星',\n",
       "  '宝宝特别喜欢玩这个，质量很好，塑料厚实，细节非常丰富，性价比高',\n",
       "  '5.0 颗星，最多 5 颗星',\n",
       "  '孩子特别喜欢，很多功能可以当电子玩具也可以推着走，挺好的，做工也不错',\n",
       "  '5.0 颗星，最多 5 颗星',\n",
       "  '美版虽然只有英文，但是我觉得简单的英文也不失为英语启蒙的好玩具呀！其他感觉都跟国行没啥区别～',\n",
       "  '5.0 颗星，最多 5 颗星',\n",
       "  '东西很不错！推荐购买！',\n",
       "  '5.0 颗星，最多 5 颗星',\n",
       "  '跟星星桌子很多玩的功能一样 我就转给别人了  现在买的brio的',\n",
       "  '5.0 颗星，最多 5 颗星',\n",
       "  '买早了，宝宝还没有走的意识，但是喜欢玩前面的面板。现在13个月了，天天推着走一段，自己很高兴。拿到小区楼下玩，也是一堆差不多大的孩子抢着玩',\n",
       "  '5.0 颗星，最多 5 颗星',\n",
       "  '非常好，价格便宜，设计精巧。只是觉得发音的声音不是很好听，比较喜欢费雪双语学习屋的那个女声哈哈。感谢海外购给我带来这么大的优惠啊！',\n",
       "  '5.0 颗星，最多 5 颗星',\n",
       "  '很好，可是宝宝十个月了，还不喜欢走路',\n",
       "  '5.0 颗星，最多 5 颗星'],\n",
       " 'review_size': '50',\n",
       " 'title': 'VTech 伟易达 坐式/站立学习推车，薰衣草 - 亚马逊独家提供'}"
      ]
     },
     "execution_count": 11,
     "metadata": {},
     "output_type": "execute_result"
    }
   ],
   "source": [
    "toys[2500]"
   ]
  },
  {
   "cell_type": "code",
   "execution_count": null,
   "metadata": {
    "collapsed": true
   },
   "outputs": [],
   "source": []
  }
 ],
 "metadata": {
  "kernelspec": {
   "display_name": "Python 3",
   "language": "python",
   "name": "python3"
  },
  "language_info": {
   "codemirror_mode": {
    "name": "ipython",
    "version": 3
   },
   "file_extension": ".py",
   "mimetype": "text/x-python",
   "name": "python",
   "nbconvert_exporter": "python",
   "pygments_lexer": "ipython3",
   "version": "3.6.1"
  }
 },
 "nbformat": 4,
 "nbformat_minor": 2
}
