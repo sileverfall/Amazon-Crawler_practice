{
 "cells": [
  {
   "cell_type": "code",
   "execution_count": 1,
   "metadata": {
    "collapsed": true
   },
   "outputs": [],
   "source": [
    "from bs4 import BeautifulSoup as bs\n",
    "import time\n",
    "import requests\n",
    "import os\n",
    "import json\n",
    "import time"
   ]
  },
  {
   "cell_type": "code",
   "execution_count": 2,
   "metadata": {
    "collapsed": true
   },
   "outputs": [],
   "source": [
    "#1\n",
    "with open('../../../jsonStar/20171130/UK/Soft Toys.json',encoding='utf-8') as f1:\n",
    "    a=json.load(f1)"
   ]
  },
  {
   "cell_type": "code",
   "execution_count": 3,
   "metadata": {
    "collapsed": true
   },
   "outputs": [],
   "source": [
    "#2\n",
    "with open('../../../jsonStar/20171207/UK/Soft Toys.json',encoding='utf-8') as f2:\n",
    "    b =json.load(f2)"
   ]
  },
  {
   "cell_type": "code",
   "execution_count": 4,
   "metadata": {
    "collapsed": true
   },
   "outputs": [],
   "source": [
    "a.extend(b)"
   ]
  },
  {
   "cell_type": "code",
   "execution_count": 5,
   "metadata": {
    "collapsed": true
   },
   "outputs": [],
   "source": [
    "#3\n",
    "with open('../../../jsonStar/20171214/UK/Soft Toys.json',encoding='utf-8') as f3:\n",
    "    c =json.load(f3)"
   ]
  },
  {
   "cell_type": "code",
   "execution_count": 6,
   "metadata": {
    "collapsed": true
   },
   "outputs": [],
   "source": [
    "a.extend(c)"
   ]
  },
  {
   "cell_type": "code",
   "execution_count": 7,
   "metadata": {
    "collapsed": true
   },
   "outputs": [],
   "source": [
    "#4\n",
    "with open('../../../jsonStar/20171221/UK/Soft Toys.json',encoding='utf-8') as f4:\n",
    "    d =json.load(f4)"
   ]
  },
  {
   "cell_type": "code",
   "execution_count": 8,
   "metadata": {
    "collapsed": true
   },
   "outputs": [],
   "source": [
    "a.extend(d)"
   ]
  },
  {
   "cell_type": "code",
   "execution_count": 9,
   "metadata": {
    "collapsed": true
   },
   "outputs": [],
   "source": [
    "#5\n",
    "with open('../../../jsonStar/20171228/UK/Soft Toys.json',encoding='utf-8') as f5:\n",
    "    e =json.load(f5)"
   ]
  },
  {
   "cell_type": "code",
   "execution_count": 10,
   "metadata": {
    "collapsed": true
   },
   "outputs": [],
   "source": [
    "a.extend(e)"
   ]
  },
  {
   "cell_type": "code",
   "execution_count": 11,
   "metadata": {
    "collapsed": true
   },
   "outputs": [],
   "source": [
    "#6\n",
    "with open('../../../jsonStar/20180104/UK/Soft Toys.json',encoding='utf-8') as f6:\n",
    "    f =json.load(f6)"
   ]
  },
  {
   "cell_type": "code",
   "execution_count": 12,
   "metadata": {
    "collapsed": true
   },
   "outputs": [],
   "source": [
    "a.extend(f)"
   ]
  },
  {
   "cell_type": "code",
   "execution_count": 13,
   "metadata": {
    "collapsed": true
   },
   "outputs": [],
   "source": [
    "#7\n",
    "with open('../../../jsonStar/20180111/UK/Soft Toys.json',encoding='utf-8') as f7:\n",
    "    g =json.load(f7)"
   ]
  },
  {
   "cell_type": "code",
   "execution_count": 14,
   "metadata": {
    "collapsed": true
   },
   "outputs": [],
   "source": [
    "a.extend(g)"
   ]
  },
  {
   "cell_type": "code",
   "execution_count": 15,
   "metadata": {
    "collapsed": true
   },
   "outputs": [],
   "source": [
    "#8\n",
    "with open('../../../jsonStar/20180118/UK/Soft Toys.json',encoding='utf-8') as f8:\n",
    "    h =json.load(f8)"
   ]
  },
  {
   "cell_type": "code",
   "execution_count": 16,
   "metadata": {
    "collapsed": true
   },
   "outputs": [],
   "source": [
    "a.extend(h)"
   ]
  },
  {
   "cell_type": "code",
   "execution_count": 17,
   "metadata": {
    "collapsed": true
   },
   "outputs": [],
   "source": [
    "with open('../../../jsonCategory/UK/Soft Toys_UK.json', 'w',encoding='utf-8') as f:\n",
    "    json.dump(a, f)"
   ]
  },
  {
   "cell_type": "code",
   "execution_count": 3,
   "metadata": {
    "collapsed": true
   },
   "outputs": [],
   "source": [
    "with open('../../../jsonCategory/UK/Jigsaws & Puzzles_UK.json',encoding='utf-8') as f:\n",
    "    CN =json.load(f)"
   ]
  },
  {
   "cell_type": "code",
   "execution_count": 5,
   "metadata": {},
   "outputs": [
    {
     "data": {
      "text/plain": [
       "{'ASIN': 'B01MY5QFYH',\n",
       " 'average_stars': '3.4 out of 5 stars',\n",
       " 'brand': 'SanWay',\n",
       " 'category': '8',\n",
       " 'country': 'UK',\n",
       " 'price': '£1.59',\n",
       " 'review': [\"Love fiddling with it! It's a good size and colour. The only issues are that one of the silent buttons doesn't click and the rotating dial doesn't move very smoothly but it's alright. Other than that, the other sides of the cube are very entertaining.\",\n",
       "  '4.0 out of 5 stars',\n",
       "  \"Product arrived from China and was as described.  The click switch isn't as silent as the product leads you to believe but it doesn't hamper it's usability.\",\n",
       "  '4.0 out of 5 stars',\n",
       "  'Bought this for nephew along with a Fidget spinner.Surprised at how good this thing is.  Sure it is fairly small, but is ideal for anyone who has overactive hands etc (kids and adults)',\n",
       "  '5.0 out of 5 stars',\n",
       "  'Not that great and took about 6 weeks to arrive, daughter very disappointed',\n",
       "  '2.0 out of 5 stars',\n",
       "  'items are as described by the supplier. The Fidget Toy Cube is very small but my daughter likes it just as it is. The product arrived 10 days passed the deadline delivery date.',\n",
       "  '3.0 out of 5 stars',\n",
       "  \"Terrible. Nothing for kids to fidget with on this cube. Looks good but no moving parts or anything to grip even the youngest child's attention.\",\n",
       "  '2.0 out of 5 stars',\n",
       "  \"You get what u pay for, cheap product for good price daughter moved on to next fad after a week or so but that's not the products fault!\",\n",
       "  '4.0 out of 5 stars',\n",
       "  \"It took 5 weeks to arrive and you tell it's made of cheap plastic because rattles. One of the briefcase things don't work and the buttons and switch aren't silent as described. It does help me with my dermatillomania and the buttons are good for when I'm anxious. It's pretty crap but it's cheap so that was kind of expected. If you're gonna buy a fidget cube, get one from a better company.\",\n",
       "  '3.0 out of 5 stars',\n",
       "  \"Rubbish. I ordered it 2 months ago and it only arrived today, the quality is crap and it rattles like it was cheaply made (it was) and it's just an inferior product from an awful company. Avoid at all costs. Even if it was free it wouldn't be worth it\",\n",
       "  '1.0 out of 5 stars',\n",
       "  'Great just love it! Amazing quality product!!!',\n",
       "  '5.0 out of 5 stars'],\n",
       " 'review_size': '215',\n",
       " 'title': 'SanWay Fidget Toy Cube Toy Anxiety Attention Stress Relief Stocking stuffer Relieves Stress Blue'}"
      ]
     },
     "execution_count": 5,
     "metadata": {},
     "output_type": "execute_result"
    }
   ],
   "source": [
    "CN[1]"
   ]
  },
  {
   "cell_type": "code",
   "execution_count": 7,
   "metadata": {},
   "outputs": [],
   "source": [
    "with open('../../../jsonCategory/UK/Education & Science_UK.json',encoding='utf-8') as f:\n",
    "    C =json.load(f)"
   ]
  },
  {
   "cell_type": "code",
   "execution_count": 8,
   "metadata": {},
   "outputs": [
    {
     "data": {
      "text/plain": [
       "{'ASIN': 'B00GSSMI1M',\n",
       " 'average_stars': '4.7 out of 5 stars',\n",
       " 'brand': 'Wildcard Games',\n",
       " 'category': '7',\n",
       " 'country': 'UK',\n",
       " 'price': '£29.99',\n",
       " 'review': ['Great family game - youngest player was aged 7. Exposed embarrassing lack of geography knowledge!',\n",
       "  '5.0 out of 5 stars',\n",
       "  'Amazingly difficult game, I thought I was pretty good at geography but I struggled on the easy mode. This game is a lot of fun and well worth the price.',\n",
       "  '5.0 out of 5 stars',\n",
       "  'The game is ok but does not really appeal to the family. didnt set our house on fire.',\n",
       "  '3.0 out of 5 stars',\n",
       "  'Really enjoyed this game, 3 different levels of difficulty but to be honest even the easiest was challenging enough to make it interesting.  Fun and you learn as you go.  The youngest player was 14 and they were able to take part.',\n",
       "  '5.0 out of 5 stars',\n",
       "  \"it's a really good geography game, although the dice I think makes it really fast. and playing without it , everything becomes slow.\",\n",
       "  '4.0 out of 5 stars',\n",
       "  'Excellent game. Played for hours on Christmas Day.',\n",
       "  '5.0 out of 5 stars',\n",
       "  'This game is amazing! \\U0001f929😍\\U0001f929😍\\U0001f929I (22 years old) and my husband (25 years old) love it! We could spend the hole weekend playing on it!It is educational and very interesting in the same time.I really recommend it! 🤗',\n",
       "  '5.0 out of 5 stars',\n",
       "  'Great game.',\n",
       "  '5.0 out of 5 stars',\n",
       "  'Obsessed with this game!',\n",
       "  '5.0 out of 5 stars',\n",
       "  'a great game.',\n",
       "  '5.0 out of 5 stars'],\n",
       " 'review_size': '108',\n",
       " 'title': 'Who Knows Where? - The Global Location Guessing Board Game'}"
      ]
     },
     "execution_count": 8,
     "metadata": {},
     "output_type": "execute_result"
    }
   ],
   "source": [
    "C[1]"
   ]
  },
  {
   "cell_type": "code",
   "execution_count": null,
   "metadata": {
    "collapsed": true
   },
   "outputs": [],
   "source": []
  }
 ],
 "metadata": {
  "kernelspec": {
   "display_name": "Python 3",
   "language": "python",
   "name": "python3"
  },
  "language_info": {
   "codemirror_mode": {
    "name": "ipython",
    "version": 3
   },
   "file_extension": ".py",
   "mimetype": "text/x-python",
   "name": "python",
   "nbconvert_exporter": "python",
   "pygments_lexer": "ipython3",
   "version": "3.6.1"
  }
 },
 "nbformat": 4,
 "nbformat_minor": 2
}
