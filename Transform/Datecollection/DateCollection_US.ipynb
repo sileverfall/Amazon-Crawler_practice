{
 "cells": [
  {
   "cell_type": "code",
   "execution_count": 1,
   "metadata": {
    "collapsed": true
   },
   "outputs": [],
   "source": [
    "from bs4 import BeautifulSoup as bs\n",
    "import time\n",
    "import requests\n",
    "import os\n",
    "import json\n",
    "import time"
   ]
  },
  {
   "cell_type": "code",
   "execution_count": 2,
   "metadata": {
    "collapsed": true
   },
   "outputs": [],
   "source": [
    "#1\n",
    "with open('../../../jsonStar/20171130/US/Stuffed Animals & Toys.json',encoding='utf-8') as f1:\n",
    "    a=json.load(f1)"
   ]
  },
  {
   "cell_type": "code",
   "execution_count": 3,
   "metadata": {
    "collapsed": true
   },
   "outputs": [],
   "source": [
    "#2\n",
    "with open('../../../jsonStar/20171207/US/Stuffed Animals & Toys.json',encoding='utf-8') as f2:\n",
    "    b =json.load(f2)"
   ]
  },
  {
   "cell_type": "code",
   "execution_count": 4,
   "metadata": {
    "collapsed": true
   },
   "outputs": [],
   "source": [
    "a.extend(b)"
   ]
  },
  {
   "cell_type": "code",
   "execution_count": 5,
   "metadata": {
    "collapsed": true
   },
   "outputs": [],
   "source": [
    "#3\n",
    "with open('../../../jsonStar/20171214/US/Stuffed Animals & Toys.json',encoding='utf-8') as f3:\n",
    "    c =json.load(f3)"
   ]
  },
  {
   "cell_type": "code",
   "execution_count": 6,
   "metadata": {
    "collapsed": true
   },
   "outputs": [],
   "source": [
    "a.extend(c)"
   ]
  },
  {
   "cell_type": "code",
   "execution_count": 7,
   "metadata": {
    "collapsed": true
   },
   "outputs": [],
   "source": [
    "#4\n",
    "with open('../../../jsonStar/20171221/US/Stuffed Animals & Toys.json',encoding='utf-8') as f4:\n",
    "    d =json.load(f4)"
   ]
  },
  {
   "cell_type": "code",
   "execution_count": 8,
   "metadata": {
    "collapsed": true
   },
   "outputs": [],
   "source": [
    "a.extend(d)"
   ]
  },
  {
   "cell_type": "code",
   "execution_count": 9,
   "metadata": {},
   "outputs": [],
   "source": [
    "#5\n",
    "with open('../../../jsonStar/20171228/US/Sports & Outdoor Play.json',encoding='utf-8') as f5:\n",
    "    e =json.load(f5)"
   ]
  },
  {
   "cell_type": "code",
   "execution_count": 10,
   "metadata": {
    "collapsed": true
   },
   "outputs": [],
   "source": [
    "a.extend(e)"
   ]
  },
  {
   "cell_type": "code",
   "execution_count": 11,
   "metadata": {
    "collapsed": true
   },
   "outputs": [],
   "source": [
    "#6\n",
    "with open('../../../jsonStar/20180104/US/Sports & Outdoor Play.json',encoding='utf-8') as f6:\n",
    "    f =json.load(f6)"
   ]
  },
  {
   "cell_type": "code",
   "execution_count": 12,
   "metadata": {
    "collapsed": true
   },
   "outputs": [],
   "source": [
    "a.extend(f)"
   ]
  },
  {
   "cell_type": "code",
   "execution_count": 13,
   "metadata": {
    "collapsed": true
   },
   "outputs": [],
   "source": [
    "#7\n",
    "with open('../../../jsonStar/20180111/US/Sports & Outdoor Play.json',encoding='utf-8') as f7:\n",
    "    g =json.load(f7)"
   ]
  },
  {
   "cell_type": "code",
   "execution_count": 14,
   "metadata": {
    "collapsed": true
   },
   "outputs": [],
   "source": [
    "a.extend(g)"
   ]
  },
  {
   "cell_type": "code",
   "execution_count": 15,
   "metadata": {
    "collapsed": true
   },
   "outputs": [],
   "source": [
    "#8\n",
    "with open('../../../jsonStar/20180118/US/Sports & Outdoor Play.json',encoding='utf-8') as f8:\n",
    "    h =json.load(f8)"
   ]
  },
  {
   "cell_type": "code",
   "execution_count": 16,
   "metadata": {
    "collapsed": true
   },
   "outputs": [],
   "source": [
    "a.extend(h)"
   ]
  },
  {
   "cell_type": "code",
   "execution_count": 17,
   "metadata": {},
   "outputs": [],
   "source": [
    "with open('../../../jsonCategory/US/Sports & Outdoor Play_US.json', 'w',encoding='utf-8') as f:\n",
    "    json.dump(a, f)"
   ]
  },
  {
   "cell_type": "code",
   "execution_count": 18,
   "metadata": {
    "collapsed": true
   },
   "outputs": [],
   "source": [
    "with open('../../../jsonCategory/US/Sports & Outdoor Play_US.json',encoding='utf-8') as f:\n",
    "    CN =json.load(f)"
   ]
  },
  {
   "cell_type": "code",
   "execution_count": 19,
   "metadata": {},
   "outputs": [
    {
     "data": {
      "text/plain": [
       "{'ASIN': 'B000197NXM',\n",
       " 'average_stars': '3.3 out of 5 stars',\n",
       " 'brand': 'Gazillion',\n",
       " 'category': '9',\n",
       " 'country': 'US',\n",
       " 'price': '$8.03',\n",
       " 'review': ['Very fun.  We devised a simple way to increase the reservoir volume.  We used a plastic coke bottle, drilled a pin hole in the cap and in the base, filled it with Gazillion bubble Solution and placed it upside down in the reservoir.  Works great!',\n",
       "  '5.0 out of 5 stars',\n",
       "  \"After initially getting the bubble machine out of the box I was a little underwhelmed. It's small and doesn't weigh much. After putting in the batteries and starting this bad boy up I was shocked at how many bubbles this little machine produced. We've been playing with this machine the entire week with no issues and my kiddo loves playing in the hurricane of bubbles. I'll update my review later if my mind changes but if you have kids who like bubbles - get this. You won't be disappointed.A few tips:1. The itty bitty bubble solution it comes with only lasts about 20 minutes. (We timed it) I recommend getting the Gazillion 2-liter bubble solution. That stuff makes the best bubbles. Nothing else can compare.2. Make sure not to over fill it. It's very easy to do. I do wish there was a way to hold more bubble fluid so I didn't have to refill every 10 minutes or so or at least a max line to show you when to stop pouring the bubble solution in. If you do fill it up too high it will leak.3. If your bubble wand stops working check to make sure it's appropriately attached to the motor. My toddler was messing with it and it didn't work. Turns out his little fingers lifted it off the thing that makes it spin. After I made sure it was attached correctly we had no more issues.UPDATE 6/10/15:We have been using this bubble maker daily (with the exception of the few times we've had rain) and it's working as if it was still brand new! This is also after about a dozen times it has fallen off our outdoor table. For some reason kids are drawn to it and feel the need to play with the bubble wand while it's spinning so I recommend keeping it high out of reach. I'm really surprised how well it's holding together after all the usage it has gotten so far.\",\n",
       "  '5.0 out of 5 stars',\n",
       "  \"Fun little bubble machine that keeps on keeping on.  We keep it on the patio under an umbrella so it's not completely removed from the elements and it has held up well.  UPDATE:  after about 3 months outside (including hurricane Harvey), the unit finally bit the dust.  I don't know if I can blame the elements or my son with the hose, but the switch died - time for another.NOTE:  I tried this one - https://www.amazon.com/gp/product/B01MSFH5OV/ref=oh_aui_detailpage_o02_s00?ie=UTF8&psc=1 and it is complete garbage.\",\n",
       "  '5.0 out of 5 stars',\n",
       "  \"Gazillion Bubble Hurricane Machine- This product was a great buy for the price, worked with many different types of bubbles. However this machine broke a few days after the birthday party and leaked out of the bottom very badly. Due to the price I didn't make much of a fuss however. The kids loved it at the party and ran around wanting to pop the bubbles. It is battery operated and the battery life was surprisingly long over 3 hours. Produced a lot of bubbles and pushed them out about 5 to 6 feet from the machine. Covered my backyard with bubbles. I am giving this product a 4 out of five stars due to the issues mine had, but I might have just received one that was faulty. loved it otherwise.\",\n",
       "  '4.0 out of 5 stars',\n",
       "  'I want to give this five stars because my daughter, and her two cousins, just loved this machine. However, there are several problems with the design of this machine:1) It tips over very easily. Once it tips over, all of the bubbles will spill out and get EVERYWHERE.2) It uses up bubble solution VERY quickly. The bottle it comes with was used up within minutes of turning the machine on. We then bought a 2L bottle of solution and we were already halfway through the huge bottle after only using the machine on 5-6 occasions.3) the battery life is terrible. We had only used it three times, 15 minutes each (max) day, and the batteries already had to be replaced.That said, the machine blows A LOT of bubbles, and little ones just love it.',\n",
       "  '3.0 out of 5 stars',\n",
       "  \"This was a big hit for an outdoor party with the kids. The machine is pretty small but makes some mega bubbles! Make sure that you have batteries installed before first time use (requires a screwdriver and a ton of batteries). The dispenser for the bubbles seemed a little shallow for me (therefore had to constantly pour solution) and like other reviewers mentioned, it can spill (due to wind or grabby kids knocking it down, etc) so make sure it's not on top of anything that could be damaged due to water/bubble solution spillage. The three legs seemed a little off balance at first but it was pretty stable throughout the event.\",\n",
       "  '4.0 out of 5 stars',\n",
       "  'Several Things about this machine:It is made in Veitman. It does what it is supposed to do.This machine literally makes thousands of bubbles per minute! One fill of the small fluid reservoir gives about 12 minutes of bubbles. Fluid consumption is less than 0.5 oz per minute!The green section that contains the bubble fluid SNAPS OUT for EASY clean-up!!I reduced the rating by one star because of how light-weight it is made! The SIX \"AA\" batteries are installed in the top of the machine, making it VERY top-heavy and unstable.The bottle of bubble solution that is included is MUCH SMALLER than shown in the picture!We noticed that when the wind blows, it works best to turn the machine down-wind. A cross-wind can almost stop the bubble production!',\n",
       "  '4.0 out of 5 stars',\n",
       "  \"Having read all of the reviews on this, I didn't have super high expectations for this bubble machine but I was very pleasantly surprised. I've used it on four separate occasions now and even after being dropped and the front pieces popping off then popped back on twice, it still works. It puts out a pretty impressive amount of bubbles. However, it is true that the little container of bubble fluid lasts only about five minutes so I boughta  32oz of the Gazillion bubbles. I'm about halfway through it and the bubbles are really high quality so I'll be buying their brand of bubbles again.Perhaps other reviewers got a faulty model; maybe they fixed it after seeing the negative feedback. Either way, I'm glad I took a gamble and pitched out the fifteen or whatever bucks for this.\",\n",
       "  '5.0 out of 5 stars',\n",
       "  \"I was nervous when I ordered this machine because so many reviews made it sound like it needed to be handled like a smartphone and in my house, that just wasn't going to happen. Happily, we found this machine to be a little work horse that stood up to a fair bit of abuse from bubble hungry toddlers. It was knocked over several times while full of solution and it went on without a hiccup.It also survived a drop from a table when it was first turned on-- the fan is quite loud and powerful and sends the whole machine spinning when it has fresh batteries (placing the unit on a washcloth keeps it still.) A single set of batteries kept this baby running through an entire summer with almost daily use. Sadly, after three battery changes, our unit stopped working mysteriously, though the mystery might be explained if my toddler was more articulate. We'll order another one soon.\",\n",
       "  '4.0 out of 5 stars',\n",
       "  'This is a MUST BUY if you have young children. My niece was captivated by it and spent hours chasing the bubbles. And the next day? She wanted bubbles again! It worked beautifully but be warned, it comes with a very small bottle of bubble solution. I went to the 99 cent store and got two huge bottles of bubble solution and it worked great with the machine.',\n",
       "  '5.0 out of 5 stars'],\n",
       " 'review_size': '3,021',\n",
       " 'title': 'Gazillion Bubbles Hurricane Machine, Colors May Vary'}"
      ]
     },
     "execution_count": 19,
     "metadata": {},
     "output_type": "execute_result"
    }
   ],
   "source": [
    "CN[681]"
   ]
  },
  {
   "cell_type": "code",
   "execution_count": null,
   "metadata": {
    "collapsed": true
   },
   "outputs": [],
   "source": []
  }
 ],
 "metadata": {
  "kernelspec": {
   "display_name": "Python 3",
   "language": "python",
   "name": "python3"
  },
  "language_info": {
   "codemirror_mode": {
    "name": "ipython",
    "version": 3
   },
   "file_extension": ".py",
   "mimetype": "text/x-python",
   "name": "python",
   "nbconvert_exporter": "python",
   "pygments_lexer": "ipython3",
   "version": "3.6.1"
  }
 },
 "nbformat": 4,
 "nbformat_minor": 2
}
