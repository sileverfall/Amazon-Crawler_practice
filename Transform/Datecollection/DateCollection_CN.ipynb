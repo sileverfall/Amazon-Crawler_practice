{
 "cells": [
  {
   "cell_type": "code",
   "execution_count": 1,
   "metadata": {
    "collapsed": true
   },
   "outputs": [],
   "source": [
    "from bs4 import BeautifulSoup as bs\n",
    "import time\n",
    "import requests\n",
    "import os\n",
    "import json\n",
    "import time"
   ]
  },
  {
   "cell_type": "code",
   "execution_count": 2,
   "metadata": {},
   "outputs": [],
   "source": [
    "#1\n",
    "with open('../../../jsonStar/20171130/CN/玩具车、惯性车.json',encoding='utf-8') as f1:\n",
    "    a=json.load(f1)"
   ]
  },
  {
   "cell_type": "code",
   "execution_count": 3,
   "metadata": {
    "collapsed": true
   },
   "outputs": [],
   "source": [
    "#2\n",
    "with open('../../../jsonStar/20171207/CN/玩具车、惯性车.json',encoding='utf-8') as f2:\n",
    "    b =json.load(f2)"
   ]
  },
  {
   "cell_type": "code",
   "execution_count": 4,
   "metadata": {
    "collapsed": true
   },
   "outputs": [],
   "source": [
    "a.extend(b)"
   ]
  },
  {
   "cell_type": "code",
   "execution_count": 5,
   "metadata": {
    "collapsed": true
   },
   "outputs": [],
   "source": [
    "#3\n",
    "with open('../../../jsonStar/20171214/CN/玩具车、惯性车.json',encoding='utf-8') as f3:\n",
    "    c =json.load(f3)"
   ]
  },
  {
   "cell_type": "code",
   "execution_count": 6,
   "metadata": {
    "collapsed": true
   },
   "outputs": [],
   "source": [
    "a.extend(c)"
   ]
  },
  {
   "cell_type": "code",
   "execution_count": 7,
   "metadata": {
    "collapsed": true
   },
   "outputs": [],
   "source": [
    "#4\n",
    "with open('../../../jsonStar/20171221/CN/玩具车、惯性车.json',encoding='utf-8') as f4:\n",
    "    d =json.load(f4)"
   ]
  },
  {
   "cell_type": "code",
   "execution_count": 8,
   "metadata": {
    "collapsed": true
   },
   "outputs": [],
   "source": [
    "a.extend(d)"
   ]
  },
  {
   "cell_type": "code",
   "execution_count": 9,
   "metadata": {
    "collapsed": true
   },
   "outputs": [],
   "source": [
    "#5\n",
    "with open('../../../jsonStar/20171228/CN/玩具车、惯性车.json',encoding='utf-8') as f5:\n",
    "    e =json.load(f5)"
   ]
  },
  {
   "cell_type": "code",
   "execution_count": 10,
   "metadata": {
    "collapsed": true
   },
   "outputs": [],
   "source": [
    "a.extend(e)"
   ]
  },
  {
   "cell_type": "code",
   "execution_count": 11,
   "metadata": {
    "collapsed": true
   },
   "outputs": [],
   "source": [
    "#6\n",
    "with open('../../../jsonStar/20180104/CN/玩具车、惯性车.json',encoding='utf-8') as f6:\n",
    "    f =json.load(f6)"
   ]
  },
  {
   "cell_type": "code",
   "execution_count": 12,
   "metadata": {
    "collapsed": true
   },
   "outputs": [],
   "source": [
    "a.extend(f)"
   ]
  },
  {
   "cell_type": "code",
   "execution_count": 13,
   "metadata": {
    "collapsed": true
   },
   "outputs": [],
   "source": [
    "#7\n",
    "with open('../../../jsonStar/20180111/CN/玩具车、惯性车.json',encoding='utf-8') as f7:\n",
    "    g =json.load(f7)"
   ]
  },
  {
   "cell_type": "code",
   "execution_count": 14,
   "metadata": {
    "collapsed": true
   },
   "outputs": [],
   "source": [
    "a.extend(g)"
   ]
  },
  {
   "cell_type": "code",
   "execution_count": 15,
   "metadata": {
    "collapsed": true
   },
   "outputs": [],
   "source": [
    "#8\n",
    "with open('../../../jsonStar/20180118/CN/玩具车、惯性车.json',encoding='utf-8') as f8:\n",
    "    h =json.load(f8)"
   ]
  },
  {
   "cell_type": "code",
   "execution_count": 16,
   "metadata": {
    "collapsed": true
   },
   "outputs": [],
   "source": [
    "a.extend(h)"
   ]
  },
  {
   "cell_type": "code",
   "execution_count": 17,
   "metadata": {
    "collapsed": true
   },
   "outputs": [],
   "source": [
    "with open('../../../jsonCategory/玩具车、惯性车_CN.json', 'w',encoding='utf-8') as f:\n",
    "    json.dump(a, f)"
   ]
  },
  {
   "cell_type": "code",
   "execution_count": 21,
   "metadata": {
    "collapsed": true
   },
   "outputs": [],
   "source": [
    "with open('../../../jsonCategory/婴幼玩具_CN.json',encoding='utf-8') as f:\n",
    "    CN =json.load(f)"
   ]
  },
  {
   "cell_type": "code",
   "execution_count": 22,
   "metadata": {},
   "outputs": [
    {
     "data": {
      "text/plain": [
       "{'ASIN': 'B00JL3OCHE',\n",
       " 'average_stars': '4.3 颗星，最多 5 颗星',\n",
       " 'brand': 'Auby 澳贝',\n",
       " 'category': '3',\n",
       " 'country': 'CN',\n",
       " 'price': '￥\\xa015.00',\n",
       " 'review': ['我的个天哪，这个玩具太神奇了，宝宝都要笑抽了，一摇就笑。。我都不敢让她玩太久，简直就是点了笑穴了，太恐怖了！',\n",
       "  '5.0 颗星，最多 5 颗星',\n",
       "  '东西一般孩子不是很喜欢',\n",
       "  '3.0 颗星，最多 5 颗星',\n",
       "  '不错，赠品，挺好的！',\n",
       "  '5.0 颗星，最多 5 颗星',\n",
       "  '收到以后摇了一下，宝宝马上被铃声吸引了，后面洗干净以后给她玩，都自己玩的不要我们抱，免得打扰她玩，嘿嘿。这就是我要的效果哈。质量还是不错的，不过我用70度的水汤了以后，里面会有水雾，不知道是不是就是这样的。',\n",
       "  '5.0 颗星，最多 5 颗星',\n",
       "  '朋友宝宝满月买的，听说质量很不错，我没见到实物。',\n",
       "  '5.0 颗星，最多 5 颗星',\n",
       "  '澳贝，好质量，价格优',\n",
       "  '5.0 颗星，最多 5 颗星',\n",
       "  '很简单的样式，但是宝宝就是很喜欢',\n",
       "  '5.0 颗星，最多 5 颗星',\n",
       "  '凑单用的，还不错哦！！',\n",
       "  '5.0 颗星，最多 5 颗星',\n",
       "  '买给女朋友外甥女的玩具，一开始人家还说怎么买那么幼稚的，她肯定不喜欢，谁知道她看到很喜欢，拿来摇啊摇的。不过就是喜欢摔地上，等着别人给她捡起来，然后她再继续摔。',\n",
       "  '5.0 颗星，最多 5 颗星',\n",
       "  '凑单买的，好评^ω^没有异味，宝宝还小，还不会玩。声音不怎么好听。，两科作用，宝宝哭时分散精力，宝宝运动时，放在手腕处，有声音，他自己摇的更猛',\n",
       "  '5.0 颗星，最多 5 颗星'],\n",
       " 'review_size': '71',\n",
       " 'title': 'AUBY 澳贝 摇铃系列 小猴摇铃 463119DS'}"
      ]
     },
     "execution_count": 22,
     "metadata": {},
     "output_type": "execute_result"
    }
   ],
   "source": [
    "CN[-100]"
   ]
  },
  {
   "cell_type": "code",
   "execution_count": null,
   "metadata": {
    "collapsed": true
   },
   "outputs": [],
   "source": []
  }
 ],
 "metadata": {
  "kernelspec": {
   "display_name": "Python 3",
   "language": "python",
   "name": "python3"
  },
  "language_info": {
   "codemirror_mode": {
    "name": "ipython",
    "version": 3
   },
   "file_extension": ".py",
   "mimetype": "text/x-python",
   "name": "python",
   "nbconvert_exporter": "python",
   "pygments_lexer": "ipython3",
   "version": "3.6.1"
  }
 },
 "nbformat": 4,
 "nbformat_minor": 2
}
