{
 "cells": [
  {
   "cell_type": "markdown",
   "metadata": {},
   "source": [
    "## 嘗試用selenium"
   ]
  },
  {
   "cell_type": "code",
   "execution_count": null,
   "metadata": {
    "collapsed": true
   },
   "outputs": [],
   "source": [
    "'''\n",
    "Best-Sellers-Toys-Games-Toy-Figures-Playsets/zgbs/toys-and-games/165993011/\n",
    "Best-Sellers-Toys-Games-Arts-Crafts-Supplies/zgbs/toys-and-games/166057011/\n",
    "Best-Sellers-Toys-Games-Baby-Toddler/zgbs/toys-and-games/196601011/\n",
    "Best-Sellers-Toys-Games-Tricycles-Scooters-Wagons/zgbs/toys-and-games/256994011/\n",
    "Best-Sellers-Toys-Games-Building/zgbs/toys-and-games/166092011/\n",
    "\n",
    "Best-Sellers-Toys-Games-Dolls-Accessories/zgbs/toys-and-games/166118011/\n",
    "Best-Sellers-Toys-Games-Pretend-Play/zgbs/toys-and-games/166309011/\n",
    "Best-Sellers-Toys-Games-Dress-Up-Pretend-Play/zgbs/toys-and-games/166316011/\n",
    "\n",
    "Best-Sellers-Toys-Games-Learning-Education/zgbs/toys-and-games/166269011/\n",
    "Best-Sellers-Toys-Games-Puzzles/zgbs/toys-and-games/166359011/\n",
    "Best-Sellers-Toys-Games-Sports-Outdoor-Play/zgbs/toys-and-games/166420011/\n",
    "Best-Sellers-Toys-Games-Stuffed-Animals-Plush/zgbs/toys-and-games/166461011/\n",
    "'''"
   ]
  },
  {
   "cell_type": "code",
   "execution_count": 1,
   "metadata": {
    "collapsed": true
   },
   "outputs": [],
   "source": [
    "import requests\n",
    "from bs4 import BeautifulSoup as bs\n",
    "import os\n",
    "import json\n",
    "import time\n",
    "import re\n",
    "from selenium import webdriver"
   ]
  },
  {
   "cell_type": "code",
   "execution_count": 2,
   "metadata": {
    "collapsed": true
   },
   "outputs": [],
   "source": [
    "cookiestr = 'aws-account-alias=bb102; x-wl-uid=1qO1zbLT/VurrTD8olrRaxt4ZvTE+vTeFIHu58TFdpWz5wSlgeDL/v+q5P3gFNGfccOVMboQEwus=; AMCV_4A8581745834114C0A495E2B%40AdobeOrg=-1891778711%7CMCIDTS%7C17459%7CMCMID%7C52253475372251991424690344856724644964%7CMCOPTOUT-1508403795s%7CNONE%7CMCAID%7C2CF30EF7852A888A-40000300E0001C2D%7CvVersion%7C2.4.0; s_nr=1508396596374-New; s_lv=1508396596375; skin=noskin; session-token=0lQkzegQRtwPu7GiPFEAEDYLCK3p6WW8vF/g2Kr93EnMHKmH2uTgd30RM43tJCAw2uo2xeco+fz9qCC4dzTpW86EX5YF5lVFvMOXhSncgNmhfgnG7DaXuUwvxrXhAtluWYQgfWI8I22bxDO6KWvBDwfM6IFCfsYouZ6kt3oXTHzy6wSehl3qokrzeEBzLpfPu6mlixQc/Yuommb6ztr0yiL/6dzBf5UjFImpI3OXvIkvwGuyBITnHJH9epKv+Lec; amznacsleftnav-74393fbe-66a6-3a52-840b-37b54d8c76ce=1,21,3; ubid-main=132-7315371-9843811; session-id-time=2082787201l; session-id=135-5046157-5863552; csm-hit=85CP8ATFWH4EXAFXQX3Q+s-M5199TSF54AFVK1M6RJW|1509623128403'\n",
    "cookies = cookiestr.split(\";\")\n",
    "cookiedata ={}\n",
    "for cookie in cookies:\n",
    "    cookiedata[cookie.split(\"=\")[0]]=cookie.split(\"=\")[1]"
   ]
  },
  {
   "cell_type": "code",
   "execution_count": 3,
   "metadata": {
    "collapsed": true
   },
   "outputs": [],
   "source": [
    "ssession = requests.Session()\n",
    "headers = {\"User-Agent\":\"Mozilla/5.0 (Macintosh; Intel Mac OS X 10_9_5) AppleWebKit 537.36 (KHTML, like Gecko) Chrome\",\"Accept\":\"text/html,application/xhtml+xml,application/xml;q=0.9,image/webp,*/*;q=0.8\"}"
   ]
  },
  {
   "cell_type": "code",
   "execution_count": null,
   "metadata": {
    "collapsed": true
   },
   "outputs": [],
   "source": [
    "#先設定驅動\n",
    "# Go to  https://chromedriver.storage.googleapis.com/index.html?path=2.30/\n",
    "# Download \n",
    "# Extract, \n",
    "# sudo cp chromedriver /usr/local/bin/"
   ]
  },
  {
   "cell_type": "code",
   "execution_count": 4,
   "metadata": {
    "collapsed": true
   },
   "outputs": [],
   "source": [
    "# 使用chrome驅動器\n",
    "browser = webdriver.Chrome()"
   ]
  },
  {
   "cell_type": "code",
   "execution_count": 5,
   "metadata": {
    "collapsed": true
   },
   "outputs": [],
   "source": [
    "# 每一個網頁不超過30秒\n",
    "browser.set_page_load_timeout(30)"
   ]
  },
  {
   "cell_type": "code",
   "execution_count": 6,
   "metadata": {
    "collapsed": true
   },
   "outputs": [],
   "source": [
    "browser.get('https://www.amazon.com/Best-Sellers-Toys-Games-Dress-Up-Pretend-Play/zgbs/toys-and-games/166316011/ref=t#1')"
   ]
  },
  {
   "cell_type": "code",
   "execution_count": 7,
   "metadata": {
    "scrolled": true
   },
   "outputs": [
    {
     "name": "stdout",
     "output_type": "stream",
     "text": [
      "<selenium.webdriver.remote.webelement.WebElement (session=\"58c0eb77f6850648603193e25a84d12c\", element=\"0.2355067752638269-1\")>\n",
      "81-100\n"
     ]
    }
   ],
   "source": [
    "page_info = browser.find_element_by_css_selector('#zg_page5 > a')\n",
    "print(page_info)\n",
    "print(page_info.text)"
   ]
  },
  {
   "cell_type": "code",
   "execution_count": 8,
   "metadata": {},
   "outputs": [
    {
     "data": {
      "text/plain": [
       "5"
      ]
     },
     "execution_count": 8,
     "metadata": {},
     "output_type": "execute_result"
    }
   ],
   "source": [
    "pages = page_info.text.split('-')[1]\n",
    "pages = int(pages)\n",
    "pages = int(pages/20)\n",
    "pages"
   ]
  },
  {
   "cell_type": "markdown",
   "metadata": {},
   "source": [
    "## 抓取href_list"
   ]
  },
  {
   "cell_type": "code",
   "execution_count": null,
   "metadata": {
    "collapsed": true
   },
   "outputs": [],
   "source": [
    "start = time.time()\n",
    "Amzlist=[]\n",
    "for i in range(pages):\n",
    "    if i > 4:\n",
    "        break\n",
    "    print('第%d頁' % (i+1))\n",
    "    url ='https://www.amazon.com/Best-Sellers-Toys-Games-Dress-Up-Pretend-Play/zgbs/toys-and-games/166316011/ref=t#'+ str(i+1)\n",
    "    browser.get(url)\n",
    "    #windows.scrollTo(x座標,y座標)=>讓他執行滾動\n",
    "    browser.execute_script(\"window.scrollTo(0,document.body.scrollHeight);\")\n",
    "    time.sleep(3)\n",
    "    goods = browser.find_element_by_css_selector('#zg_left_col1 > #zg_centerListWrapper')\n",
    "#     print(goods.text)\n",
    "#     print('第%d頁有%d件商品' %((i+1),len(goods.text)))\n",
    "    all_goods = goods.find_elements_by_class_name('zg_itemImmersion')\n",
    "    try:\n",
    "        href = [g.find_element_by_css_selector('div.zg_itemWrapper > div > a').get_attribute('href')for g in all_goods]\n",
    "        Amzlist += href\n",
    "        time.sleep(0.1)\n",
    "    except Exception as e:\n",
    "            print(e)\n",
    "            print(\"none\")\n",
    "            pass\n",
    "end = time.time() \n",
    "\n",
    "print(\"-----------------\")\n",
    "Amzlist=\"\\n\".join(Amzlist) \n",
    "print(Amzlist)\n",
    "print(end-start)\n",
    "\n",
    " "
   ]
  },
  {
   "cell_type": "markdown",
   "metadata": {},
   "source": [
    "## 轉成txt"
   ]
  },
  {
   "cell_type": "code",
   "execution_count": null,
   "metadata": {
    "collapsed": true
   },
   "outputs": [],
   "source": [
    "if not os.path.exists('../20171130/America/'):\n",
    "    os.makedirs('../20171130/America/')\n",
    "   "
   ]
  },
  {
   "cell_type": "code",
   "execution_count": null,
   "metadata": {
    "collapsed": true
   },
   "outputs": [],
   "source": [
    "with open('../20171130/America/Dressing Up & Costumes.txt','w',encoding='utf-8') as f :\n",
    "        f.write(Amzlist)"
   ]
  },
  {
   "cell_type": "markdown",
   "metadata": {},
   "source": [
    "## 將 contents 存成 csv檔"
   ]
  },
  {
   "cell_type": "code",
   "execution_count": 35,
   "metadata": {},
   "outputs": [
    {
     "name": "stdout",
     "output_type": "stream",
     "text": [
      "第1頁\n",
      "第2頁\n",
      "25.\n",
      "第3頁\n",
      "41.\n",
      "-----------------\n",
      "24.236448049545288\n",
      "1.Elf on the Shelf: A Christmas Tradition…;4.5 out of 5 stars;4,250;$29.95;https://www.amazon.com/Elf-Shelf-Christmas-Tradition-blue-eyed/dp/0976990709/ref=zg_bs_166316011_1?_encoding=UTF8&psc=1&refRID=PX79Q8YVM4XZMMSSKTCX\n",
      "2.Kids Washable Makeup Set With A Glitter…;4.3 out of 5 stars;103;$14.99;https://www.amazon.com/Kids-Washable-Makeup-Glitter-Cosmetic/dp/B01MTOH9NE/ref=zg_bs_166316011_2?_encoding=UTF8&psc=1&refRID=PX79Q8YVM4XZMMSSKTCX\n",
      "3.Melissa & Doug Let's Play House Dust! Sweep!…;4.6 out of 5 stars;1,615;$21.99;https://www.amazon.com/Melissa-Doug-House-6-Piece-Pretend/dp/B00FZMDAO6/ref=zg_bs_166316011_3?_encoding=UTF8&psc=1&refRID=PX79Q8YVM4XZMMSSKTCX\n",
      "4.Hatchimals Glittering Garden - Hatching Egg…;4.2 out of 5 stars;96;$54.88;https://www.amazon.com/Hatchimals-Glittering-Garden-Interactive-Shimmering/dp/B01N9KR2SZ/ref=zg_bs_166316011_4?_encoding=UTF8&psc=1&refRID=PX79Q8YVM4XZMMSSKTCX\n",
      "5.Nickelodeon Paw Patrol - Sea Patrol – Sea…;4.6 out of 5 stars;84;$44.44;https://www.amazon.com/Nickelodeon-Paw-Patrol-Patroller-Transforming/dp/B01N9KQQ4N/ref=zg_bs_166316011_5?_encoding=UTF8&psc=1&refRID=PX79Q8YVM4XZMMSSKTCX\n",
      "6.Hatchimals Surprise – Giraven – Hatching Egg…;3.9 out of 5 stars;38;$52.99;https://www.amazon.com/Hatchimals-Surprise-Interactive-Hatchimal-Creatures/dp/B01N53KW6A/ref=zg_bs_166316011_6?_encoding=UTF8&psc=1&refRID=PX79Q8YVM4XZMMSSKTCX\n",
      "7.Star Wars The Force Awakens Chewbacca…;4.5 out of 5 stars;985;$21.48;https://www.amazon.com/Star-Wars-Awakens-Chewbacca-Electronic/dp/B00SOFZTCW/ref=zg_bs_166316011_7?_encoding=UTF8&psc=1&refRID=PX79Q8YVM4XZMMSSKTCX\n",
      "8.Disney Moana's Magical Seashell Necklace;4.4 out of 5 stars;761;$8.99;https://www.amazon.com/Disney-Moanas-Magical-Seashell-Necklace/dp/B01CQTWBYK/ref=zg_bs_166316011_8?_encoding=UTF8&psc=1&refRID=PX79Q8YVM4XZMMSSKTCX\n",
      "9.Zoomer - Show Pony with Lights, Sounds and…;4.3 out of 5 stars;40;$49.99;https://www.amazon.com/Zoomer-Lights-Sounds-Interactive-Movement/dp/B01N52N90E/ref=zg_bs_166316011_9?_encoding=UTF8&psc=1&refRID=PX79Q8YVM4XZMMSSKTCX\n",
      "10.Melissa & Doug Food Groups - 21 Hand…;4.5 out of 5 stars;1,100;$14.87;https://www.amazon.com/Melissa-Doug-Food-Groups-Hand-Painted/dp/B0000BX8MA/ref=zg_bs_166316011_10?_encoding=UTF8&psc=1&refRID=PX79Q8YVM4XZMMSSKTCX\n",
      "11.Melissa & Doug Stainless Steel Pots and Pans…;4.9 out of 5 stars;1,228;$18.59;https://www.amazon.com/Melissa-Doug-Stainless-Pretend-Kitchen/dp/B00CPHX6YI/ref=zg_bs_166316011_11?_encoding=UTF8&psc=1&refRID=PX79Q8YVM4XZMMSSKTCX\n",
      "12.Toy Vacuum- Dyson Ball Vacuum;4.1 out of 5 stars;2,015;$20.99;https://www.amazon.com/Vacuum-Dyson-Vacuum-Suction-Sounds/dp/B004V3PS72/ref=zg_bs_166316011_12?_encoding=UTF8&psc=1&refRID=PX79Q8YVM4XZMMSSKTCX\n",
      "13.Hatchimals Surprise – Peacat – Hatching Egg…;3.9 out of 5 stars;38;$69.99;https://www.amazon.com/Hatchimals-Surprise-Interactive-Hatchimal-Creatures/dp/B01N424GFS/ref=zg_bs_166316011_13?_encoding=UTF8&psc=1&refRID=PX79Q8YVM4XZMMSSKTCX\n",
      "14.PicassoTiles 60 Piece Set 60pcs Magnet Building…;4.8 out of 5 stars;1,199;$39.99;https://www.amazon.com/PicassoTiles-Building-Magnetic-Construction-Playboards/dp/B00APVXSM6/ref=zg_bs_166316011_14?_encoding=UTF8&psc=1&refRID=PX79Q8YVM4XZMMSSKTCX\n",
      "15.Paw Patrol Mission Paw - Mini Figures Gift Set - 6…;4.6 out of 5 stars;57;$10.50;https://www.amazon.com/Paw-Patrol-Mission-Figures-Exclusive/dp/B01M0PSBLZ/ref=zg_bs_166316011_15?_encoding=UTF8&psc=1&refRID=PX79Q8YVM4XZMMSSKTCX\n",
      "16.Playmags 100 Piece Super Set: With…;4.7 out of 5 stars;978;$52.99;https://www.amazon.com/Playmags-100-Piece-Super-Set/dp/B00EUBD14C/ref=zg_bs_166316011_16?_encoding=UTF8&psc=1&refRID=PX79Q8YVM4XZMMSSKTCX\n",
      "17.Fisher-Price Imaginext DC Super Friends Batbot…;4.8 out of 5 stars;34;$84.00;https://www.amazon.com/Fisher-Price-Imaginext-Friends-Batbot-Xtreme/dp/B06XK8DYJY/ref=zg_bs_166316011_17?_encoding=UTF8&psc=1&refRID=PX79Q8YVM4XZMMSSKTCX\n",
      "18.Elf on the Shelf: A Christmas Tradition…;4.5 out of 5 stars;4,250;$29.95;https://www.amazon.com/Elf-Shelf-Christmas-Tradition-blue-eyed/dp/0984365176/ref=zg_bs_166316011_18?_encoding=UTF8&psc=1&refRID=PX79Q8YVM4XZMMSSKTCX\n",
      "19.Learning Resources Pretend & Play…;4.3 out of 5 stars;1,461;$24.99;https://www.amazon.com/Learning-Resources-Pretend-Calculator-Register/dp/B00000DMD2/ref=zg_bs_166316011_19?_encoding=UTF8&psc=1&refRID=PX79Q8YVM4XZMMSSKTCX\n",
      "20.Paw Patrol Roll Patrol – Rubble’s Mountain…;4.0 out of 5 stars;34;$28.97;https://www.amazon.com/Paw-Patrol-Roll-Rubbles-Mountain/dp/B01MUCBZCF/ref=zg_bs_166316011_20?_encoding=UTF8&psc=1&refRID=PX79Q8YVM4XZMMSSKTCX\n",
      "21.Melissa & Doug 11-Piece Brew and Serve…;4.8 out of 5 stars;281;$13.99;https://www.amazon.com/Melissa-Doug-11-Piece-Wooden-Coffee/dp/B016ZM29YQ/ref=zg_bs_166316011_21?_encoding=UTF8&psc=1&refRID=3R0AXPSH7HADSWB3K354\n",
      "22.Shopkins Season 8 W2 Asia Toy 12 Pack;4.6 out of 5 stars;3;$4.01;https://www.amazon.com/Shopkins-Season-Asia-Toy-Pack/dp/B06XFPQJRP/ref=zg_bs_166316011_22?_encoding=UTF8&psc=1&refRID=3R0AXPSH7HADSWB3K354\n",
      "23.Melissa & Doug Decorate-Your-Own Wooden…;4.8 out of 5 stars;106;$4.99;https://www.amazon.com/Melissa-Doug-Decorate-Your-Own-Butterfly-Magnets/dp/B00Y8YOVOA/ref=zg_bs_166316011_23?_encoding=UTF8&psc=1&refRID=3R0AXPSH7HADSWB3K354\n",
      "24.Melissa & Doug Slice and Bake Wooden Cookie…;4.8 out of 5 stars;940;$13.99;https://www.amazon.com/Melissa-Doug-Slice-Wooden-Cookie/dp/B00146K0I6/ref=zg_bs_166316011_24?_encoding=UTF8&psc=1&refRID=3R0AXPSH7HADSWB3K354\n",
      "26.Little Tikes Shopping Cart - Yellow/Red;4.6 out of 5 stars;937;$19.12;https://www.amazon.com/Little-Tikes-Shopping-Cart-Yellow/dp/B00005BZKD/ref=zg_bs_166316011_26?_encoding=UTF8&psc=1&refRID=3R0AXPSH7HADSWB3K354\n",
      "27.My Fairy Garden Magical Cottage Playset;4.2 out of 5 stars;263;$11.99;https://www.amazon.com/My-Fairy-Garden-Magical-Cottage/dp/B01FSV2YYU/ref=zg_bs_166316011_27?_encoding=UTF8&psc=1&refRID=3R0AXPSH7HADSWB3K354\n",
      "28.Melissa & Doug Wooden Scoop and Serve Ice…;4.9 out of 5 stars;169;$35.98;https://www.amazon.com/Melissa-Doug-Wooden-Scoop-Counter/dp/B01B1V10KA/ref=zg_bs_166316011_28?_encoding=UTF8&psc=1&refRID=3R0AXPSH7HADSWB3K354\n",
      "29.Melissa & Doug Toy Shopping Cart With…;4.8 out of 5 stars;1,692;$36.99;https://www.amazon.com/Melissa-Doug-Shopping-Sturdy-Metal/dp/B000VO3GPG/ref=zg_bs_166316011_29?_encoding=UTF8&psc=1&refRID=3R0AXPSH7HADSWB3K354\n",
      "30.Princess Girl's All-In-One Deluxe Makeup Palette…;4.1 out of 5 stars;447;$11.99;https://www.amazon.com/Princess-Deluxe-Makeup-Palette-Mirror/dp/B015RRBDME/ref=zg_bs_166316011_30?_encoding=UTF8&psc=1&refRID=3R0AXPSH7HADSWB3K354\n",
      "31.Melissa & Doug Let's Play House! Grocery Cans…;4.7 out of 5 stars;782;$6.99;https://www.amazon.com/Melissa-Doug-Grocery-Kitchen-Accessory/dp/B007EA6PKS/ref=zg_bs_166316011_31?_encoding=UTF8&psc=1&refRID=3R0AXPSH7HADSWB3K354\n",
      "32.Melissa & Doug Deluxe Pounding Bench…;4.5 out of 5 stars;1,772;$16.32;https://www.amazon.com/Melissa-Doug-Deluxe-Pounding-Wooden/dp/B004NCEL4M/ref=zg_bs_166316011_32?_encoding=UTF8&psc=1&refRID=3R0AXPSH7HADSWB3K354\n",
      "33.KidKraft Tasty Treats Play Food Set;4.5 out of 5 stars;888;$16.84;https://www.amazon.com/KidKraft-Tasty-Treats-Play-Food/dp/B00JLGGH2Y/ref=zg_bs_166316011_33?_encoding=UTF8&psc=1&refRID=3R0AXPSH7HADSWB3K354\n",
      "34.Paw Patrol Sea Patrol Pup Pad;4.3 out of 5 stars;7;$10.81;https://www.amazon.com/Paw-Patrol-Sea-Pup-Pad/dp/B01N1VHB3C/ref=zg_bs_166316011_34?_encoding=UTF8&psc=1&refRID=3R0AXPSH7HADSWB3K354\n",
      "35.Paw Patrol Mission Paw - Air Patroller - Amazon…;4.8 out of 5 stars;39;$24.90;https://www.amazon.com/Paw-Patrol-Mission-Patroller-Exclusive/dp/B01MZXSSD6/ref=zg_bs_166316011_35?_encoding=UTF8&psc=1&refRID=3R0AXPSH7HADSWB3K354\n",
      "36.Hatchimals Nursery Playset;4.8 out of 5 stars;36;$29.99;https://www.amazon.com/Hatchimals-6037072-Nursery-Playset/dp/B01N64HQ1X/ref=zg_bs_166316011_36?_encoding=UTF8&psc=1&refRID=3R0AXPSH7HADSWB3K354\n",
      "37.Melissa & Doug Cutting Food - Play Food Set…;4.7 out of 5 stars;1,234;$12.74;https://www.amazon.com/Melissa-Doug-Cutting-Food-Hand-Painted/dp/B000GKD09C/ref=zg_bs_166316011_37?_encoding=UTF8&psc=1&refRID=3R0AXPSH7HADSWB3K354\n",
      "38.Dynasty Toys Laser Tag Set and Carrying Case…;4.3 out of 5 stars;569;$149.99;https://www.amazon.com/Dynasty-Toys-Laser-Carrying-Multiplayer/dp/B01137DEEW/ref=zg_bs_166316011_38?_encoding=UTF8&psc=1&refRID=3R0AXPSH7HADSWB3K354\n",
      "39.Melissa & Doug Dress-Up Tiaras;4.5 out of 5 stars;559;$9.99;https://www.amazon.com/Melissa-Doug-8525-Dress-Up-Tiaras/dp/B00FZMDCNA/ref=zg_bs_166316011_39?_encoding=UTF8&psc=1&refRID=3R0AXPSH7HADSWB3K354\n",
      "40.Award Winning Magnetic Stick N Stack SHAPE…;4.8 out of 5 stars;759;$19.99;https://www.amazon.com/Winning-Magnetic-Stick-Stack-different/dp/B013T6Q0BY/ref=zg_bs_166316011_40?_encoding=UTF8&psc=1&refRID=3R0AXPSH7HADSWB3K354\n",
      "42.Shopkins Season 8 America Mega Pack;5.0 out of 5 stars;1;$9.74;https://www.amazon.com/Shopkins-Season-America-Mega-Pack/dp/B06XFF5RN3/ref=zg_bs_166316011_42?_encoding=UTF8&psc=1&refRID=HZ0574VZRDZDW5G8V086\n",
      "43.Melissa & Doug Wooden Make-a-Cake Mixer Set…;4.7 out of 5 stars;122;$17.99;https://www.amazon.com/Melissa-Doug-Wooden-Make-Cake/dp/B01B1UTIEG/ref=zg_bs_166316011_43?_encoding=UTF8&psc=1&refRID=HZ0574VZRDZDW5G8V086\n",
      "44.Black + Decker Junior Power Workbench…;4.1 out of 5 stars;671;$62.62;https://www.amazon.com/Decker-Junior-Workbench-Workshop-Realistic/dp/B0016DE80I/ref=zg_bs_166316011_44?_encoding=UTF8&psc=1&refRID=HZ0574VZRDZDW5G8V086\n",
      "45.Shopkins Join the Party 12 Pack;4.3 out of 5 stars;76;$7.14;https://www.amazon.com/Shopkins-Join-Party-12-Pack/dp/B01LYVCS1G/ref=zg_bs_166316011_45?_encoding=UTF8&psc=1&refRID=HZ0574VZRDZDW5G8V086\n",
      "46.Just Play Trolls Poppy Styling Head Role Play…;2.0 out of 5 stars;1;$19.19;https://www.amazon.com/Just-Play-Trolls-Poppy-Styling/dp/B0734ZHHHC/ref=zg_bs_166316011_46?_encoding=UTF8&psc=1&refRID=HZ0574VZRDZDW5G8V086\n",
      "47.KidKraft Vintage Kitchen - White;4.0 out of 5 stars;945;$89.88;https://www.amazon.com/KidKraft-53208-Vintage-Kitchen-White/dp/B004A2QTRC/ref=zg_bs_166316011_47?_encoding=UTF8&psc=1&refRID=HZ0574VZRDZDW5G8V086\n",
      "48.The Elf on the Shelf Girl Elf Edition with North…;4.6 out of 5 stars;771;$37.95;https://www.amazon.com/Elf-Shelf-Character-Storybook-Snowflake/dp/B0095XOPF4/ref=zg_bs_166316011_48?_encoding=UTF8&psc=1&refRID=HZ0574VZRDZDW5G8V086\n",
      "49.Play Circle Purse Set Pretend Play for Kids;4.3 out of 5 stars;39;$13.25;https://www.amazon.com/Play-Circle-Purse-Pretend-Kids/dp/B00TYO6ZU2/ref=zg_bs_166316011_49?_encoding=UTF8&psc=1&refRID=HZ0574VZRDZDW5G8V086\n",
      "50.Shapemags 124 Piece Set, Made With…;4.8 out of 5 stars;1,010;$54.99;https://www.amazon.com/Shapemags-Piece-Magnets-StileMags-Stabilizer/dp/B00DAIZGTE/ref=zg_bs_166316011_50?_encoding=UTF8&psc=1&refRID=HZ0574VZRDZDW5G8V086\n",
      "51.Click N' Play Pretend Play Cosmetic and Makeup…;4.3 out of 5 stars;542;$11.99;https://www.amazon.com/Click-Play-Pretend-Cosmetic-Makeup/dp/B01BT9FZTG/ref=zg_bs_166316011_51?_encoding=UTF8&psc=1&refRID=HZ0574VZRDZDW5G8V086\n",
      "52.Star Wars - Hero Droid BB-8 - Fully Interactive…;4.1 out of 5 stars;39;$129.00;https://www.amazon.com/Star-Wars-Droid-Fully-Interactive/dp/B019K8KF7A/ref=zg_bs_166316011_52?_encoding=UTF8&psc=1&refRID=HZ0574VZRDZDW5G8V086\n",
      "53.Paw Patrol - Launch N Roll Lookout Tower…;3.5 out of 5 stars;205;$28.99;https://www.amazon.com/Paw-Patrol-Launch-Lookout-Tower/dp/B019K8KM14/ref=zg_bs_166316011_53?_encoding=UTF8&psc=1&refRID=HZ0574VZRDZDW5G8V086\n",
      "54.Play Food Set for Kids & Toy Food for Pretend…;4.6 out of 5 stars;444;$19.99;https://www.amazon.com/Play-Food-Set-Kids-Pretend/dp/B01COI9EAC/ref=zg_bs_166316011_54?_encoding=UTF8&psc=1&refRID=HZ0574VZRDZDW5G8V086\n",
      "55.Melissa & Doug Stir and Serve Cooking Utensils…;4.7 out of 5 stars;314;$8.83;https://www.amazon.com/Melissa-Doug-Serve-Cooking-Utensils/dp/B00MYL7L9G/ref=zg_bs_166316011_55?_encoding=UTF8&psc=1&refRID=HZ0574VZRDZDW5G8V086\n",
      "56.Ben 10 Deluxe Omnitrix Role Play;4.3 out of 5 stars;82;$19.87;https://www.amazon.com/Ben-10-Deluxe-Omnitrix-Role/dp/B0716ZDGDL/ref=zg_bs_166316011_56?_encoding=UTF8&psc=1&refRID=HZ0574VZRDZDW5G8V086\n",
      "57.Melissa & Doug Spray, Squirt & Squeegee Play…;4.8 out of 5 stars;242;$13.99;https://www.amazon.com/Melissa-Doug-Spray-Squirt-Squeegee/dp/B012WE77UM/ref=zg_bs_166316011_57?_encoding=UTF8&psc=1&refRID=HZ0574VZRDZDW5G8V086\n",
      "58.Step2 Little Bakers Kitchen Playset;4.4 out of 5 stars;393;$73.71;https://www.amazon.com/Step2-Little-Bakers-Kitchen-Playset/dp/B009GLHI7C/ref=zg_bs_166316011_58?_encoding=UTF8&psc=1&refRID=HZ0574VZRDZDW5G8V086\n",
      "59.Best Choice Products Kids Laser Tag Set Gun Toy…;4.8 out of 5 stars;53;$94.94;https://www.amazon.com/Best-Choice-Products-Blasters-Multiplayer/dp/B071VSVVKB/ref=zg_bs_166316011_59?_encoding=UTF8&psc=1&refRID=HZ0574VZRDZDW5G8V086\n",
      "60.Melissa & Doug Scoop and Stack Ice Cream…;4.7 out of 5 stars;543;$21.99;https://www.amazon.com/Melissa-Doug-Scoop-Magnetic-Pretend/dp/B004JLNUZI/ref=zg_bs_166316011_60?_encoding=UTF8&psc=1&refRID=HZ0574VZRDZDW5G8V086\n",
      "24.236448049545288\n"
     ]
    }
   ],
   "source": [
    "start = time.time()\n",
    "conlist=[]\n",
    "for i in range(pages):\n",
    "    if i > 2:\n",
    "        break\n",
    "    print('第%d頁' % (i+1))\n",
    "    url ='https://www.amazon.com/Best-Sellers-Toys-Games-Dress-Up-Pretend-Play/zgbs/toys-and-games/166316011/ref=t#'+ str(i+1)\n",
    "    browser.get(url)\n",
    "    #windows.scrollTo(x座標,y座標)=>讓他執行滾動\n",
    "    browser.execute_script(\"window.scrollTo(0,document.body.scrollHeight);\")\n",
    "    time.sleep(3)\n",
    "    goods = browser.find_element_by_css_selector('#zg_left_col1 > #zg_centerListWrapper')\n",
    "#     print(goods.text)\n",
    "#     print('第%d頁有%d件商品' %((i+1),len(goods.text)))\n",
    "    all_goods = goods.find_elements_by_class_name('zg_itemImmersion')\n",
    "    for g in all_goods:\n",
    "        try:\n",
    "            contents = [g.find_element_by_class_name('zg_rankNumber').text+ g.find_element_by_class_name('a-link-normal').text+\";\"\\\n",
    "                    +g.find_element_by_css_selector('div.zg_itemWrapper > div > div.a-icon-row > a').get_attribute('title')+\";\"\\\n",
    "                    +g.find_element_by_class_name('a-size-small').text+\";\"\\\n",
    "                    +g.find_element_by_css_selector('div.zg_itemWrapper > div > div.a-row > span.a-size-base.a-color-price > span').text+\";\"\\\n",
    "                   +g.find_element_by_css_selector('div.zg_itemWrapper > div > a').get_attribute('href')]\n",
    "            conlist += contents\n",
    "        except Exception as e:\n",
    "            print(g.find_element_by_class_name('zg_rankNumber').text)\n",
    "            pass\n",
    "        \n",
    "end = time.time() \n",
    "\n",
    "print(\"-----------------\")\n",
    "print(end-start)\n",
    "conlist=\"\\n\".join(conlist) \n",
    "print(conlist)\n",
    "print(end-start)"
   ]
  },
  {
   "cell_type": "code",
   "execution_count": 36,
   "metadata": {
    "collapsed": true,
    "scrolled": true
   },
   "outputs": [],
   "source": [
    "with open('../20171130/America/Dressing Up & Costumes.csv','w',encoding='utf-8') as f :\n",
    "        f.write(conlist)"
   ]
  },
  {
   "cell_type": "markdown",
   "metadata": {},
   "source": [
    "## readlines()"
   ]
  },
  {
   "cell_type": "code",
   "execution_count": null,
   "metadata": {
    "collapsed": true
   },
   "outputs": [],
   "source": [
    "with open('../20171130/America/Building & Construction Toys.txt',encoding='utf-8') as f :\n",
    "    a=f.readlines()"
   ]
  },
  {
   "cell_type": "code",
   "execution_count": null,
   "metadata": {
    "collapsed": true
   },
   "outputs": [],
   "source": [
    "hrefs=[i.split(\"\\n\")[0] for i in a]\n",
    "hrefs"
   ]
  },
  {
   "cell_type": "code",
   "execution_count": null,
   "metadata": {
    "collapsed": true,
    "scrolled": true
   },
   "outputs": [],
   "source": [
    "hrefs[0]"
   ]
  },
  {
   "cell_type": "markdown",
   "metadata": {},
   "source": [
    "## 轉成100個html檔"
   ]
  },
  {
   "cell_type": "code",
   "execution_count": null,
   "metadata": {
    "collapsed": true
   },
   "outputs": [],
   "source": [
    "import requests\n",
    "from bs4 import BeautifulSoup\n",
    "\n",
    "session = requests.Session()\n",
    "headers = {\"User-Agent\":\"Mozilla/5.0 (Macintosh; Intel Mac OS X 10_9_5) AppleWebKit 537.36 (KHTML, like Gecko) Chrome\",\"Accept\":\"text/html,application/xhtml+xml,application/xml;q=0.9,image/webp,*/*;q=0.8\"}\n",
    "res = requests.get('https://www.amazon.com/Best-Sellers-Toys-Games-Baby-Toddler/zgbs/toys-and-games/196601011/ref=t#1')\n",
    "res"
   ]
  },
  {
   "cell_type": "code",
   "execution_count": null,
   "metadata": {
    "collapsed": true
   },
   "outputs": [],
   "source": [
    "from bs4 import BeautifulSoup\n",
    "import multiprocessing as mp\n",
    "import concurrent.futures\n",
    "import requests\n",
    "import os\n",
    "\n",
    "\n",
    "session = requests.Session()\n",
    "headers = {\"User-Agent\":\"Mozilla/5.0 (Macintosh; Intel Mac OS X 10_9_5) AppleWebKit 537.36 (KHTML, like Gecko) Chrome\",\"Accept\":\"text/html,application/xhtml+xml,application/xml;q=0.9,image/webp,*/*;q=0.8\"}\n",
    "cookiestr = '__cfduid=df4417457002ed1d390cc65a2f7734b9d1494830719; _gat=1; _ga=GA1.2.1333249610.1494830798; _gid=GA1.2.970157078.1502190098'\n",
    "cookies = cookiestr.split(\";\")\n",
    "cookiedata ={}\n",
    "if not os.path.exists('../20171126/Baby&ToddlerToys_20171126/'):\n",
    "    os.makedirs('../20171126/Baby&ToddlerToys_20171126/')\n",
    "for cookie in cookies:\n",
    "    cookiedata[cookie.split(\"=\")[0]]=cookie.split(\"=\")[1]\n",
    "    \n",
    "import time\n",
    "errorlist=[]\n",
    "start=time.time()\n",
    "for href in hrefs:\n",
    "    res=requests.get(href,cookies = cookiedata)\n",
    "    res.content\n",
    "    try:\n",
    "        with open('../20171126/Baby&ToddlerToys_20171126/'+href.split('/')[-4]+'.html','w',encoding='utf-8') as f :\n",
    "                print(\"==========================file %s=====================\" % (href.split('/')[-4]))\n",
    "                f.write(res.text)\n",
    "                time.sleep(1)\n",
    "#                 if (len(res.text) << 10):\n",
    "#                     errorlist.append(href)\n",
    "#                     with open('../Baby&ToddlerToys_20171126/Baby&ToddlerToysError.txt','w',encoding='utf-8') as f1:\n",
    "#                         for row in errorlist:\n",
    "#                             f1.write(row + '\\n')\n",
    "    except Exception as e:\n",
    "        print(e)\n",
    "        time.sleep(0.1)\n",
    "        pass\n",
    "    \n",
    "    \n",
    "    \n",
    "\n",
    "end=time.time()\n",
    "print(end-start)"
   ]
  },
  {
   "cell_type": "code",
   "execution_count": null,
   "metadata": {
    "collapsed": true
   },
   "outputs": [],
   "source": []
  }
 ],
 "metadata": {
  "kernelspec": {
   "display_name": "Python 3",
   "language": "python",
   "name": "python3"
  },
  "language_info": {
   "codemirror_mode": {
    "name": "ipython",
    "version": 3
   },
   "file_extension": ".py",
   "mimetype": "text/x-python",
   "name": "python",
   "nbconvert_exporter": "python",
   "pygments_lexer": "ipython3",
   "version": "3.6.1"
  }
 },
 "nbformat": 4,
 "nbformat_minor": 2
}
