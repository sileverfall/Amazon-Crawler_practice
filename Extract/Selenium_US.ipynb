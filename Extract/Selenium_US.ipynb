{
 "cells": [
  {
   "cell_type": "markdown",
   "metadata": {},
   "source": [
    "## Prepared Work"
   ]
  },
  {
   "cell_type": "code",
   "execution_count": 1,
   "metadata": {
    "collapsed": true
   },
   "outputs": [],
   "source": [
    "import requests\n",
    "from bs4 import BeautifulSoup as bs\n",
    "import os\n",
    "import json\n",
    "import time\n",
    "import re\n",
    "from selenium import webdriver\n",
    "\n",
    "cookiestr = 'aws-account-alias=bb102; x-wl-uid=1qO1zbLT/VurrTD8olrRaxt4ZvTE+vTeFIHu58TFdpWz5wSlgeDL/v+q5P3gFNGfccOVMboQEwus=; AMCV_4A8581745834114C0A495E2B%40AdobeOrg=-1891778711%7CMCIDTS%7C17459%7CMCMID%7C52253475372251991424690344856724644964%7CMCOPTOUT-1508403795s%7CNONE%7CMCAID%7C2CF30EF7852A888A-40000300E0001C2D%7CvVersion%7C2.4.0; s_nr=1508396596374-New; s_lv=1508396596375; skin=noskin; session-token=0lQkzegQRtwPu7GiPFEAEDYLCK3p6WW8vF/g2Kr93EnMHKmH2uTgd30RM43tJCAw2uo2xeco+fz9qCC4dzTpW86EX5YF5lVFvMOXhSncgNmhfgnG7DaXuUwvxrXhAtluWYQgfWI8I22bxDO6KWvBDwfM6IFCfsYouZ6kt3oXTHzy6wSehl3qokrzeEBzLpfPu6mlixQc/Yuommb6ztr0yiL/6dzBf5UjFImpI3OXvIkvwGuyBITnHJH9epKv+Lec; amznacsleftnav-74393fbe-66a6-3a52-840b-37b54d8c76ce=1,21,3; ubid-main=132-7315371-9843811; session-id-time=2082787201l; session-id=135-5046157-5863552; csm-hit=85CP8ATFWH4EXAFXQX3Q+s-M5199TSF54AFVK1M6RJW|1509623128403'\n",
    "cookies = cookiestr.split(\";\")\n",
    "cookiedata ={}\n",
    "for cookie in cookies:\n",
    "    cookiedata[cookie.split(\"=\")[0]]=cookie.split(\"=\")[1]\n",
    "\n",
    "ssession = requests.Session()\n",
    "headers = {\"User-Agent\":\"Mozilla/5.0 (Macintosh; Intel Mac OS X 10_9_5) AppleWebKit 537.36 (KHTML, like Gecko) Chrome\",\"Accept\":\"text/html,application/xhtml+xml,application/xml;q=0.9,image/webp,*/*;q=0.8\"}"
   ]
  },
  {
   "cell_type": "markdown",
   "metadata": {},
   "source": [
    "## 設定驅動器"
   ]
  },
  {
   "cell_type": "code",
   "execution_count": 2,
   "metadata": {
    "collapsed": true
   },
   "outputs": [],
   "source": [
    "# 使用chrome驅動器\n",
    "browser = webdriver.Chrome()\n",
    "# 每一個網頁不超過30秒\n",
    "browser.set_page_load_timeout(30)\n",
    "browser.get('https://www.amazon.com/Best-Sellers-Toys-Games-Dress-Up-Pretend-Play/zgbs/toys-and-games/166316011/ref=t#1')"
   ]
  },
  {
   "cell_type": "markdown",
   "metadata": {},
   "source": [
    "## 抓頁碼"
   ]
  },
  {
   "cell_type": "code",
   "execution_count": 3,
   "metadata": {},
   "outputs": [
    {
     "name": "stdout",
     "output_type": "stream",
     "text": [
      "<selenium.webdriver.remote.webelement.WebElement (session=\"94167cdb3ba3bb29daa148d1bb6dcbce\", element=\"0.9389631749523832-1\")>\n",
      "81-100\n"
     ]
    },
    {
     "data": {
      "text/plain": [
       "5"
      ]
     },
     "execution_count": 3,
     "metadata": {},
     "output_type": "execute_result"
    }
   ],
   "source": [
    "page_info = browser.find_element_by_css_selector('#zg_page5 > a')\n",
    "print(page_info)\n",
    "print(page_info.text)\n",
    "pages = page_info.text.split('-')[1]\n",
    "pages = int(pages)\n",
    "pages = int(pages/20)\n",
    "pages"
   ]
  },
  {
   "cell_type": "markdown",
   "metadata": {},
   "source": [
    "## 抓取href_list"
   ]
  },
  {
   "cell_type": "code",
   "execution_count": 75,
   "metadata": {
    "scrolled": true
   },
   "outputs": [
    {
     "name": "stdout",
     "output_type": "stream",
     "text": [
      "第1頁\n",
      "第2頁\n",
      "第3頁\n",
      "-----------------\n",
      "13.55503797531128\n"
     ]
    }
   ],
   "source": [
    "start = time.time()\n",
    "Amzlist=[]\n",
    "for i in range(pages):\n",
    "    if i > 2:\n",
    "        break\n",
    "    print('第%d頁' % (i+1))\n",
    "    url ='https://www.amazon.com/Best-Sellers-Toys-Games-Dress-Up-Pretend-Play/zgbs/toys-and-games/166316011/ref=t#'+ str(i+1)\n",
    "    browser.get(url)\n",
    "    #windows.scrollTo(x座標,y座標)=>讓他執行滾動\n",
    "    browser.execute_script(\"window.scrollTo(0,document.body.scrollHeight);\")\n",
    "    time.sleep(3)\n",
    "    goods = browser.find_element_by_css_selector('#zg_left_col1 > #zg_centerListWrapper')\n",
    "#     print(goods.text)\n",
    "#     print('第%d頁有%d件商品' %((i+1),len(goods.text)))\n",
    "    all_goods = goods.find_elements_by_class_name('zg_itemImmersion')\n",
    "    try:\n",
    "        href = [g.find_element_by_css_selector('div.zg_itemWrapper > div > a').get_attribute('href')for g in all_goods]\n",
    "        Amzlist += href\n",
    "        time.sleep(0.1)\n",
    "    except Exception as e:\n",
    "            print(e)\n",
    "            print(\"none\")\n",
    "            pass\n",
    "end = time.time() \n",
    "\n",
    "print(\"-----------------\")\n",
    "Amzlist=\"\\n\".join(Amzlist) \n",
    "# print(Amzlist)\n",
    "print(end-start)\n",
    "\n",
    "\n"
   ]
  },
  {
   "cell_type": "markdown",
   "metadata": {},
   "source": [
    "## 轉成txt"
   ]
  },
  {
   "cell_type": "code",
   "execution_count": 5,
   "metadata": {
    "collapsed": true
   },
   "outputs": [],
   "source": [
    "if not os.path.exists('../20180118/US/'):\n",
    "    os.makedirs('../20180118/US/')"
   ]
  },
  {
   "cell_type": "code",
   "execution_count": 76,
   "metadata": {
    "collapsed": true
   },
   "outputs": [],
   "source": [
    "with open('../20180118/US/Dressing Up & Costumes.txt','w',encoding='utf-8') as f :\n",
    "        f.write(Amzlist)"
   ]
  },
  {
   "cell_type": "markdown",
   "metadata": {},
   "source": [
    "## 抓ReviewList"
   ]
  },
  {
   "cell_type": "code",
   "execution_count": 77,
   "metadata": {},
   "outputs": [
    {
     "name": "stdout",
     "output_type": "stream",
     "text": [
      "第1頁\n",
      "第2頁\n",
      "第3頁\n",
      "0\n",
      "-----------------\n",
      "17.075826168060303\n"
     ]
    }
   ],
   "source": [
    "start = time.time()\n",
    "Rlist=[]\n",
    "none = 0\n",
    "for i in range(pages):\n",
    "    if i > 2:\n",
    "        break\n",
    "    print('第%d頁' % (i+1))\n",
    "    url ='https://www.amazon.com/Best-Sellers-Toys-Games-Dress-Up-Pretend-Play/zgbs/toys-and-games/166316011/ref=t#'+ str(i+1)\n",
    "    browser.get(url)\n",
    "    #windows.scrollTo(x座標,y座標)=>讓他執行滾動\n",
    "    browser.execute_script(\"window.scrollTo(0,document.body.scrollHeight);\")\n",
    "    time.sleep(3)\n",
    "    goods = browser.find_element_by_css_selector('#zg_left_col1 > #zg_centerListWrapper')\n",
    "#     print(goods.text)\n",
    "#     print('第%d頁有%d件商品' %((i+1),len(goods.text)))\n",
    "    all_goods = goods.find_elements_by_class_name('zg_itemImmersion')\n",
    "    for g in all_goods:\n",
    "        try:\n",
    "            reviewlist = [g.find_element_by_class_name('a-size-small').get_attribute('href')]\n",
    "            Rlist += reviewlist \n",
    "            time.sleep(0.1)\n",
    "        except Exception as e:\n",
    "            none += 1\n",
    "            \n",
    "#                 print(e)\n",
    "#                 print(\"none\")\n",
    "            pass\n",
    "end = time.time() \n",
    "print(none)\n",
    "print(\"-----------------\")\n",
    "Rlist=\"\\n\".join(Rlist) \n",
    "# print(Rlist)\n",
    "print(end-start)"
   ]
  },
  {
   "cell_type": "markdown",
   "metadata": {},
   "source": [
    "## ReviewList轉成txt"
   ]
  },
  {
   "cell_type": "code",
   "execution_count": 8,
   "metadata": {
    "collapsed": true
   },
   "outputs": [],
   "source": [
    "if not os.path.exists('../../Review_list/20180118/US/'):\n",
    "    os.makedirs('../../Review_list/20180118/US/')"
   ]
  },
  {
   "cell_type": "code",
   "execution_count": 78,
   "metadata": {
    "collapsed": true
   },
   "outputs": [],
   "source": [
    "with open('../../Review_list/20180118/US/Dressing Up & Costumes_review.txt','w',encoding='utf-8') as f :\n",
    "        f.write(Rlist)"
   ]
  },
  {
   "cell_type": "markdown",
   "metadata": {},
   "source": [
    "## 將 contents 存成 csv檔"
   ]
  },
  {
   "cell_type": "code",
   "execution_count": 79,
   "metadata": {
    "scrolled": true
   },
   "outputs": [
    {
     "name": "stdout",
     "output_type": "stream",
     "text": [
      "第1頁\n",
      "第2頁\n",
      "第3頁\n",
      "-----------------\n",
      "20.869002103805542\n"
     ]
    }
   ],
   "source": [
    "start = time.time()\n",
    "conlist=[]\n",
    "for i in range(pages):\n",
    "    if i > 2:\n",
    "        break\n",
    "    print('第%d頁' % (i+1))\n",
    "    url ='https://www.amazon.com/Best-Sellers-Toys-Games-Dress-Up-Pretend-Play/zgbs/toys-and-games/166316011/ref=t#'+ str(i+1)\n",
    "    browser.get(url)\n",
    "    #windows.scrollTo(x座標,y座標)=>讓他執行滾動\n",
    "    browser.execute_script(\"window.scrollTo(0,document.body.scrollHeight);\")\n",
    "    time.sleep(3)\n",
    "    goods = browser.find_element_by_css_selector('#zg_left_col1 > #zg_centerListWrapper')\n",
    "#     print(goods.text)\n",
    "#     print('第%d頁有%d件商品' %((i+1),len(goods.text)))\n",
    "    all_goods = goods.find_elements_by_class_name('zg_itemImmersion')\n",
    "    for g in all_goods:\n",
    "        try:\n",
    "            contents = [g.find_element_by_class_name('zg_rankNumber').text+ g.find_element_by_class_name('a-link-normal').text+\";\"\\\n",
    "                    +g.find_element_by_css_selector('div.zg_itemWrapper > div > div.a-icon-row > a').get_attribute('title')+\";\"\\\n",
    "                    +g.find_element_by_class_name('a-size-small').text+\";\"\\\n",
    "                    +g.find_element_by_css_selector('div.zg_itemWrapper > div > div.a-row > span.a-size-base.a-color-price > span').text+\";\"\\\n",
    "                   +g.find_element_by_css_selector('div.zg_itemWrapper > div > a').get_attribute('href')]\n",
    "            conlist += contents\n",
    "        except Exception as e:\n",
    "            print(g.find_element_by_class_name('zg_rankNumber').text + g.find_element_by_class_name('a-link-normal').text)\n",
    "            pass\n",
    "        \n",
    "end = time.time() \n",
    "\n",
    "print(\"-----------------\")\n",
    "print(end-start)\n",
    "conlist=\"\\n\".join(conlist) \n",
    "# print(conlist)"
   ]
  },
  {
   "cell_type": "code",
   "execution_count": 80,
   "metadata": {
    "collapsed": true
   },
   "outputs": [],
   "source": [
    "with open('../20180118/US/Dressing Up & Costumes.csv','w',encoding='utf-8') as f :\n",
    "        f.write(conlist)"
   ]
  },
  {
   "cell_type": "markdown",
   "metadata": {},
   "source": [
    "## readlines()"
   ]
  },
  {
   "cell_type": "code",
   "execution_count": 35,
   "metadata": {
    "collapsed": true
   },
   "outputs": [],
   "source": [
    "with open('../../Extract/20171214/US/Baby & Toddler Toys.txt',encoding='utf-8') as f :\n",
    "    a=f.readlines()"
   ]
  },
  {
   "cell_type": "code",
   "execution_count": 36,
   "metadata": {
    "collapsed": true
   },
   "outputs": [],
   "source": [
    "hrefs=[i.split(\"\\n\")[0] for i in a]"
   ]
  },
  {
   "cell_type": "code",
   "execution_count": 37,
   "metadata": {},
   "outputs": [
    {
     "data": {
      "text/plain": [
       "'https://www.amazon.com/Nuby-Octopus-Hoopla-Bathtime-Purple/dp/B008CDR7LW/ref=zg_bs_196601011_1?_encoding=UTF8&psc=1&refRID=R8WD6SZYZXF6SH2DGZBZ'"
      ]
     },
     "execution_count": 37,
     "metadata": {},
     "output_type": "execute_result"
    }
   ],
   "source": [
    "hrefs[0]"
   ]
  },
  {
   "cell_type": "markdown",
   "metadata": {},
   "source": [
    "## 轉成100個html檔"
   ]
  },
  {
   "cell_type": "code",
   "execution_count": 38,
   "metadata": {},
   "outputs": [
    {
     "data": {
      "text/plain": [
       "<Response [503]>"
      ]
     },
     "execution_count": 38,
     "metadata": {},
     "output_type": "execute_result"
    }
   ],
   "source": [
    "import requests\n",
    "from bs4 import BeautifulSoup\n",
    "# 測試網頁是否正常連接\n",
    "session = requests.Session()\n",
    "headers = {\"User-Agent\":\"Mozilla/5.0 (Macintosh; Intel Mac OS X 10_9_5) AppleWebKit 537.36 (KHTML, like Gecko) Chrome\",\"Accept\":\"text/html,application/xhtml+xml,application/xml;q=0.9,image/webp,*/*;q=0.8\"}\n",
    "res = requests.get(hrefs[0])\n",
    "res"
   ]
  },
  {
   "cell_type": "code",
   "execution_count": 39,
   "metadata": {},
   "outputs": [
    {
     "name": "stdout",
     "output_type": "stream",
     "text": [
      "==========================file Nuby-Octopus-Hoopla-Bathtime-Purple=====================\n",
      "==========================file VTech-KidiBeats-Drum-Frustration-Packaging=====================\n",
      "==========================file Green-Toys-Ferry-Bathtub-White=====================\n",
      "==========================file First-Years-Stacking-Up-Cups=====================\n",
      "==========================file VTech-Stand-Learning-Frustration-Packaging=====================\n",
      "==========================file Nuby-IcyBite-Keys-Teether-Free=====================\n",
      "==========================file VTech-Drop-Go-Dump-Truck=====================\n",
      "==========================file Sassy-80109-Developmental-Bumpy-Ball=====================\n",
      "==========================file Crayola-Color-Dropz-Ounce-Tablets=====================\n",
      "==========================file Mega-Bloks-80-Piece-Building-Classic=====================\n",
      "==========================file Manhattan-Toy-Winkel-Sensory-Teether=====================\n",
      "==========================file Baby-Einstein-Along-Tunes-Musical=====================\n",
      "==========================file VTech-Busy-Learners-Activity-Cube=====================\n",
      "==========================file Baby-Banana-Training-Toothbrush-Teether=====================\n",
      "==========================file Boon-Building-Bath-Pipes-Toy=====================\n",
      "==========================file Munchkin-17040-Fishin-Bath-Toy=====================\n",
      "==========================file Playskool-Friends-Sesame-Street-Tickle=====================\n",
      "==========================file Melissa-Doug-Wooden-Building-Blocks=====================\n",
      "==========================file VTech-Spin-Learn-Color-Flashlight=====================\n",
      "==========================file Fisher-Price-Kick-Play-Piano-Green=====================\n",
      "==========================file Fisher-Price-Think-Learn-Teach-Movi=====================\n",
      "==========================file Melissa-Doug-Deluxe-Pounding-Wooden=====================\n",
      "==========================file VTech-Pull-and-Sing-Puppy=====================\n",
      "==========================file Munchkin-15949-Mozart-Magic-Cube=====================\n",
      "==========================file Hape-Pound-Bench-Slide-Xylophone=====================\n",
      "==========================file VTech-Touch-Swipe-Frustration-Packaging=====================\n",
      "==========================file VTech-Baby-Critters-Moosical-Beads=====================\n",
      "==========================file Melissa-Doug-Deluxe-Standing-Easel=====================\n",
      "==========================file VTech-Rhyme-and-Discover-Book=====================\n",
      "==========================file Green-Toys-SUBB-1032-Submarine-Blue=====================\n",
      "==========================file LeapFrog-Musical-Rainbow-Tea-Set=====================\n",
      "==========================file John-Deere-Sandbox-Vehicle-Pack=====================\n",
      "==========================file Sassy-Wonder-Wheel-Activity-Center=====================\n",
      "==========================file VTech-Crawl-Orange-Frustration-Packaging=====================\n",
      "==========================file Melissa-Doug-Mine-Accessories-Feeding=====================\n",
      "==========================file VTech-Touch-Teach-Frustration-Packaging=====================\n",
      "==========================file VTech-Call-Chat-Learning-Phone=====================\n",
      "==========================file Bekker-Rising-Squishies-Squishy-Scented=====================\n",
      "==========================file Bright-Starts-Snuggle-Teether-Assorted=====================\n",
      "==========================file Munchkin-Wind-Swimming-Penguin-Bath=====================\n",
      "==========================file Kleeger-Plush-Talking-Jungle-Animals=====================\n",
      "==========================file Munchkin-Wind-Swimming-Penguin-Bath=====================\n",
      "==========================file Lamaze-L27901-Peek-A-Boo-Forest=====================\n",
      "==========================file Green-Toys-Helicopter-Blue=====================\n",
      "==========================file Melissa-Doug-Dinosaurs-Puzzles-Storage=====================\n",
      "==========================file Fisher-Price-FGW58-Rock-a-Stack-Toy=====================\n",
      "==========================file VTech-Little-Apps-Tablet-Pink=====================\n",
      "==========================file Bees-Me-Bath-Toys-Girls=====================\n",
      "==========================file Paw-Patrol-Everests-Snowmobile-Vehicle=====================\n",
      "==========================file Green-Toys-Airplane-Board-Book=====================\n",
      "==========================file Fisher-Price-Think-Learn-Code-a-Pillar-Toy=====================\n",
      "==========================file VTech-Little-Apps-Tablet-Black=====================\n",
      "==========================file VTech-Musical-Rhymes-Frustration-Packaging=====================\n",
      "==========================file Playhut-Thomas-Train-Play-Vehicle=====================\n",
      "==========================file Melissa-Doug-Latches-Barn-Toy=====================\n",
      "==========================file Melissa-Doug-Magnetic-Loader-Semi-Trailer=====================\n",
      "==========================file Fisher-Price-See-Say-Farmer-Says=====================\n",
      "==========================file Melissa-Doug-Band-Box-Clang=====================\n",
      "==========================file VTech-Baby-Crinkle-Roar-Lion=====================\n",
      "==========================file Fisher-Price-Imaginext-Super-Friends-Boat=====================\n",
      "==========================file VTech-Click-and-Count-Remote=====================\n",
      "==========================file VTech-Baby-Critters-Roll-Discover=====================\n",
      "==========================file VTech-Baby-Crinkle-Roar-Lion=====================\n",
      "==========================file Little-Tikes-Sports-Zone-Infant=====================\n",
      "==========================file Fisher-Price-Imaginext-Super-Friends-Boat=====================\n",
      "==========================file Melissa-Doug-Underwater-Ocean-Puzzle=====================\n",
      "==========================file Melissa-Doug-Kids-Pull-Back-Vehicle=====================\n",
      "==========================file Fishing-Spotted-Fajiabao-Children-Bathtub=====================\n",
      "==========================file Baby-Bath-Toy-Stackable-Automated=====================\n",
      "==========================file Green-Toys-First-Boat-Blue=====================\n",
      "==========================file Fisher-Price-Little-People-Sounds-Camper=====================\n",
      "==========================file Melissa-Doug-Diaper-Changing-Accessories=====================\n",
      "==========================file Melissa-Doug-First-Bead-Maze=====================\n",
      "==========================file Bright-Starts-Clack-Slide-Activity=====================\n",
      "==========================file Kleeger-Inflatable-Baby-Water-Mat=====================\n",
      "==========================file Munchkin-Twisty-Figure-8-Teether=====================\n",
      "==========================file WATINC-Kawaii-coffee-Squishy-Scented=====================\n",
      "==========================file Melissa-Doug-Doctor-Costume-Dress-Up=====================\n",
      "==========================file Paw-Patrol-Cruiser-Vehicle-Patroller=====================\n",
      "==========================file rolimate-Educational-Preschool-Recognition-Geometric=====================\n",
      "==========================file Fisher-Price-Think-Learn-Amazon-Exclusive=====================\n",
      "==========================file Green-Toys-First-Boat-Blue=====================\n",
      "==========================file Toys-One-Two-Squeeze-Blocks=====================\n",
      "==========================file Melissa-Doug-Vehicles-Puzzles-Storage=====================\n",
      "==========================file Sassy-80030-Floor-Mirror-Blue=====================\n",
      "==========================file Melissa-Doug-Doctor-Costume-Dress-Up=====================\n",
      "==========================file Fisher-Price-Stages-Garden-Amazon-Exclusive=====================\n",
      "==========================file Fisher-Price-Little-People-Surprise-Sounds=====================\n",
      "==========================file AMOSTING-Matching-Pegboard-Learning-Educational=====================\n",
      "==========================file Vulli-6163243-Sophie-la-Girafe=====================\n",
      "==========================file Bright-Starts-Lots-Links-Accessory=====================\n",
      "==========================file VTech-Spinning-Playset-Frustration-Packaging=====================\n",
      "==========================file Fisher-Price-Friends-Destination-Discovery-Interactive=====================\n",
      "==========================file Step2-Best-Chefs-Kitchen-Playset=====================\n"
     ]
    },
    {
     "name": "stdout",
     "output_type": "stream",
     "text": [
      "==========================file Kids-II-81107-Oball-Shaker=====================\n",
      "==========================file Lamaze-L27024A-Freddie-The-Firefly=====================\n",
      "==========================file VTech-80-077000-Sit-to-Stand-Learning-Walker=====================\n",
      "==========================file Bright-Starts-Clack-Slide-Activity=====================\n",
      "==========================file Boon-Water-Bugs-Floating-Bath=====================\n",
      "==========================file Galactic-Heroes-Imperial-AT-AT-Fortress=====================\n",
      "250.78685998916626\n",
      "97\n"
     ]
    }
   ],
   "source": [
    "from bs4 import BeautifulSoup\n",
    "import multiprocessing as mp\n",
    "import concurrent.futures\n",
    "import requests\n",
    "import os\n",
    "\n",
    "\n",
    "session = requests.Session()\n",
    "headers = {\"User-Agent\":\"Mozilla/5.0 (Macintosh; Intel Mac OS X 10_9_5) AppleWebKit 537.36 (KHTML, like Gecko) Chrome\",\"Accept\":\"text/html,application/xhtml+xml,application/xml;q=0.9,image/webp,*/*;q=0.8\"}\n",
    "cookiestr = '__cfduid=df4417457002ed1d390cc65a2f7734b9d1494830719; _gat=1; _ga=GA1.2.1333249610.1494830798; _gid=GA1.2.970157078.1502190098'\n",
    "cookies = cookiestr.split(\";\")\n",
    "cookiedata ={}\n",
    "if not os.path.exists('../../20171214/US/Baby & Toddler Toys/'):\n",
    "    os.makedirs('../../20171214/US/Baby & Toddler Toys/')\n",
    "for cookie in cookies:\n",
    "    cookiedata[cookie.split(\"=\")[0]]=cookie.split(\"=\")[1]\n",
    "    \n",
    "import time\n",
    "errorlist = []\n",
    "error = 0\n",
    "start=time.time()\n",
    "for href in hrefs:\n",
    "    res=requests.get(href,cookies = cookiedata)\n",
    "    res.content\n",
    "    try:\n",
    "        with open('../../20171214/US/Baby & Toddler Toys/'+href.split('/')[-4]+'.html','w',encoding='utf-8') as f :\n",
    "                print(\"==========================file %s=====================\" % (href.split('/')[-4]))\n",
    "                f.write(res.text)\n",
    "                time.sleep(2)\n",
    "                if 'Sorry! Something went wrong on our end.' in res.text:\n",
    "                    error += 1\n",
    "                    errorlist.append(href)\n",
    "                else:\n",
    "                    if 'Type the characters you see in this image:'in res.text:\n",
    "                        error += 1\n",
    "                        errorlist.append(href)\n",
    "                    else:\n",
    "                        if 'Sorry! Something went wrong on our end.' in res.text:\n",
    "                            error += 1\n",
    "                            errorlist.append(href)\n",
    "                    \n",
    "                        with open('../../20171214/US/Baby & Toddler Toys_error.txt','w',encoding='utf-8') as f1:\n",
    "                            for row in errorlist:\n",
    "                                f1.write(row + '\\n')\n",
    "    except Exception as e:\n",
    "        print(e)\n",
    "        time.sleep(0.1)\n",
    "        pass\n",
    "    \n",
    "    \n",
    "    \n",
    "\n",
    "end=time.time()\n",
    "print(end-start)\n",
    "print(error)"
   ]
  },
  {
   "cell_type": "markdown",
   "metadata": {
    "collapsed": true
   },
   "source": [
    "## Error test"
   ]
  },
  {
   "cell_type": "code",
   "execution_count": 40,
   "metadata": {
    "collapsed": true
   },
   "outputs": [],
   "source": [
    "with open('../../20171214/US/Baby & Toddler Toys_error.txt',encoding='utf-8') as f :\n",
    "    b=f.readlines()"
   ]
  },
  {
   "cell_type": "code",
   "execution_count": 41,
   "metadata": {
    "collapsed": true
   },
   "outputs": [],
   "source": [
    "hrefs2=[i.split(\"\\n\")[0] for i in b]"
   ]
  },
  {
   "cell_type": "code",
   "execution_count": 42,
   "metadata": {},
   "outputs": [
    {
     "data": {
      "text/plain": [
       "'https://www.amazon.com/Nuby-Octopus-Hoopla-Bathtime-Purple/dp/B008CDR7LW/ref=zg_bs_196601011_1?_encoding=UTF8&psc=1&refRID=R8WD6SZYZXF6SH2DGZBZ'"
      ]
     },
     "execution_count": 42,
     "metadata": {},
     "output_type": "execute_result"
    }
   ],
   "source": [
    "hrefs2[0]"
   ]
  },
  {
   "cell_type": "code",
   "execution_count": 44,
   "metadata": {},
   "outputs": [
    {
     "data": {
      "text/plain": [
       "<Response [503]>"
      ]
     },
     "execution_count": 44,
     "metadata": {},
     "output_type": "execute_result"
    }
   ],
   "source": [
    "import requests\n",
    "from bs4 import BeautifulSoup\n",
    "# 測試網頁是否正常連接\n",
    "session = requests.Session()\n",
    "headers = {\"User-Agent\":\"Mozilla/5.0 (Macintosh; Intel Mac OS X 10_9_5) AppleWebKit 537.36 (KHTML, like Gecko) Chrome\",\"Accept\":\"text/html,application/xhtml+xml,application/xml;q=0.9,image/webp,*/*;q=0.8\"}\n",
    "res = requests.get(hrefs2[0])\n",
    "res"
   ]
  },
  {
   "cell_type": "code",
   "execution_count": 43,
   "metadata": {},
   "outputs": [
    {
     "name": "stdout",
     "output_type": "stream",
     "text": [
      "==========================file Nuby-Octopus-Hoopla-Bathtime-Purple=====================\n",
      "==========================file VTech-KidiBeats-Drum-Frustration-Packaging=====================\n",
      "==========================file Green-Toys-Ferry-Bathtub-White=====================\n",
      "==========================file VTech-Stand-Learning-Frustration-Packaging=====================\n",
      "==========================file Nuby-IcyBite-Keys-Teether-Free=====================\n",
      "==========================file VTech-Drop-Go-Dump-Truck=====================\n",
      "==========================file Sassy-80109-Developmental-Bumpy-Ball=====================\n",
      "==========================file Crayola-Color-Dropz-Ounce-Tablets=====================\n",
      "==========================file Mega-Bloks-80-Piece-Building-Classic=====================\n",
      "==========================file Manhattan-Toy-Winkel-Sensory-Teether=====================\n",
      "==========================file Baby-Einstein-Along-Tunes-Musical=====================\n",
      "==========================file VTech-Busy-Learners-Activity-Cube=====================\n",
      "==========================file Baby-Banana-Training-Toothbrush-Teether=====================\n",
      "==========================file Boon-Building-Bath-Pipes-Toy=====================\n",
      "==========================file Munchkin-17040-Fishin-Bath-Toy=====================\n",
      "==========================file Playskool-Friends-Sesame-Street-Tickle=====================\n",
      "==========================file Melissa-Doug-Wooden-Building-Blocks=====================\n",
      "==========================file VTech-Spin-Learn-Color-Flashlight=====================\n",
      "==========================file Fisher-Price-Kick-Play-Piano-Green=====================\n",
      "==========================file Fisher-Price-Think-Learn-Teach-Movi=====================\n",
      "==========================file Melissa-Doug-Deluxe-Pounding-Wooden=====================\n",
      "==========================file VTech-Pull-and-Sing-Puppy=====================\n",
      "==========================file Munchkin-15949-Mozart-Magic-Cube=====================\n",
      "==========================file Hape-Pound-Bench-Slide-Xylophone=====================\n",
      "==========================file VTech-Touch-Swipe-Frustration-Packaging=====================\n",
      "==========================file Melissa-Doug-Deluxe-Standing-Easel=====================\n",
      "==========================file VTech-Rhyme-and-Discover-Book=====================\n",
      "==========================file Green-Toys-SUBB-1032-Submarine-Blue=====================\n",
      "==========================file LeapFrog-Musical-Rainbow-Tea-Set=====================\n",
      "==========================file John-Deere-Sandbox-Vehicle-Pack=====================\n",
      "==========================file Sassy-Wonder-Wheel-Activity-Center=====================\n",
      "==========================file VTech-Crawl-Orange-Frustration-Packaging=====================\n",
      "==========================file Melissa-Doug-Mine-Accessories-Feeding=====================\n",
      "==========================file VTech-Touch-Teach-Frustration-Packaging=====================\n",
      "==========================file VTech-Call-Chat-Learning-Phone=====================\n",
      "==========================file Bekker-Rising-Squishies-Squishy-Scented=====================\n",
      "==========================file Bright-Starts-Snuggle-Teether-Assorted=====================\n",
      "==========================file Munchkin-Wind-Swimming-Penguin-Bath=====================\n",
      "==========================file Kleeger-Plush-Talking-Jungle-Animals=====================\n",
      "==========================file Munchkin-Wind-Swimming-Penguin-Bath=====================\n",
      "==========================file Lamaze-L27901-Peek-A-Boo-Forest=====================\n",
      "102.20284295082092\n",
      "39\n"
     ]
    }
   ],
   "source": [
    "from bs4 import BeautifulSoup\n",
    "import multiprocessing as mp\n",
    "import concurrent.futures\n",
    "import requests\n",
    "import os\n",
    "\n",
    "\n",
    "session = requests.Session()\n",
    "headers = {\"User-Agent\":\"Mozilla/5.0 (Macintosh; Intel Mac OS X 10_9_5) AppleWebKit 537.36 (KHTML, like Gecko) Chrome\",\"Accept\":\"text/html,application/xhtml+xml,application/xml;q=0.9,image/webp,*/*;q=0.8\"}\n",
    "cookiestr = '__cfduid=df4417457002ed1d390cc65a2f7734b9d1494830719; _gat=1; _ga=GA1.2.1333249610.1494830798; _gid=GA1.2.970157078.1502190098'\n",
    "cookies = cookiestr.split(\";\")\n",
    "cookiedata ={}\n",
    "if not os.path.exists('../../20171214/US/Baby & Toddler Toys2/'):\n",
    "    os.makedirs('../../20171214/US/Baby & Toddler Toys2/')\n",
    "for cookie in cookies:\n",
    "    cookiedata[cookie.split(\"=\")[0]]=cookie.split(\"=\")[1]\n",
    "    \n",
    "import time\n",
    "errorlist = []\n",
    "error = 0\n",
    "start=time.time()\n",
    "for href2 in hrefs2:\n",
    "    res2=requests.get(href2,cookies = cookiedata)\n",
    "    res2.content\n",
    "    try:\n",
    "        with open('../../20171214/US/Baby & Toddler Toys2/'+href2.split('/')[-4]+'.html','w',encoding='utf-8') as f2 :\n",
    "                print(\"==========================file %s=====================\" % (href2.split('/')[-4]))\n",
    "                f2.write(res2.text)\n",
    "                time.sleep(2)\n",
    "                if 'Sorry! Something went wrong on our end.' in res2.text:\n",
    "                    error += 1\n",
    "                    errorlist.append(href2)\n",
    "                else:\n",
    "                    if 'Type the characters you see in this image:'in res2.text:\n",
    "                        error += 1\n",
    "                        errorlist.append(href2)\n",
    "                    else:\n",
    "                        if 'Sorry! Something went wrong on our end.' in res2.text:\n",
    "                            error += 1\n",
    "                            errorlist.append(href2)\n",
    "                    \n",
    "                        with open('../../20171214/US/Baby & Toddler Toys_error2.txt','w',encoding='utf-8') as f3:\n",
    "                            for row in errorlist:\n",
    "                                f3.write(row + '\\n')\n",
    "    except Exception as e:\n",
    "        print(e)\n",
    "        time.sleep(0.1)\n",
    "        pass\n",
    "    \n",
    "    \n",
    "    \n",
    "\n",
    "end=time.time()\n",
    "print(end-start)\n",
    "print(error)"
   ]
  },
  {
   "cell_type": "code",
   "execution_count": null,
   "metadata": {
    "collapsed": true
   },
   "outputs": [],
   "source": []
  }
 ],
 "metadata": {
  "kernelspec": {
   "display_name": "Python 3",
   "language": "python",
   "name": "python3"
  },
  "language_info": {
   "codemirror_mode": {
    "name": "ipython",
    "version": 3
   },
   "file_extension": ".py",
   "mimetype": "text/x-python",
   "name": "python",
   "nbconvert_exporter": "python",
   "pygments_lexer": "ipython3",
   "version": "3.6.1"
  }
 },
 "nbformat": 4,
 "nbformat_minor": 2
}
