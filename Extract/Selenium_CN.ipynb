{
 "cells": [
  {
   "cell_type": "markdown",
   "metadata": {},
   "source": [
    "## Prepared Work"
   ]
  },
  {
   "cell_type": "code",
   "execution_count": 1,
   "metadata": {
    "collapsed": true
   },
   "outputs": [],
   "source": [
    "import requests\n",
    "from bs4 import BeautifulSoup as bs\n",
    "import os\n",
    "import json\n",
    "import time\n",
    "import re\n",
    "from selenium import webdriver\n",
    "\n",
    "cookiestr = 'aws-account-alias=bb102; x-wl-uid=1qO1zbLT/VurrTD8olrRaxt4ZvTE+vTeFIHu58TFdpWz5wSlgeDL/v+q5P3gFNGfccOVMboQEwus=; AMCV_4A8581745834114C0A495E2B%40AdobeOrg=-1891778711%7CMCIDTS%7C17459%7CMCMID%7C52253475372251991424690344856724644964%7CMCOPTOUT-1508403795s%7CNONE%7CMCAID%7C2CF30EF7852A888A-40000300E0001C2D%7CvVersion%7C2.4.0; s_nr=1508396596374-New; s_lv=1508396596375; skin=noskin; session-token=0lQkzegQRtwPu7GiPFEAEDYLCK3p6WW8vF/g2Kr93EnMHKmH2uTgd30RM43tJCAw2uo2xeco+fz9qCC4dzTpW86EX5YF5lVFvMOXhSncgNmhfgnG7DaXuUwvxrXhAtluWYQgfWI8I22bxDO6KWvBDwfM6IFCfsYouZ6kt3oXTHzy6wSehl3qokrzeEBzLpfPu6mlixQc/Yuommb6ztr0yiL/6dzBf5UjFImpI3OXvIkvwGuyBITnHJH9epKv+Lec; amznacsleftnav-74393fbe-66a6-3a52-840b-37b54d8c76ce=1,21,3; ubid-main=132-7315371-9843811; session-id-time=2082787201l; session-id=135-5046157-5863552; csm-hit=85CP8ATFWH4EXAFXQX3Q+s-M5199TSF54AFVK1M6RJW|1509623128403'\n",
    "cookies = cookiestr.split(\";\")\n",
    "cookiedata ={}\n",
    "for cookie in cookies:\n",
    "    cookiedata[cookie.split(\"=\")[0]]=cookie.split(\"=\")[1]\n",
    "\n",
    "ssession = requests.Session()\n",
    "headers = {\"User-Agent\":\"Mozilla/5.0 (Macintosh; Intel Mac OS X 10_9_5) AppleWebKit 537.36 (KHTML, like Gecko) Chrome\",\"Accept\":\"text/html,application/xhtml+xml,application/xml;q=0.9,image/webp,*/*;q=0.8\"}"
   ]
  },
  {
   "cell_type": "markdown",
   "metadata": {},
   "source": [
    "## 設定驅動器"
   ]
  },
  {
   "cell_type": "code",
   "execution_count": 2,
   "metadata": {
    "collapsed": true
   },
   "outputs": [],
   "source": [
    "# 使用chrome驅動器\n",
    "browser = webdriver.Chrome()\n",
    "# 每一個網頁不超過30秒\n",
    "browser.set_page_load_timeout(30)\n",
    "browser.get('https://www.amazon.cn/gp/bestsellers/toys-and-games/1982054051/ref=t_1_t#1')"
   ]
  },
  {
   "cell_type": "markdown",
   "metadata": {},
   "source": [
    "## 抓頁碼"
   ]
  },
  {
   "cell_type": "code",
   "execution_count": 3,
   "metadata": {},
   "outputs": [
    {
     "name": "stdout",
     "output_type": "stream",
     "text": [
      "<selenium.webdriver.remote.webelement.WebElement (session=\"e73324b49ce7780e51c4e521810bfe18\", element=\"0.26285855586496254-1\")>\n",
      "81-100\n"
     ]
    },
    {
     "data": {
      "text/plain": [
       "5"
      ]
     },
     "execution_count": 3,
     "metadata": {},
     "output_type": "execute_result"
    }
   ],
   "source": [
    "page_info = browser.find_element_by_css_selector('#zg_page5 > a')\n",
    "print(page_info)\n",
    "print(page_info.text)\n",
    "pages = page_info.text.split('-')[1]\n",
    "pages = int(pages)\n",
    "pages = int(pages/20)\n",
    "pages"
   ]
  },
  {
   "cell_type": "markdown",
   "metadata": {},
   "source": [
    "## 抓取href_list"
   ]
  },
  {
   "cell_type": "code",
   "execution_count": null,
   "metadata": {},
   "outputs": [],
   "source": [
    "start = time.time()\n",
    "Amzlist=[]\n",
    "for i in range(pages):\n",
    "    if i > 4:\n",
    "        break\n",
    "    print('第%d頁' % (i+1))\n",
    "    url ='https://www.amazon.cn/gp/bestsellers/toys-and-games/1982061051/ref=t_1_t#'+ str(i+1)\n",
    "    browser.get(url)\n",
    "    #windows.scrollTo(x座標,y座標)=>讓他執行滾動\n",
    "    browser.execute_script(\"window.scrollTo(0,document.body.scrollHeight);\")\n",
    "    time.sleep(3)\n",
    "    goods = browser.find_element_by_css_selector('#zg_left_col1')\n",
    "#     print(goods.text)\n",
    "#     print('第%d頁有%d件商品' %((i+1),len(goods.text)))\n",
    "    all_goods = goods.find_elements_by_class_name('zg_itemRow')\n",
    "    try:\n",
    "        href = [g.find_element_by_css_selector('div.a-fixed-left-grid.p13n-asin > div > div.a-fixed-left-grid-col.a-col-right > a ').get_attribute('href')for g in all_goods]\n",
    "        Amzlist += href\n",
    "        time.sleep(0.1)\n",
    "    except Exception as e:\n",
    "            print(e)\n",
    "            print(\"none\")\n",
    "            pass\n",
    "end = time.time() \n",
    "\n",
    "print(\"-----------------\")\n",
    "Amzlist=\"\\n\".join(Amzlist) \n",
    "# print(Amzlist)\n",
    "print(end-start)"
   ]
  },
  {
   "cell_type": "markdown",
   "metadata": {},
   "source": [
    "## 轉成txt"
   ]
  },
  {
   "cell_type": "code",
   "execution_count": null,
   "metadata": {
    "collapsed": true
   },
   "outputs": [],
   "source": [
    "if not os.path.exists('../20180118/CN/'):\n",
    "    os.makedirs('../20180118/CN/')"
   ]
  },
  {
   "cell_type": "code",
   "execution_count": null,
   "metadata": {
    "collapsed": true
   },
   "outputs": [],
   "source": [
    "with open('../20180118/CN/毛绒玩具.txt','w',encoding='utf-8') as f :\n",
    "        f.write(Amzlist)"
   ]
  },
  {
   "cell_type": "markdown",
   "metadata": {},
   "source": [
    "## 抓ReviewList"
   ]
  },
  {
   "cell_type": "code",
   "execution_count": 4,
   "metadata": {},
   "outputs": [
    {
     "name": "stdout",
     "output_type": "stream",
     "text": [
      "第1頁\n",
      "第2頁\n"
     ]
    },
    {
     "ename": "TimeoutException",
     "evalue": "Message: timeout\n  (Session info: chrome=64.0.3282.186)\n  (Driver info: chromedriver=2.30.477690 (c53f4ad87510ee97b5c3425a14c0e79780cdf262),platform=Mac OS X 10.13.3 x86_64)\n",
     "output_type": "error",
     "traceback": [
      "\u001b[0;31m---------------------------------------------------------------------------\u001b[0m",
      "\u001b[0;31mTimeoutException\u001b[0m                          Traceback (most recent call last)",
      "\u001b[0;32m<ipython-input-4-72b11741f3f7>\u001b[0m in \u001b[0;36m<module>\u001b[0;34m()\u001b[0m\n\u001b[1;32m      7\u001b[0m     \u001b[0mprint\u001b[0m\u001b[0;34m(\u001b[0m\u001b[0;34m'第%d頁'\u001b[0m \u001b[0;34m%\u001b[0m \u001b[0;34m(\u001b[0m\u001b[0mi\u001b[0m\u001b[0;34m+\u001b[0m\u001b[0;36m1\u001b[0m\u001b[0;34m)\u001b[0m\u001b[0;34m)\u001b[0m\u001b[0;34m\u001b[0m\u001b[0m\n\u001b[1;32m      8\u001b[0m     \u001b[0murl\u001b[0m \u001b[0;34m=\u001b[0m\u001b[0;34m'https://www.amazon.cn/gp/bestsellers/toys-and-games/1982054051/ref=t_1_t#'\u001b[0m\u001b[0;34m+\u001b[0m \u001b[0mstr\u001b[0m\u001b[0;34m(\u001b[0m\u001b[0mi\u001b[0m\u001b[0;34m+\u001b[0m\u001b[0;36m1\u001b[0m\u001b[0;34m)\u001b[0m\u001b[0;34m\u001b[0m\u001b[0m\n\u001b[0;32m----> 9\u001b[0;31m     \u001b[0mbrowser\u001b[0m\u001b[0;34m.\u001b[0m\u001b[0mget\u001b[0m\u001b[0;34m(\u001b[0m\u001b[0murl\u001b[0m\u001b[0;34m)\u001b[0m\u001b[0;34m\u001b[0m\u001b[0m\n\u001b[0m\u001b[1;32m     10\u001b[0m     \u001b[0;31m#windows.scrollTo(x座標,y座標)=>讓他執行滾動\u001b[0m\u001b[0;34m\u001b[0m\u001b[0;34m\u001b[0m\u001b[0m\n\u001b[1;32m     11\u001b[0m     \u001b[0mbrowser\u001b[0m\u001b[0;34m.\u001b[0m\u001b[0mexecute_script\u001b[0m\u001b[0;34m(\u001b[0m\u001b[0;34m\"window.scrollTo(0,document.body.scrollHeight);\"\u001b[0m\u001b[0;34m)\u001b[0m\u001b[0;34m\u001b[0m\u001b[0m\n",
      "\u001b[0;32m/usr/local/lib/python3.6/site-packages/selenium/webdriver/remote/webdriver.py\u001b[0m in \u001b[0;36mget\u001b[0;34m(self, url)\u001b[0m\n\u001b[1;32m    266\u001b[0m         \u001b[0mLoads\u001b[0m \u001b[0ma\u001b[0m \u001b[0mweb\u001b[0m \u001b[0mpage\u001b[0m \u001b[0;32min\u001b[0m \u001b[0mthe\u001b[0m \u001b[0mcurrent\u001b[0m \u001b[0mbrowser\u001b[0m \u001b[0msession\u001b[0m\u001b[0;34m.\u001b[0m\u001b[0;34m\u001b[0m\u001b[0m\n\u001b[1;32m    267\u001b[0m         \"\"\"\n\u001b[0;32m--> 268\u001b[0;31m         \u001b[0mself\u001b[0m\u001b[0;34m.\u001b[0m\u001b[0mexecute\u001b[0m\u001b[0;34m(\u001b[0m\u001b[0mCommand\u001b[0m\u001b[0;34m.\u001b[0m\u001b[0mGET\u001b[0m\u001b[0;34m,\u001b[0m \u001b[0;34m{\u001b[0m\u001b[0;34m'url'\u001b[0m\u001b[0;34m:\u001b[0m \u001b[0murl\u001b[0m\u001b[0;34m}\u001b[0m\u001b[0;34m)\u001b[0m\u001b[0;34m\u001b[0m\u001b[0m\n\u001b[0m\u001b[1;32m    269\u001b[0m \u001b[0;34m\u001b[0m\u001b[0m\n\u001b[1;32m    270\u001b[0m     \u001b[0;34m@\u001b[0m\u001b[0mproperty\u001b[0m\u001b[0;34m\u001b[0m\u001b[0m\n",
      "\u001b[0;32m/usr/local/lib/python3.6/site-packages/selenium/webdriver/remote/webdriver.py\u001b[0m in \u001b[0;36mexecute\u001b[0;34m(self, driver_command, params)\u001b[0m\n\u001b[1;32m    254\u001b[0m         \u001b[0mresponse\u001b[0m \u001b[0;34m=\u001b[0m \u001b[0mself\u001b[0m\u001b[0;34m.\u001b[0m\u001b[0mcommand_executor\u001b[0m\u001b[0;34m.\u001b[0m\u001b[0mexecute\u001b[0m\u001b[0;34m(\u001b[0m\u001b[0mdriver_command\u001b[0m\u001b[0;34m,\u001b[0m \u001b[0mparams\u001b[0m\u001b[0;34m)\u001b[0m\u001b[0;34m\u001b[0m\u001b[0m\n\u001b[1;32m    255\u001b[0m         \u001b[0;32mif\u001b[0m \u001b[0mresponse\u001b[0m\u001b[0;34m:\u001b[0m\u001b[0;34m\u001b[0m\u001b[0m\n\u001b[0;32m--> 256\u001b[0;31m             \u001b[0mself\u001b[0m\u001b[0;34m.\u001b[0m\u001b[0merror_handler\u001b[0m\u001b[0;34m.\u001b[0m\u001b[0mcheck_response\u001b[0m\u001b[0;34m(\u001b[0m\u001b[0mresponse\u001b[0m\u001b[0;34m)\u001b[0m\u001b[0;34m\u001b[0m\u001b[0m\n\u001b[0m\u001b[1;32m    257\u001b[0m             response['value'] = self._unwrap_value(\n\u001b[1;32m    258\u001b[0m                 response.get('value', None))\n",
      "\u001b[0;32m/usr/local/lib/python3.6/site-packages/selenium/webdriver/remote/errorhandler.py\u001b[0m in \u001b[0;36mcheck_response\u001b[0;34m(self, response)\u001b[0m\n\u001b[1;32m    192\u001b[0m         \u001b[0;32melif\u001b[0m \u001b[0mexception_class\u001b[0m \u001b[0;34m==\u001b[0m \u001b[0mUnexpectedAlertPresentException\u001b[0m \u001b[0;32mand\u001b[0m \u001b[0;34m'alert'\u001b[0m \u001b[0;32min\u001b[0m \u001b[0mvalue\u001b[0m\u001b[0;34m:\u001b[0m\u001b[0;34m\u001b[0m\u001b[0m\n\u001b[1;32m    193\u001b[0m             \u001b[0;32mraise\u001b[0m \u001b[0mexception_class\u001b[0m\u001b[0;34m(\u001b[0m\u001b[0mmessage\u001b[0m\u001b[0;34m,\u001b[0m \u001b[0mscreen\u001b[0m\u001b[0;34m,\u001b[0m \u001b[0mstacktrace\u001b[0m\u001b[0;34m,\u001b[0m \u001b[0mvalue\u001b[0m\u001b[0;34m[\u001b[0m\u001b[0;34m'alert'\u001b[0m\u001b[0;34m]\u001b[0m\u001b[0;34m.\u001b[0m\u001b[0mget\u001b[0m\u001b[0;34m(\u001b[0m\u001b[0;34m'text'\u001b[0m\u001b[0;34m)\u001b[0m\u001b[0;34m)\u001b[0m\u001b[0;34m\u001b[0m\u001b[0m\n\u001b[0;32m--> 194\u001b[0;31m         \u001b[0;32mraise\u001b[0m \u001b[0mexception_class\u001b[0m\u001b[0;34m(\u001b[0m\u001b[0mmessage\u001b[0m\u001b[0;34m,\u001b[0m \u001b[0mscreen\u001b[0m\u001b[0;34m,\u001b[0m \u001b[0mstacktrace\u001b[0m\u001b[0;34m)\u001b[0m\u001b[0;34m\u001b[0m\u001b[0m\n\u001b[0m\u001b[1;32m    195\u001b[0m \u001b[0;34m\u001b[0m\u001b[0m\n\u001b[1;32m    196\u001b[0m     \u001b[0;32mdef\u001b[0m \u001b[0m_value_or_default\u001b[0m\u001b[0;34m(\u001b[0m\u001b[0mself\u001b[0m\u001b[0;34m,\u001b[0m \u001b[0mobj\u001b[0m\u001b[0;34m,\u001b[0m \u001b[0mkey\u001b[0m\u001b[0;34m,\u001b[0m \u001b[0mdefault\u001b[0m\u001b[0;34m)\u001b[0m\u001b[0;34m:\u001b[0m\u001b[0;34m\u001b[0m\u001b[0m\n",
      "\u001b[0;31mTimeoutException\u001b[0m: Message: timeout\n  (Session info: chrome=64.0.3282.186)\n  (Driver info: chromedriver=2.30.477690 (c53f4ad87510ee97b5c3425a14c0e79780cdf262),platform=Mac OS X 10.13.3 x86_64)\n"
     ]
    }
   ],
   "source": [
    "start = time.time()\n",
    "Rlist=[]\n",
    "none = 0\n",
    "for i in range(pages):\n",
    "    if i > 4:\n",
    "        break\n",
    "    print('第%d頁' % (i+1))\n",
    "    url ='https://www.amazon.cn/gp/bestsellers/toys-and-games/1982054051/ref=t_1_t#'+ str(i+1)\n",
    "    browser.get(url)\n",
    "    #windows.scrollTo(x座標,y座標)=>讓他執行滾動\n",
    "    browser.execute_script(\"window.scrollTo(0,document.body.scrollHeight);\")\n",
    "    time.sleep(3)\n",
    "    goods = browser.find_element_by_css_selector('#zg_left_col1')\n",
    "#     print(goods.text)\n",
    "#     print('第%d頁有%d件商品' %((i+1),len(goods.text)))\n",
    "    all_goods = goods.find_elements_by_class_name('zg_itemRow')\n",
    "    for g in all_goods:\n",
    "        try:\n",
    "            reviewlist = [str(g.find_element_by_class_name('a-size-small').get_attribute('href'))]\n",
    "            Rlist += reviewlist \n",
    "            time.sleep(0.1)\n",
    "        except Exception as e:\n",
    "            none += 1\n",
    "            \n",
    "#                 print(e)\n",
    "#                 print(\"none\")\n",
    "            pass\n",
    "end = time.time() \n",
    "print(none)\n",
    "print(\"-----------------\")\n",
    "Rlist=\"\\n\".join(Rlist) \n",
    "# print(Rlist)\n",
    "print(end-start)"
   ]
  },
  {
   "cell_type": "markdown",
   "metadata": {},
   "source": [
    "## ReviewList轉成txt"
   ]
  },
  {
   "cell_type": "code",
   "execution_count": null,
   "metadata": {
    "collapsed": true
   },
   "outputs": [],
   "source": [
    "if not os.path.exists('../../Review_list/20171130/CN/'):\n",
    "    os.makedirs('../../Review_list/20171130/CN/')"
   ]
  },
  {
   "cell_type": "code",
   "execution_count": null,
   "metadata": {
    "collapsed": true
   },
   "outputs": [],
   "source": [
    "with open('../../Review_list/20171140/CN/婴幼玩具review.txt','w',encoding='utf-8') as f :\n",
    "        f.write(Rlist)"
   ]
  },
  {
   "cell_type": "markdown",
   "metadata": {},
   "source": [
    "## 將 contents 存成 csv檔"
   ]
  },
  {
   "cell_type": "code",
   "execution_count": null,
   "metadata": {},
   "outputs": [],
   "source": [
    "### start = time.time()\n",
    "conlist=[]\n",
    "for i in range(pages):\n",
    "    if i > 4:\n",
    "        break\n",
    "#     print('第%d頁' % (i+1))\n",
    "    url ='https://www.amazon.cn/gp/bestsellers/toys-and-games/1982061051/ref=t_1_t#'+ str(i+1)\n",
    "    browser.get(url)\n",
    "    #windows.scrollTo(x座標,y座標)=>讓他執行滾動\n",
    "    browser.execute_script(\"window.scrollTo(0,document.body.scrollHeight);\")\n",
    "    time.sleep(3)\n",
    "    goods = browser.find_element_by_css_selector('#zg_left_col1')\n",
    "#     print(goods.text)\n",
    "#     print('第%d頁有%d件商品' %((i+1),len(goods.text)))\n",
    "    all_goods = goods.find_elements_by_class_name('zg_itemRow')\n",
    "    for g in all_goods:\n",
    "        try:\n",
    "            contents = [g.find_element_by_class_name('zg_rankNumber').text+ g.find_element_by_class_name('p13n-sc-truncated-hyphen').text+\";\"\\\n",
    "                    +g.find_element_by_css_selector('div.a-fixed-left-grid.p13n-asin > div > div.a-fixed-left-grid-col.a-col-right > div.a-icon-row.a-spacing-none > a').get_attribute('title')+\";\"\\\n",
    "                    +g.find_element_by_class_name('a-size-small').text+\";\"\\\n",
    "                    +g.find_element_by_css_selector('div.a-fixed-left-grid.p13n-asin > div > div.a-fixed-left-grid-col.a-col-right > div.a-row > span').text+\";\"\\\n",
    "                   +g.find_element_by_css_selector('div.a-fixed-left-grid.p13n-asin > div > div.a-fixed-left-grid-col.a-col-right > a').get_attribute('href')]\n",
    "            conlist += contents\n",
    "        except Exception as e:\n",
    "            print(g.find_element_by_class_name('zg_rankNumber').text+ g.find_element_by_class_name('p13n-sc-truncated-hyphen').text)\n",
    "            pass\n",
    "        \n",
    "end = time.time() \n",
    "\n",
    "print(\"-----------------\")\n",
    "print(end-start)\n",
    "conlist=\"\\n\".join(conlist) \n",
    "# print(conlist)"
   ]
  },
  {
   "cell_type": "code",
   "execution_count": null,
   "metadata": {
    "collapsed": true
   },
   "outputs": [],
   "source": [
    "with open('../20180118/CN/毛绒玩具.csv','w',encoding='utf-8') as f :\n",
    "        f.write(conlist)"
   ]
  },
  {
   "cell_type": "markdown",
   "metadata": {},
   "source": [
    "## readlines()"
   ]
  },
  {
   "cell_type": "code",
   "execution_count": null,
   "metadata": {
    "collapsed": true
   },
   "outputs": [],
   "source": [
    "with open('../../Extract/20171207/CN/婴幼玩具.txt',encoding='utf-8') as f :\n",
    "    a=f.readlines()"
   ]
  },
  {
   "cell_type": "code",
   "execution_count": null,
   "metadata": {},
   "outputs": [],
   "source": [
    "hrefs=[i.split(\"\\n\")[0] for i in a]\n",
    "hrefs"
   ]
  },
  {
   "cell_type": "code",
   "execution_count": null,
   "metadata": {},
   "outputs": [],
   "source": [
    "hrefs[0]"
   ]
  },
  {
   "cell_type": "markdown",
   "metadata": {},
   "source": [
    "## 轉成100個html檔"
   ]
  },
  {
   "cell_type": "code",
   "execution_count": null,
   "metadata": {},
   "outputs": [],
   "source": [
    "import requests\n",
    "from bs4 import BeautifulSoup\n",
    "# 測試網頁是否正常連接\n",
    "session = requests.Session()\n",
    "headers = {\"User-Agent\":\"Mozilla/5.0 (Macintosh; Intel Mac OS X 10_9_5) AppleWebKit 537.36 (KHTML, like Gecko) Chrome\",\"Accept\":\"text/html,application/xhtml+xml,application/xml;q=0.9,image/webp,*/*;q=0.8\"}\n",
    "res = requests.get('https://www.amazon.cn/gp/product/B007MYK3H2/ref=zg_bs_1982054051_1?ie=UTF8&psc=1&refRID=DANA6BDQTC33JGKPSPR8')\n",
    "res"
   ]
  },
  {
   "cell_type": "code",
   "execution_count": null,
   "metadata": {},
   "outputs": [],
   "source": [
    "from bs4 import BeautifulSoup\n",
    "import multiprocessing as mp\n",
    "import concurrent.futures\n",
    "import requests\n",
    "import os\n",
    "\n",
    "\n",
    "session = requests.Session()\n",
    "headers = {\"User-Agent\":\"Mozilla/5.0 (Macintosh; Intel Mac OS X 10_9_5) AppleWebKit 537.36 (KHTML, like Gecko) Chrome\",\"Accept\":\"text/html,application/xhtml+xml,application/xml;q=0.9,image/webp,*/*;q=0.8\"}\n",
    "cookiestr = '__cfduid=df4417457002ed1d390cc65a2f7734b9d1494830719; _gat=1; _ga=GA1.2.1333249610.1494830798; _gid=GA1.2.970157078.1502190098'\n",
    "cookies = cookiestr.split(\";\")\n",
    "cookiedata ={}\n",
    "if not os.path.exists('../../20171130/CN/婴幼玩具/'):\n",
    "    os.makedirs('../../20171130/CN/婴幼玩具/')\n",
    "for cookie in cookies:\n",
    "    cookiedata[cookie.split(\"=\")[0]]=cookie.split(\"=\")[1]\n",
    "    \n",
    "import time\n",
    "errorlist=[]\n",
    "start=time.time()\n",
    "for href in hrefs:\n",
    "    res=requests.get(href,cookies = cookiedata)\n",
    "    res.content\n",
    "    try:\n",
    "        with open('../../20171130/CN/婴幼玩具/'+href.split('/')[-2]+'.html','w',encoding='utf-8') as f :\n",
    "                print(\"==========================file %s=====================\" % (href.split('/')[-2]))\n",
    "                f.write(res.text)\n",
    "                time.sleep(1)\n",
    "#                 if (len(res.text) << 10):\n",
    "#                     errorlist.append(href)\n",
    "#                     with open('../Baby&ToddlerToys_20171126/Baby&ToddlerToysError.txt','w',encoding='utf-8') as f1:\n",
    "#                         for row in errorlist:\n",
    "#                             f1.write(row + '\\n')\n",
    "    except Exception as e:\n",
    "        print(e)\n",
    "        time.sleep(0.1)\n",
    "        pass\n",
    "    \n",
    "    \n",
    "    \n",
    "\n",
    "end=time.time()\n",
    "print(end-start)"
   ]
  },
  {
   "cell_type": "code",
   "execution_count": null,
   "metadata": {
    "collapsed": true
   },
   "outputs": [],
   "source": []
  }
 ],
 "metadata": {
  "kernelspec": {
   "display_name": "Python 3",
   "language": "python",
   "name": "python3"
  },
  "language_info": {
   "codemirror_mode": {
    "name": "ipython",
    "version": 3
   },
   "file_extension": ".py",
   "mimetype": "text/x-python",
   "name": "python",
   "nbconvert_exporter": "python",
   "pygments_lexer": "ipython3",
   "version": "3.6.1"
  }
 },
 "nbformat": 4,
 "nbformat_minor": 2
}
