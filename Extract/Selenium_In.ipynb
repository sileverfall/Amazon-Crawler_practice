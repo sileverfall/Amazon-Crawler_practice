{
 "cells": [
  {
   "cell_type": "markdown",
   "metadata": {},
   "source": [
    "## Prepared Work"
   ]
  },
  {
   "cell_type": "code",
   "execution_count": 1,
   "metadata": {
    "collapsed": true
   },
   "outputs": [],
   "source": [
    "import requests\n",
    "from bs4 import BeautifulSoup as bs\n",
    "import os\n",
    "import json\n",
    "import time\n",
    "import re\n",
    "from selenium import webdriver\n",
    "\n",
    "cookiestr = 'aws-account-alias=bb102; x-wl-uid=1qO1zbLT/VurrTD8olrRaxt4ZvTE+vTeFIHu58TFdpWz5wSlgeDL/v+q5P3gFNGfccOVMboQEwus=; AMCV_4A8581745834114C0A495E2B%40AdobeOrg=-1891778711%7CMCIDTS%7C17459%7CMCMID%7C52253475372251991424690344856724644964%7CMCOPTOUT-1508403795s%7CNONE%7CMCAID%7C2CF30EF7852A888A-40000300E0001C2D%7CvVersion%7C2.4.0; s_nr=1508396596374-New; s_lv=1508396596375; skin=noskin; session-token=0lQkzegQRtwPu7GiPFEAEDYLCK3p6WW8vF/g2Kr93EnMHKmH2uTgd30RM43tJCAw2uo2xeco+fz9qCC4dzTpW86EX5YF5lVFvMOXhSncgNmhfgnG7DaXuUwvxrXhAtluWYQgfWI8I22bxDO6KWvBDwfM6IFCfsYouZ6kt3oXTHzy6wSehl3qokrzeEBzLpfPu6mlixQc/Yuommb6ztr0yiL/6dzBf5UjFImpI3OXvIkvwGuyBITnHJH9epKv+Lec; amznacsleftnav-74393fbe-66a6-3a52-840b-37b54d8c76ce=1,21,3; ubid-main=132-7315371-9843811; session-id-time=2082787201l; session-id=135-5046157-5863552; csm-hit=85CP8ATFWH4EXAFXQX3Q+s-M5199TSF54AFVK1M6RJW|1509623128403'\n",
    "cookies = cookiestr.split(\";\")\n",
    "cookiedata ={}\n",
    "for cookie in cookies:\n",
    "    cookiedata[cookie.split(\"=\")[0]]=cookie.split(\"=\")[1]\n",
    "\n",
    "ssession = requests.Session()\n",
    "headers = {\"User-Agent\":\"Mozilla/5.0 (Macintosh; Intel Mac OS X 10_9_5) AppleWebKit 537.36 (KHTML, like Gecko) Chrome\",\"Accept\":\"text/html,application/xhtml+xml,application/xml;q=0.9,image/webp,*/*;q=0.8\"}"
   ]
  },
  {
   "cell_type": "markdown",
   "metadata": {},
   "source": [
    "## 設定驅動器"
   ]
  },
  {
   "cell_type": "code",
   "execution_count": 2,
   "metadata": {
    "collapsed": true
   },
   "outputs": [],
   "source": [
    "# 使用chrome驅動器\n",
    "browser = webdriver.Chrome()\n",
    "# 每一個網頁不超過30秒\n",
    "browser.set_page_load_timeout(30)\n",
    "browser.get('https://www.amazon.in/gp/bestsellers/toys/1378568031/ref=t_1_t#1')"
   ]
  },
  {
   "cell_type": "markdown",
   "metadata": {},
   "source": [
    "## 抓頁碼"
   ]
  },
  {
   "cell_type": "code",
   "execution_count": 3,
   "metadata": {},
   "outputs": [
    {
     "name": "stdout",
     "output_type": "stream",
     "text": [
      "<selenium.webdriver.remote.webelement.WebElement (session=\"40fe1b52a3172aae45e9411bdd11f8dc\", element=\"0.4506666622855635-1\")>\n",
      "81-100\n"
     ]
    },
    {
     "data": {
      "text/plain": [
       "5"
      ]
     },
     "execution_count": 3,
     "metadata": {},
     "output_type": "execute_result"
    }
   ],
   "source": [
    "page_info = browser.find_element_by_css_selector('#zg_page5 > a')\n",
    "print(page_info)\n",
    "print(page_info.text)\n",
    "pages = page_info.text.split('-')[1]\n",
    "pages = int(pages)\n",
    "pages = int(pages/20)\n",
    "pages"
   ]
  },
  {
   "cell_type": "markdown",
   "metadata": {},
   "source": [
    "## 抓取href_list"
   ]
  },
  {
   "cell_type": "code",
   "execution_count": 4,
   "metadata": {},
   "outputs": [
    {
     "name": "stdout",
     "output_type": "stream",
     "text": [
      "第1頁\n",
      "第2頁\n",
      "第3頁\n",
      "第4頁\n",
      "第5頁\n",
      "-----------------\n",
      "20.712944746017456\n"
     ]
    }
   ],
   "source": [
    "start = time.time()\n",
    "Amzlist=[]\n",
    "for i in range(pages):\n",
    "    if i > 4:\n",
    "        break\n",
    "    print('第%d頁' % (i+1))\n",
    "    url ='https://www.amazon.in/gp/bestsellers/toys/1378342031/ref=t_1_t#'+ str(i+1)\n",
    "    browser.get(url)\n",
    "    #windows.scrollTo(x座標,y座標)=>讓他執行滾動\n",
    "    browser.execute_script(\"window.scrollTo(0,document.body.scrollHeight);\")\n",
    "    time.sleep(3)\n",
    "    goods = browser.find_element_by_css_selector('#zg_left_col1 > #zg_centerListWrapper')\n",
    "#     print(goods.text)\n",
    "#     print('第%d頁有%d件商品' %((i+1),len(goods.text)))\n",
    "    all_goods = goods.find_elements_by_class_name('zg_itemImmersion')\n",
    "    try:\n",
    "        href = [g.find_element_by_css_selector('div.zg_itemWrapper > div > a').get_attribute('href')for g in all_goods]\n",
    "        Amzlist += href\n",
    "        time.sleep(0.1)\n",
    "    except Exception as e:\n",
    "            print(e)\n",
    "            print(\"none\")\n",
    "            pass\n",
    "end = time.time() \n",
    "\n",
    "print(\"-----------------\")\n",
    "Amzlist=\"\\n\".join(Amzlist) \n",
    "# print(Amzlist)\n",
    "print(end-start)"
   ]
  },
  {
   "cell_type": "markdown",
   "metadata": {},
   "source": [
    "## 轉成txt"
   ]
  },
  {
   "cell_type": "code",
   "execution_count": 5,
   "metadata": {
    "collapsed": true
   },
   "outputs": [],
   "source": [
    "if not os.path.exists('../20180118/In/'):\n",
    "    os.makedirs('../20180118/In/')"
   ]
  },
  {
   "cell_type": "code",
   "execution_count": 5,
   "metadata": {
    "collapsed": true
   },
   "outputs": [],
   "source": [
    "with open('../20180118/In/Learning & Education.txt','w',encoding='utf-8') as f :\n",
    "        f.write(Amzlist)"
   ]
  },
  {
   "cell_type": "markdown",
   "metadata": {},
   "source": [
    "## 抓ReviewList"
   ]
  },
  {
   "cell_type": "code",
   "execution_count": 6,
   "metadata": {},
   "outputs": [
    {
     "name": "stdout",
     "output_type": "stream",
     "text": [
      "第1頁\n",
      "第2頁\n",
      "第3頁\n",
      "第4頁\n",
      "第5頁\n",
      "5\n",
      "-----------------\n",
      "https://www.amazon.in/product-reviews/B00930Z7LU/ref=zg_bs_1378342031_cr_1?ie=UTF8&refRID=050M6V15RFCXENXYCXZ1\n",
      "https://www.amazon.in/product-reviews/B00PSQQZ3W/ref=zg_bs_1378342031_cr_2?ie=UTF8&refRID=050M6V15RFCXENXYCXZ1\n",
      "https://www.amazon.in/product-reviews/B00ELBBGOI/ref=zg_bs_1378342031_cr_3?ie=UTF8&refRID=050M6V15RFCXENXYCXZ1\n",
      "https://www.amazon.in/product-reviews/B074P93F79/ref=zg_bs_1378342031_cr_4?ie=UTF8&refRID=050M6V15RFCXENXYCXZ1\n",
      "https://www.amazon.in/product-reviews/B019IOACAQ/ref=zg_bs_1378342031_cr_5?ie=UTF8&refRID=050M6V15RFCXENXYCXZ1\n",
      "https://www.amazon.in/product-reviews/B009GCQZD4/ref=zg_bs_1378342031_cr_6?ie=UTF8&refRID=050M6V15RFCXENXYCXZ1\n",
      "https://www.amazon.in/product-reviews/B00KPBBJ3G/ref=zg_bs_1378342031_cr_7?ie=UTF8&refRID=050M6V15RFCXENXYCXZ1\n",
      "https://www.amazon.in/product-reviews/B01MTNA7I0/ref=zg_bs_1378342031_cr_8?ie=UTF8&refRID=050M6V15RFCXENXYCXZ1\n",
      "https://www.amazon.in/product-reviews/B01N34KOND/ref=zg_bs_1378342031_cr_9?ie=UTF8&refRID=050M6V15RFCXENXYCXZ1\n",
      "https://www.amazon.in/product-reviews/B075QHMDWF/ref=zg_bs_1378342031_cr_10?ie=UTF8&refRID=050M6V15RFCXENXYCXZ1\n",
      "https://www.amazon.in/product-reviews/B01NAU4K79/ref=zg_bs_1378342031_cr_11?ie=UTF8&refRID=050M6V15RFCXENXYCXZ1\n",
      "https://www.amazon.in/product-reviews/B01N5267EI/ref=zg_bs_1378342031_cr_12?ie=UTF8&refRID=050M6V15RFCXENXYCXZ1\n",
      "https://www.amazon.in/product-reviews/B01N99FFSF/ref=zg_bs_1378342031_cr_13?ie=UTF8&refRID=050M6V15RFCXENXYCXZ1\n",
      "https://www.amazon.in/product-reviews/B009GCR36W/ref=zg_bs_1378342031_cr_14?ie=UTF8&refRID=050M6V15RFCXENXYCXZ1\n",
      "https://www.amazon.in/product-reviews/B075HX4BQZ/ref=zg_bs_1378342031_cr_15?ie=UTF8&refRID=050M6V15RFCXENXYCXZ1\n",
      "https://www.amazon.in/product-reviews/1787270009/ref=zg_bs_1378342031_cr_16?ie=UTF8&refRID=050M6V15RFCXENXYCXZ1\n",
      "https://www.amazon.in/product-reviews/B073Y5TC7P/ref=zg_bs_1378342031_cr_17?ie=UTF8&refRID=050M6V15RFCXENXYCXZ1\n",
      "https://www.amazon.in/product-reviews/B00N9WI71U/ref=zg_bs_1378342031_cr_18?ie=UTF8&refRID=050M6V15RFCXENXYCXZ1\n",
      "https://www.amazon.in/product-reviews/B01GFWDGB6/ref=zg_bs_1378342031_cr_19?ie=UTF8&refRID=050M6V15RFCXENXYCXZ1\n",
      "https://www.amazon.in/product-reviews/B01ANPG83E/ref=zg_bs_1378342031_cr_20?ie=UTF8&refRID=050M6V15RFCXENXYCXZ1\n",
      "https://www.amazon.in/product-reviews/B00YROSOEE/ref=zg_bs_1378342031_cr_21?ie=UTF8&refRID=579CGX3C79ZPR25T0RCG\n",
      "https://www.amazon.in/product-reviews/B01JM4D7VI/ref=zg_bs_1378342031_cr_22?ie=UTF8&refRID=579CGX3C79ZPR25T0RCG\n",
      "https://www.amazon.in/product-reviews/B016D6F0TU/ref=zg_bs_1378342031_cr_23?ie=UTF8&refRID=579CGX3C79ZPR25T0RCG\n",
      "https://www.amazon.in/product-reviews/B01IKD2M8Q/ref=zg_bs_1378342031_cr_24?ie=UTF8&refRID=579CGX3C79ZPR25T0RCG\n",
      "https://www.amazon.in/product-reviews/B01MQISR84/ref=zg_bs_1378342031_cr_25?ie=UTF8&refRID=579CGX3C79ZPR25T0RCG\n",
      "https://www.amazon.in/product-reviews/B01HVNB8IQ/ref=zg_bs_1378342031_cr_26?ie=UTF8&refRID=579CGX3C79ZPR25T0RCG\n",
      "https://www.amazon.in/product-reviews/B01MY7XSMC/ref=zg_bs_1378342031_cr_27?ie=UTF8&refRID=579CGX3C79ZPR25T0RCG\n",
      "https://www.amazon.in/product-reviews/B01MDRCVPV/ref=zg_bs_1378342031_cr_28?ie=UTF8&refRID=579CGX3C79ZPR25T0RCG\n",
      "https://www.amazon.in/product-reviews/B071JKYNNJ/ref=zg_bs_1378342031_cr_29?ie=UTF8&refRID=579CGX3C79ZPR25T0RCG\n",
      "https://www.amazon.in/product-reviews/B01EHHT3A4/ref=zg_bs_1378342031_cr_30?ie=UTF8&refRID=579CGX3C79ZPR25T0RCG\n",
      "https://www.amazon.in/product-reviews/B075B63SHB/ref=zg_bs_1378342031_cr_31?ie=UTF8&refRID=579CGX3C79ZPR25T0RCG\n",
      "https://www.amazon.in/product-reviews/B00J4M33MC/ref=zg_bs_1378342031_cr_32?ie=UTF8&refRID=579CGX3C79ZPR25T0RCG\n",
      "https://www.amazon.in/product-reviews/B074QZFSW7/ref=zg_bs_1378342031_cr_33?ie=UTF8&refRID=579CGX3C79ZPR25T0RCG\n",
      "https://www.amazon.in/product-reviews/B06XSN273K/ref=zg_bs_1378342031_cr_34?ie=UTF8&refRID=579CGX3C79ZPR25T0RCG\n",
      "https://www.amazon.in/product-reviews/B01CU9XWLC/ref=zg_bs_1378342031_cr_35?ie=UTF8&refRID=579CGX3C79ZPR25T0RCG\n",
      "https://www.amazon.in/product-reviews/B010BVWYDS/ref=zg_bs_1378342031_cr_36?ie=UTF8&refRID=579CGX3C79ZPR25T0RCG\n",
      "https://www.amazon.in/product-reviews/B00HCEG71I/ref=zg_bs_1378342031_cr_37?ie=UTF8&refRID=579CGX3C79ZPR25T0RCG\n",
      "https://www.amazon.in/product-reviews/B072PXFXJ4/ref=zg_bs_1378342031_cr_38?ie=UTF8&refRID=579CGX3C79ZPR25T0RCG\n",
      "https://www.amazon.in/product-reviews/B00J4M3L88/ref=zg_bs_1378342031_cr_39?ie=UTF8&refRID=579CGX3C79ZPR25T0RCG\n",
      "https://www.amazon.in/product-reviews/B009GCRTPC/ref=zg_bs_1378342031_cr_40?ie=UTF8&refRID=579CGX3C79ZPR25T0RCG\n",
      "https://www.amazon.in/product-reviews/B0775SZ7FQ/ref=zg_bs_1378342031_cr_41?ie=UTF8&refRID=DFDZSMQS1JYSYTGDNYTD\n",
      "https://www.amazon.in/product-reviews/B073VGZT83/ref=zg_bs_1378342031_cr_42?ie=UTF8&refRID=DFDZSMQS1JYSYTGDNYTD\n",
      "https://www.amazon.in/product-reviews/B072Q21HV1/ref=zg_bs_1378342031_cr_43?ie=UTF8&refRID=DFDZSMQS1JYSYTGDNYTD\n",
      "https://www.amazon.in/product-reviews/B00MCP6ZZ0/ref=zg_bs_1378342031_cr_45?ie=UTF8&refRID=DFDZSMQS1JYSYTGDNYTD\n",
      "https://www.amazon.in/product-reviews/B01MEG490K/ref=zg_bs_1378342031_cr_46?ie=UTF8&refRID=DFDZSMQS1JYSYTGDNYTD\n",
      "None\n",
      "https://www.amazon.in/product-reviews/B0191O78MS/ref=zg_bs_1378342031_cr_48?ie=UTF8&refRID=DFDZSMQS1JYSYTGDNYTD\n",
      "https://www.amazon.in/product-reviews/B00E4G0UH4/ref=zg_bs_1378342031_cr_49?ie=UTF8&refRID=DFDZSMQS1JYSYTGDNYTD\n",
      "https://www.amazon.in/product-reviews/B009P10L36/ref=zg_bs_1378342031_cr_50?ie=UTF8&refRID=DFDZSMQS1JYSYTGDNYTD\n",
      "https://www.amazon.in/product-reviews/B0761HRBJ8/ref=zg_bs_1378342031_cr_51?ie=UTF8&refRID=DFDZSMQS1JYSYTGDNYTD\n",
      "https://www.amazon.in/product-reviews/B009GCRXCQ/ref=zg_bs_1378342031_cr_52?ie=UTF8&refRID=DFDZSMQS1JYSYTGDNYTD\n",
      "https://www.amazon.in/product-reviews/B016RU106Y/ref=zg_bs_1378342031_cr_53?ie=UTF8&refRID=DFDZSMQS1JYSYTGDNYTD\n",
      "https://www.amazon.in/product-reviews/B077HNQBTL/ref=zg_bs_1378342031_cr_54?ie=UTF8&refRID=DFDZSMQS1JYSYTGDNYTD\n",
      "https://www.amazon.in/product-reviews/B073RDMLP4/ref=zg_bs_1378342031_cr_55?ie=UTF8&refRID=DFDZSMQS1JYSYTGDNYTD\n",
      "https://www.amazon.in/product-reviews/B01LYQAANJ/ref=zg_bs_1378342031_cr_56?ie=UTF8&refRID=DFDZSMQS1JYSYTGDNYTD\n",
      "https://www.amazon.in/product-reviews/B071YQYNGR/ref=zg_bs_1378342031_cr_58?ie=UTF8&refRID=DFDZSMQS1JYSYTGDNYTD\n",
      "https://www.amazon.in/product-reviews/B00J4M32EG/ref=zg_bs_1378342031_cr_59?ie=UTF8&refRID=DFDZSMQS1JYSYTGDNYTD\n",
      "https://www.amazon.in/product-reviews/B00J4LZTPW/ref=zg_bs_1378342031_cr_60?ie=UTF8&refRID=DFDZSMQS1JYSYTGDNYTD\n",
      "https://www.amazon.in/product-reviews/1787270017/ref=zg_bs_1378342031_cr_61?ie=UTF8&refRID=VZ9VK0AA5W2MQ6FAF2GT\n",
      "https://www.amazon.in/product-reviews/B00UKS42NI/ref=zg_bs_1378342031_cr_62?ie=UTF8&refRID=VZ9VK0AA5W2MQ6FAF2GT\n",
      "https://www.amazon.in/product-reviews/B0188VY5UI/ref=zg_bs_1378342031_cr_63?ie=UTF8&refRID=VZ9VK0AA5W2MQ6FAF2GT\n",
      "https://www.amazon.in/product-reviews/B001NWNPC4/ref=zg_bs_1378342031_cr_64?ie=UTF8&refRID=VZ9VK0AA5W2MQ6FAF2GT\n",
      "https://www.amazon.in/product-reviews/B00J3NJ0MO/ref=zg_bs_1378342031_cr_65?ie=UTF8&refRID=VZ9VK0AA5W2MQ6FAF2GT\n",
      "https://www.amazon.in/product-reviews/B01LF7TVII/ref=zg_bs_1378342031_cr_66?ie=UTF8&refRID=VZ9VK0AA5W2MQ6FAF2GT\n",
      "https://www.amazon.in/product-reviews/B00I4US65E/ref=zg_bs_1378342031_cr_68?ie=UTF8&refRID=VZ9VK0AA5W2MQ6FAF2GT\n",
      "https://www.amazon.in/product-reviews/B075C7QR6B/ref=zg_bs_1378342031_cr_69?ie=UTF8&refRID=VZ9VK0AA5W2MQ6FAF2GT\n",
      "https://www.amazon.in/product-reviews/B01M007PE2/ref=zg_bs_1378342031_cr_70?ie=UTF8&refRID=VZ9VK0AA5W2MQ6FAF2GT\n",
      "https://www.amazon.in/product-reviews/B00MIVLJZE/ref=zg_bs_1378342031_cr_71?ie=UTF8&refRID=VZ9VK0AA5W2MQ6FAF2GT\n",
      "https://www.amazon.in/product-reviews/B01K35TESU/ref=zg_bs_1378342031_cr_72?ie=UTF8&refRID=VZ9VK0AA5W2MQ6FAF2GT\n",
      "https://www.amazon.in/product-reviews/B01MS74B5E/ref=zg_bs_1378342031_cr_73?ie=UTF8&refRID=VZ9VK0AA5W2MQ6FAF2GT\n",
      "https://www.amazon.in/product-reviews/B01N5234UL/ref=zg_bs_1378342031_cr_74?ie=UTF8&refRID=VZ9VK0AA5W2MQ6FAF2GT\n",
      "https://www.amazon.in/product-reviews/B072KNG3V4/ref=zg_bs_1378342031_cr_75?ie=UTF8&refRID=VZ9VK0AA5W2MQ6FAF2GT\n",
      "https://www.amazon.in/product-reviews/B0751GQBRS/ref=zg_bs_1378342031_cr_76?ie=UTF8&refRID=VZ9VK0AA5W2MQ6FAF2GT\n",
      "https://www.amazon.in/product-reviews/B06W9GMCCX/ref=zg_bs_1378342031_cr_77?ie=UTF8&refRID=VZ9VK0AA5W2MQ6FAF2GT\n",
      "https://www.amazon.in/product-reviews/B0743DJMMC/ref=zg_bs_1378342031_cr_78?ie=UTF8&refRID=VZ9VK0AA5W2MQ6FAF2GT\n",
      "https://www.amazon.in/product-reviews/B06XCPJD8Z/ref=zg_bs_1378342031_cr_79?ie=UTF8&refRID=VZ9VK0AA5W2MQ6FAF2GT\n",
      "https://www.amazon.in/product-reviews/B073MGGJTW/ref=zg_bs_1378342031_cr_80?ie=UTF8&refRID=VZ9VK0AA5W2MQ6FAF2GT\n",
      "https://www.amazon.in/product-reviews/B00F0DYFUI/ref=zg_bs_1378342031_cr_81?ie=UTF8&refRID=RXGH8FGMP8PQ1C87PCC4\n",
      "https://www.amazon.in/product-reviews/B009GCTZWC/ref=zg_bs_1378342031_cr_82?ie=UTF8&refRID=RXGH8FGMP8PQ1C87PCC4\n",
      "https://www.amazon.in/product-reviews/B009GCR1PA/ref=zg_bs_1378342031_cr_83?ie=UTF8&refRID=RXGH8FGMP8PQ1C87PCC4\n",
      "https://www.amazon.in/product-reviews/B071WRVX72/ref=zg_bs_1378342031_cr_84?ie=UTF8&refRID=RXGH8FGMP8PQ1C87PCC4\n",
      "https://www.amazon.in/product-reviews/B009GCR16O/ref=zg_bs_1378342031_cr_85?ie=UTF8&refRID=RXGH8FGMP8PQ1C87PCC4\n",
      "https://www.amazon.in/product-reviews/B011I09CGS/ref=zg_bs_1378342031_cr_87?ie=UTF8&refRID=RXGH8FGMP8PQ1C87PCC4\n",
      "https://www.amazon.in/product-reviews/B07222B9D4/ref=zg_bs_1378342031_cr_88?ie=UTF8&refRID=RXGH8FGMP8PQ1C87PCC4\n",
      "https://www.amazon.in/product-reviews/B00FQBFLHK/ref=zg_bs_1378342031_cr_89?ie=UTF8&refRID=RXGH8FGMP8PQ1C87PCC4\n",
      "https://www.amazon.in/product-reviews/B01KTJ6W1M/ref=zg_bs_1378342031_cr_90?ie=UTF8&refRID=RXGH8FGMP8PQ1C87PCC4\n",
      "https://www.amazon.in/product-reviews/B073MFTS4S/ref=zg_bs_1378342031_cr_91?ie=UTF8&refRID=RXGH8FGMP8PQ1C87PCC4\n",
      "https://www.amazon.in/product-reviews/B0743DNQ5G/ref=zg_bs_1378342031_cr_92?ie=UTF8&refRID=RXGH8FGMP8PQ1C87PCC4\n",
      "https://www.amazon.in/product-reviews/B019KH4O6O/ref=zg_bs_1378342031_cr_93?ie=UTF8&refRID=RXGH8FGMP8PQ1C87PCC4\n",
      "https://www.amazon.in/product-reviews/B00PUIDIFQ/ref=zg_bs_1378342031_cr_94?ie=UTF8&refRID=RXGH8FGMP8PQ1C87PCC4\n",
      "https://www.amazon.in/product-reviews/B075WW3JKQ/ref=zg_bs_1378342031_cr_95?ie=UTF8&refRID=RXGH8FGMP8PQ1C87PCC4\n",
      "https://www.amazon.in/product-reviews/B016RU13FC/ref=zg_bs_1378342031_cr_97?ie=UTF8&refRID=RXGH8FGMP8PQ1C87PCC4\n",
      "https://www.amazon.in/product-reviews/B01MZELYRL/ref=zg_bs_1378342031_cr_98?ie=UTF8&refRID=RXGH8FGMP8PQ1C87PCC4\n",
      "https://www.amazon.in/product-reviews/B06Y1KL72N/ref=zg_bs_1378342031_cr_99?ie=UTF8&refRID=RXGH8FGMP8PQ1C87PCC4\n",
      "https://www.amazon.in/product-reviews/B0743D5RSM/ref=zg_bs_1378342031_cr_100?ie=UTF8&refRID=RXGH8FGMP8PQ1C87PCC4\n",
      "27.41626501083374\n"
     ]
    }
   ],
   "source": [
    "start = time.time()\n",
    "Rlist=[]\n",
    "none = 0\n",
    "for i in range(pages):\n",
    "    if i > 4:\n",
    "        break\n",
    "    print('第%d頁' % (i+1))\n",
    "    url ='https://www.amazon.in/gp/bestsellers/toys/1378342031/ref=t_1_t#'+ str(i+1)\n",
    "    browser.get(url)\n",
    "    #windows.scrollTo(x座標,y座標)=>讓他執行滾動\n",
    "    browser.execute_script(\"window.scrollTo(0,document.body.scrollHeight);\")\n",
    "    time.sleep(3)\n",
    "    goods = browser.find_element_by_css_selector('#zg_left_col1 > #zg_centerListWrapper')\n",
    "#     print(goods.text)\n",
    "#     print('第%d頁有%d件商品' %((i+1),len(goods.text)))\n",
    "    all_goods = goods.find_elements_by_class_name('zg_itemImmersion')\n",
    "    for g in all_goods:\n",
    "        try:\n",
    "            reviewlist = [str(g.find_element_by_class_name('a-size-small').get_attribute('href'))]\n",
    "            Rlist += reviewlist \n",
    "            time.sleep(0.1)\n",
    "            \n",
    "        except Exception as e:\n",
    "            none += 1\n",
    "            \n",
    "#                 print(e)\n",
    "#                 print(\"none\")\n",
    "            pass\n",
    "end = time.time() \n",
    "print(none)\n",
    "print(\"-----------------\")\n",
    "\n",
    "Rlist=\"\\n\".join(Rlist) \n",
    "# Rlist = str(Rlist)\n",
    "print(Rlist)\n",
    "print(end-start)"
   ]
  },
  {
   "cell_type": "markdown",
   "metadata": {},
   "source": [
    "## ReviewList轉成txt"
   ]
  },
  {
   "cell_type": "code",
   "execution_count": 17,
   "metadata": {
    "collapsed": true
   },
   "outputs": [],
   "source": [
    "if not os.path.exists('../../Review_list/20180118/In/'):\n",
    "    os.makedirs('../../Review_list/20180118/In/')"
   ]
  },
  {
   "cell_type": "code",
   "execution_count": 7,
   "metadata": {
    "collapsed": true
   },
   "outputs": [],
   "source": [
    "with open('../../Review_list/20180118/In/Learning & Education_review.txt','w',encoding='utf-8') as f :\n",
    "        f.write(Rlist)"
   ]
  },
  {
   "cell_type": "markdown",
   "metadata": {},
   "source": [
    "## 將 contents 存成 csv檔"
   ]
  },
  {
   "cell_type": "code",
   "execution_count": 8,
   "metadata": {
    "scrolled": false
   },
   "outputs": [
    {
     "name": "stdout",
     "output_type": "stream",
     "text": [
      "24.Parteet Educational Writing And Drawing Magic Slate for Kids\n",
      "44.Rechargeable 80 Activities Kids Talking Educational Laptop With Mouse &…\n",
      "57.Trinkets & More - Wooden Calculation Shelf Abacus Double-Sided | Counting…\n",
      "67.Disney Bowling set packed in Box carry case for Children of age 3 to…\n",
      "71.Glitter Collection (TM) Hula Hoop, Hoopa Hula, Exercise ring,Fitness,…\n",
      "74.Einstein Box for 2 year olds (Learning and educational games,…\n",
      "86.Fancyku Fidget Toys 6 Side Cube Relieves Stress & Anxiety - Black Grey\n",
      "96.CraftDev Wooden Floor Art Easel, Chalkboard & White Board\n",
      "-----------------\n",
      "32.7169189453125\n"
     ]
    }
   ],
   "source": [
    "start = time.time()\n",
    "conlist=[]\n",
    "for i in range(pages):\n",
    "    if i > 4:\n",
    "        break\n",
    "#     print('第%d頁' % (i+1))\n",
    "    url ='https://www.amazon.in/gp/bestsellers/toys/1378342031/ref=t_1_t#'+ str(i+1)\n",
    "    browser.get(url)\n",
    "    #windows.scrollTo(x座標,y座標)=>讓他執行滾動\n",
    "    browser.execute_script(\"window.scrollTo(0,document.body.scrollHeight);\")\n",
    "    time.sleep(3)\n",
    "    goods = browser.find_element_by_css_selector('#zg_left_col1 > #zg_centerListWrapper')\n",
    "#     print(goods.text)\n",
    "#     print('第%d頁有%d件商品' %((i+1),len(goods.text)))\n",
    "    all_goods = goods.find_elements_by_class_name('zg_itemImmersion')\n",
    "    for g in all_goods:\n",
    "        try:\n",
    "            contents = [g.find_element_by_class_name('zg_rankNumber').text+ g.find_element_by_class_name('a-link-normal').text+\";\"\\\n",
    "                    +g.find_element_by_css_selector('div.zg_itemWrapper > div > div.a-icon-row > a').get_attribute('title')+\";\"\\\n",
    "                    +g.find_element_by_class_name('a-size-small').text+\";\"\\\n",
    "                    +g.find_element_by_css_selector('div.zg_itemWrapper > div > div.a-row > span.a-size-base.a-color-price > span').text+\";\"\\\n",
    "                   +g.find_element_by_css_selector('div.zg_itemWrapper > div > a').get_attribute('href')]\n",
    "            conlist += contents\n",
    "        except Exception as e:\n",
    "            print(g.find_element_by_class_name('zg_rankNumber').text+ g.find_element_by_class_name('a-link-normal').text)\n",
    "            pass\n",
    "        \n",
    "end = time.time() \n",
    "\n",
    "print(\"-----------------\")\n",
    "print(end-start)\n",
    "conlist=\"\\n\".join(conlist) \n",
    "# print(conlist)"
   ]
  },
  {
   "cell_type": "code",
   "execution_count": 9,
   "metadata": {
    "collapsed": true
   },
   "outputs": [],
   "source": [
    "with open('../20180118/In/Learning & Education.csv','w',encoding='utf-8') as f :\n",
    "        f.write(conlist)"
   ]
  },
  {
   "cell_type": "markdown",
   "metadata": {},
   "source": [
    "## readlines()"
   ]
  },
  {
   "cell_type": "code",
   "execution_count": null,
   "metadata": {
    "collapsed": true
   },
   "outputs": [],
   "source": [
    "with open('../../Extract/20171207/In/Toy Figures & Playsets.txt',encoding='utf-8') as f :\n",
    "    a=f.readlines()"
   ]
  },
  {
   "cell_type": "code",
   "execution_count": 56,
   "metadata": {},
   "outputs": [
    {
     "data": {
      "text/plain": [
       "['https://www.amazon.in/iDream-PVC-Action-Figure-Kids/dp/B0731H7R1L/ref=zg_bs_1378568031_1?_encoding=UTF8&psc=1&refRID=3MCSV8TEKVF7EMF66S1P',\n",
       " 'https://www.amazon.in/Discount-Retail-Photo-Booth-Party/dp/B07587FM46/ref=zg_bs_1378568031_2?_encoding=UTF8&psc=1&refRID=3MCSV8TEKVF7EMF66S1P',\n",
       " 'https://www.amazon.in/Toyshine-Musical-Army-Style-Music/dp/B01N4EQT6K/ref=zg_bs_1378568031_3?_encoding=UTF8&psc=1&refRID=3MCSV8TEKVF7EMF66S1P',\n",
       " 'https://www.amazon.in/Tickles-Panda-Stuffed-Plush-Black/dp/B00SYMTTXA/ref=zg_bs_1378568031_4?_encoding=UTF8&psc=1&refRID=3MCSV8TEKVF7EMF66S1P',\n",
       " 'https://www.amazon.in/Syga-Christmas-Party-Photo-Props/dp/B01N2I5RFG/ref=zg_bs_1378568031_5?_encoding=UTF8&psc=1&refRID=3MCSV8TEKVF7EMF66S1P',\n",
       " 'https://www.amazon.in/Discount-Retail-Photo-Booth-Party/dp/B01LZ7SL2Z/ref=zg_bs_1378568031_6?_encoding=UTF8&psc=1&refRID=3MCSV8TEKVF7EMF66S1P',\n",
       " 'https://www.amazon.in/Generic-Party-Propz-Birthday-Photobooth/dp/B074PRBK3J/ref=zg_bs_1378568031_7?_encoding=UTF8&psc=1&refRID=3MCSV8TEKVF7EMF66S1P',\n",
       " 'https://www.amazon.in/Transformers-Disguise-Combiner-Changer-Bumblebee/dp/B00LXCKO1Y/ref=zg_bs_1378568031_8?_encoding=UTF8&psc=1&refRID=3MCSV8TEKVF7EMF66S1P',\n",
       " 'https://www.amazon.in/Vibgyor-Vibes-Wild-Animals-Figures/dp/B01MD18COY/ref=zg_bs_1378568031_9?_encoding=UTF8&psc=1&refRID=3MCSV8TEKVF7EMF66S1P',\n",
       " 'https://www.amazon.in/Nerf-Strike-Elite-Disruptor-Multi/dp/B01IK52REI/ref=zg_bs_1378568031_10?_encoding=UTF8&psc=1&refRID=3MCSV8TEKVF7EMF66S1P',\n",
       " 'https://www.amazon.in/Vibgyor-Vibes-Farm-Animals-Figures/dp/B01N1KE22P/ref=zg_bs_1378568031_11?_encoding=UTF8&psc=1&refRID=3MCSV8TEKVF7EMF66S1P',\n",
       " 'https://www.amazon.in/Marvel-Dancing-Bobble-Action-Figure/dp/B00N1EJXUU/ref=zg_bs_1378568031_12?_encoding=UTF8&psc=1&refRID=3MCSV8TEKVF7EMF66S1P',\n",
       " 'https://www.amazon.in/Glance-Musical-Naugty-Dancing-Robot/dp/B01IB7BJ8U/ref=zg_bs_1378568031_13?_encoding=UTF8&psc=1&refRID=3MCSV8TEKVF7EMF66S1P',\n",
       " 'https://www.amazon.in/AIR-SPORTS-LASER-GUN-Bullets/dp/B00QX75SUG/ref=zg_bs_1378568031_14?_encoding=UTF8&psc=1&refRID=3MCSV8TEKVF7EMF66S1P',\n",
       " 'https://www.amazon.in/Funskool-Icecream-Teether-Colors-Vary/dp/B009ZC9ZDC/ref=zg_bs_1378568031_15?_encoding=UTF8&psc=1&refRID=3MCSV8TEKVF7EMF66S1P',\n",
       " 'https://www.amazon.in/Gifts-Online-Ultimate-Spiderman-Launcher/dp/B01F4RYXQK/ref=zg_bs_1378568031_16?_encoding=UTF8&psc=1&refRID=3MCSV8TEKVF7EMF66S1P',\n",
       " 'https://www.amazon.in/DC-Collectibles-Comics-Batman-Action/dp/B007BFPTGC/ref=zg_bs_1378568031_17?_encoding=UTF8&psc=1&refRID=3MCSV8TEKVF7EMF66S1P',\n",
       " 'https://www.amazon.in/Battery-Operated-Doctors-Light-Effects/dp/B00MBID4B6/ref=zg_bs_1378568031_18?_encoding=UTF8&psc=1&refRID=3MCSV8TEKVF7EMF66S1P',\n",
       " 'https://www.amazon.in/Rianz-Iron-Single-Hand-Glove/dp/B01MQ0G8WF/ref=zg_bs_1378568031_19?_encoding=UTF8&psc=1&refRID=3MCSV8TEKVF7EMF66S1P',\n",
       " 'https://www.amazon.in/Toyshine-Catching-Fishes-Inclues-Assorted/dp/B01N6539JW/ref=zg_bs_1378568031_20?_encoding=UTF8&psc=1&refRID=3MCSV8TEKVF7EMF66S1P',\n",
       " 'https://www.amazon.in/Vibgyor-VibesTM-Animals-Figures-animals/dp/B01N6TYZ5T/ref=zg_bs_1378568031_21?_encoding=UTF8&psc=1&refRID=54W2RMH8578GDZJTEPNN',\n",
       " 'https://www.amazon.in/Discount-Retail-Photo-Booth-Shower/dp/B06WWFZN2B/ref=zg_bs_1378568031_22?_encoding=UTF8&psc=1&refRID=54W2RMH8578GDZJTEPNN',\n",
       " 'https://www.amazon.in/My-Little-Pony-Princess-Twilight/dp/B01MS46KYL/ref=zg_bs_1378568031_23?_encoding=UTF8&psc=1&refRID=54W2RMH8578GDZJTEPNN',\n",
       " 'https://www.amazon.in/Funskool-Floral-Teether-Colors-Vary/dp/B009ZCA00Y/ref=zg_bs_1378568031_24?_encoding=UTF8&psc=1&refRID=54W2RMH8578GDZJTEPNN',\n",
       " 'https://www.amazon.in/Boomco-Head-Battle-Multi-Color/dp/B019GOFDFC/ref=zg_bs_1378568031_25?_encoding=UTF8&psc=1&refRID=54W2RMH8578GDZJTEPNN',\n",
       " 'https://www.amazon.in/Toyshine-Pottery-Stencils-Creative-Educational/dp/B072B9YG47/ref=zg_bs_1378568031_26?_encoding=UTF8&psc=1&refRID=54W2RMH8578GDZJTEPNN',\n",
       " 'https://www.amazon.in/Soccer-Starz-Barcelona-Lionel-Messi/dp/B00AJWTEUG/ref=zg_bs_1378568031_27?_encoding=UTF8&psc=1&refRID=54W2RMH8578GDZJTEPNN',\n",
       " 'https://www.amazon.in/Funskool-Squeaks-Assorted-Pack-Piece/dp/B009REO880/ref=zg_bs_1378568031_28?_encoding=UTF8&psc=1&refRID=54W2RMH8578GDZJTEPNN',\n",
       " 'https://www.amazon.in/Maker-Death-Quetzalcoatl-Beyblade-Playing/dp/B075CQ41J5/ref=zg_bs_1378568031_29?_encoding=UTF8&psc=1&refRID=54W2RMH8578GDZJTEPNN',\n",
       " 'https://www.amazon.in/Magicwand-Pok%C3%A3%C6%92%C3%A2%C2%A9Mon-Return-Random-Character/dp/B074V3D5VS/ref=zg_bs_1378568031_30?_encoding=UTF8&psc=1&refRID=54W2RMH8578GDZJTEPNN',\n",
       " 'https://www.amazon.in/Boomco-Whipblast-Blaster-Multi-Color/dp/B00MQN2E8K/ref=zg_bs_1378568031_31?_encoding=UTF8&psc=1&refRID=54W2RMH8578GDZJTEPNN',\n",
       " 'https://www.amazon.in/PARTY-PROPZ-BIRTHDAY-PHOTOBOOTH-PROPS/dp/B01LX7N6QW/ref=zg_bs_1378568031_32?_encoding=UTF8&psc=1&refRID=54W2RMH8578GDZJTEPNN',\n",
       " 'https://www.amazon.in/Akshat-Online-Traders-Pokemon-Character/dp/B074J9FCBR/ref=zg_bs_1378568031_33?_encoding=UTF8&psc=1&refRID=54W2RMH8578GDZJTEPNN',\n",
       " 'https://www.amazon.in/Toyshine-Bump-Helicopter-Music-Lights/dp/B01GG31TTU/ref=zg_bs_1378568031_34?_encoding=UTF8&psc=1&refRID=54W2RMH8578GDZJTEPNN',\n",
       " 'https://www.amazon.in/SAMTROH-MINIONS-PROJECTOR-WATCH/dp/B06WGSXBQ6/ref=zg_bs_1378568031_35?_encoding=UTF8&psc=1&refRID=54W2RMH8578GDZJTEPNN',\n",
       " 'https://www.amazon.in/Generic-Party-Propz-Happy-Birthday/dp/B01M0GTNE5/ref=zg_bs_1378568031_36?_encoding=UTF8&psc=1&refRID=54W2RMH8578GDZJTEPNN',\n",
       " 'https://www.amazon.in/Avengers-Hammer-Mjolnir-Cosplay-Collection/dp/B01HKKWKZ0/ref=zg_bs_1378568031_37?_encoding=UTF8&psc=1&refRID=54W2RMH8578GDZJTEPNN',\n",
       " 'https://www.amazon.in/RIANZ-Thor-World-Battle-Hammer/dp/B076VP959G/ref=zg_bs_1378568031_38?_encoding=UTF8&psc=1&refRID=54W2RMH8578GDZJTEPNN',\n",
       " 'https://www.amazon.in/Generic-Plastic-Arithmetic-Soroban-Calculating/dp/B00TT8K20W/ref=zg_bs_1378568031_39?_encoding=UTF8&psc=1&refRID=54W2RMH8578GDZJTEPNN',\n",
       " 'https://www.amazon.in/Kiditos-Transformers-Optimus-Converting-Figure/dp/B06XH7PSF1/ref=zg_bs_1378568031_40?_encoding=UTF8&psc=1&refRID=54W2RMH8578GDZJTEPNN',\n",
       " 'https://www.amazon.in/Marvel-Titan-Captain-America-Figure/dp/B01N1W14SN/ref=zg_bs_1378568031_41?_encoding=UTF8&psc=1&refRID=TCGW2ENFKM15E1STCCQX',\n",
       " 'https://www.amazon.in/Retail-Raincoat-Doll-Cartoon-Figurines/dp/B01MZ9Q1Y9/ref=zg_bs_1378568031_42?_encoding=UTF8&psc=1&refRID=TCGW2ENFKM15E1STCCQX',\n",
       " 'https://www.amazon.in/ezyPRNT-Instagram-Facebook-anniversary-celebrations/dp/B073PWL69Z/ref=zg_bs_1378568031_43?_encoding=UTF8&psc=1&refRID=TCGW2ENFKM15E1STCCQX',\n",
       " 'https://www.amazon.in/Stickers-Peppa-Doodle-Decoration-Laptop/dp/B01N6I1CUE/ref=zg_bs_1378568031_44?_encoding=UTF8&psc=1&refRID=TCGW2ENFKM15E1STCCQX',\n",
       " 'https://www.amazon.in/HALO-NATION-Avengers-Toys-Captain/dp/B076YZ5B1K/ref=zg_bs_1378568031_45?_encoding=UTF8&psc=1&refRID=TCGW2ENFKM15E1STCCQX',\n",
       " 'https://www.amazon.in/Soccerstarz-Madrid-Cristiano-Ronaldo-Figure/dp/B00ARW17U8/ref=zg_bs_1378568031_46?_encoding=UTF8&psc=1&refRID=TCGW2ENFKM15E1STCCQX',\n",
       " 'https://www.amazon.in/AVENGER-Incredible-Unbreakable-Action-Figure/dp/B01MUGFB2P/ref=zg_bs_1378568031_47?_encoding=UTF8&psc=1&refRID=TCGW2ENFKM15E1STCCQX',\n",
       " 'https://www.amazon.in/Untumble-Photo-booth-props-couples/dp/B011289EW8/ref=zg_bs_1378568031_48?_encoding=UTF8&psc=1&refRID=TCGW2ENFKM15E1STCCQX',\n",
       " 'https://www.amazon.in/Mattel-Justice-League-Figure-Basicwonder/dp/B01NCIZ1GP/ref=zg_bs_1378568031_49?_encoding=UTF8&psc=1&refRID=TCGW2ENFKM15E1STCCQX',\n",
       " 'https://www.amazon.in/Toyshine-Musical-Microphone-Singing-Assorted/dp/B071Y7P39L/ref=zg_bs_1378568031_50?_encoding=UTF8&psc=1&refRID=TCGW2ENFKM15E1STCCQX',\n",
       " 'https://www.amazon.in/Fantasy-India-Agnet-Remote-Control/dp/B0723CX4YH/ref=zg_bs_1378568031_51?_encoding=UTF8&psc=1&refRID=TCGW2ENFKM15E1STCCQX',\n",
       " 'https://www.amazon.in/Magicwand-Spiderman-Gloves-Disc-Launcher/dp/B06ZZRM6LK/ref=zg_bs_1378568031_52?_encoding=UTF8&psc=1&refRID=TCGW2ENFKM15E1STCCQX',\n",
       " 'https://www.amazon.in/Generic-Dollhouse-Bonsai-Garden-Landscape/dp/B01AUTD2T6/ref=zg_bs_1378568031_53?_encoding=UTF8&psc=1&refRID=TCGW2ENFKM15E1STCCQX',\n",
       " 'https://www.amazon.in/Womens-Clothing-designer-collection-beautiful/dp/B076HJPY3Q/ref=zg_bs_1378568031_54?_encoding=UTF8&psc=1&refRID=TCGW2ENFKM15E1STCCQX',\n",
       " 'https://www.amazon.in/Zest-Toyz-Spiderman-Gloves-Launcher/dp/B01GVI34W0/ref=zg_bs_1378568031_55?_encoding=UTF8&psc=1&refRID=TCGW2ENFKM15E1STCCQX',\n",
       " 'https://www.amazon.in/SAMTROH-BEN-10-PROJECTOR-WATCH/dp/B06WP6Z6PB/ref=zg_bs_1378568031_56?_encoding=UTF8&psc=1&refRID=TCGW2ENFKM15E1STCCQX',\n",
       " 'https://www.amazon.in/Mattel-Justice-League-Basic-Figure/dp/B06XHZPNCY/ref=zg_bs_1378568031_57?_encoding=UTF8&psc=1&refRID=TCGW2ENFKM15E1STCCQX',\n",
       " 'https://www.amazon.in/Shreeji-Ethnic-Collection-Partywear-Georgette/dp/B0784NSZ62/ref=zg_bs_1378568031_58?_encoding=UTF8&refRID=TCGW2ENFKM15E1STCCQX',\n",
       " 'https://www.amazon.in/Vibgyor-VibesTM-Collectible-Figure-Inches/dp/B077K32TRM/ref=zg_bs_1378568031_59?_encoding=UTF8&psc=1&refRID=TCGW2ENFKM15E1STCCQX',\n",
       " 'https://www.amazon.in/30Pcs-Garden-Ornament-Miniature-Plant/dp/B07112KHMH/ref=zg_bs_1378568031_60?_encoding=UTF8&psc=1&refRID=TCGW2ENFKM15E1STCCQX',\n",
       " 'https://www.amazon.in/Kiditos-Transformers-Bumblebee-Converting-Action/dp/B06XH8681N/ref=zg_bs_1378568031_61?_encoding=UTF8&psc=1&refRID=PJW3K8JX68NQPQQQMY15',\n",
       " 'https://www.amazon.in/Saffire-Jelly-Shots-Bullets-Multi/dp/B01B9WJUWG/ref=zg_bs_1378568031_62?_encoding=UTF8&psc=1&refRID=PJW3K8JX68NQPQQQMY15',\n",
       " 'https://www.amazon.in/Harikrishnavilla-Collection-Partywear-Bhagalpuri-collection/dp/B077R7P3KK/ref=zg_bs_1378568031_63?_encoding=UTF8&psc=1&refRID=PJW3K8JX68NQPQQQMY15',\n",
       " 'https://www.amazon.in/BIRTHDAY-CURTAINS-PHOTOBOOTH-SUPPLIES-DECORATION/dp/B075GNXYZW/ref=zg_bs_1378568031_64?_encoding=UTF8&psc=1&refRID=PJW3K8JX68NQPQQQMY15',\n",
       " 'https://www.amazon.in/Wowheads-Batman-Bobbleheads-Comics-Figurine/dp/B071YP6VL4/ref=zg_bs_1378568031_65?_encoding=UTF8&psc=1&refRID=PJW3K8JX68NQPQQQMY15',\n",
       " 'https://www.amazon.in/DELITE-Funplay-Pokemon-figures-collection/dp/B01LVWLZWU/ref=zg_bs_1378568031_66?_encoding=UTF8&psc=1&refRID=PJW3K8JX68NQPQQQMY15',\n",
       " 'https://www.amazon.in/Cute-Micro-Landscape-Kitten-Cartoon/dp/B073TCTC1H/ref=zg_bs_1378568031_67?_encoding=UTF8&psc=1&refRID=PJW3K8JX68NQPQQQMY15',\n",
       " 'https://www.amazon.in/Toykart-Talking-Cat-Stories-Songs/dp/B06Y5MJFYW/ref=zg_bs_1378568031_68?_encoding=UTF8&psc=1&refRID=PJW3K8JX68NQPQQQMY15',\n",
       " 'https://www.amazon.in/Toyshine-Dinosaur-Walking-Dancing-Function/dp/B06XKQMJBV/ref=zg_bs_1378568031_69?_encoding=UTF8&psc=1&refRID=PJW3K8JX68NQPQQQMY15',\n",
       " 'https://www.amazon.in/Tukknu-Smiley-Squeeze-Relieve-Decorative/dp/B00KEW8FSI/ref=zg_bs_1378568031_70?_encoding=UTF8&psc=1&refRID=PJW3K8JX68NQPQQQMY15',\n",
       " 'https://www.amazon.in/Simba-8108525-Police-Equipment-Carry/dp/B003FGWL12/ref=zg_bs_1378568031_71?_encoding=UTF8&psc=1&refRID=PJW3K8JX68NQPQQQMY15',\n",
       " 'https://www.amazon.in/Crayola-Marker-Maker-Wacky-Tips/dp/B00J5KVR44/ref=zg_bs_1378568031_72?_encoding=UTF8&psc=1&refRID=PJW3K8JX68NQPQQQMY15',\n",
       " 'https://www.amazon.in/KBF-Fashionable-Clothing-Collection-Bhagalpuri/dp/B077JRN4QK/ref=zg_bs_1378568031_73?_encoding=UTF8&psc=1&refRID=PJW3K8JX68NQPQQQMY15',\n",
       " 'https://www.amazon.in/Zaid-Collections-Dinosaur-Animal-Model/dp/B01FO0B50E/ref=zg_bs_1378568031_74?_encoding=UTF8&psc=1&refRID=PJW3K8JX68NQPQQQMY15',\n",
       " 'https://www.amazon.in/Mattel-Justice-League-Figure-Superman/dp/B06XJ6GND8/ref=zg_bs_1378568031_75?_encoding=UTF8&psc=1&refRID=PJW3K8JX68NQPQQQMY15',\n",
       " 'https://www.amazon.in/Martial-Supply-Professional-Silver-Handcuffs/dp/B00G7UQFW4/ref=zg_bs_1378568031_76?_encoding=UTF8&psc=1&refRID=PJW3K8JX68NQPQQQMY15',\n",
       " 'https://www.amazon.in/Marvel-Avengers-Figure-Captain-America/dp/B01IHFCO12/ref=zg_bs_1378568031_77?_encoding=UTF8&psc=1&refRID=PJW3K8JX68NQPQQQMY15',\n",
       " 'https://www.amazon.in/Funskool-Superman-Quick-Change-Figure/dp/B0101K5CW4/ref=zg_bs_1378568031_78?_encoding=UTF8&psc=1&refRID=PJW3K8JX68NQPQQQMY15',\n",
       " 'https://www.amazon.in/Toyshine-Catching-Fishing-Fishes-Assorted/dp/B072MZ3W8K/ref=zg_bs_1378568031_79?_encoding=UTF8&psc=1&refRID=PJW3K8JX68NQPQQQMY15',\n",
       " 'https://www.amazon.in/SHOPEE-WOODEN-Coloured-Xylophon-Beaters/dp/B071P9KS3P/ref=zg_bs_1378568031_80?_encoding=UTF8&psc=1&refRID=PJW3K8JX68NQPQQQMY15',\n",
       " 'https://www.amazon.in/Funskool-Batman-6401800-Decoy/dp/B00ET0MYPQ/ref=zg_bs_1378568031_81?_encoding=UTF8&psc=1&refRID=DZH9Y8H8YBKA0ZBWC7CP',\n",
       " 'https://www.amazon.in/Reckonon-Hand-Gun-toy-multicolor/dp/B01MDIWY9O/ref=zg_bs_1378568031_82?_encoding=UTF8&psc=1&refRID=DZH9Y8H8YBKA0ZBWC7CP',\n",
       " 'https://www.amazon.in/Hooriyas-Pokemon-Pokeball-Pikachu-Different/dp/B06XBJPR5F/ref=zg_bs_1378568031_83?_encoding=UTF8&psc=1&refRID=DZH9Y8H8YBKA0ZBWC7CP',\n",
       " 'https://www.amazon.in/Tickles-Looking-Panda-Stuffed-Plush/dp/B00Y0QO9G6/ref=zg_bs_1378568031_84?_encoding=UTF8&psc=1&refRID=DZH9Y8H8YBKA0ZBWC7CP',\n",
       " 'https://www.amazon.in/My-Little-Pony-Rainbow-Sea-Pony/dp/B01N0XNWTD/ref=zg_bs_1378568031_85?_encoding=UTF8&psc=1&refRID=DZH9Y8H8YBKA0ZBWC7CP',\n",
       " 'https://www.amazon.in/Marvel-Spider-Titan-Armoured-Figure/dp/B01ISY6G2K/ref=zg_bs_1378568031_86?_encoding=UTF8&psc=1&refRID=DZH9Y8H8YBKA0ZBWC7CP',\n",
       " 'https://www.amazon.in/Rvold-Avengers-Action-Figure-Topper/dp/B01FX8J4GE/ref=zg_bs_1378568031_87?_encoding=UTF8&psc=1&refRID=DZH9Y8H8YBKA0ZBWC7CP',\n",
       " 'https://www.amazon.in/Marvel-Spider-Man-Homecoming-Action-Figure/dp/B06XGVMRRW/ref=zg_bs_1378568031_88?_encoding=UTF8&psc=1&refRID=DZH9Y8H8YBKA0ZBWC7CP',\n",
       " 'https://www.amazon.in/Magicwand%C2%AE-Bands-Birthday-Return-Parties/dp/B073TRQH1P/ref=zg_bs_1378568031_89?_encoding=UTF8&psc=1&refRID=DZH9Y8H8YBKA0ZBWC7CP',\n",
       " 'https://www.amazon.in/Vibgyor-Vibes-Historic-Dinosaurs-Animals/dp/B01MYBH8BW/ref=zg_bs_1378568031_90?_encoding=UTF8&psc=1&refRID=DZH9Y8H8YBKA0ZBWC7CP',\n",
       " 'https://www.amazon.in/Toysyhine-Inches-Lights-Music-Jingle-Moving/dp/B0773KW8V7/ref=zg_bs_1378568031_91?_encoding=UTF8&psc=1&refRID=DZH9Y8H8YBKA0ZBWC7CP',\n",
       " 'https://www.amazon.in/Power-Ranger-Samurai-4-inch-Figure/dp/B00EXNIMHS/ref=zg_bs_1378568031_92?_encoding=UTF8&psc=1&refRID=DZH9Y8H8YBKA0ZBWC7CP',\n",
       " 'https://www.amazon.in/Partypropz-Bride-Photobooth-Props-Pcs/dp/B01M054XWA/ref=zg_bs_1378568031_93?_encoding=UTF8&psc=1&refRID=DZH9Y8H8YBKA0ZBWC7CP',\n",
       " 'https://www.amazon.in/Rvold-Frozen-Characters-Action-Figure/dp/B01N7MAOVM/ref=zg_bs_1378568031_94?_encoding=UTF8&psc=1&refRID=DZH9Y8H8YBKA0ZBWC7CP',\n",
       " 'https://www.amazon.in/Transformers-Disguise-Combiner-Warriors-Strongarm/dp/B00LXCKAC2/ref=zg_bs_1378568031_95?_encoding=UTF8&psc=1&refRID=DZH9Y8H8YBKA0ZBWC7CP',\n",
       " 'https://www.amazon.in/Birthdaygiftwala-Magic-Blow-Pen/dp/B00R2Y2UYQ/ref=zg_bs_1378568031_96?_encoding=UTF8&psc=1&refRID=DZH9Y8H8YBKA0ZBWC7CP',\n",
       " 'https://www.amazon.in/Reusable-Sticker-Pad-Activity-Coloring/dp/B00JHDC4IW/ref=zg_bs_1378568031_97?_encoding=UTF8&psc=1&refRID=DZH9Y8H8YBKA0ZBWC7CP',\n",
       " 'https://www.amazon.in/Wish-Avengers-Glove-Action-Figure/dp/B01M6WW5BT/ref=zg_bs_1378568031_98?_encoding=UTF8&psc=1&refRID=DZH9Y8H8YBKA0ZBWC7CP',\n",
       " 'https://www.amazon.in/Safari-Ltd-S689304-Human-Organs/dp/B00SVGACMQ/ref=zg_bs_1378568031_99?_encoding=UTF8&psc=1&refRID=DZH9Y8H8YBKA0ZBWC7CP',\n",
       " 'https://www.amazon.in/Mattel-Justice-FGG66-League-Figure/dp/B06XHZPPJH/ref=zg_bs_1378568031_100?_encoding=UTF8&psc=1&refRID=DZH9Y8H8YBKA0ZBWC7CP']"
      ]
     },
     "execution_count": 56,
     "metadata": {},
     "output_type": "execute_result"
    }
   ],
   "source": [
    "hrefs=[i.split(\"\\n\")[0] for i in a]\n",
    "hrefs"
   ]
  },
  {
   "cell_type": "code",
   "execution_count": 57,
   "metadata": {},
   "outputs": [
    {
     "data": {
      "text/plain": [
       "'https://www.amazon.in/iDream-PVC-Action-Figure-Kids/dp/B0731H7R1L/ref=zg_bs_1378568031_1?_encoding=UTF8&psc=1&refRID=3MCSV8TEKVF7EMF66S1P'"
      ]
     },
     "execution_count": 57,
     "metadata": {},
     "output_type": "execute_result"
    }
   ],
   "source": [
    "hrefs[0]"
   ]
  },
  {
   "cell_type": "markdown",
   "metadata": {},
   "source": [
    "## 轉成100個html檔"
   ]
  },
  {
   "cell_type": "code",
   "execution_count": 58,
   "metadata": {},
   "outputs": [
    {
     "data": {
      "text/plain": [
       "<Response [200]>"
      ]
     },
     "execution_count": 58,
     "metadata": {},
     "output_type": "execute_result"
    }
   ],
   "source": [
    "import requests\n",
    "from bs4 import BeautifulSoup\n",
    "# 測試網頁是否正常連接\n",
    "session = requests.Session()\n",
    "headers = {\"User-Agent\":\"Mozilla/5.0 (Macintosh; Intel Mac OS X 10_9_5) AppleWebKit 537.36 (KHTML, like Gecko) Chrome\",\"Accept\":\"text/html,application/xhtml+xml,application/xml;q=0.9,image/webp,*/*;q=0.8\"}\n",
    "res = requests.get('https://www.amazon.in/iDream-PVC-Action-Figure-Kids/dp/B0731H7R1L/ref=zg_bs_1378568031_1?_encoding=UTF8&psc=1&refRID=3MCSV8TEKVF7EMF66S1P')\n",
    "res"
   ]
  },
  {
   "cell_type": "code",
   "execution_count": 59,
   "metadata": {},
   "outputs": [
    {
     "name": "stdout",
     "output_type": "stream",
     "text": [
      "==========================file iDream-PVC-Action-Figure-Kids=====================\n",
      "==========================file Discount-Retail-Photo-Booth-Party=====================\n",
      "==========================file Toyshine-Musical-Army-Style-Music=====================\n",
      "==========================file Tickles-Panda-Stuffed-Plush-Black=====================\n",
      "==========================file Syga-Christmas-Party-Photo-Props=====================\n",
      "==========================file Discount-Retail-Photo-Booth-Party=====================\n",
      "==========================file Generic-Party-Propz-Birthday-Photobooth=====================\n",
      "==========================file Transformers-Disguise-Combiner-Changer-Bumblebee=====================\n",
      "==========================file Vibgyor-Vibes-Wild-Animals-Figures=====================\n",
      "==========================file Nerf-Strike-Elite-Disruptor-Multi=====================\n",
      "==========================file Vibgyor-Vibes-Farm-Animals-Figures=====================\n",
      "==========================file Marvel-Dancing-Bobble-Action-Figure=====================\n",
      "==========================file Glance-Musical-Naugty-Dancing-Robot=====================\n",
      "==========================file AIR-SPORTS-LASER-GUN-Bullets=====================\n",
      "==========================file Funskool-Icecream-Teether-Colors-Vary=====================\n",
      "==========================file Gifts-Online-Ultimate-Spiderman-Launcher=====================\n",
      "==========================file DC-Collectibles-Comics-Batman-Action=====================\n",
      "==========================file Battery-Operated-Doctors-Light-Effects=====================\n",
      "==========================file Rianz-Iron-Single-Hand-Glove=====================\n",
      "==========================file Toyshine-Catching-Fishes-Inclues-Assorted=====================\n",
      "==========================file Vibgyor-VibesTM-Animals-Figures-animals=====================\n",
      "==========================file Discount-Retail-Photo-Booth-Shower=====================\n",
      "==========================file My-Little-Pony-Princess-Twilight=====================\n",
      "==========================file Funskool-Floral-Teether-Colors-Vary=====================\n",
      "==========================file Boomco-Head-Battle-Multi-Color=====================\n",
      "==========================file Toyshine-Pottery-Stencils-Creative-Educational=====================\n",
      "==========================file Soccer-Starz-Barcelona-Lionel-Messi=====================\n",
      "==========================file Funskool-Squeaks-Assorted-Pack-Piece=====================\n",
      "==========================file Maker-Death-Quetzalcoatl-Beyblade-Playing=====================\n",
      "==========================file Magicwand-Pok%C3%A3%C6%92%C3%A2%C2%A9Mon-Return-Random-Character=====================\n",
      "==========================file Boomco-Whipblast-Blaster-Multi-Color=====================\n",
      "==========================file PARTY-PROPZ-BIRTHDAY-PHOTOBOOTH-PROPS=====================\n",
      "==========================file Akshat-Online-Traders-Pokemon-Character=====================\n",
      "==========================file Toyshine-Bump-Helicopter-Music-Lights=====================\n",
      "==========================file SAMTROH-MINIONS-PROJECTOR-WATCH=====================\n",
      "==========================file Generic-Party-Propz-Happy-Birthday=====================\n",
      "==========================file Avengers-Hammer-Mjolnir-Cosplay-Collection=====================\n",
      "==========================file RIANZ-Thor-World-Battle-Hammer=====================\n",
      "==========================file Generic-Plastic-Arithmetic-Soroban-Calculating=====================\n",
      "==========================file Kiditos-Transformers-Optimus-Converting-Figure=====================\n",
      "==========================file Marvel-Titan-Captain-America-Figure=====================\n",
      "==========================file Retail-Raincoat-Doll-Cartoon-Figurines=====================\n",
      "==========================file ezyPRNT-Instagram-Facebook-anniversary-celebrations=====================\n",
      "==========================file Stickers-Peppa-Doodle-Decoration-Laptop=====================\n",
      "==========================file HALO-NATION-Avengers-Toys-Captain=====================\n",
      "==========================file Soccerstarz-Madrid-Cristiano-Ronaldo-Figure=====================\n",
      "==========================file AVENGER-Incredible-Unbreakable-Action-Figure=====================\n",
      "==========================file Untumble-Photo-booth-props-couples=====================\n",
      "==========================file Mattel-Justice-League-Figure-Basicwonder=====================\n",
      "==========================file Toyshine-Musical-Microphone-Singing-Assorted=====================\n",
      "==========================file Fantasy-India-Agnet-Remote-Control=====================\n",
      "==========================file Magicwand-Spiderman-Gloves-Disc-Launcher=====================\n",
      "==========================file Generic-Dollhouse-Bonsai-Garden-Landscape=====================\n",
      "==========================file Womens-Clothing-designer-collection-beautiful=====================\n",
      "==========================file Zest-Toyz-Spiderman-Gloves-Launcher=====================\n",
      "==========================file SAMTROH-BEN-10-PROJECTOR-WATCH=====================\n",
      "==========================file Mattel-Justice-League-Basic-Figure=====================\n",
      "==========================file Shreeji-Ethnic-Collection-Partywear-Georgette=====================\n",
      "==========================file Vibgyor-VibesTM-Collectible-Figure-Inches=====================\n",
      "==========================file 30Pcs-Garden-Ornament-Miniature-Plant=====================\n",
      "==========================file Kiditos-Transformers-Bumblebee-Converting-Action=====================\n",
      "==========================file Saffire-Jelly-Shots-Bullets-Multi=====================\n",
      "==========================file Harikrishnavilla-Collection-Partywear-Bhagalpuri-collection=====================\n",
      "==========================file BIRTHDAY-CURTAINS-PHOTOBOOTH-SUPPLIES-DECORATION=====================\n",
      "==========================file Wowheads-Batman-Bobbleheads-Comics-Figurine=====================\n",
      "==========================file DELITE-Funplay-Pokemon-figures-collection=====================\n",
      "==========================file Cute-Micro-Landscape-Kitten-Cartoon=====================\n",
      "==========================file Toykart-Talking-Cat-Stories-Songs=====================\n",
      "==========================file Toyshine-Dinosaur-Walking-Dancing-Function=====================\n",
      "==========================file Tukknu-Smiley-Squeeze-Relieve-Decorative=====================\n",
      "==========================file Simba-8108525-Police-Equipment-Carry=====================\n",
      "==========================file Crayola-Marker-Maker-Wacky-Tips=====================\n",
      "==========================file KBF-Fashionable-Clothing-Collection-Bhagalpuri=====================\n",
      "==========================file Zaid-Collections-Dinosaur-Animal-Model=====================\n",
      "==========================file Mattel-Justice-League-Figure-Superman=====================\n",
      "==========================file Martial-Supply-Professional-Silver-Handcuffs=====================\n",
      "==========================file Marvel-Avengers-Figure-Captain-America=====================\n",
      "==========================file Funskool-Superman-Quick-Change-Figure=====================\n",
      "==========================file Toyshine-Catching-Fishing-Fishes-Assorted=====================\n",
      "==========================file SHOPEE-WOODEN-Coloured-Xylophon-Beaters=====================\n",
      "==========================file Funskool-Batman-6401800-Decoy=====================\n",
      "==========================file Reckonon-Hand-Gun-toy-multicolor=====================\n",
      "==========================file Hooriyas-Pokemon-Pokeball-Pikachu-Different=====================\n",
      "==========================file Tickles-Looking-Panda-Stuffed-Plush=====================\n",
      "==========================file My-Little-Pony-Rainbow-Sea-Pony=====================\n",
      "==========================file Marvel-Spider-Titan-Armoured-Figure=====================\n",
      "==========================file Rvold-Avengers-Action-Figure-Topper=====================\n",
      "==========================file Marvel-Spider-Man-Homecoming-Action-Figure=====================\n",
      "==========================file Magicwand%C2%AE-Bands-Birthday-Return-Parties=====================\n",
      "==========================file Vibgyor-Vibes-Historic-Dinosaurs-Animals=====================\n"
     ]
    },
    {
     "name": "stdout",
     "output_type": "stream",
     "text": [
      "==========================file Toysyhine-Inches-Lights-Music-Jingle-Moving=====================\n",
      "==========================file Power-Ranger-Samurai-4-inch-Figure=====================\n",
      "==========================file Partypropz-Bride-Photobooth-Props-Pcs=====================\n",
      "==========================file Rvold-Frozen-Characters-Action-Figure=====================\n",
      "==========================file Transformers-Disguise-Combiner-Warriors-Strongarm=====================\n",
      "==========================file Birthdaygiftwala-Magic-Blow-Pen=====================\n",
      "==========================file Reusable-Sticker-Pad-Activity-Coloring=====================\n",
      "==========================file Wish-Avengers-Glove-Action-Figure=====================\n",
      "==========================file Safari-Ltd-S689304-Human-Organs=====================\n",
      "==========================file Mattel-Justice-FGG66-League-Figure=====================\n",
      "318.7760639190674\n"
     ]
    }
   ],
   "source": [
    "from bs4 import BeautifulSoup\n",
    "import multiprocessing as mp\n",
    "import concurrent.futures\n",
    "import requests\n",
    "import os\n",
    "\n",
    "\n",
    "session = requests.Session()\n",
    "headers = {\"User-Agent\":\"Mozilla/5.0 (Macintosh; Intel Mac OS X 10_9_5) AppleWebKit 537.36 (KHTML, like Gecko) Chrome\",\"Accept\":\"text/html,application/xhtml+xml,application/xml;q=0.9,image/webp,*/*;q=0.8\"}\n",
    "cookiestr = '__cfduid=df4417457002ed1d390cc65a2f7734b9d1494830719; _gat=1; _ga=GA1.2.1333249610.1494830798; _gid=GA1.2.970157078.1502190098'\n",
    "cookies = cookiestr.split(\";\")\n",
    "cookiedata ={}\n",
    "if not os.path.exists('../../20171207/In/Figures & Playsets/'):\n",
    "    os.makedirs('../../20171207/In/Figures & Playsets/')\n",
    "for cookie in cookies:\n",
    "    cookiedata[cookie.split(\"=\")[0]]=cookie.split(\"=\")[1]\n",
    "    \n",
    "import time\n",
    "errorlist=[]\n",
    "start=time.time()\n",
    "for href in hrefs:\n",
    "    res=requests.get(href,cookies = cookiedata)\n",
    "    res.content\n",
    "    try:\n",
    "        with open('../../20171207/In/Figures & Playsets/'+href.split('/')[-4]+'.html','w',encoding='utf-8') as f :\n",
    "                print(\"==========================file %s=====================\" % (href.split('/')[-4]))\n",
    "                f.write(res.text)\n",
    "                time.sleep(1)\n",
    "#                 if (len(res.text) << 10):\n",
    "#                     errorlist.append(href)\n",
    "#                     with open('../Baby&ToddlerToys_20171126/Baby&ToddlerToysError.txt','w',encoding='utf-8') as f1:\n",
    "#                         for row in errorlist:\n",
    "#                             f1.write(row + '\\n')\n",
    "    except Exception as e:\n",
    "        print(e)\n",
    "        time.sleep(0.1)\n",
    "        pass\n",
    "    \n",
    "    \n",
    "    \n",
    "\n",
    "end=time.time()\n",
    "print(end-start)"
   ]
  },
  {
   "cell_type": "code",
   "execution_count": null,
   "metadata": {
    "collapsed": true
   },
   "outputs": [],
   "source": []
  }
 ],
 "metadata": {
  "kernelspec": {
   "display_name": "Python 3",
   "language": "python",
   "name": "python3"
  },
  "language_info": {
   "codemirror_mode": {
    "name": "ipython",
    "version": 3
   },
   "file_extension": ".py",
   "mimetype": "text/x-python",
   "name": "python",
   "nbconvert_exporter": "python",
   "pygments_lexer": "ipython3",
   "version": "3.6.1"
  }
 },
 "nbformat": 4,
 "nbformat_minor": 2
}
