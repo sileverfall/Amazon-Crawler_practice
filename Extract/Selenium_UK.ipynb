{
 "cells": [
  {
   "cell_type": "markdown",
   "metadata": {},
   "source": [
    "## Prepared Work"
   ]
  },
  {
   "cell_type": "code",
   "execution_count": 1,
   "metadata": {
    "collapsed": true
   },
   "outputs": [],
   "source": [
    "import requests\n",
    "from bs4 import BeautifulSoup as bs\n",
    "import os\n",
    "import json\n",
    "import time\n",
    "import re\n",
    "from selenium import webdriver\n",
    "\n",
    "cookiestr = 'aws-account-alias=bb102; x-wl-uid=1qO1zbLT/VurrTD8olrRaxt4ZvTE+vTeFIHu58TFdpWz5wSlgeDL/v+q5P3gFNGfccOVMboQEwus=; AMCV_4A8581745834114C0A495E2B%40AdobeOrg=-1891778711%7CMCIDTS%7C17459%7CMCMID%7C52253475372251991424690344856724644964%7CMCOPTOUT-1508403795s%7CNONE%7CMCAID%7C2CF30EF7852A888A-40000300E0001C2D%7CvVersion%7C2.4.0; s_nr=1508396596374-New; s_lv=1508396596375; skin=noskin; session-token=0lQkzegQRtwPu7GiPFEAEDYLCK3p6WW8vF/g2Kr93EnMHKmH2uTgd30RM43tJCAw2uo2xeco+fz9qCC4dzTpW86EX5YF5lVFvMOXhSncgNmhfgnG7DaXuUwvxrXhAtluWYQgfWI8I22bxDO6KWvBDwfM6IFCfsYouZ6kt3oXTHzy6wSehl3qokrzeEBzLpfPu6mlixQc/Yuommb6ztr0yiL/6dzBf5UjFImpI3OXvIkvwGuyBITnHJH9epKv+Lec; amznacsleftnav-74393fbe-66a6-3a52-840b-37b54d8c76ce=1,21,3; ubid-main=132-7315371-9843811; session-id-time=2082787201l; session-id=135-5046157-5863552; csm-hit=85CP8ATFWH4EXAFXQX3Q+s-M5199TSF54AFVK1M6RJW|1509623128403'\n",
    "cookies = cookiestr.split(\";\")\n",
    "cookiedata ={}\n",
    "for cookie in cookies:\n",
    "    cookiedata[cookie.split(\"=\")[0]]=cookie.split(\"=\")[1]\n",
    "\n",
    "ssession = requests.Session()\n",
    "headers = {\"User-Agent\":\"Mozilla/5.0 (Macintosh; Intel Mac OS X 10_9_5) AppleWebKit 537.36 (KHTML, like Gecko) Chrome\",\"Accept\":\"text/html,application/xhtml+xml,application/xml;q=0.9,image/webp,*/*;q=0.8\"}"
   ]
  },
  {
   "cell_type": "markdown",
   "metadata": {},
   "source": [
    "## 設定驅動器"
   ]
  },
  {
   "cell_type": "code",
   "execution_count": 2,
   "metadata": {
    "collapsed": true
   },
   "outputs": [],
   "source": [
    "# 使用chrome驅動器\n",
    "browser = webdriver.Chrome()\n",
    "# 每一個網頁不超過30秒\n",
    "browser.set_page_load_timeout(30)\n",
    "browser.get('https://www.amazon.co.uk/Best-Sellers-Toys-Games-Figures-Playsets/zgbs/kids/364301031/ref=cs1#1')"
   ]
  },
  {
   "cell_type": "markdown",
   "metadata": {},
   "source": [
    "## 抓頁碼"
   ]
  },
  {
   "cell_type": "code",
   "execution_count": 3,
   "metadata": {},
   "outputs": [
    {
     "name": "stdout",
     "output_type": "stream",
     "text": [
      "<selenium.webdriver.remote.webelement.WebElement (session=\"50904ff3a77ecf5a3756818687097676\", element=\"0.5536069936395913-1\")>\n",
      "81-100\n"
     ]
    },
    {
     "data": {
      "text/plain": [
       "5"
      ]
     },
     "execution_count": 3,
     "metadata": {},
     "output_type": "execute_result"
    }
   ],
   "source": [
    "page_info = browser.find_element_by_css_selector('#zg_page5 > a')\n",
    "print(page_info)\n",
    "print(page_info.text)\n",
    "pages = page_info.text.split('-')[1]\n",
    "pages = int(pages)\n",
    "pages = int(pages/20)\n",
    "pages"
   ]
  },
  {
   "cell_type": "markdown",
   "metadata": {},
   "source": [
    "## 抓取href_list"
   ]
  },
  {
   "cell_type": "code",
   "execution_count": 52,
   "metadata": {
    "scrolled": true
   },
   "outputs": [
    {
     "name": "stdout",
     "output_type": "stream",
     "text": [
      "第1頁\n",
      "第2頁\n",
      "第3頁\n",
      "-----------------\n",
      "16.459655046463013\n"
     ]
    }
   ],
   "source": [
    "start = time.time()\n",
    "Amzlist=[]\n",
    "for i in range(pages):\n",
    "    if i > 2:\n",
    "        break\n",
    "    print('第%d頁' % (i+1))\n",
    "    url ='https://www.amazon.co.uk/Best-Sellers-Toys-Games-Fancy-Dress/zgbs/kids/364108031/ref=cs#'+ str(i+1)\n",
    "    browser.get(url)\n",
    "    #windows.scrollTo(x座標,y座標)=>讓他執行滾動\n",
    "    browser.execute_script(\"window.scrollTo(0,document.body.scrollHeight);\")\n",
    "    time.sleep(3)\n",
    "    goods = browser.find_element_by_css_selector('#zg_left_col1 > #zg_centerListWrapper')\n",
    "#     print(goods.text)\n",
    "#     print('第%d頁有%d件商品' %((i+1),len(goods.text)))\n",
    "    all_goods = goods.find_elements_by_class_name('zg_itemImmersion')\n",
    "    try:\n",
    "        href = [g.find_element_by_css_selector('div.zg_itemWrapper > div > a').get_attribute('href')for g in all_goods]\n",
    "        Amzlist += href\n",
    "        time.sleep(0.1)\n",
    "    except Exception as e:\n",
    "            print(e)\n",
    "            print(\"none\")\n",
    "            pass\n",
    "end = time.time() \n",
    "\n",
    "print(\"-----------------\")\n",
    "Amzlist=\"\\n\".join(Amzlist) \n",
    "# print(Amzlist)\n",
    "print(end-start)\n",
    "\n"
   ]
  },
  {
   "cell_type": "markdown",
   "metadata": {},
   "source": [
    "## 轉成txt"
   ]
  },
  {
   "cell_type": "code",
   "execution_count": 5,
   "metadata": {
    "collapsed": true
   },
   "outputs": [],
   "source": [
    "if not os.path.exists('../20180118/UK/'):\n",
    "    os.makedirs('../20180118/UK/')"
   ]
  },
  {
   "cell_type": "code",
   "execution_count": 53,
   "metadata": {
    "collapsed": true
   },
   "outputs": [],
   "source": [
    "with open('../20180118/UK/Dressing Up.txt','w',encoding='utf-8') as f :\n",
    "        f.write(Amzlist)"
   ]
  },
  {
   "cell_type": "markdown",
   "metadata": {},
   "source": [
    "## 抓ReviewList"
   ]
  },
  {
   "cell_type": "code",
   "execution_count": 54,
   "metadata": {
    "scrolled": true
   },
   "outputs": [
    {
     "name": "stdout",
     "output_type": "stream",
     "text": [
      "第1頁\n",
      "第2頁\n",
      "第3頁\n",
      "0\n",
      "-----------------\n",
      "17.943816900253296\n"
     ]
    }
   ],
   "source": [
    "start = time.time()\n",
    "Rlist=[]\n",
    "none = 0\n",
    "for i in range(pages):\n",
    "    if i > 2:\n",
    "        break\n",
    "    print('第%d頁' % (i+1))\n",
    "    url ='https://www.amazon.co.uk/Best-Sellers-Toys-Games-Fancy-Dress/zgbs/kids/364108031/ref=cs#'+ str(i+1)\n",
    "    browser.get(url)\n",
    "    #windows.scrollTo(x座標,y座標)=>讓他執行滾動\n",
    "    browser.execute_script(\"window.scrollTo(0,document.body.scrollHeight);\")\n",
    "    time.sleep(3)\n",
    "    goods = browser.find_element_by_css_selector('#zg_left_col1 > #zg_centerListWrapper')\n",
    "#     print(goods.text)\n",
    "#     print('第%d頁有%d件商品' %((i+1),len(goods.text)))\n",
    "    all_goods = goods.find_elements_by_class_name('zg_itemImmersion')\n",
    "    for g in all_goods:\n",
    "        try:\n",
    "            reviewlist = [g.find_element_by_class_name('a-size-small').get_attribute('href')]\n",
    "            Rlist += reviewlist \n",
    "            time.sleep(0.1)\n",
    "        except Exception as e:\n",
    "            none += 1\n",
    "            \n",
    "#                 print(e)\n",
    "#                 print(\"none\")\n",
    "            pass\n",
    "end = time.time() \n",
    "print(none)\n",
    "print(\"-----------------\")\n",
    "Rlist=\"\\n\".join(Rlist) \n",
    "# print(Rlist)\n",
    "print(end-start)"
   ]
  },
  {
   "cell_type": "markdown",
   "metadata": {},
   "source": [
    "## ReviewList轉成txt"
   ]
  },
  {
   "cell_type": "code",
   "execution_count": 8,
   "metadata": {
    "collapsed": true
   },
   "outputs": [],
   "source": [
    "if not os.path.exists('../../Review_list/20180118/UK/'):\n",
    "    os.makedirs('../../Review_list/20180118/UK/')"
   ]
  },
  {
   "cell_type": "code",
   "execution_count": 55,
   "metadata": {
    "collapsed": true
   },
   "outputs": [],
   "source": [
    "with open('../../Review_list/20180118/UK/Dressing Up_review.txt','w',encoding='utf-8') as f :\n",
    "        f.write(Rlist)"
   ]
  },
  {
   "cell_type": "markdown",
   "metadata": {},
   "source": [
    "## 將 contents 存成 csv檔"
   ]
  },
  {
   "cell_type": "code",
   "execution_count": 56,
   "metadata": {},
   "outputs": [
    {
     "name": "stdout",
     "output_type": "stream",
     "text": [
      "第1頁\n",
      "第2頁\n",
      "第3頁\n",
      "-----------------\n",
      "24.856770753860474\n"
     ]
    }
   ],
   "source": [
    "start = time.time()\n",
    "conlist=[]\n",
    "for i in range(pages):\n",
    "    if i > 2:\n",
    "        break\n",
    "    print('第%d頁' % (i+1))\n",
    "    url ='https://www.amazon.co.uk/Best-Sellers-Toys-Games-Fancy-Dress/zgbs/kids/364108031/ref=cs#'+ str(i+1)\n",
    "    browser.get(url)\n",
    "    #windows.scrollTo(x座標,y座標)=>讓他執行滾動\n",
    "    browser.execute_script(\"window.scrollTo(0,document.body.scrollHeight);\")\n",
    "    time.sleep(3)\n",
    "    goods = browser.find_element_by_css_selector('#zg_left_col1 > #zg_centerListWrapper')\n",
    "#     print(goods.text)\n",
    "#     print('第%d頁有%d件商品' %((i+1),len(goods.text)))\n",
    "    all_goods = goods.find_elements_by_class_name('zg_itemImmersion')\n",
    "    for g in all_goods:\n",
    "        try:\n",
    "            contents = [g.find_element_by_class_name('zg_rankNumber').text+ g.find_element_by_class_name('a-link-normal').text+\";\"\\\n",
    "                    +g.find_element_by_css_selector('div.zg_itemWrapper > div > div.a-icon-row > a').get_attribute('title')+\";\"\\\n",
    "                    +g.find_element_by_class_name('a-size-small').text+\";\"\\\n",
    "                    +g.find_element_by_css_selector('div.zg_itemWrapper > div > div.a-row > span.a-size-base.a-color-price > span').text+\";\"\\\n",
    "                   +g.find_element_by_css_selector('div.zg_itemWrapper > div > a').get_attribute('href')]\n",
    "            conlist += contents\n",
    "        except Exception as e:\n",
    "            print(g.find_element_by_class_name('zg_rankNumber').text+ g.find_element_by_class_name('a-link-normal').text)\n",
    "            pass\n",
    "        \n",
    "end = time.time() \n",
    "\n",
    "print(\"-----------------\")\n",
    "print(end-start)\n",
    "conlist=\"\\n\".join(conlist) \n",
    "# print(conlist)"
   ]
  },
  {
   "cell_type": "code",
   "execution_count": 57,
   "metadata": {
    "collapsed": true
   },
   "outputs": [],
   "source": [
    "with open('../20180118/UK/Dressing Up.csv','w',encoding='utf-8') as f :\n",
    "        f.write(conlist)"
   ]
  },
  {
   "cell_type": "markdown",
   "metadata": {},
   "source": [
    "## readlines()"
   ]
  },
  {
   "cell_type": "code",
   "execution_count": 2,
   "metadata": {
    "collapsed": true
   },
   "outputs": [],
   "source": [
    "with open('../../Extract/20171207/UK/Bikes, Trikes & Ride-ons.txt',encoding='utf-8') as f :\n",
    "    a=f.readlines()"
   ]
  },
  {
   "cell_type": "code",
   "execution_count": 3,
   "metadata": {},
   "outputs": [],
   "source": [
    "hrefs=[i.split(\"\\n\")[0] for i in a]"
   ]
  },
  {
   "cell_type": "code",
   "execution_count": 4,
   "metadata": {},
   "outputs": [
    {
     "data": {
      "text/plain": [
       "'https://www.amazon.co.uk/Childs-Childrens-Helmet-Skateboard-Scooter/dp/B01MR15IHO/ref=zg_bs_364075031_1?_encoding=UTF8&refRID=2NVP92FDCDJWM9J89SJ5'"
      ]
     },
     "execution_count": 4,
     "metadata": {},
     "output_type": "execute_result"
    }
   ],
   "source": [
    "hrefs[0]"
   ]
  },
  {
   "cell_type": "markdown",
   "metadata": {},
   "source": [
    "## 轉成100個html檔"
   ]
  },
  {
   "cell_type": "code",
   "execution_count": 17,
   "metadata": {},
   "outputs": [
    {
     "data": {
      "text/plain": [
       "<Response [503]>"
      ]
     },
     "execution_count": 17,
     "metadata": {},
     "output_type": "execute_result"
    }
   ],
   "source": [
    "import requests\n",
    "from bs4 import BeautifulSoup\n",
    "# 測試網頁是否正常連接\n",
    "session = requests.Session()\n",
    "headers = {\"User-Agent\":\"Mozilla/5.0 (Macintosh; Intel Mac OS X 10_9_5) AppleWebKit 537.36 (KHTML, like Gecko) Chrome\",\"Accept\":\"text/html,application/xhtml+xml,application/xml;q=0.9,image/webp,*/*;q=0.8\"}\n",
    "res = requests.get(hrefs[0])\n",
    "res"
   ]
  },
  {
   "cell_type": "code",
   "execution_count": 12,
   "metadata": {},
   "outputs": [
    {
     "name": "stdout",
     "output_type": "stream",
     "text": [
      "==========================file Childs-Childrens-Helmet-Skateboard-Scooter=====================\n",
      "==========================file INTEY-Magnetic-Magnetic-Block-Toddler-Toys-Creativity=====================\n",
      "==========================file Little-Tikes-Classic-Coupe-Colored=====================\n",
      "==========================file Coolrideplates-Personalised-Adhesive-Number-Stickers=====================\n",
      "==========================file Scuttlebug-SC8536-Butterfly-Scuttle-Bug=====================\n",
      "==========================file Chicco-Bullet-Balance-Bike-Red=====================\n",
      "==========================file Scuttlebug-Bumblebee-Yellow-and-Black=====================\n",
      "==========================file SANTA-CLAUS-FANCY-DRESS-COSTUME=====================\n",
      "==========================file Scuttlebug-Beetle-Red-and-Black=====================\n",
      "==========================file Playmobil-6890-Summer-Biking-Trip=====================\n",
      "==========================file Peppa-Pig-Girls-Safety-Helmet=====================\n",
      "==========================file Deere-Tractor-Loader-Detachable-Trailer=====================\n",
      "==========================file Turbospoke-TS004-Exhaust-System=====================\n",
      "==========================file Tobar-20633-Sally-Space-Hopper=====================\n",
      "==========================file Spider-Man-3-Wheels-Scooter=====================\n",
      "==========================file Raleigh-Mystery-Spiderman-Cycle-Helmet=====================\n",
      "==========================file Thirst-Aid-Helmet-Drinking-Colours=====================\n",
      "==========================file Ancheer-Cruiser-Skateboard-Complete-Beginners=====================\n",
      "==========================file Thomas-Friends-Engine-Ride-On=====================\n",
      "==========================file Christmas-Rudolph-Bicycle-Children-128X100Cm=====================\n",
      "==========================file Little-Tikes-Dino-Coupe-Ride=====================\n",
      "==========================file Peppa-Pig-M14266-First-Scooter=====================\n",
      "==========================file Bicycle-TRIXES-Multicolour-Approx-Stocking=====================\n",
      "==========================file Raleigh-Mystery-Flower-Girls-Helmet=====================\n",
      "==========================file Bopster-boppi%C2%AE-Wiggle-Car=====================\n",
      "==========================file Girls-Bike-Helmet-Pads-Riderz=====================\n",
      "==========================file RICCO%C2%AE-Digger-Excavator-Grabber-Bulldozer=====================\n",
      "==========================file Flite-Panic-inch-Wheel-Bike=====================\n",
      "==========================file Sports-Cruiser-Skateboard-Vintage-Performance=====================\n",
      "==========================file EVO-Inline-Scooter-Red-Blue=====================\n",
      "==========================file Dinosaur-Childrens-Cycling-Skating-Suitable=====================\n",
      "==========================file SURFER-Cruiser-Skateboard-Carry-bopster=====================\n",
      "==========================file 3Style-Scooters%C2%AE-Butterfly-Bumblebee-Adjustable=====================\n",
      "==========================file EVO-1436843-Inline-Scooter-Pink=====================\n",
      "==========================file Trunki-Childrens-Luggage=====================\n",
      "==========================file bopster-Wheeled-Folding-Childrens-Scooter=====================\n",
      "==========================file Scoot-n-Pull-Basket-Pink=====================\n",
      "==========================file Kubbinga-Unisex-Hornit-Lights-Scooters=====================\n",
      "==========================file Disney-STAC892084-Stamp-Cars-Bell=====================\n",
      "==========================file Tobar-09601-Rock-n-Hopper-Hopping-Toy=====================\n",
      "==========================file Spider-Man-1436783-Mini-Skateboard=====================\n",
      "==========================file Fidget-Relieves-Anxiety-Attention-Children=====================\n",
      "==========================file boppi%C2%AE-Kids-Wooden-Balance-Bike=====================\n",
      "==========================file Monster-Skateboard-Including-Helmet-Backpack=====================\n",
      "==========================file Funbee-One-2-Wheels-Scooter=====================\n",
      "==========================file Balance-Bike-Kids-Lightweight-Banana=====================\n",
      "==========================file PJ-Masks-First-Scooter-M14496=====================\n",
      "==========================file Coolrideplates%C2%AE-Personalised-Self-Adhesive-Stickers-designed=====================\n",
      "==========================file patrol-OPAW247-17-Inch-Maple-Skateboard=====================\n",
      "==========================file Scuttlebug-8537-Grasshopper-Scuttle-Bug=====================\n",
      "==========================file Cars-M14362-Disney-First-Scooter=====================\n",
      "==========================file Osprey-Childs-Skate-Pads-Medium=====================\n",
      "==========================file Raleigh-Universal-Junior-Wheel-Stabiliser=====================\n",
      "==========================file SkaterTrainer-Skateboarding-Accessory-Perfecting-Kickflip=====================\n",
      "==========================file Sonic-wheels-enclosed-chainguard-brakes=====================\n",
      "==========================file 3Style%C2%AE-Skateboards-Mini-Cruiser-Skateboard-Complete=====================\n",
      "==========================file Scootaheadz-Dinosaur-Green=====================\n",
      "==========================file Stamp-Disney-Minnie-Mouse-Bell=====================\n",
      "==========================file Chicco-Arrow-Balance-Bike-Pink=====================\n",
      "==========================file BoredCrazy-Skateboard-Miulticoloured-griptape-kicktail=====================\n",
      "==========================file Personalised-Self-Adhesive-Wheelchair-Ellis-Graphix=====================\n",
      "==========================file Junior-Cycling-Adjustable-Headband-Childrens=====================\n",
      "==========================file Sonic-wheels-enclosed-chainguard-brakes=====================\n",
      "==========================file JD-Bug-Original-Street-Scooter=====================\n",
      "==========================file OZBOZZ-SV12712-Lightning-Scooter-Activated=====================\n",
      "==========================file Hornit-1455-9903-74-Mini-Red-Blue=====================\n",
      "==========================file Trolls-M14305-Folding-Inline-Scooter=====================\n",
      "==========================file NDCent-NDcent-Flier-BMX-Bike=====================\n",
      "==========================file bopster-Wheeled-Folding-Scooter-Stripes=====================\n",
      "==========================file Mini-Micro-Deluxe-Scooter-Purple=====================\n",
      "==========================file Batman-Boys-Bat-Safety-Helmet=====================\n",
      "==========================file Micro-Deluxe-MMD006-Scooter-children=====================\n",
      "==========================file Ancheer-Skateboard-Complete-Classic-Cruiser=====================\n",
      "==========================file AMOS-Streamers-Tricycle-Childrens-Handlebar=====================\n",
      "==========================file Electric-Scrambler-Childrens-Motorbike-Motorcycle=====================\n",
      "==========================file JD-Bug-Original-Street-Scooter=====================\n",
      "==========================file Riderz-Boys-Bike-Helmet-Pads=====================\n",
      "==========================file Childrens-Beginner-Skater-Outdoor-Skateboard=====================\n",
      "==========================file Scootaheadz-Pony-Pink=====================\n",
      "==========================file KinderKraft-2Way-Balance-First-Children=====================\n",
      "==========================file Oxford-Girls-Dolly-Metal-Bracket=====================\n",
      "==========================file Sonic-Beauty-Lillac-cordinated-padding=====================\n",
      "==========================file EVO-Move-Groove-Scooter-Blue=====================\n",
      "==========================file Sport-DirectTM-Bicycle-child-Girls=====================\n",
      "==========================file JCB-1434694-Tractor-Ride-On=====================\n",
      "==========================file FROZEN-Disney-Tri-Scooter-Adjustable-Handlebar=====================\n",
      "==========================file FREESTYLE-STABILIZERS-ORANGE-BOTTLE-HOLDER=====================\n",
      "==========================file Kiddo-Design-Childrens-Go-Kart-Adjustable=====================\n",
      "==========================file Micro-Scooters-SA0027-Sprite-Scooter=====================\n",
      "==========================file Kiddo-Wheeler-Design-Children-Tricycle=====================\n",
      "==========================file Childrens-Ride-Mercedes-Benz-Sound-Effects=====================\n",
      "==========================file RIP-X-Pedal-Racing-KART-Adjustable=====================\n"
     ]
    },
    {
     "name": "stdout",
     "output_type": "stream",
     "text": [
      "==========================file Disney-Princess-Girls-Safety-Helmet=====================\n",
      "==========================file LIVIVO-Colourful-Toddler-Learning-Accessories=====================\n",
      "==========================file Micro-Scooter-SA0019-Sprite-Silver=====================\n",
      "==========================file deAO-Excavator-Toddlers-Vehicle-Different=====================\n",
      "==========================file Sonic-Yellow-colour-cordinated-padding=====================\n",
      "==========================file eYotto-Watches-Waterproof-Digital-Backlight=====================\n",
      "==========================file Scramblebug-SB8510-Bubblegum-Lavender-White=====================\n",
      "==========================file PERSONALISED-NUMBER-CHILDRENS-ADHESIVE-STICKER=====================\n",
      "543.7941257953644\n"
     ]
    }
   ],
   "source": [
    "from bs4 import BeautifulSoup\n",
    "import multiprocessing as mp\n",
    "import concurrent.futures\n",
    "import requests\n",
    "import os\n",
    "\n",
    "\n",
    "session = requests.Session()\n",
    "headers = {\"User-Agent\":\"Mozilla/5.0 (Macintosh; Intel Mac OS X 10_9_5) AppleWebKit 537.36 (KHTML, like Gecko) Chrome\",\"Accept\":\"text/html,application/xhtml+xml,application/xml;q=0.9,image/webp,*/*;q=0.8\"}\n",
    "cookiestr = '__cfduid=df4417457002ed1d390cc65a2f7734b9d1494830719; _gat=1; _ga=GA1.2.1333249610.1494830798; _gid=GA1.2.970157078.1502190098'\n",
    "cookies = cookiestr.split(\";\")\n",
    "cookiedata ={}\n",
    "if not os.path.exists('../../20171207/UK/Bikes, Trikes & Ride-ons/'):\n",
    "    os.makedirs('../../20171207/UK/Bikes, Trikes & Ride-ons/')\n",
    "for cookie in cookies:\n",
    "    cookiedata[cookie.split(\"=\")[0]]=cookie.split(\"=\")[1]\n",
    "    \n",
    "import time\n",
    "error = 0\n",
    "errorlist=[]\n",
    "start=time.time()\n",
    "for href in hrefs:\n",
    "    res2=requests.get(href,cookies = cookiedata)\n",
    "    res2.content\n",
    "    try:\n",
    "        with open('../../20171207/UK/Bikes, Trikes & Ride-ons/'+href.split('/')[-4]+'.html','w',encoding='utf-8') as f :\n",
    "                print(\"==========================file %s=====================\" % (href.split('/')[-4]))\n",
    "                f.write(res.text)\n",
    "                time.sleep(1)\n",
    "                if 'Customer reviews' not in res2.text:\n",
    "                    error += 1\n",
    "                    errorlist.append(href)\n",
    "                    time.sleep(3)\n",
    "                    \n",
    "                    with open('../../20171207/UK/Error/Bikes, Trikes & Ride-ons_error.txt','w',encoding='utf-8') as f4:\n",
    "                        for row in errorlist:\n",
    "                            f4.write(row + '\\n')\n",
    "    except Exception as e:\n",
    "        print(e)\n",
    "        time.sleep(0.1)\n",
    "        pass\n",
    "    \n",
    "    \n",
    "    \n",
    "\n",
    "end=time.time()\n",
    "print(end-start)\n",
    "print(\"++++++++++++++++++++++++++++++++\")\n",
    "print(error)"
   ]
  },
  {
   "cell_type": "code",
   "execution_count": null,
   "metadata": {
    "collapsed": true
   },
   "outputs": [],
   "source": []
  }
 ],
 "metadata": {
  "kernelspec": {
   "display_name": "Python 3",
   "language": "python",
   "name": "python3"
  },
  "language_info": {
   "codemirror_mode": {
    "name": "ipython",
    "version": 3
   },
   "file_extension": ".py",
   "mimetype": "text/x-python",
   "name": "python",
   "nbconvert_exporter": "python",
   "pygments_lexer": "ipython3",
   "version": "3.6.1"
  }
 },
 "nbformat": 4,
 "nbformat_minor": 2
}
