{
 "cells": [
  {
   "cell_type": "markdown",
   "metadata": {},
   "source": [
    "## 基本bs4測試"
   ]
  },
  {
   "cell_type": "code",
   "execution_count": 1,
   "metadata": {
    "collapsed": true
   },
   "outputs": [],
   "source": [
    "import requests\n",
    "from bs4 import BeautifulSoup as bs\n",
    "import os\n",
    "import json\n",
    "import time\n",
    "import re\n",
    "from selenium import webdriver"
   ]
  },
  {
   "cell_type": "code",
   "execution_count": 2,
   "metadata": {
    "collapsed": true
   },
   "outputs": [],
   "source": [
    "cookiestr = 'aws-account-alias=bb102; x-wl-uid=1qO1zbLT/VurrTD8olrRaxt4ZvTE+vTeFIHu58TFdpWz5wSlgeDL/v+q5P3gFNGfccOVMboQEwus=; AMCV_4A8581745834114C0A495E2B%40AdobeOrg=-1891778711%7CMCIDTS%7C17459%7CMCMID%7C52253475372251991424690344856724644964%7CMCOPTOUT-1508403795s%7CNONE%7CMCAID%7C2CF30EF7852A888A-40000300E0001C2D%7CvVersion%7C2.4.0; s_nr=1508396596374-New; s_lv=1508396596375; skin=noskin; session-token=0lQkzegQRtwPu7GiPFEAEDYLCK3p6WW8vF/g2Kr93EnMHKmH2uTgd30RM43tJCAw2uo2xeco+fz9qCC4dzTpW86EX5YF5lVFvMOXhSncgNmhfgnG7DaXuUwvxrXhAtluWYQgfWI8I22bxDO6KWvBDwfM6IFCfsYouZ6kt3oXTHzy6wSehl3qokrzeEBzLpfPu6mlixQc/Yuommb6ztr0yiL/6dzBf5UjFImpI3OXvIkvwGuyBITnHJH9epKv+Lec; amznacsleftnav-74393fbe-66a6-3a52-840b-37b54d8c76ce=1,21,3; ubid-main=132-7315371-9843811; session-id-time=2082787201l; session-id=135-5046157-5863552; csm-hit=85CP8ATFWH4EXAFXQX3Q+s-M5199TSF54AFVK1M6RJW|1509623128403'\n",
    "cookies = cookiestr.split(\";\")\n",
    "cookiedata ={}\n",
    "for cookie in cookies:\n",
    "    cookiedata[cookie.split(\"=\")[0]]=cookie.split(\"=\")[1]"
   ]
  },
  {
   "cell_type": "code",
   "execution_count": 3,
   "metadata": {},
   "outputs": [
    {
     "data": {
      "text/plain": [
       "<Response [200]>"
      ]
     },
     "execution_count": 3,
     "metadata": {},
     "output_type": "execute_result"
    }
   ],
   "source": [
    "res =requests.get(\"https://www.amazon.com/Best-Sellers-Toys-Games-Toy-Figures-Playsets/zgbs/toys-and-games/165993011/ref=zg_bs_nav_t_1_t#1\",cookies =cookiedata)\n",
    "res"
   ]
  },
  {
   "cell_type": "code",
   "execution_count": 4,
   "metadata": {},
   "outputs": [
    {
     "name": "stdout",
     "output_type": "stream",
     "text": [
      "\n",
      "            Funko Pop Stranger Things Eleven with Eggos Vinyl Figure , Styles May Vary\n",
      "        \n",
      "\n",
      "            VTech Drop & Go Dump Truck (Frustration Free Packaging)\n",
      "        \n",
      "\n",
      "            Just Play PJ Masks Deluxe Figure Set Toy Figure (Includes Ninjalinos)\n",
      "        \n",
      "\n",
      "            Peppa Pig's Deluxe House\n",
      "        \n",
      "\n",
      "            LIMITED EDITION GLITTER SERIES Ball LOL Series 1 L. O. L.\n",
      "        \n",
      "\n",
      "            Paw Patrol Figure Set 6 Piece\n",
      "        \n",
      "\n",
      "            Transformers: The Last Knight -- Knight Armor Turbo Changer Bumblebee\n",
      "        \n",
      "\n",
      "            Marvel Spider-Man Titan Hero Series Spider-Man Figure\n",
      "        \n",
      "\n",
      "            Littlest Pet Shop Collector Party Pack\n",
      "        \n",
      "\n",
      "            Funko Pop Movies: IT-Pennywise with Boat Collectible Figure\n",
      "        \n",
      "\n",
      "            Just Play PJ Masks Collectible Figure Set (5 Pack) Styles may vary\n",
      "        \n",
      "\n",
      "            Marvel Titan Hero Series Hulk\n",
      "        \n",
      "\n",
      "            Transformers: The Last Knight -- Knight Armor Turbo Changer Optimus Prime\n",
      "        \n",
      "\n",
      "            ROBLOX Champions of Roblox (6 Pack)\n",
      "        \n",
      "\n",
      "            Funko Pop Television Bob Ross Collectible Figure\n",
      "        \n",
      "\n",
      "            Zing Stikbot Studio Pro Toy Figure\n",
      "        \n",
      "\n",
      "            Cutie Cars Shopkins Drive Thru Diner Playset\n",
      "        \n",
      "\n",
      "            Funko POP Television: Stranger Things - Demogorgan Toy Figure (styles may vary)\n",
      "        \n",
      "\n",
      "            Fisher-Price Disney Mickey & the Roadster Racers, Roadster Racers Garage Playset\n",
      "        \n",
      "\n",
      "            Tsum Tsum Disney Countdown to Christmas Advent Calendar Playset\n",
      "        \n"
     ]
    }
   ],
   "source": [
    "soup = bs(res.text,\"lxml\")\n",
    "toy = soup.select(\"#zg_centerListWrapper > div > div.zg_itemWrapper > div > a > div.p13n-sc-truncate\")\n",
    "for item in toy:\n",
    "    print(item.text)"
   ]
  },
  {
   "cell_type": "code",
   "execution_count": 5,
   "metadata": {
    "collapsed": true
   },
   "outputs": [],
   "source": [
    "res.close()"
   ]
  },
  {
   "cell_type": "markdown",
   "metadata": {},
   "source": [
    "## 列表頁測試"
   ]
  },
  {
   "cell_type": "code",
   "execution_count": 7,
   "metadata": {},
   "outputs": [
    {
     "data": {
      "text/plain": [
       "['https://www.amazon.com/Stranger-Things-Eleven-Figure-Styles/dp/B01M5IK8M9?_encoding=UTF8&psc=1 Funko Pop Stranger Things Eleven with Eggos Vinyl Figure , Styles May Vary 4.2 out of 5 stars\\n',\n",
       " 'https://www.amazon.com/VTech-Drop-Truck-Frustration-Packaging/dp/B071CS56CC?_encoding=UTF8&psc=1 VTech Drop & Go Dump Truck (Frustration Free Packaging) 4.8 out of 5 stars\\n',\n",
       " 'https://www.amazon.com/Just-Masks-Deluxe-Figure-Ninjalinos/dp/B06XNJ6RFT?_encoding=UTF8&psc=1 Just Play PJ Masks Deluxe Figure Set Toy Figure (Includes Ninjalinos) 4.8 out of 5 stars\\n',\n",
       " \"https://www.amazon.com/Peppa-Pig-92620-Deluxe-House/dp/B00OT7NC5K?_encoding=UTF8&psc=1 Peppa Pig's Deluxe House 4.7 out of 5 stars\\n\",\n",
       " 'https://www.amazon.com/LIMITED-GLITTER-Ball-LOL-L/dp/B076PKY1ZW?_encoding=UTF8&psc=1 LIMITED EDITION GLITTER SERIES Ball LOL Series 1 L. O. L. 3.0 out of 5 stars\\n',\n",
       " 'https://www.amazon.com/Paw-Patrol-Figure-Set-Piece/dp/B01LP564M6?_encoding=UTF8&psc=1 Paw Patrol Figure Set 6 Piece 4.5 out of 5 stars\\n',\n",
       " 'https://www.amazon.com/Transformers-Knight-Armor-Changer-Bumblebee/dp/B01IHFE5S2?_encoding=UTF8&psc=1 Transformers: The Last Knight -- Knight Armor Turbo Changer Bumblebee 4.0 out of 5 stars\\n',\n",
       " 'https://www.amazon.com/Marvel-Spider-Man-Titan-Hero-Figure/dp/B01IK7O1EK?_encoding=UTF8&psc=1 Marvel Spider-Man Titan Hero Series Spider-Man Figure 4.7 out of 5 stars\\n',\n",
       " 'https://www.amazon.com/Littlest-Pet-Shop-Collector-Party/dp/B00Y8YOEU6?_encoding=UTF8&psc=1 Littlest Pet Shop Collector Party Pack 4.7 out of 5 stars\\n',\n",
       " 'https://www.amazon.com/Funko-Pop-Movies-Pennywise-Collectible/dp/B073X9SD59?_encoding=UTF8&psc=1 Funko Pop Movies: IT-Pennywise with Boat Collectible Figure 4.3 out of 5 stars\\n',\n",
       " 'https://www.amazon.com/Just-Masks-Collectible-Figure-Styles/dp/B01HVA4DPE?_encoding=UTF8&psc=1 Just Play PJ Masks Collectible Figure Set (5 Pack) Styles may vary 4.0 out of 5 stars\\n',\n",
       " 'https://www.amazon.com/Marvel-Titan-Hero-Series-Hulk/dp/B011MIYBHQ?_encoding=UTF8&psc=1 Marvel Titan Hero Series Hulk 4.5 out of 5 stars\\n',\n",
       " 'https://www.amazon.com/Transformers-Knight-Armor-Changer-Optimus/dp/B01IHFE5RI?_encoding=UTF8&psc=1 Transformers: The Last Knight -- Knight Armor Turbo Changer Optimus Prime 3.8 out of 5 stars\\n',\n",
       " 'https://www.amazon.com/ROBLOX-Champions-Roblox-6-Pack/dp/B01N6RK9UE?_encoding=UTF8&psc=1 ROBLOX Champions of Roblox (6 Pack) 4.4 out of 5 stars\\n',\n",
       " 'https://www.amazon.com/Funko-Television-Ross-Collectible-Figure/dp/B071X7HZBN?_encoding=UTF8&psc=1 Funko Pop Television Bob Ross Collectible Figure 4.8 out of 5 stars\\n',\n",
       " 'https://www.amazon.com/Zing-Stikbot-Studio-Pro-Figure/dp/B017KV4UT8?_encoding=UTF8&psc=1 Zing Stikbot Studio Pro Toy Figure 4.0 out of 5 stars\\n',\n",
       " 'https://www.amazon.com/Cutie-Shopkins-Drive-Diner-Playset/dp/B071H6TH1Z?_encoding=UTF8&psc=1 Cutie Cars Shopkins Drive Thru Diner Playset 3.0 out of 5 stars\\n',\n",
       " 'https://www.amazon.com/Funko-POP-Television-Stranger-Demogorgan/dp/B01MD0RWD6?_encoding=UTF8&psc=1 Funko POP Television: Stranger Things - Demogorgan Toy Figure (styles may vary) 3.9 out of 5 stars\\n',\n",
       " 'https://www.amazon.com/Fisher-Price-Disney-Mickey-Roadster-Playset/dp/B01N7R22Y8?_encoding=UTF8&psc=1 Fisher-Price Disney Mickey & the Roadster Racers, Roadster Racers Garage Playset 3.9 out of 5 stars\\n',\n",
       " 'https://www.amazon.com/Tsum-Countdown-Christmas-Calendar-Playset/dp/B01M8QYH9V?_encoding=UTF8&psc=1 Tsum Tsum Disney Countdown to Christmas Advent Calendar Playset 4.1 out of 5 stars\\n']"
      ]
     },
     "execution_count": 7,
     "metadata": {},
     "output_type": "execute_result"
    }
   ],
   "source": [
    "link =['https://www.amazon.com'+ href.select(\"div > a\")[0][\"href\"] +\" \"\\\n",
    "           + href.select(\"div > a > div.p13n-sc-truncated-hyphen\")[0].text.split(\"\\n            \")[1].split(\"\\n       \")[0]+\" \"\\\n",
    "           + href.select(\"div > div.a-icon-row.a-spacing-none > a > i > span\")[0].text+\"\\n\"\\\n",
    "           for href in soup.select(\"#zg_centerListWrapper > div > div.zg_itemWrapper\")]\n",
    "    \n",
    "link"
   ]
  },
  {
   "cell_type": "markdown",
   "metadata": {},
   "source": [
    "## 抓取頁碼"
   ]
  },
  {
   "cell_type": "code",
   "execution_count": null,
   "metadata": {
    "scrolled": false
   },
   "outputs": [],
   "source": [
    "# page = soup.select('li.zg_page > a')[0]['page']\n",
    "pages = int(soup.select('#zg_page5 > a')[0]['page'])\n",
    "print(pages)"
   ]
  },
  {
   "cell_type": "code",
   "execution_count": null,
   "metadata": {
    "collapsed": true
   },
   "outputs": [],
   "source": [
    "#zg_page5 > a"
   ]
  },
  {
   "cell_type": "code",
   "execution_count": null,
   "metadata": {},
   "outputs": [],
   "source": [
    "type(page)"
   ]
  },
  {
   "cell_type": "code",
   "execution_count": null,
   "metadata": {
    "collapsed": true
   },
   "outputs": [],
   "source": [
    "https://www.amazon.com/Best-Sellers-Toys-Games-Toy-Figures-Playsets/zgbs/toys-and-games/165993011/ref=zg_bs_nav_t_1_t#1\n",
    "https://www.amazon.com/Best-Sellers-Toys-Games-Toy-Figures-Playsets/zgbs/toys-and-games/165993011/ref=zg_bs_nav_t_1_t#2"
   ]
  },
  {
   "cell_type": "code",
   "execution_count": 54,
   "metadata": {
    "scrolled": false
   },
   "outputs": [
    {
     "data": {
      "text/plain": [
       "['https://www.amazon.com/Best-Sellers-Toys-Games-Toy-Figures-Playsets/zgbs/toys-and-games/165993011/ref=t#1',\n",
       " 'https://www.amazon.com/Best-Sellers-Toys-Games-Toy-Figures-Playsets/zgbs/toys-and-games/165993011/ref=t#2',\n",
       " 'https://www.amazon.com/Best-Sellers-Toys-Games-Toy-Figures-Playsets/zgbs/toys-and-games/165993011/ref=t#3',\n",
       " 'https://www.amazon.com/Best-Sellers-Toys-Games-Toy-Figures-Playsets/zgbs/toys-and-games/165993011/ref=t#4',\n",
       " 'https://www.amazon.com/Best-Sellers-Toys-Games-Toy-Figures-Playsets/zgbs/toys-and-games/165993011/ref=t#5']"
      ]
     },
     "execution_count": 54,
     "metadata": {},
     "output_type": "execute_result"
    }
   ],
   "source": [
    "url=['https://www.amazon.com/Best-Sellers-Toys-Games-Toy-Figures-Playsets/'\\\n",
    "        'zgbs/toys-and-games/165993011/ref=t#%i'%(page) for page in range(1,pages+1)]\n",
    "url"
   ]
  },
  {
   "cell_type": "markdown",
   "metadata": {},
   "source": [
    "## 正式抓取列表 html*100"
   ]
  },
  {
   "cell_type": "code",
   "execution_count": 1,
   "metadata": {},
   "outputs": [
    {
     "ename": "NameError",
     "evalue": "name 'soup' is not defined",
     "output_type": "error",
     "traceback": [
      "\u001b[0;31m---------------------------------------------------------------------------\u001b[0m",
      "\u001b[0;31mNameError\u001b[0m                                 Traceback (most recent call last)",
      "\u001b[0;32m<ipython-input-1-ec0e296336be>\u001b[0m in \u001b[0;36m<module>\u001b[0;34m()\u001b[0m\n\u001b[1;32m      6\u001b[0m \u001b[0mAmzlist\u001b[0m\u001b[0;34m=\u001b[0m\u001b[0;34m[\u001b[0m\u001b[0;34m]\u001b[0m\u001b[0;34m\u001b[0m\u001b[0m\n\u001b[1;32m      7\u001b[0m \u001b[0;31m# page = int(soup.select('li.zg_page > a')[0]['page'])\u001b[0m\u001b[0;34m\u001b[0m\u001b[0;34m\u001b[0m\u001b[0m\n\u001b[0;32m----> 8\u001b[0;31m \u001b[0mpages\u001b[0m \u001b[0;34m=\u001b[0m \u001b[0mint\u001b[0m\u001b[0;34m(\u001b[0m\u001b[0msoup\u001b[0m\u001b[0;34m.\u001b[0m\u001b[0mselect\u001b[0m\u001b[0;34m(\u001b[0m\u001b[0;34m'#zg_page5 > a'\u001b[0m\u001b[0;34m)\u001b[0m\u001b[0;34m[\u001b[0m\u001b[0;36m0\u001b[0m\u001b[0;34m]\u001b[0m\u001b[0;34m[\u001b[0m\u001b[0;34m'page'\u001b[0m\u001b[0;34m]\u001b[0m\u001b[0;34m)\u001b[0m\u001b[0;34m\u001b[0m\u001b[0m\n\u001b[0m\u001b[1;32m      9\u001b[0m \u001b[0;31m##########################################\u001b[0m\u001b[0;34m\u001b[0m\u001b[0;34m\u001b[0m\u001b[0m\n\u001b[1;32m     10\u001b[0m \u001b[0;32mdef\u001b[0m \u001b[0mgetAmzhref\u001b[0m\u001b[0;34m(\u001b[0m\u001b[0mpage\u001b[0m\u001b[0;34m)\u001b[0m\u001b[0;34m:\u001b[0m\u001b[0;34m\u001b[0m\u001b[0m\n",
      "\u001b[0;31mNameError\u001b[0m: name 'soup' is not defined"
     ]
    }
   ],
   "source": [
    "from bs4 import BeautifulSoup\n",
    "import multiprocessing as mp\n",
    "import concurrent.futures\n",
    "\n",
    "# soup = bs(res.text,\"lxml\")\n",
    "Amzlist=[]\n",
    "# page = int(soup.select('li.zg_page > a')[0]['page'])\n",
    "pages = int(soup.select('#zg_page5 > a')[0]['page'])\n",
    "##########################################\n",
    "def getAmzhref(page):\n",
    "    url='https://www.amazon.com/Best-Sellers-Toys-Games-Toy-Figures-Playsets/zgbs/toys-and-games/165993011/ref=t#%i'%(page)\n",
    "    res = requests.get(url,cookies=cookiedata)\n",
    "    res.encoding ='utf-8'\n",
    "#     print(\"==============page %s==============\" % (page))\n",
    "#     print(res.text)\n",
    "#     print(res.status_code)\n",
    "    soup=bs(res.text,\"lxml\")\n",
    "    res.close()\n",
    "    time.sleep(0.1)\n",
    "    print(url)\n",
    "#     print(page)\n",
    "#     print(\"==============page %s==============\" % (page))\n",
    "    try:\n",
    "         link =['https://www.amazon.com'+ href.select(\"div > a.a-link-normal\")[0][\"href\"] +\"\\n\"\\\n",
    "                        for href in soup.select(\"#zg_centerListWrapper > div > div.zg_itemWrapper\")]\n",
    "    except Exception as e:\n",
    "            print(e)\n",
    "            pass\n",
    "    return link\n",
    "        \n",
    "#########################################\n",
    "session = requests.Session()\n",
    "headers = {\"User-Agent\":\"Mozilla/5.0 (Macintosh; Intel Mac OS X 10_9_5) AppleWebKit 537.36 (KHTML, like Gecko) Chrome\",\"Accept\":\"text/html,application/xhtml+xml,application/xml;q=0.9,image/webp,*/*;q=0.8\"}\n",
    "\n",
    "start = time.time()\n",
    "with concurrent.futures.ThreadPoolExecutor(max_workers=8) as executor:\n",
    "    toyInfo = [executor.submit(getAmzhref,page) for page in range(1,pages+1)]\n",
    "    for future in concurrent.futures.as_completed(toyInfo):\n",
    "        try:\n",
    "            lists = future.result()\n",
    "            Amzlist+=lists\n",
    "        except Exception as e:\n",
    "            print(e)\n",
    "            print(\"none\")\n",
    "            pass\n",
    "#     print(url)\n",
    "#     print(page)\n",
    "\n",
    "\n",
    "end = time.time() \n",
    "\n",
    "print(\"-----------------\")\n",
    "print(end-start)\n",
    "Amzlist=\"\".join(Amzlist)\n",
    "print(Amzlist)\n"
   ]
  },
  {
   "cell_type": "markdown",
   "metadata": {},
   "source": [
    "## 不要用多線程"
   ]
  },
  {
   "cell_type": "code",
   "execution_count": 49,
   "metadata": {},
   "outputs": [
    {
     "name": "stdout",
     "output_type": "stream",
     "text": [
      "1\n",
      "==============page 1==============\n",
      "https://www.amazon.com/Best-Sellers-Toys-Games-Toy-Figures-Playsets/zgbs/toys-and-games/165993011/ref=t#1\n",
      "2\n",
      "==============page 2==============\n",
      "https://www.amazon.com/Best-Sellers-Toys-Games-Toy-Figures-Playsets/zgbs/toys-and-games/165993011/ref=t#2\n",
      "3\n",
      "==============page 3==============\n",
      "https://www.amazon.com/Best-Sellers-Toys-Games-Toy-Figures-Playsets/zgbs/toys-and-games/165993011/ref=t#3\n",
      "4\n",
      "==============page 4==============\n",
      "https://www.amazon.com/Best-Sellers-Toys-Games-Toy-Figures-Playsets/zgbs/toys-and-games/165993011/ref=t#4\n",
      "5\n",
      "==============page 5==============\n",
      "https://www.amazon.com/Best-Sellers-Toys-Games-Toy-Figures-Playsets/zgbs/toys-and-games/165993011/ref=t#5\n",
      "-----------------\n",
      "https://www.amazon.com/Stranger-Things-Eleven-Figure-Styles/dp/B01M5IK8M9?_encoding=UTF8&psc=1\n",
      " https://www.amazon.com/VTech-Drop-Truck-Frustration-Packaging/dp/B071CS56CC?_encoding=UTF8&psc=1\n",
      " https://www.amazon.com/Just-Masks-Deluxe-Figure-Ninjalinos/dp/B06XNJ6RFT?_encoding=UTF8&psc=1\n",
      " https://www.amazon.com/Peppa-Pig-92620-Deluxe-House/dp/B00OT7NC5K?_encoding=UTF8&psc=1\n",
      " https://www.amazon.com/LIMITED-GLITTER-Ball-LOL-L/dp/B076PKY1ZW?_encoding=UTF8&psc=1\n",
      " https://www.amazon.com/Paw-Patrol-Figure-Set-Piece/dp/B01LP564M6?_encoding=UTF8&psc=1\n",
      " https://www.amazon.com/Marvel-Spider-Man-Titan-Hero-Figure/dp/B01IK7O1EK?_encoding=UTF8&psc=1\n",
      " https://www.amazon.com/Transformers-Knight-Armor-Changer-Bumblebee/dp/B01IHFE5S2?_encoding=UTF8&psc=1\n",
      " https://www.amazon.com/Littlest-Pet-Shop-Collector-Party/dp/B00Y8YOEU6?_encoding=UTF8&psc=1\n",
      " https://www.amazon.com/Marvel-Titan-Hero-Series-Hulk/dp/B011MIYBHQ?_encoding=UTF8&psc=1\n",
      " https://www.amazon.com/Just-Masks-Collectible-Figure-Styles/dp/B01HVA4DPE?_encoding=UTF8&psc=1\n",
      " https://www.amazon.com/Funko-Pop-Movies-Pennywise-Collectible/dp/B073X9SD59?_encoding=UTF8&psc=1\n",
      " https://www.amazon.com/Transformers-Knight-Armor-Changer-Optimus/dp/B01IHFE5RI?_encoding=UTF8&psc=1\n",
      " https://www.amazon.com/Zing-Stikbot-Studio-Pro-Figure/dp/B017KV4UT8?_encoding=UTF8&psc=1\n",
      " https://www.amazon.com/Funko-Television-Ross-Collectible-Figure/dp/B071X7HZBN?_encoding=UTF8&psc=1\n",
      " https://www.amazon.com/Cutie-Shopkins-Drive-Diner-Playset/dp/B071H6TH1Z?_encoding=UTF8&psc=1\n",
      " https://www.amazon.com/ROBLOX-Champions-Roblox-6-Pack/dp/B01N6RK9UE?_encoding=UTF8&psc=1\n",
      " https://www.amazon.com/Fisher-Price-Disney-Mickey-Roadster-Playset/dp/B01N7R22Y8?_encoding=UTF8&psc=1\n",
      " https://www.amazon.com/Funko-POP-Television-Stranger-Demogorgan/dp/B01MD0RWD6?_encoding=UTF8&psc=1\n",
      " https://www.amazon.com/Marvel-Guardians-Galaxy-Dancing-Groot/dp/B01ISKTCCK?_encoding=UTF8&psc=1\n",
      " https://www.amazon.com/Stranger-Things-Eleven-Figure-Styles/dp/B01M5IK8M9?_encoding=UTF8&psc=1\n",
      " https://www.amazon.com/VTech-Drop-Truck-Frustration-Packaging/dp/B071CS56CC?_encoding=UTF8&psc=1\n",
      " https://www.amazon.com/Just-Masks-Deluxe-Figure-Ninjalinos/dp/B06XNJ6RFT?_encoding=UTF8&psc=1\n",
      " https://www.amazon.com/Peppa-Pig-92620-Deluxe-House/dp/B00OT7NC5K?_encoding=UTF8&psc=1\n",
      " https://www.amazon.com/LIMITED-GLITTER-Ball-LOL-L/dp/B076PKY1ZW?_encoding=UTF8&psc=1\n",
      " https://www.amazon.com/Paw-Patrol-Figure-Set-Piece/dp/B01LP564M6?_encoding=UTF8&psc=1\n",
      " https://www.amazon.com/Marvel-Spider-Man-Titan-Hero-Figure/dp/B01IK7O1EK?_encoding=UTF8&psc=1\n",
      " https://www.amazon.com/Transformers-Knight-Armor-Changer-Bumblebee/dp/B01IHFE5S2?_encoding=UTF8&psc=1\n",
      " https://www.amazon.com/Littlest-Pet-Shop-Collector-Party/dp/B00Y8YOEU6?_encoding=UTF8&psc=1\n",
      " https://www.amazon.com/Marvel-Titan-Hero-Series-Hulk/dp/B011MIYBHQ?_encoding=UTF8&psc=1\n",
      " https://www.amazon.com/Just-Masks-Collectible-Figure-Styles/dp/B01HVA4DPE?_encoding=UTF8&psc=1\n",
      " https://www.amazon.com/Funko-Pop-Movies-Pennywise-Collectible/dp/B073X9SD59?_encoding=UTF8&psc=1\n",
      " https://www.amazon.com/Transformers-Knight-Armor-Changer-Optimus/dp/B01IHFE5RI?_encoding=UTF8&psc=1\n",
      " https://www.amazon.com/Zing-Stikbot-Studio-Pro-Figure/dp/B017KV4UT8?_encoding=UTF8&psc=1\n",
      " https://www.amazon.com/Funko-Television-Ross-Collectible-Figure/dp/B071X7HZBN?_encoding=UTF8&psc=1\n",
      " https://www.amazon.com/Cutie-Shopkins-Drive-Diner-Playset/dp/B071H6TH1Z?_encoding=UTF8&psc=1\n",
      " https://www.amazon.com/ROBLOX-Champions-Roblox-6-Pack/dp/B01N6RK9UE?_encoding=UTF8&psc=1\n",
      " https://www.amazon.com/Fisher-Price-Disney-Mickey-Roadster-Playset/dp/B01N7R22Y8?_encoding=UTF8&psc=1\n",
      " https://www.amazon.com/Funko-POP-Television-Stranger-Demogorgan/dp/B01MD0RWD6?_encoding=UTF8&psc=1\n",
      " https://www.amazon.com/Marvel-Guardians-Galaxy-Dancing-Groot/dp/B01ISKTCCK?_encoding=UTF8&psc=1\n",
      " https://www.amazon.com/Stranger-Things-Eleven-Figure-Styles/dp/B01M5IK8M9?_encoding=UTF8&psc=1\n",
      " https://www.amazon.com/VTech-Drop-Truck-Frustration-Packaging/dp/B071CS56CC?_encoding=UTF8&psc=1\n",
      " https://www.amazon.com/Just-Masks-Deluxe-Figure-Ninjalinos/dp/B06XNJ6RFT?_encoding=UTF8&psc=1\n",
      " https://www.amazon.com/Peppa-Pig-92620-Deluxe-House/dp/B00OT7NC5K?_encoding=UTF8&psc=1\n",
      " https://www.amazon.com/LIMITED-GLITTER-Ball-LOL-L/dp/B076PKY1ZW?_encoding=UTF8&psc=1\n",
      " https://www.amazon.com/Paw-Patrol-Figure-Set-Piece/dp/B01LP564M6?_encoding=UTF8&psc=1\n",
      " https://www.amazon.com/Marvel-Spider-Man-Titan-Hero-Figure/dp/B01IK7O1EK?_encoding=UTF8&psc=1\n",
      " https://www.amazon.com/Transformers-Knight-Armor-Changer-Bumblebee/dp/B01IHFE5S2?_encoding=UTF8&psc=1\n",
      " https://www.amazon.com/Littlest-Pet-Shop-Collector-Party/dp/B00Y8YOEU6?_encoding=UTF8&psc=1\n",
      " https://www.amazon.com/Marvel-Titan-Hero-Series-Hulk/dp/B011MIYBHQ?_encoding=UTF8&psc=1\n",
      " https://www.amazon.com/Just-Masks-Collectible-Figure-Styles/dp/B01HVA4DPE?_encoding=UTF8&psc=1\n",
      " https://www.amazon.com/Funko-Pop-Movies-Pennywise-Collectible/dp/B073X9SD59?_encoding=UTF8&psc=1\n",
      " https://www.amazon.com/Transformers-Knight-Armor-Changer-Optimus/dp/B01IHFE5RI?_encoding=UTF8&psc=1\n",
      " https://www.amazon.com/Zing-Stikbot-Studio-Pro-Figure/dp/B017KV4UT8?_encoding=UTF8&psc=1\n",
      " https://www.amazon.com/Funko-Television-Ross-Collectible-Figure/dp/B071X7HZBN?_encoding=UTF8&psc=1\n",
      " https://www.amazon.com/Cutie-Shopkins-Drive-Diner-Playset/dp/B071H6TH1Z?_encoding=UTF8&psc=1\n",
      " https://www.amazon.com/ROBLOX-Champions-Roblox-6-Pack/dp/B01N6RK9UE?_encoding=UTF8&psc=1\n",
      " https://www.amazon.com/Fisher-Price-Disney-Mickey-Roadster-Playset/dp/B01N7R22Y8?_encoding=UTF8&psc=1\n",
      " https://www.amazon.com/Funko-POP-Television-Stranger-Demogorgan/dp/B01MD0RWD6?_encoding=UTF8&psc=1\n",
      " https://www.amazon.com/Marvel-Guardians-Galaxy-Dancing-Groot/dp/B01ISKTCCK?_encoding=UTF8&psc=1\n",
      " https://www.amazon.com/Stranger-Things-Eleven-Figure-Styles/dp/B01M5IK8M9?_encoding=UTF8&psc=1\n",
      " https://www.amazon.com/VTech-Drop-Truck-Frustration-Packaging/dp/B071CS56CC?_encoding=UTF8&psc=1\n",
      " https://www.amazon.com/Just-Masks-Deluxe-Figure-Ninjalinos/dp/B06XNJ6RFT?_encoding=UTF8&psc=1\n",
      " https://www.amazon.com/Peppa-Pig-92620-Deluxe-House/dp/B00OT7NC5K?_encoding=UTF8&psc=1\n",
      " https://www.amazon.com/LIMITED-GLITTER-Ball-LOL-L/dp/B076PKY1ZW?_encoding=UTF8&psc=1\n",
      " https://www.amazon.com/Paw-Patrol-Figure-Set-Piece/dp/B01LP564M6?_encoding=UTF8&psc=1\n",
      " https://www.amazon.com/Marvel-Spider-Man-Titan-Hero-Figure/dp/B01IK7O1EK?_encoding=UTF8&psc=1\n",
      " https://www.amazon.com/Transformers-Knight-Armor-Changer-Bumblebee/dp/B01IHFE5S2?_encoding=UTF8&psc=1\n",
      " https://www.amazon.com/Littlest-Pet-Shop-Collector-Party/dp/B00Y8YOEU6?_encoding=UTF8&psc=1\n",
      " https://www.amazon.com/Marvel-Titan-Hero-Series-Hulk/dp/B011MIYBHQ?_encoding=UTF8&psc=1\n",
      " https://www.amazon.com/Just-Masks-Collectible-Figure-Styles/dp/B01HVA4DPE?_encoding=UTF8&psc=1\n",
      " https://www.amazon.com/Funko-Pop-Movies-Pennywise-Collectible/dp/B073X9SD59?_encoding=UTF8&psc=1\n",
      " https://www.amazon.com/Transformers-Knight-Armor-Changer-Optimus/dp/B01IHFE5RI?_encoding=UTF8&psc=1\n",
      " https://www.amazon.com/Zing-Stikbot-Studio-Pro-Figure/dp/B017KV4UT8?_encoding=UTF8&psc=1\n",
      " https://www.amazon.com/Funko-Television-Ross-Collectible-Figure/dp/B071X7HZBN?_encoding=UTF8&psc=1\n",
      " https://www.amazon.com/Cutie-Shopkins-Drive-Diner-Playset/dp/B071H6TH1Z?_encoding=UTF8&psc=1\n",
      " https://www.amazon.com/ROBLOX-Champions-Roblox-6-Pack/dp/B01N6RK9UE?_encoding=UTF8&psc=1\n",
      " https://www.amazon.com/Fisher-Price-Disney-Mickey-Roadster-Playset/dp/B01N7R22Y8?_encoding=UTF8&psc=1\n",
      " https://www.amazon.com/Funko-POP-Television-Stranger-Demogorgan/dp/B01MD0RWD6?_encoding=UTF8&psc=1\n",
      " https://www.amazon.com/Marvel-Guardians-Galaxy-Dancing-Groot/dp/B01ISKTCCK?_encoding=UTF8&psc=1\n",
      " https://www.amazon.com/Stranger-Things-Eleven-Figure-Styles/dp/B01M5IK8M9?_encoding=UTF8&psc=1\n",
      " https://www.amazon.com/VTech-Drop-Truck-Frustration-Packaging/dp/B071CS56CC?_encoding=UTF8&psc=1\n",
      " https://www.amazon.com/Just-Masks-Deluxe-Figure-Ninjalinos/dp/B06XNJ6RFT?_encoding=UTF8&psc=1\n",
      " https://www.amazon.com/Peppa-Pig-92620-Deluxe-House/dp/B00OT7NC5K?_encoding=UTF8&psc=1\n",
      " https://www.amazon.com/LIMITED-GLITTER-Ball-LOL-L/dp/B076PKY1ZW?_encoding=UTF8&psc=1\n",
      " https://www.amazon.com/Paw-Patrol-Figure-Set-Piece/dp/B01LP564M6?_encoding=UTF8&psc=1\n",
      " https://www.amazon.com/Marvel-Spider-Man-Titan-Hero-Figure/dp/B01IK7O1EK?_encoding=UTF8&psc=1\n",
      " https://www.amazon.com/Transformers-Knight-Armor-Changer-Bumblebee/dp/B01IHFE5S2?_encoding=UTF8&psc=1\n",
      " https://www.amazon.com/Littlest-Pet-Shop-Collector-Party/dp/B00Y8YOEU6?_encoding=UTF8&psc=1\n",
      " https://www.amazon.com/Marvel-Titan-Hero-Series-Hulk/dp/B011MIYBHQ?_encoding=UTF8&psc=1\n",
      " https://www.amazon.com/Just-Masks-Collectible-Figure-Styles/dp/B01HVA4DPE?_encoding=UTF8&psc=1\n",
      " https://www.amazon.com/Funko-Pop-Movies-Pennywise-Collectible/dp/B073X9SD59?_encoding=UTF8&psc=1\n",
      " https://www.amazon.com/Transformers-Knight-Armor-Changer-Optimus/dp/B01IHFE5RI?_encoding=UTF8&psc=1\n",
      " https://www.amazon.com/Zing-Stikbot-Studio-Pro-Figure/dp/B017KV4UT8?_encoding=UTF8&psc=1\n",
      " https://www.amazon.com/Funko-Television-Ross-Collectible-Figure/dp/B071X7HZBN?_encoding=UTF8&psc=1\n",
      " https://www.amazon.com/Cutie-Shopkins-Drive-Diner-Playset/dp/B071H6TH1Z?_encoding=UTF8&psc=1\n",
      " https://www.amazon.com/ROBLOX-Champions-Roblox-6-Pack/dp/B01N6RK9UE?_encoding=UTF8&psc=1\n",
      " https://www.amazon.com/Fisher-Price-Disney-Mickey-Roadster-Playset/dp/B01N7R22Y8?_encoding=UTF8&psc=1\n",
      " https://www.amazon.com/Funko-POP-Television-Stranger-Demogorgan/dp/B01MD0RWD6?_encoding=UTF8&psc=1\n",
      " https://www.amazon.com/Marvel-Guardians-Galaxy-Dancing-Groot/dp/B01ISKTCCK?_encoding=UTF8&psc=1\n",
      "\n",
      "9.811094045639038\n"
     ]
    }
   ],
   "source": [
    "from bs4 import BeautifulSoup\n",
    "import multiprocessing as mp\n",
    "import concurrent.futures\n",
    "\n",
    "# soup = bs(res.text,\"lxml\")\n",
    "session = requests.Session()\n",
    "headers = {\"User-Agent\":\"Mozilla/5.0 (Macintosh; Intel Mac OS X 10_9_5) AppleWebKit 537.36 (KHTML, like Gecko) Chrome\",\"Accept\":\"text/html,application/xhtml+xml,application/xml;q=0.9,image/webp,*/*;q=0.8\"}\n",
    "\n",
    "Amzlist=[]\n",
    "#page = soup.select('li.zg_page > a')[0]['page']\n",
    "pages = int(soup.select('#zg_page5 > a')[0]['page'])\n",
    "    \n",
    "start = time.time()\n",
    "\n",
    "for page in range(1,pages+1):\n",
    "    url='https://www.amazon.com/Best-Sellers-Toys-Games-Toy-Figures-Playsets/zgbs/toys-and-games/165993011/ref=t#%i'%(page)\n",
    "#     print(page)\n",
    "    print(\"==============page %s==============\" % (page))\n",
    "    print(url)\n",
    "    res = requests.get(url,cookies=cookiedata)\n",
    "    res.encoding ='utf-8'\n",
    "    soup=bs(res.text,\"lxml\")\n",
    "    if res.status_code == 200:\n",
    "        try:\n",
    "            link =['https://www.amazon.com'+ href.select(\"div > a.a-link-normal\")[0][\"href\"] +\"\\n\"\\\n",
    "                                            for href in soup.select(\"#zg_centerListWrapper > div > div.zg_itemWrapper\")]\n",
    "            Amzlist += link\n",
    "            time.sleep(0.1)\n",
    "        except Exception as e:\n",
    "            print(e)\n",
    "            print(\"none\")\n",
    "            pass\n",
    "print(\"-----------------\")\n",
    "Amzlist=\" \".join(Amzlist) \n",
    "print(Amzlist)\n",
    "\n",
    "\n",
    "end = time.time() \n",
    "\n",
    "\n",
    "print(end-start)\n",
    "\n",
    "\n",
    "\n"
   ]
  },
  {
   "cell_type": "code",
   "execution_count": null,
   "metadata": {
    "collapsed": true
   },
   "outputs": [],
   "source": [
    "https://www.amazon.com/Best-Sellers-Toys-Games-Toy-Figures-Playsets/zgbs/toys-and-games/165993011/ref=zg_bs_nav_t_1_t#1\n",
    "https://www.amazon.com/Best-Sellers-Toys-Games-Toy-Figures-Playsets/zgbs/toys-and-games/165993011/ref=zg_bs_nav_t_1_t#2"
   ]
  },
  {
   "cell_type": "code",
   "execution_count": null,
   "metadata": {
    "collapsed": true
   },
   "outputs": [],
   "source": [
    "#zg_centerListWrapper > div:nth-child(2) > div.zg_itemWrapper > div > a"
   ]
  },
  {
   "cell_type": "code",
   "execution_count": null,
   "metadata": {},
   "outputs": [],
   "source": [
    "url='https://www.amazon.com/Best-Sellers-Toys-Games-Toy-Figures-Playsets/zgbs/toys-and-games/165993011/ref=zg_bs_nav_t_1_t#%i'%page\n",
    "print(url)"
   ]
  },
  {
   "cell_type": "markdown",
   "metadata": {},
   "source": [
    "## 轉成txt檔"
   ]
  },
  {
   "cell_type": "code",
   "execution_count": null,
   "metadata": {
    "collapsed": true
   },
   "outputs": [],
   "source": [
    "if not os.path.exists('../20171123/'):\n",
    "    os.makedirs('../20171123/')\n",
    "    with open('../20171123/ActionFigures.txt','w',encoding='utf-8') as f :\n",
    "        f.write(Amzlist)"
   ]
  },
  {
   "cell_type": "code",
   "execution_count": null,
   "metadata": {
    "collapsed": true
   },
   "outputs": [],
   "source": [
    "with open('../20171123/ActionFigures.txt',encoding='utf-8') as f :\n",
    "    a=f.readlines()"
   ]
  },
  {
   "cell_type": "code",
   "execution_count": null,
   "metadata": {},
   "outputs": [],
   "source": [
    "hrefs=[i.split(\"\\n\")[0] for i in a]\n",
    "hrefs"
   ]
  },
  {
   "cell_type": "code",
   "execution_count": null,
   "metadata": {
    "collapsed": true
   },
   "outputs": [],
   "source": [
    "hrefs[1]\n",
    "type(hrefs[1])\n",
    "hrefs[1]"
   ]
  },
  {
   "cell_type": "code",
   "execution_count": null,
   "metadata": {
    "collapsed": true,
    "scrolled": true
   },
   "outputs": [],
   "source": [
    "'https://www.amazon.com/VTech-Drop-Truck-Frustration-Packaging/dp/B071CS56CC?_encoding=UTF8&psc=1'.split('/')[-3]"
   ]
  },
  {
   "cell_type": "markdown",
   "metadata": {
    "collapsed": true
   },
   "source": [
    "## 轉成100個html檔"
   ]
  },
  {
   "cell_type": "code",
   "execution_count": null,
   "metadata": {
    "collapsed": true,
    "scrolled": false
   },
   "outputs": [],
   "source": [
    "from bs4 import BeautifulSoup\n",
    "import multiprocessing as mp\n",
    "import concurrent.futures\n",
    "import requests\n",
    "import os\n",
    "\n",
    "#######################################################################\n",
    "def savehrefcontent(href,cookies=\"\"):\n",
    "    res=requests.get(href,cookies = cookiedata)\n",
    "    res.content\n",
    "    with open('../ActionFigures_20171122/'+href.split('/')[-3]+'.html','w',encoding='utf-8') as f :\n",
    "        print(\"==========================file %s=====================\" % (href.split('/')[-3]))\n",
    "        f.write(res.text)\n",
    "######################################################################\n",
    "session = requests.Session()\n",
    "headers = {\"User-Agent\":\"Mozilla/5.0 (Macintosh; Intel Mac OS X 10_9_5) AppleWebKit 537.36 (KHTML, like Gecko) Chrome\",\"Accept\":\"text/html,application/xhtml+xml,application/xml;q=0.9,image/webp,*/*;q=0.8\"}\n",
    "cookiestr = '__cfduid=df4417457002ed1d390cc65a2f7734b9d1494830719; _gat=1; _ga=GA1.2.1333249610.1494830798; _gid=GA1.2.970157078.1502190098'\n",
    "cookies = cookiestr.split(\";\")\n",
    "cookiedata ={}\n",
    "if not os.path.exists('../ActionFigures_20171122/'):\n",
    "    os.makedirs('../ActionFigures_20171122/')\n",
    "for cookie in cookies:\n",
    "    cookiedata[cookie.split(\"=\")[0]]=cookie.split(\"=\")[1]\n",
    "    \n",
    "import time\n",
    "start=time.time()\n",
    "with concurrent.futures.ThreadPoolExecutor(max_workers=8) as executor:\n",
    "        toyInfo = [executor.submit(savehrefcontent,href,cookiedata) for href in hrefs]\n",
    "        for future in concurrent.futures.as_completed(toyInfo):\n",
    "            try:\n",
    "                lists = future.result()\n",
    "                Amzlist+=lists\n",
    "                \n",
    "            except Exception as e:\n",
    "                print(e)\n",
    "                time.sleep(0.1)\n",
    "                pass\n",
    "    \n",
    "\n",
    "end=time.time()\n",
    "print(end-start)"
   ]
  },
  {
   "cell_type": "code",
   "execution_count": null,
   "metadata": {},
   "outputs": [],
   "source": [
    "import requests\n",
    "from bs4 import BeautifulSoup\n",
    "\n",
    "session = requests.Session()\n",
    "headers = {\"User-Agent\":\"Mozilla/5.0 (Macintosh; Intel Mac OS X 10_9_5) AppleWebKit 537.36 (KHTML, like Gecko) Chrome\",\"Accept\":\"text/html,application/xhtml+xml,application/xml;q=0.9,image/webp,*/*;q=0.8\"}\n",
    "res=requests.get('https://www.amazon.com/Funko-POP-Television-Stranger-Demogorgan/dp/B071CS56CC?_encoding=UTF8&psc=1',cookies = cookiedata)\n",
    "res\n",
    "# with open('../20171122/Funko-POP-Television-Stranger-Demogorgan.html','w',encoding='utf-8') as f :\n",
    "#     f.write(res.text)"
   ]
  },
  {
   "cell_type": "code",
   "execution_count": null,
   "metadata": {},
   "outputs": [],
   "source": [
    "from bs4 import BeautifulSoup\n",
    "import multiprocessing as mp\n",
    "import concurrent.futures\n",
    "import requests\n",
    "import os\n",
    "\n",
    "#######################################################################\n",
    "# def savehrefcontent(href,cookies=\"\"):\n",
    "#     res=requests.get(href,cookies = cookiedata)\n",
    "#     res.content\n",
    "#     with open('../ActionFigures_20171122/'+href.split('/')[-3]+'.html','w',encoding='utf-8') as f :\n",
    "#         print(\"==========================file %s=====================\" % (href.split('/')[-3]))\n",
    "#         f.write(res.text)\n",
    "# ######################################################################\n",
    "session = requests.Session()\n",
    "headers = {\"User-Agent\":\"Mozilla/5.0 (Macintosh; Intel Mac OS X 10_9_5) AppleWebKit 537.36 (KHTML, like Gecko) Chrome\",\"Accept\":\"text/html,application/xhtml+xml,application/xml;q=0.9,image/webp,*/*;q=0.8\"}\n",
    "cookiestr = '__cfduid=df4417457002ed1d390cc65a2f7734b9d1494830719; _gat=1; _ga=GA1.2.1333249610.1494830798; _gid=GA1.2.970157078.1502190098'\n",
    "cookies = cookiestr.split(\";\")\n",
    "cookiedata ={}\n",
    "if not os.path.exists('../ActionFigures_20171122/'):\n",
    "    os.makedirs('../ActionFigures_20171122/')\n",
    "for cookie in cookies:\n",
    "    cookiedata[cookie.split(\"=\")[0]]=cookie.split(\"=\")[1]\n",
    "    \n",
    "import time\n",
    "start=time.time()\n",
    "for href in hrefs:\n",
    "    res=requests.get(href,cookies = cookiedata)\n",
    "    #     res.content\n",
    "    with open('../ActionFigures_20171122/'+href.split('/')[-3]+'.html','w',encoding='utf-8') as f :\n",
    "            print(\"==========================file %s=====================\" % (href.split('/')[-3]))\n",
    "            f.write(res.text)\n",
    "            try:\n",
    "                lists = future.result()\n",
    "                Amzlist+=lists\n",
    "\n",
    "            except Exception as e:\n",
    "                print(e)\n",
    "                time.sleep(0.1)\n",
    "                pass\n",
    "    \n",
    "\n",
    "end=time.time()\n",
    "print(end-start)"
   ]
  },
  {
   "cell_type": "code",
   "execution_count": null,
   "metadata": {
    "collapsed": true
   },
   "outputs": [],
   "source": []
  }
 ],
 "metadata": {
  "kernelspec": {
   "display_name": "Python 3",
   "language": "python",
   "name": "python3"
  },
  "language_info": {
   "codemirror_mode": {
    "name": "ipython",
    "version": 3
   },
   "file_extension": ".py",
   "mimetype": "text/x-python",
   "name": "python",
   "nbconvert_exporter": "python",
   "pygments_lexer": "ipython3",
   "version": "3.6.1"
  }
 },
 "nbformat": 4,
 "nbformat_minor": 2
}
